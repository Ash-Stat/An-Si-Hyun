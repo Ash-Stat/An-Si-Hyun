{
 "cells": [
  {
   "cell_type": "code",
   "execution_count": 1,
   "metadata": {},
   "outputs": [
    {
     "data": {
      "text/plain": [
       "[1, 2, 99, 3, 4, 5]"
      ]
     },
     "execution_count": 1,
     "metadata": {},
     "output_type": "execute_result"
    }
   ],
   "source": [
    "#append(요소)는 전달한 요소를 리스트의 끝에 덧붙여 추가한다.\n",
    "#insert(삽입할 위치,요소)는 요소를 삽입할 위치에 삽입한다.\n",
    "nums=[1,2,3,4]\n",
    "nums.append(5)\n",
    "nums.insert(2,99)\n",
    "nums"
   ]
  },
  {
   "cell_type": "code",
   "execution_count": 3,
   "metadata": {},
   "outputs": [
    {
     "data": {
      "text/plain": [
       "[1, 2, 90, 91, 92, 4]"
      ]
     },
     "execution_count": 3,
     "metadata": {},
     "output_type": "execute_result"
    }
   ],
   "source": [
    "nums=[1,2,3,4]\n",
    "nums[2:2]=[90,91,92]\n",
    "nums\n",
    "#2번째 자리에서 2번째 자리까지, 끝의 순서는 생략되므로 즉 이동할 거리는 0이다.\n",
    "#따라서 2번째 자리 위치에 90,91,92를 추가하라는 것과 같다.\n"
   ]
  },
  {
   "cell_type": "code",
   "execution_count": 4,
   "metadata": {},
   "outputs": [
    {
     "data": {
      "text/plain": [
       "[1, 2, 90, 91, 92, 4]"
      ]
     },
     "execution_count": 4,
     "metadata": {},
     "output_type": "execute_result"
    }
   ],
   "source": [
    "nums=[1,2,3,4]\n",
    "nums[2:3]=[90,91,92]\n",
    "nums\n",
    "#2번째 자리부터 세번째 자리까지 90 91 92를 추가하는 것 이다. 따라서\n",
    "#3이라는 요소 대신 1,2,90,91,92,4가 출력된다."
   ]
  },
  {
   "cell_type": "code",
   "execution_count": 5,
   "metadata": {},
   "outputs": [
    {
     "data": {
      "text/plain": [
       "[1, 2, [90, 91, 92], 4]"
      ]
     },
     "execution_count": 5,
     "metadata": {},
     "output_type": "execute_result"
    }
   ],
   "source": [
    "nums=[1,2,3,4]\n",
    "nums[2]=[90,91,92]\n",
    "nums\n",
    "#2번째 요소값이 길이 3의 리스트로 대체된다."
   ]
  },
  {
   "cell_type": "code",
   "execution_count": 6,
   "metadata": {},
   "outputs": [
    {
     "data": {
      "text/plain": [
       "[1, 2, 3, 4, 5, 10, 11]"
      ]
     },
     "execution_count": 6,
     "metadata": {},
     "output_type": "execute_result"
    }
   ],
   "source": [
    "list1=[1,2,3,4,5]\n",
    "list2=[10,11]\n",
    "list1.extend(list2)\n",
    "list1\n",
    "#리스트끼리 병합할때는 extend 메서드를 쓴다."
   ]
  },
  {
   "cell_type": "code",
   "execution_count": 7,
   "metadata": {},
   "outputs": [
    {
     "data": {
      "text/plain": [
       "[1, 2, 3, 5, 6]"
      ]
     },
     "execution_count": 7,
     "metadata": {},
     "output_type": "execute_result"
    }
   ],
   "source": [
    "list3=[1,2,3]\n",
    "list4=[5,6]\n",
    "list5=list3+list4\n",
    "list5\n",
    "#즉, +와 extend의 근본적 차이는\n",
    "# +의 경우는 list1의 값을 근본적으로 변화시키지 않고 새로운 list5라는 리스트를 만들어 낸다.\n",
    "# extend의 경우는 list1의 값을 근본적으로 변화시킨다."
   ]
  },
  {
   "cell_type": "code",
   "execution_count": 8,
   "metadata": {},
   "outputs": [
    {
     "name": "stdout",
     "output_type": "stream",
     "text": [
      "[88, 95, 70, 99, 80, 78, 50]\n"
     ]
    }
   ],
   "source": [
    "score=[88,95,70,100,99,80,78,50]\n",
    "score.remove(100)\n",
    "#리스트 요소중에서 100을 삭제시킨다.\n",
    "#만약 요소값이 2개이상이면 처음 발견한 값을 삭제 시킨다.\n",
    "print(score)"
   ]
  },
  {
   "cell_type": "code",
   "execution_count": 9,
   "metadata": {},
   "outputs": [
    {
     "data": {
      "text/plain": [
       "[88, 95, 99, 80, 78, 50]"
      ]
     },
     "execution_count": 9,
     "metadata": {},
     "output_type": "execute_result"
    }
   ],
   "source": [
    "del(score[2])\n",
    "#리스트 요소중에서 3번째 요소(70)을 삭제 시키는 명령문\n",
    "#del score[2]도 가능하다.\n",
    "score"
   ]
  },
  {
   "cell_type": "code",
   "execution_count": 10,
   "metadata": {},
   "outputs": [
    {
     "data": {
      "text/plain": [
       "[88, 78, 50]"
      ]
     },
     "execution_count": 10,
     "metadata": {},
     "output_type": "execute_result"
    }
   ],
   "source": [
    "score[1:4]=[]\n",
    "score\n",
    "#리스트 요소중에서 2번째 부터 4번째 값(95,99,80)을 빈칸으로 만든다. 즉, 삭제시킨다."
   ]
  },
  {
   "cell_type": "code",
   "execution_count": 13,
   "metadata": {},
   "outputs": [
    {
     "data": {
      "text/plain": [
       "5"
      ]
     },
     "execution_count": 13,
     "metadata": {},
     "output_type": "execute_result"
    }
   ],
   "source": [
    "score=[1,2,3,4,5]\n",
    "score.pop()\n",
    "#pop은 삭제한 요소를 꺼내 리턴시킨다. 첨자를 사용하여 지울 대상을 정한다.\n",
    "#공란이라면 디폴트 값은 -1 (맨 끝자리) 이다."
   ]
  },
  {
   "cell_type": "code",
   "execution_count": 14,
   "metadata": {},
   "outputs": [
    {
     "data": {
      "text/plain": [
       "4"
      ]
     },
     "execution_count": 14,
     "metadata": {},
     "output_type": "execute_result"
    }
   ],
   "source": [
    "score.pop(-1)\n",
    "#위의 명령문으로 5가 삭제되었으니 마지막 순서인 4가 없어지면서 리턴된 결과값"
   ]
  },
  {
   "cell_type": "code",
   "execution_count": 18,
   "metadata": {},
   "outputs": [
    {
     "data": {
      "text/plain": [
       "[]"
      ]
     },
     "execution_count": 18,
     "metadata": {},
     "output_type": "execute_result"
    }
   ],
   "source": [
    "score.pop(0)\n",
    "score\n",
    "#나머지 값인 1,2,3 중에서 두번째 값을 날려버리고 score을 출력헀으니 1,3이 남는다.\n",
    "#계속 실행하면 점점 지워져서 빈칸이 된다."
   ]
  },
  {
   "cell_type": "markdown",
   "metadata": {},
   "source": [
    "## 검색"
   ]
  },
  {
   "cell_type": "code",
   "execution_count": 32,
   "metadata": {},
   "outputs": [
    {
     "name": "stdout",
     "output_type": "stream",
     "text": [
      "만점 받은 학생은 3번 입니다.\n"
     ]
    }
   ],
   "source": [
    "score=[88,95,70,100,99,80,78,50]\n",
    "perfect=score.index(100)\n",
    "print('만점 받은 학생은',''+str(perfect)+'번 입니다.')\n",
    "#index메서드로 100의 요소를 가진 위치를 찾는다.\n",
    "#str(변수)를 통해 문자열화 시킨다.\n"
   ]
  },
  {
   "cell_type": "code",
   "execution_count": 33,
   "metadata": {},
   "outputs": [
    {
     "data": {
      "text/plain": [
       "'3'"
      ]
     },
     "execution_count": 33,
     "metadata": {},
     "output_type": "execute_result"
    }
   ],
   "source": [
    "str(perfect)"
   ]
  },
  {
   "cell_type": "code",
   "execution_count": 34,
   "metadata": {},
   "outputs": [
    {
     "name": "stdout",
     "output_type": "stream",
     "text": [
      "만점 받은 학생은 3 번 입니다.\n"
     ]
    }
   ],
   "source": [
    "print('만점 받은 학생은',str(perfect),'번 입니다.')\n",
    "# +기호 대신 ,로 이렇게 구분해도 똑같다."
   ]
  },
  {
   "cell_type": "code",
   "execution_count": 35,
   "metadata": {},
   "outputs": [
    {
     "name": "stdout",
     "output_type": "stream",
     "text": [
      "만점자 수는 1 명 입니다.\n"
     ]
    }
   ],
   "source": [
    "pernum=score.count(100)\n",
    "print('만점자 수는',str(pernum),'명 입니다.')"
   ]
  },
  {
   "cell_type": "code",
   "execution_count": 37,
   "metadata": {},
   "outputs": [
    {
     "name": "stdout",
     "output_type": "stream",
     "text": [
      "학생 수는 8명 입니다.\n",
      "최고 점수는 100점 입니다.\n",
      "최저 점수는 50점 입니다.\n"
     ]
    }
   ],
   "source": [
    "score=[88,95,70,100,99,80,78,50]\n",
    "print('학생 수는 %d명 입니다.' % len(score))\n",
    "print('최고 점수는 %d점 입니다.' % max(score))\n",
    "print('최저 점수는 %d점 입니다.' % min(score))\n",
    "#print('%연산자' % len,max,min(요소))"
   ]
  },
  {
   "cell_type": "code",
   "execution_count": 39,
   "metadata": {},
   "outputs": [
    {
     "name": "stdout",
     "output_type": "stream",
     "text": [
      "결제 하시겠습니까? (yes or not)ㄴㄴ\n",
      "다음에 또 방문해 주세요.\n"
     ]
    }
   ],
   "source": [
    "#요소가 있는지 검사할때 in 또는 not in을 사용한다.\n",
    "ans=input('결제 하시겠습니까? (yes or not)')\n",
    "if ans in ['yes','y','ok','예','당근']:\n",
    "    print('구입해 주셔서 감사합니다.')\n",
    "else:\n",
    "    print('다음에 또 방문해 주세요.')"
   ]
  },
  {
   "cell_type": "code",
   "execution_count": 56,
   "metadata": {},
   "outputs": [
    {
     "name": "stdout",
     "output_type": "stream",
     "text": [
      "여자친구가 있으십니까?ㅆ발련ㅇ\n",
      "ㅠㅠ...\n"
     ]
    }
   ],
   "source": [
    "ans=input('여자친구가 있으십니까?')\n",
    "if ans =='네' or ans == 'ㅇㅇ':\n",
    "    print('축하드립니다.')\n",
    "else:\n",
    "    print('ㅠㅠ...')"
   ]
  },
  {
   "cell_type": "code",
   "execution_count": null,
   "metadata": {},
   "outputs": [],
   "source": []
  }
 ],
 "metadata": {
  "kernelspec": {
   "display_name": "Python 3",
   "language": "python",
   "name": "python3"
  },
  "language_info": {
   "codemirror_mode": {
    "name": "ipython",
    "version": 3
   },
   "file_extension": ".py",
   "mimetype": "text/x-python",
   "name": "python",
   "nbconvert_exporter": "python",
   "pygments_lexer": "ipython3",
   "version": "3.7.6"
  }
 },
 "nbformat": 4,
 "nbformat_minor": 4
}
