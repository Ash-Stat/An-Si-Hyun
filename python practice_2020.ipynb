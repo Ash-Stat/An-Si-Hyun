{
  "nbformat": 4,
  "nbformat_minor": 0,
  "metadata": {
    "kernelspec": {
      "display_name": "Python 3",
      "language": "python",
      "name": "python3"
    },
    "language_info": {
      "codemirror_mode": {
        "name": "ipython",
        "version": 3
      },
      "file_extension": ".py",
      "mimetype": "text/x-python",
      "name": "python",
      "nbconvert_exporter": "python",
      "pygments_lexer": "ipython3",
      "version": "3.7.6"
    },
    "colab": {
      "name": "python practice_2020.ipynb",
      "provenance": [],
      "include_colab_link": true
    }
  },
  "cells": [
    {
      "cell_type": "markdown",
      "metadata": {
        "id": "view-in-github",
        "colab_type": "text"
      },
      "source": [
        "<a href=\"https://colab.research.google.com/github/Ash-Stat/An-Si-Hyun/blob/master/python%20practice_2020.ipynb\" target=\"_parent\"><img src=\"https://colab.research.google.com/assets/colab-badge.svg\" alt=\"Open In Colab\"/></a>"
      ]
    },
    {
      "cell_type": "code",
      "metadata": {
        "id": "HoUuO4BiQgK2",
        "colab_type": "code",
        "colab": {},
        "outputId": "fcd9293b-c98a-409d-f499-fd95de24db1a"
      },
      "source": [
        "#append(요소)는 전달한 요소를 리스트의 끝에 덧붙여 추가한다.\n",
        "#insert(삽입할 위치,요소)는 요소를 삽입할 위치에 삽입한다.\n",
        "nums=[1,2,3,4]\n",
        "nums.append(5)\n",
        "nums.insert(2,99)\n",
        "nums"
      ],
      "execution_count": null,
      "outputs": [
        {
          "output_type": "execute_result",
          "data": {
            "text/plain": [
              "[1, 2, 99, 3, 4, 5]"
            ]
          },
          "metadata": {
            "tags": []
          },
          "execution_count": 1
        }
      ]
    },
    {
      "cell_type": "code",
      "metadata": {
        "id": "lGrPkHigQgLB",
        "colab_type": "code",
        "colab": {},
        "outputId": "c032c9c5-f883-43c3-f5cc-0851132177b1"
      },
      "source": [
        "nums=[1,2,3,4]\n",
        "nums[2:2]=[90,91,92]\n",
        "nums\n",
        "#2번째 자리에서 2번째 자리까지, 끝의 순서는 생략되므로 즉 이동할 거리는 0이다.\n",
        "#따라서 2번째 자리 위치에 90,91,92를 추가하라는 것과 같다.\n"
      ],
      "execution_count": null,
      "outputs": [
        {
          "output_type": "execute_result",
          "data": {
            "text/plain": [
              "[1, 2, 90, 91, 92, 4]"
            ]
          },
          "metadata": {
            "tags": []
          },
          "execution_count": 3
        }
      ]
    },
    {
      "cell_type": "code",
      "metadata": {
        "id": "BSR49N1MQgLJ",
        "colab_type": "code",
        "colab": {},
        "outputId": "86b914b3-5bb9-4fcd-d1a0-8cde0f846c62"
      },
      "source": [
        "nums=[1,2,3,4]\n",
        "nums[2:3]=[90,91,92]\n",
        "nums\n",
        "#2번째 자리부터 세번째 자리까지 90 91 92를 추가하는 것 이다. 따라서\n",
        "#3이라는 요소 대신 1,2,90,91,92,4가 출력된다."
      ],
      "execution_count": null,
      "outputs": [
        {
          "output_type": "execute_result",
          "data": {
            "text/plain": [
              "[1, 2, 90, 91, 92, 4]"
            ]
          },
          "metadata": {
            "tags": []
          },
          "execution_count": 4
        }
      ]
    },
    {
      "cell_type": "code",
      "metadata": {
        "id": "U4YkdWAzQgLO",
        "colab_type": "code",
        "colab": {},
        "outputId": "0d73a94e-acc2-47da-b35e-07cb05f3b30e"
      },
      "source": [
        "nums=[1,2,3,4]\n",
        "nums[2]=[90,91,92]\n",
        "nums\n",
        "#2번째 요소값이 길이 3의 리스트로 대체된다."
      ],
      "execution_count": null,
      "outputs": [
        {
          "output_type": "execute_result",
          "data": {
            "text/plain": [
              "[1, 2, [90, 91, 92], 4]"
            ]
          },
          "metadata": {
            "tags": []
          },
          "execution_count": 5
        }
      ]
    },
    {
      "cell_type": "code",
      "metadata": {
        "id": "rZePDAduQgLR",
        "colab_type": "code",
        "colab": {},
        "outputId": "8d6df876-e8cc-436c-ff6f-ae4b6c4fc7a1"
      },
      "source": [
        "list1=[1,2,3,4,5]\n",
        "list2=[10,11]\n",
        "list1.extend(list2)\n",
        "list1\n",
        "#리스트끼리 병합할때는 extend 메서드를 쓴다."
      ],
      "execution_count": null,
      "outputs": [
        {
          "output_type": "execute_result",
          "data": {
            "text/plain": [
              "[1, 2, 3, 4, 5, 10, 11]"
            ]
          },
          "metadata": {
            "tags": []
          },
          "execution_count": 6
        }
      ]
    },
    {
      "cell_type": "code",
      "metadata": {
        "id": "PeU0XrmyQgLV",
        "colab_type": "code",
        "colab": {},
        "outputId": "ececb1b2-d0aa-41e1-f075-43b7adc0098b"
      },
      "source": [
        "list3=[1,2,3]\n",
        "list4=[5,6]\n",
        "list5=list3+list4\n",
        "list5\n",
        "#즉, +와 extend의 근본적 차이는\n",
        "# +의 경우는 list1의 값을 근본적으로 변화시키지 않고 새로운 list5라는 리스트를 만들어 낸다.\n",
        "# extend의 경우는 list1의 값을 근본적으로 변화시킨다."
      ],
      "execution_count": null,
      "outputs": [
        {
          "output_type": "execute_result",
          "data": {
            "text/plain": [
              "[1, 2, 3, 5, 6]"
            ]
          },
          "metadata": {
            "tags": []
          },
          "execution_count": 7
        }
      ]
    },
    {
      "cell_type": "code",
      "metadata": {
        "id": "kRq24c2KQgLW",
        "colab_type": "code",
        "colab": {},
        "outputId": "52053ccd-dd7c-4427-e468-2d044dc0ffb2"
      },
      "source": [
        "score=[88,95,70,100,99,80,78,50]\n",
        "score.remove(100)\n",
        "#리스트 요소중에서 100을 삭제시킨다.\n",
        "#만약 요소값이 2개이상이면 처음 발견한 값을 삭제 시킨다.\n",
        "print(score)"
      ],
      "execution_count": null,
      "outputs": [
        {
          "output_type": "stream",
          "text": [
            "[88, 95, 70, 99, 80, 78, 50]\n"
          ],
          "name": "stdout"
        }
      ]
    },
    {
      "cell_type": "code",
      "metadata": {
        "id": "cAWi8hdGQgLY",
        "colab_type": "code",
        "colab": {},
        "outputId": "e9461144-a0b4-420d-997e-1587690c8c7b"
      },
      "source": [
        "del(score[2])\n",
        "#리스트 요소중에서 3번째 요소(70)을 삭제 시키는 명령문\n",
        "#del score[2]도 가능하다.\n",
        "score"
      ],
      "execution_count": null,
      "outputs": [
        {
          "output_type": "execute_result",
          "data": {
            "text/plain": [
              "[88, 95, 99, 80, 78, 50]"
            ]
          },
          "metadata": {
            "tags": []
          },
          "execution_count": 9
        }
      ]
    },
    {
      "cell_type": "code",
      "metadata": {
        "id": "BCVAvfR9QgLZ",
        "colab_type": "code",
        "colab": {},
        "outputId": "b6d3b259-8ebc-4f7b-b78f-e95f37132564"
      },
      "source": [
        "score[1:4]=[]\n",
        "score\n",
        "#리스트 요소중에서 2번째 부터 4번째 값(95,99,80)을 빈칸으로 만든다. 즉, 삭제시킨다."
      ],
      "execution_count": null,
      "outputs": [
        {
          "output_type": "execute_result",
          "data": {
            "text/plain": [
              "[88, 78, 50]"
            ]
          },
          "metadata": {
            "tags": []
          },
          "execution_count": 10
        }
      ]
    },
    {
      "cell_type": "code",
      "metadata": {
        "id": "lMSk3Fp9QgLb",
        "colab_type": "code",
        "colab": {},
        "outputId": "8b05f51a-d53f-4318-89dd-7c7cac7b86f4"
      },
      "source": [
        "score=[1,2,3,4,5]\n",
        "score.pop()\n",
        "#pop은 삭제한 요소를 꺼내 리턴시킨다. 첨자를 사용하여 지울 대상을 정한다.\n",
        "#공란이라면 디폴트 값은 -1 (맨 끝자리) 이다."
      ],
      "execution_count": null,
      "outputs": [
        {
          "output_type": "execute_result",
          "data": {
            "text/plain": [
              "5"
            ]
          },
          "metadata": {
            "tags": []
          },
          "execution_count": 13
        }
      ]
    },
    {
      "cell_type": "code",
      "metadata": {
        "id": "oDX8sa3eQgLc",
        "colab_type": "code",
        "colab": {},
        "outputId": "4d79823e-a52c-485c-e6f2-931e472cd88a"
      },
      "source": [
        "score.pop(-1)\n",
        "#위의 명령문으로 5가 삭제되었으니 마지막 순서인 4가 없어지면서 리턴된 결과값"
      ],
      "execution_count": null,
      "outputs": [
        {
          "output_type": "execute_result",
          "data": {
            "text/plain": [
              "4"
            ]
          },
          "metadata": {
            "tags": []
          },
          "execution_count": 14
        }
      ]
    },
    {
      "cell_type": "code",
      "metadata": {
        "id": "SwZN5ZFNQgLd",
        "colab_type": "code",
        "colab": {},
        "outputId": "fb708af9-0021-45f7-c552-75d69b76d253"
      },
      "source": [
        "score.pop(0)\n",
        "score\n",
        "#나머지 값인 1,2,3 중에서 두번째 값을 날려버리고 score을 출력헀으니 1,3이 남는다.\n",
        "#계속 실행하면 점점 지워져서 빈칸이 된다."
      ],
      "execution_count": null,
      "outputs": [
        {
          "output_type": "execute_result",
          "data": {
            "text/plain": [
              "[]"
            ]
          },
          "metadata": {
            "tags": []
          },
          "execution_count": 18
        }
      ]
    },
    {
      "cell_type": "markdown",
      "metadata": {
        "id": "jaboBARuQgLf",
        "colab_type": "text"
      },
      "source": [
        "## 검색"
      ]
    },
    {
      "cell_type": "code",
      "metadata": {
        "id": "EfB1KeUSQgLf",
        "colab_type": "code",
        "colab": {},
        "outputId": "739bd3fb-d156-4aa5-8c6d-086b3c8b8200"
      },
      "source": [
        "score=[88,95,70,100,99,80,78,50]\n",
        "perfect=score.index(100)\n",
        "print('만점 받은 학생은',''+str(perfect)+'번 입니다.')\n",
        "#index메서드로 100의 요소를 가진 위치를 찾는다.\n",
        "#str(변수)를 통해 문자열화 시킨다.\n"
      ],
      "execution_count": null,
      "outputs": [
        {
          "output_type": "stream",
          "text": [
            "만점 받은 학생은 3번 입니다.\n"
          ],
          "name": "stdout"
        }
      ]
    },
    {
      "cell_type": "code",
      "metadata": {
        "id": "M8_jZVNHQgLg",
        "colab_type": "code",
        "colab": {},
        "outputId": "61d23c5f-7192-4639-b16e-a9c8b217e4f8"
      },
      "source": [
        "str(perfect)"
      ],
      "execution_count": null,
      "outputs": [
        {
          "output_type": "execute_result",
          "data": {
            "text/plain": [
              "'3'"
            ]
          },
          "metadata": {
            "tags": []
          },
          "execution_count": 33
        }
      ]
    },
    {
      "cell_type": "code",
      "metadata": {
        "id": "sZgIQI1AQgLh",
        "colab_type": "code",
        "colab": {},
        "outputId": "176d39bb-297d-455c-dfb6-dfafed81e637"
      },
      "source": [
        "print('만점 받은 학생은',str(perfect),'번 입니다.')\n",
        "# +기호 대신 ,로 이렇게 구분해도 똑같다."
      ],
      "execution_count": null,
      "outputs": [
        {
          "output_type": "stream",
          "text": [
            "만점 받은 학생은 3 번 입니다.\n"
          ],
          "name": "stdout"
        }
      ]
    },
    {
      "cell_type": "code",
      "metadata": {
        "id": "9CjOz1JkQgLi",
        "colab_type": "code",
        "colab": {},
        "outputId": "6416e2fc-3830-4032-cd49-b19a6d2e7c73"
      },
      "source": [
        "pernum=score.count(100)\n",
        "print('만점자 수는',str(pernum),'명 입니다.')"
      ],
      "execution_count": null,
      "outputs": [
        {
          "output_type": "stream",
          "text": [
            "만점자 수는 1 명 입니다.\n"
          ],
          "name": "stdout"
        }
      ]
    },
    {
      "cell_type": "code",
      "metadata": {
        "id": "3QwPLszHQgLj",
        "colab_type": "code",
        "colab": {},
        "outputId": "15a89b9b-1a8f-4346-f15e-6917c7952900"
      },
      "source": [
        "score=[88,95,70,100,99,80,78,50]\n",
        "print('학생 수는 %d명 입니다.' % len(score))\n",
        "print('최고 점수는 %d점 입니다.' % max(score))\n",
        "print('최저 점수는 %d점 입니다.' % min(score))\n",
        "#print('%연산자' % len,max,min(요소))"
      ],
      "execution_count": null,
      "outputs": [
        {
          "output_type": "stream",
          "text": [
            "학생 수는 8명 입니다.\n",
            "최고 점수는 100점 입니다.\n",
            "최저 점수는 50점 입니다.\n"
          ],
          "name": "stdout"
        }
      ]
    },
    {
      "cell_type": "code",
      "metadata": {
        "id": "hthOUCkwQgLl",
        "colab_type": "code",
        "colab": {},
        "outputId": "d0ad7a6d-e344-4c95-d78e-6056a5b17c61"
      },
      "source": [
        "#요소가 있는지 검사할때 in 또는 not in을 사용한다.\n",
        "ans=input('결제 하시겠습니까? (yes or not)')\n",
        "if ans in ['yes','y','ok','예','당근']:\n",
        "    print('구입해 주셔서 감사합니다.')\n",
        "else:\n",
        "    print('다음에 또 방문해 주세요.')"
      ],
      "execution_count": null,
      "outputs": [
        {
          "output_type": "stream",
          "text": [
            "결제 하시겠습니까? (yes or not)ㄴㄴ\n",
            "다음에 또 방문해 주세요.\n"
          ],
          "name": "stdout"
        }
      ]
    },
    {
      "cell_type": "code",
      "metadata": {
        "id": "8idpSS2RQgLn",
        "colab_type": "code",
        "colab": {
          "base_uri": "https://localhost:8080/",
          "height": 53
        },
        "outputId": "3d643962-b79f-4869-9446-062508d4326d"
      },
      "source": [
        "ans=input('do you have a girl friend?')\n",
        "if ans in ['yes','y','ok','예','당근']:\n",
        "  print('Awesome!')\n",
        "else:\n",
        "  print('Oh...Im sorry')"
      ],
      "execution_count": null,
      "outputs": [
        {
          "output_type": "stream",
          "text": [
            "do you have a girl friend?ㄴㄴ\n",
            "Oh...Im sorry\n"
          ],
          "name": "stdout"
        }
      ]
    },
    {
      "cell_type": "code",
      "metadata": {
        "id": "_fB8APHFRKqA",
        "colab_type": "code",
        "colab": {
          "base_uri": "https://localhost:8080/",
          "height": 53
        },
        "outputId": "b435a631-966f-4aeb-9b2d-0dd281fbd119"
      },
      "source": [
        "#sort method arranges the list. In this process, values are arranged \n",
        "#reverse method reverses the order of values.\n",
        "score = [88,95,70,100,99]\n",
        "score.sort()\n",
        "print(score)\n",
        "score.reverse()\n",
        "print(score)"
      ],
      "execution_count": null,
      "outputs": [
        {
          "output_type": "stream",
          "text": [
            "[70, 88, 95, 99, 100]\n",
            "[100, 99, 95, 88, 70]\n"
          ],
          "name": "stdout"
        }
      ]
    },
    {
      "cell_type": "code",
      "metadata": {
        "id": "491bRK2eTIl8",
        "colab_type": "code",
        "colab": {
          "base_uri": "https://localhost:8080/",
          "height": 35
        },
        "outputId": "890e3523-6cbc-49f9-ff5c-cd1c0a2a494b"
      },
      "source": [
        "#Using the method of sort and reverse\n",
        "score=[4,2,3,5,6,1,8]\n",
        "score.sort(reverse=True)\n",
        "print(score)"
      ],
      "execution_count": null,
      "outputs": [
        {
          "output_type": "stream",
          "text": [
            "[8, 6, 5, 4, 3, 2, 1]\n"
          ],
          "name": "stdout"
        }
      ]
    },
    {
      "cell_type": "code",
      "metadata": {
        "id": "dBGDdW6ZTkkQ",
        "colab_type": "code",
        "colab": {
          "base_uri": "https://localhost:8080/",
          "height": 35
        },
        "outputId": "d5422abd-4262-4ae8-e046-deb55bca9622"
      },
      "source": [
        "score.sort()\n",
        "print(score)"
      ],
      "execution_count": null,
      "outputs": [
        {
          "output_type": "stream",
          "text": [
            "[1, 2, 3, 4, 5, 6, 8]\n"
          ],
          "name": "stdout"
        }
      ]
    },
    {
      "cell_type": "code",
      "metadata": {
        "id": "IXMkKQMRTxFZ",
        "colab_type": "code",
        "colab": {
          "base_uri": "https://localhost:8080/",
          "height": 53
        },
        "outputId": "cc57776b-71b1-468a-9b05-05216cd4e195"
      },
      "source": [
        "#key is fuction what compares in sorting the values\n",
        "country = ['Korea','japan','CHINA','america']\n",
        "country.sort()\n",
        "print(country)\n",
        "country.sort(key=str.lower)\n",
        "print(country)\n",
        "# it was changed when use the key not itself"
      ],
      "execution_count": null,
      "outputs": [
        {
          "output_type": "stream",
          "text": [
            "['CHINA', 'Korea', 'america', 'japan']\n",
            "['america', 'CHINA', 'japan', 'Korea']\n"
          ],
          "name": "stdout"
        }
      ]
    },
    {
      "cell_type": "code",
      "metadata": {
        "id": "d-UzJnf6UxA1",
        "colab_type": "code",
        "colab": {
          "base_uri": "https://localhost:8080/",
          "height": 53
        },
        "outputId": "24c4fae8-ae59-4f65-f298-0b2f2fafbbca"
      },
      "source": [
        "#sorted method is same the sort method but it doesn't change itself, but makes new list by returning\n",
        "score=[88,95,70,100,99]\n",
        "score2=sorted(score)\n",
        "print(score)\n",
        "print(score2)"
      ],
      "execution_count": null,
      "outputs": [
        {
          "output_type": "stream",
          "text": [
            "[88, 95, 70, 100, 99]\n",
            "[70, 88, 95, 99, 100]\n"
          ],
          "name": "stdout"
        }
      ]
    },
    {
      "cell_type": "code",
      "metadata": {
        "id": "H6kRLikbVcdW",
        "colab_type": "code",
        "colab": {
          "base_uri": "https://localhost:8080/",
          "height": 53
        },
        "outputId": "e4a67e27-e7c4-445e-cc61-7bcd260d0423"
      },
      "source": [
        "#tuple is like list, but it doesn't edit after coding\n",
        "#so tuple is called 'number list' and use (), not []\n",
        "score=(88,95,70,100,99)\n",
        "sum=0\n",
        "for s in score:\n",
        "  sum +=s\n",
        "print('total : ', sum)\n",
        "print('average : ', sum/len(score))"
      ],
      "execution_count": null,
      "outputs": [
        {
          "output_type": "stream",
          "text": [
            "total :  452\n",
            "average :  90.4\n"
          ],
          "name": "stdout"
        }
      ]
    },
    {
      "cell_type": "code",
      "metadata": {
        "id": "dnmJIl8zWSfC",
        "colab_type": "code",
        "colab": {
          "base_uri": "https://localhost:8080/",
          "height": 53
        },
        "outputId": "1eeb2c15-e86f-4997-8ea6-46573ec6b4bc"
      },
      "source": [
        "#when use only one tuple, it must be appeard by comma\n",
        "#because for distinguishing other values\n",
        "tu=2,\n",
        "value=2\n",
        "print(tu)\n",
        "print(value)\n",
        "#2, means tuple which has one value"
      ],
      "execution_count": null,
      "outputs": [
        {
          "output_type": "stream",
          "text": [
            "(2,)\n",
            "2\n"
          ],
          "name": "stdout"
        }
      ]
    },
    {
      "cell_type": "code",
      "metadata": {
        "id": "T8c041fJXpx0",
        "colab_type": "code",
        "colab": {
          "base_uri": "https://localhost:8080/",
          "height": 89
        },
        "outputId": "327686c1-4f55-402d-dc42-bcf7b4eb1aaf"
      },
      "source": [
        "#Reading tuple\n",
        "tu=1,2,3,4,5\n",
        "print(tu[3])\n",
        "print(tu[1:4])\n",
        "print(tu + (6,7))\n",
        "print(tu*2)"
      ],
      "execution_count": null,
      "outputs": [
        {
          "output_type": "stream",
          "text": [
            "4\n",
            "(2, 3, 4)\n",
            "(1, 2, 3, 4, 5, 6, 7)\n",
            "(1, 2, 3, 4, 5, 1, 2, 3, 4, 5)\n"
          ],
          "name": "stdout"
        }
      ]
    },
    {
      "cell_type": "code",
      "metadata": {
        "id": "4Ekgr-_mYKMD",
        "colab_type": "code",
        "colab": {
          "base_uri": "https://localhost:8080/",
          "height": 71
        },
        "outputId": "427908ee-8a4b-480a-b8e0-01b9176d6fdf"
      },
      "source": [
        "#when combinate tuple and tuple\n",
        "tu='ash','garen','riven'\n",
        "frellyord,demasia,exile=tu\n",
        "print(frellyord)\n",
        "print(demasia)\n",
        "print(exile)"
      ],
      "execution_count": null,
      "outputs": [
        {
          "output_type": "stream",
          "text": [
            "ash\n",
            "garen\n",
            "riven\n"
          ],
          "name": "stdout"
        }
      ]
    },
    {
      "cell_type": "code",
      "metadata": {
        "id": "vRlWq9LIYvd7",
        "colab_type": "code",
        "colab": {
          "base_uri": "https://localhost:8080/",
          "height": 53
        },
        "outputId": "a3561eac-6884-42ff-aa70-f19bc90223d9"
      },
      "source": [
        "a,b=12,34\n",
        "print(a,b)\n",
        "a,b=b,a\n",
        "print(a,b)"
      ],
      "execution_count": null,
      "outputs": [
        {
          "output_type": "stream",
          "text": [
            "12 34\n",
            "34 12\n"
          ],
          "name": "stdout"
        }
      ]
    },
    {
      "cell_type": "code",
      "metadata": {
        "id": "dAImA-aUZD44",
        "colab_type": "code",
        "colab": {
          "base_uri": "https://localhost:8080/",
          "height": 35
        },
        "outputId": "41f1d8ba-6dad-4524-f5c5-325ee47d6262"
      },
      "source": [
        "import time\n",
        "def gettime():\n",
        "  now = time.localtime()\n",
        "  return now.tm_hour, now.tm_min\n",
        "\n",
        "result=gettime()\n",
        "print('time is %d : %d' % (result[0],result[1]))"
      ],
      "execution_count": null,
      "outputs": [
        {
          "output_type": "stream",
          "text": [
            "time is 11 : 53\n"
          ],
          "name": "stdout"
        }
      ]
    },
    {
      "cell_type": "code",
      "metadata": {
        "id": "U8SKdEm0Zo4T",
        "colab_type": "code",
        "colab": {
          "base_uri": "https://localhost:8080/",
          "height": 53
        },
        "outputId": "ce5719be-640d-4808-83ab-8edb1c9f6705"
      },
      "source": [
        "#divmod function returns the result of quotient and remainder in tuple\n",
        "d,m=divmod(7,3)\n",
        "print('quotient is', d)\n",
        "print('remainder is ', m)"
      ],
      "execution_count": null,
      "outputs": [
        {
          "output_type": "stream",
          "text": [
            "quotient is 2\n",
            "remainder is  1\n"
          ],
          "name": "stdout"
        }
      ]
    },
    {
      "cell_type": "code",
      "metadata": {
        "id": "UPUSRH4Ab13r",
        "colab_type": "code",
        "colab": {
          "base_uri": "https://localhost:8080/",
          "height": 53
        },
        "outputId": "06ebfa35-c9f7-4232-8895-347e51b78e82"
      },
      "source": [
        "#why use the tuple?\n",
        "#in fact, list have an all function of tuple. but list is changeable. thus it takes more memories and slow speed than tuple\n",
        "#tuple is unchangeable. so tuple is more simple and has fast speed in reading than list\n",
        "#also tuple is safe because of uneditable feature that makes no mistakes\n",
        "#the method of converting tuple to list or otherwise\n",
        "socre=[88,95,70,100,99]\n",
        "tu=tuple(score)\n",
        "print(tu)\n",
        "li=list(tu)\n",
        "li[0]=100\n",
        "print(li)y"
      ],
      "execution_count": null,
      "outputs": [
        {
          "output_type": "stream",
          "text": [
            "(88, 95, 70, 100, 99)\n",
            "[100, 95, 70, 100, 99]\n"
          ],
          "name": "stdout"
        }
      ]
    },
    {
      "cell_type": "markdown",
      "metadata": {
        "id": "joEUl9umd9qt",
        "colab_type": "text"
      },
      "source": [
        "# Dictionary\n",
        "Dictionary is structrue of big data that save key and pair of the values.\n",
        "\n",
        "And it is called 'Map' because of comparing 1 on 1\n",
        "\n",
        "When it is defined, use {} such as key : value and seperate with comma"
      ]
    },
    {
      "cell_type": "code",
      "metadata": {
        "id": "rNTCGtLh33s3",
        "colab_type": "code",
        "colab": {
          "base_uri": "https://localhost:8080/",
          "height": 35
        },
        "outputId": "c756fb33-8d69-4e2e-977b-480da28ae117"
      },
      "source": [
        "dic = {'boy' : 'ezreal', 'school' : 'academy','book':'Yumis weapon'}\n",
        "print(dic)"
      ],
      "execution_count": null,
      "outputs": [
        {
          "output_type": "stream",
          "text": [
            "{'boy': 'ezreal', 'school': 'academy', 'book': 'Yumis weapon'}\n"
          ],
          "name": "stdout"
        }
      ]
    },
    {
      "cell_type": "code",
      "metadata": {
        "id": "n8Jaqjl24HK2",
        "colab_type": "code",
        "colab": {
          "base_uri": "https://localhost:8080/",
          "height": 35
        },
        "outputId": "84d0339e-e47e-45da-9e09-3f8f999eb1a5"
      },
      "source": [
        "print(dic['boy'])"
      ],
      "execution_count": null,
      "outputs": [
        {
          "output_type": "stream",
          "text": [
            "ezreal\n"
          ],
          "name": "stdout"
        }
      ]
    },
    {
      "cell_type": "markdown",
      "metadata": {
        "id": "Bo460nKZ4Zl1",
        "colab_type": "text"
      },
      "source": [
        "# get method\n",
        "get method finds any results without error.\n",
        "If get method doesn't find any result then it retrun the 'None' not error.\n",
        "also, it can set default value when doesn't find with second arguement."
      ]
    },
    {
      "cell_type": "code",
      "metadata": {
        "id": "mYTzK-9e5Xh7",
        "colab_type": "code",
        "colab": {
          "base_uri": "https://localhost:8080/",
          "height": 53
        },
        "outputId": "0ec80d83-62e9-4dd7-ee6d-be07fec4d1d0"
      },
      "source": [
        "print(dic.get('garen'))\n",
        "print(dic.get('nasus', 'Not found'))"
      ],
      "execution_count": null,
      "outputs": [
        {
          "output_type": "stream",
          "text": [
            "None\n",
            "Not found\n"
          ],
          "name": "stdout"
        }
      ]
    },
    {
      "cell_type": "code",
      "metadata": {
        "id": "9Pn2fjda5pXf",
        "colab_type": "code",
        "colab": {
          "base_uri": "https://localhost:8080/",
          "height": 35
        },
        "outputId": "aa3e94e8-44d9-4603-b5b5-0c208a6208e1"
      },
      "source": [
        "dic = {'garen' : 'demasia','darius':'noxus','riven':'exile','nidalee':'wild'}\n",
        "if 'shaco' in dic:\n",
        "  print('Found')\n",
        "else:\n",
        "  print('Not Found')"
      ],
      "execution_count": null,
      "outputs": [
        {
          "output_type": "stream",
          "text": [
            "Not Found\n"
          ],
          "name": "stdout"
        }
      ]
    },
    {
      "cell_type": "markdown",
      "metadata": {
        "id": "htza84im6I7o",
        "colab_type": "text"
      },
      "source": [
        "# Dictionary is possible to change values to other word"
      ]
    },
    {
      "cell_type": "code",
      "metadata": {
        "id": "OOkIwZ2C6y_6",
        "colab_type": "code",
        "colab": {
          "base_uri": "https://localhost:8080/",
          "height": 35
        },
        "outputId": "f7c04a50-ac77-4cee-fc83-25b6778cf0e7"
      },
      "source": [
        "dic['garen']='just walker'\n",
        "dic['Yasuo']='insect'\n",
        "del dic['nidalee']\n",
        "print(dic)\n",
        "#when it wasn't found something in dictionary, it is possible to add something"
      ],
      "execution_count": null,
      "outputs": [
        {
          "output_type": "stream",
          "text": [
            "{'garen': 'just walker', 'darius': 'noxus', 'riven': 'exile', 'Yasuo': 'insect'}\n"
          ],
          "name": "stdout"
        }
      ]
    },
    {
      "cell_type": "markdown",
      "metadata": {
        "id": "Zm3pfmfi676U",
        "colab_type": "text"
      },
      "source": [
        "# When delete all about dic, use the clear method.\n",
        "keys method returns dict_key \n",
        "\n",
        "values method returns dict_values list\n",
        "\n",
        "items method returns pair of the key and value list at tuple"
      ]
    },
    {
      "cell_type": "code",
      "metadata": {
        "id": "HzIMvpXn8iBI",
        "colab_type": "code",
        "colab": {
          "base_uri": "https://localhost:8080/",
          "height": 71
        },
        "outputId": "58d69bc2-a4b7-4092-c62b-eebaa51aa3ab"
      },
      "source": [
        "print(dic.keys())\n",
        "print(dic.values())\n",
        "print(dic.items())"
      ],
      "execution_count": null,
      "outputs": [
        {
          "output_type": "stream",
          "text": [
            "dict_keys(['garen', 'darius', 'riven', 'Yasuo'])\n",
            "dict_values(['just walker', 'noxus', 'exile', 'insect'])\n",
            "dict_items([('garen', 'just walker'), ('darius', 'noxus'), ('riven', 'exile'), ('Yasuo', 'insect')])\n"
          ],
          "name": "stdout"
        }
      ]
    },
    {
      "cell_type": "markdown",
      "metadata": {
        "id": "BydMsrLw8vSt",
        "colab_type": "text"
      },
      "source": [
        "# Update method combinates two dictionaries"
      ]
    },
    {
      "cell_type": "code",
      "metadata": {
        "id": "riUyyujq9Ad8",
        "colab_type": "code",
        "colab": {
          "base_uri": "https://localhost:8080/",
          "height": 55
        },
        "outputId": "9b82b773-1fae-485a-ca4b-6821f4ff3b2d"
      },
      "source": [
        "dic={'Top' : 'real man','Mid':'not human','Jungle':'slave','AD':'crazy man','Sup':'slave2'}\n",
        "dic2={'LOL':'the game of devil','Over Watch':'trash'}\n",
        "dic.update(dic2)\n",
        "print(dic)"
      ],
      "execution_count": null,
      "outputs": [
        {
          "output_type": "stream",
          "text": [
            "{'Top': 'real man', 'Mid': 'not human', 'Jungle': 'slave', 'AD': 'crazy man', 'Sup': 'slave2', 'LOL': 'the game of devil', 'Over Watch': 'trash'}\n"
          ],
          "name": "stdout"
        }
      ]
    },
    {
      "cell_type": "markdown",
      "metadata": {
        "id": "tcQsm8e19qq6",
        "colab_type": "text"
      },
      "source": [
        "# The way of changing list to dictionary"
      ]
    },
    {
      "cell_type": "code",
      "metadata": {
        "id": "PBbR96Nz-WNs",
        "colab_type": "code",
        "colab": {
          "base_uri": "https://localhost:8080/",
          "height": 35
        },
        "outputId": "30285a2f-72ba-4c1c-d66b-9bf9c97d9d87"
      },
      "source": [
        "li = [['Top','mad man'],['Jungle','slave']]\n",
        "dic=dict(li)\n",
        "print(dic)\n",
        "#tuple is possible too."
      ],
      "execution_count": null,
      "outputs": [
        {
          "output_type": "stream",
          "text": [
            "{'Top': 'mad man', 'Jungle': 'slave'}\n"
          ],
          "name": "stdout"
        }
      ]
    },
    {
      "cell_type": "markdown",
      "metadata": {
        "id": "6s-Alm-l-miD",
        "colab_type": "text"
      },
      "source": [
        "# Set's definition\n",
        "set is gathering of some values.\n",
        "\n",
        "It uses {}, when it was coded.\n"
      ]
    },
    {
      "cell_type": "code",
      "metadata": {
        "id": "mskj5ISTAdgp",
        "colab_type": "code",
        "colab": {
          "base_uri": "https://localhost:8080/",
          "height": 35
        },
        "outputId": "80cd6710-b83e-4189-e2ae-b8fb74d02a75"
      },
      "source": [
        "asia = {'korea','china','japan','korea'}\n",
        "print(asia)\n",
        "#it does not return the same value"
      ],
      "execution_count": null,
      "outputs": [
        {
          "output_type": "stream",
          "text": [
            "{'korea', 'china', 'japan'}\n"
          ],
          "name": "stdout"
        }
      ]
    },
    {
      "cell_type": "code",
      "metadata": {
        "id": "e6B2_eKIAjlX",
        "colab_type": "code",
        "colab": {
          "base_uri": "https://localhost:8080/",
          "height": 35
        },
        "outputId": "ec56164f-ff5e-4ee4-8815-242cb735fac3"
      },
      "source": [
        "print(set('Si Hyun'))"
      ],
      "execution_count": null,
      "outputs": [
        {
          "output_type": "stream",
          "text": [
            "{'S', ' ', 'y', 'H', 'u', 'n', 'i'}\n"
          ],
          "name": "stdout"
        }
      ]
    },
    {
      "cell_type": "code",
      "metadata": {
        "id": "81mEwMzJBaFv",
        "colab_type": "code",
        "colab": {
          "base_uri": "https://localhost:8080/",
          "height": 35
        },
        "outputId": "19ccddc2-1401-4ac5-f657-73690243d9b0"
      },
      "source": [
        "print(set([12,34,56,78]))"
      ],
      "execution_count": null,
      "outputs": [
        {
          "output_type": "stream",
          "text": [
            "{56, 34, 12, 78}\n"
          ],
          "name": "stdout"
        }
      ]
    },
    {
      "cell_type": "code",
      "metadata": {
        "id": "qhkdcu1bCgTm",
        "colab_type": "code",
        "colab": {
          "base_uri": "https://localhost:8080/",
          "height": 35
        },
        "outputId": "37e2a849-80d7-4c3e-8b23-eb56bfc8fb37"
      },
      "source": [
        "print(set({'boy':'not baby','girl':'babe'}))"
      ],
      "execution_count": null,
      "outputs": [
        {
          "output_type": "stream",
          "text": [
            "{'boy', 'girl'}\n"
          ],
          "name": "stdout"
        }
      ]
    },
    {
      "cell_type": "code",
      "metadata": {
        "id": "lem8YVuYCuPh",
        "colab_type": "code",
        "colab": {
          "base_uri": "https://localhost:8080/",
          "height": 35
        },
        "outputId": "5215b38c-2329-4799-e577-8ff7f4d073bc"
      },
      "source": [
        "print(set(['asd','asdf','fdgg']))"
      ],
      "execution_count": null,
      "outputs": [
        {
          "output_type": "stream",
          "text": [
            "{'fdgg', 'asdf', 'asd'}\n"
          ],
          "name": "stdout"
        }
      ]
    },
    {
      "cell_type": "code",
      "metadata": {
        "id": "1im8ggokC3mI",
        "colab_type": "code",
        "colab": {
          "base_uri": "https://localhost:8080/",
          "height": 35
        },
        "outputId": "41b21b04-da24-45b7-baae-36895e59d088"
      },
      "source": [
        "print(set(('asd','asdf','fdgg')))"
      ],
      "execution_count": null,
      "outputs": [
        {
          "output_type": "stream",
          "text": [
            "{'fdgg', 'asdf', 'asd'}\n"
          ],
          "name": "stdout"
        }
      ]
    },
    {
      "cell_type": "markdown",
      "metadata": {
        "id": "WYt8kpwiDfJE",
        "colab_type": "text"
      },
      "source": [
        "# When make a empty gathering, use set() without any arguement"
      ]
    },
    {
      "cell_type": "markdown",
      "metadata": {
        "id": "IM-NHW29Dlfj",
        "colab_type": "text"
      },
      "source": [
        "methods of set().\n"
      ]
    },
    {
      "cell_type": "code",
      "metadata": {
        "id": "lmEw_KlPDwmY",
        "colab_type": "code",
        "colab": {
          "base_uri": "https://localhost:8080/",
          "height": 35
        },
        "outputId": "d9ad4891-e24e-4575-8674-dfcc83fb7834"
      },
      "source": [
        "#add\n",
        "lol={'garen','darius','doran'}\n",
        "lol.add('nidalee')\n",
        "lol.remove('doran')\n",
        "print(lol)"
      ],
      "execution_count": null,
      "outputs": [
        {
          "output_type": "stream",
          "text": [
            "{'nidalee', 'darius', 'garen'}\n"
          ],
          "name": "stdout"
        }
      ]
    },
    {
      "cell_type": "code",
      "metadata": {
        "id": "uBAJ87PaEAAO",
        "colab_type": "code",
        "colab": {
          "base_uri": "https://localhost:8080/",
          "height": 35
        },
        "outputId": "57bd024c-f201-4fc7-c176-bc69148bf3d8"
      },
      "source": [
        "lol.update(['piora','illelia'])\n",
        "print(lol)"
      ],
      "execution_count": null,
      "outputs": [
        {
          "output_type": "stream",
          "text": [
            "{'piora', 'darius', 'illelia', 'nidalee', 'garen'}\n"
          ],
          "name": "stdout"
        }
      ]
    },
    {
      "cell_type": "markdown",
      "metadata": {
        "id": "hR8V0Tf2EGkM",
        "colab_type": "text"
      },
      "source": [
        "# set calculating\n",
        "\n",
        "plus set -> |,union\n",
        "\n",
        "common set -> $,intersection\n",
        "\n",
        "minus set -> -,difference\n",
        "\n",
        "exclusive minus set -> ^,symmetric_difference\n"
      ]
    },
    {
      "cell_type": "code",
      "metadata": {
        "id": "VQ_8NvBXE83T",
        "colab_type": "code",
        "colab": {
          "base_uri": "https://localhost:8080/",
          "height": 53
        },
        "outputId": "779cb3a4-4eb4-4688-d3ab-611f415c2c9c"
      },
      "source": [
        "twox={2,4,6,8,10,12}\n",
        "threex={3,6,9,12,15}\n",
        "\n",
        "print('plus', twox | threex)\n",
        "print(twox.union(threex))\n"
      ],
      "execution_count": null,
      "outputs": [
        {
          "output_type": "stream",
          "text": [
            "plus {2, 3, 4, 6, 8, 9, 10, 12, 15}\n",
            "{2, 3, 4, 6, 8, 9, 10, 12, 15}\n"
          ],
          "name": "stdout"
        }
      ]
    },
    {
      "cell_type": "code",
      "metadata": {
        "id": "z1223oARFPH9",
        "colab_type": "code",
        "colab": {
          "base_uri": "https://localhost:8080/",
          "height": 53
        },
        "outputId": "18ba21e2-de68-44f1-89df-f7e5b69d3203"
      },
      "source": [
        "print('common', twox & threex)\n",
        "print(twox.intersection(threex))"
      ],
      "execution_count": null,
      "outputs": [
        {
          "output_type": "stream",
          "text": [
            "common {12, 6}\n",
            "{12, 6}\n"
          ],
          "name": "stdout"
        }
      ]
    },
    {
      "cell_type": "code",
      "metadata": {
        "id": "97NUCDrZFdt5",
        "colab_type": "code",
        "colab": {
          "base_uri": "https://localhost:8080/",
          "height": 53
        },
        "outputId": "834d0c62-6689-4636-8088-cb6bb1e668a9"
      },
      "source": [
        "print('minus',twox - threex)\n",
        "print(twox.difference(threex))\n"
      ],
      "execution_count": null,
      "outputs": [
        {
          "output_type": "stream",
          "text": [
            "minus {8, 2, 10, 4}\n",
            "{8, 2, 10, 4}\n"
          ],
          "name": "stdout"
        }
      ]
    },
    {
      "cell_type": "code",
      "metadata": {
        "id": "KncvVJIcFol5",
        "colab_type": "code",
        "colab": {
          "base_uri": "https://localhost:8080/",
          "height": 53
        },
        "outputId": "a2939bf5-889f-497e-a025-11907de17059"
      },
      "source": [
        "print('exclusive',twox ^ threex)\n",
        "print(twox.symmetric_difference(threex))"
      ],
      "execution_count": null,
      "outputs": [
        {
          "output_type": "stream",
          "text": [
            "exclusive {2, 3, 4, 8, 9, 10, 15}\n",
            "{2, 3, 4, 8, 9, 10, 15}\n"
          ],
          "name": "stdout"
        }
      ]
    },
    {
      "cell_type": "code",
      "metadata": {
        "id": "mUVa70BsFv61",
        "colab_type": "code",
        "colab": {}
      },
      "source": [
        "sset={'garen','darius','riven'}"
      ],
      "execution_count": null,
      "outputs": []
    },
    {
      "cell_type": "code",
      "metadata": {
        "id": "WqfFjRnzGU0_",
        "colab_type": "code",
        "colab": {
          "base_uri": "https://localhost:8080/",
          "height": 35
        },
        "outputId": "36ac6200-3881-4322-f50d-b266ae9ed2e2"
      },
      "source": [
        "li=list(sset)\n",
        "li"
      ],
      "execution_count": null,
      "outputs": [
        {
          "output_type": "execute_result",
          "data": {
            "text/plain": [
              "['riven', 'darius', 'garen']"
            ]
          },
          "metadata": {
            "tags": []
          },
          "execution_count": 51
        }
      ]
    },
    {
      "cell_type": "code",
      "metadata": {
        "id": "y6WakYKuGYd6",
        "colab_type": "code",
        "colab": {
          "base_uri": "https://localhost:8080/",
          "height": 35
        },
        "outputId": "93f79fcd-e97d-4361-e3c1-87d0bbc96ffd"
      },
      "source": [
        "li.sort(reverse=True)\n",
        "print(li)"
      ],
      "execution_count": null,
      "outputs": [
        {
          "output_type": "stream",
          "text": [
            "['riven', 'garen', 'darius']\n"
          ],
          "name": "stdout"
        }
      ]
    },
    {
      "cell_type": "markdown",
      "metadata": {
        "id": "Qb8-VQZXGjWV",
        "colab_type": "text"
      },
      "source": [
        "# Function for administring collection"
      ]
    },
    {
      "cell_type": "code",
      "metadata": {
        "id": "kWdA1aD-BMgf",
        "colab_type": "code",
        "colab": {
          "base_uri": "https://localhost:8080/",
          "height": 107
        },
        "outputId": "97c43a7a-9fca-4884-cc21-f21aa3620457"
      },
      "source": [
        "score=[88,95,70,100,99]\n",
        "for s in score:\n",
        "  print('score :',s)"
      ],
      "execution_count": null,
      "outputs": [
        {
          "output_type": "stream",
          "text": [
            "score : 88\n",
            "score : 95\n",
            "score : 70\n",
            "score : 100\n",
            "score : 99\n"
          ],
          "name": "stdout"
        }
      ]
    },
    {
      "cell_type": "markdown",
      "metadata": {
        "id": "ItahmrL8BT6F",
        "colab_type": "text"
      },
      "source": [
        "# Enumerate\n",
        "it returns order value and arguement"
      ]
    },
    {
      "cell_type": "code",
      "metadata": {
        "id": "IUCJ22VNBolC",
        "colab_type": "code",
        "colab": {
          "base_uri": "https://localhost:8080/",
          "height": 35
        },
        "outputId": "c663bd44-8ef9-4d69-d0eb-600b6a414812"
      },
      "source": [
        "race=['Garen','Darius','Riven']\n",
        "list(enumerate(race))"
      ],
      "execution_count": null,
      "outputs": [
        {
          "output_type": "execute_result",
          "data": {
            "text/plain": [
              "[(0, 'Garen'), (1, 'Darius'), (2, 'Riven')]"
            ]
          },
          "metadata": {
            "tags": []
          },
          "execution_count": 9
        }
      ]
    },
    {
      "cell_type": "code",
      "metadata": {
        "id": "Uyi2wwh6BvCY",
        "colab_type": "code",
        "colab": {
          "base_uri": "https://localhost:8080/",
          "height": 107
        },
        "outputId": "b829585a-f392-46cb-ce33-0b08313f9746"
      },
      "source": [
        "score=[88,95,70,100,99]\n",
        "for no, s in enumerate(score,1):\n",
        "  #becaus of [(0,88), (1,95)......]\n",
        "  print('number',no,s)"
      ],
      "execution_count": null,
      "outputs": [
        {
          "output_type": "stream",
          "text": [
            "number 1 88\n",
            "number 2 95\n",
            "number 3 70\n",
            "number 4 100\n",
            "number 5 99\n"
          ],
          "name": "stdout"
        }
      ]
    },
    {
      "cell_type": "markdown",
      "metadata": {
        "id": "5emIDvs5B_ZZ",
        "colab_type": "text"
      },
      "source": [
        "# zip function makes one collection by combining several collentions"
      ]
    },
    {
      "cell_type": "code",
      "metadata": {
        "id": "Oi_lXPSHDx1G",
        "colab_type": "code",
        "colab": {
          "base_uri": "https://localhost:8080/",
          "height": 71
        },
        "outputId": "0728dcda-d42f-4704-c3ac-9972d1220de6"
      },
      "source": [
        "nation =['Demasia','Noxus','Ionia']\n",
        "champ =['Garen','Darius','Illelia']\n",
        "lol=zip(nation,champ)\n",
        "for a,b in lol:\n",
        "  print('%s from %s' %(b,a))"
      ],
      "execution_count": null,
      "outputs": [
        {
          "output_type": "stream",
          "text": [
            "Garen from Demasia\n",
            "Darius from Noxus\n",
            "Illelia from Ionia\n"
          ],
          "name": "stdout"
        }
      ]
    },
    {
      "cell_type": "markdown",
      "metadata": {
        "id": "9jUuyhAkEbJZ",
        "colab_type": "text"
      },
      "source": [
        "# The way of making dict"
      ]
    },
    {
      "cell_type": "code",
      "metadata": {
        "id": "_zhMlhqxExur",
        "colab_type": "code",
        "colab": {
          "base_uri": "https://localhost:8080/",
          "height": 35
        },
        "outputId": "4975ae21-28ad-4dab-b905-6e7276a46862"
      },
      "source": [
        "dict(zip(nation, champ))"
      ],
      "execution_count": null,
      "outputs": [
        {
          "output_type": "execute_result",
          "data": {
            "text/plain": [
              "{'Demasia': 'Garen', 'Ionia': 'Illelia', 'Noxus': 'Darius'}"
            ]
          },
          "metadata": {
            "tags": []
          },
          "execution_count": 21
        }
      ]
    },
    {
      "cell_type": "markdown",
      "metadata": {
        "id": "2QDt2y1hE5lI",
        "colab_type": "text"
      },
      "source": [
        "# filter function finds only True of list arguements\n",
        "\n",
        "first arguement indicates the condition, and second arguement indicates indicates object."
      ]
    },
    {
      "cell_type": "code",
      "metadata": {
        "id": "yMntmi7HFnjm",
        "colab_type": "code",
        "colab": {
          "base_uri": "https://localhost:8080/",
          "height": 53
        },
        "outputId": "bc1ddb42-f792-49f5-d2fa-87bfc73fd45a"
      },
      "source": [
        "def flunk(s):\n",
        "  return s < 60\n",
        "\n",
        "score = [45,89,72,53,94]\n",
        "for s in filter(flunk,score):\n",
        "  print(s)\n",
        "  #filter(condition,object)\n",
        "  #The condition is to return s < 60 in range of score"
      ],
      "execution_count": null,
      "outputs": [
        {
          "output_type": "stream",
          "text": [
            "45\n",
            "53\n"
          ],
          "name": "stdout"
        }
      ]
    },
    {
      "cell_type": "markdown",
      "metadata": {
        "id": "889EDBzTF4rY",
        "colab_type": "text"
      },
      "source": [
        "# Map function makes new list is organized to new arguements"
      ]
    },
    {
      "cell_type": "code",
      "metadata": {
        "id": "HnjMQq-9HwBu",
        "colab_type": "code",
        "colab": {
          "base_uri": "https://localhost:8080/",
          "height": 35
        },
        "outputId": "8ad3f0f1-dac2-4143-ebda-e2f0f3707756"
      },
      "source": [
        "def half(a):\n",
        "  return a/2\n",
        "\n",
        "score=[45,89,72,53,94]\n",
        "for x in map(half, score):\n",
        "  print(x,end=',')"
      ],
      "execution_count": null,
      "outputs": [
        {
          "output_type": "stream",
          "text": [
            "22.5,44.5,36.0,26.5,47.0,"
          ],
          "name": "stdout"
        }
      ]
    },
    {
      "cell_type": "code",
      "metadata": {
        "id": "XZJSzR3dIFHU",
        "colab_type": "code",
        "colab": {
          "base_uri": "https://localhost:8080/",
          "height": 35
        },
        "outputId": "35f166b4-b621-429e-dfa0-b435a0bd6888"
      },
      "source": [
        "def total(s,b):\n",
        "  return s+b\n",
        "\n",
        "score=[45,89,72,53,94]\n",
        "bonus=[2,3,0,0,5]\n",
        "for s in map(total, score, bonus):\n",
        "  print(s, end=',')"
      ],
      "execution_count": null,
      "outputs": [
        {
          "output_type": "stream",
          "text": [
            "47,92,72,53,99,"
          ],
          "name": "stdout"
        }
      ]
    },
    {
      "cell_type": "markdown",
      "metadata": {
        "id": "PZ_8ByWSIuU2",
        "colab_type": "text"
      },
      "source": [
        "# lambda arguement:function, is simple function.\n",
        "it does not use return."
      ]
    },
    {
      "cell_type": "code",
      "metadata": {
        "id": "Re8yiHHrJfMY",
        "colab_type": "code",
        "colab": {
          "base_uri": "https://localhost:8080/",
          "height": 35
        },
        "outputId": "763456a4-3cfa-4da5-be08-153a5be64666"
      },
      "source": [
        "lambda x:x+1\n",
        "# it is same that\n",
        "#def increase(x):\n",
        "# return x+1"
      ],
      "execution_count": null,
      "outputs": [
        {
          "output_type": "execute_result",
          "data": {
            "text/plain": [
              "<function __main__.<lambda>>"
            ]
          },
          "metadata": {
            "tags": []
          },
          "execution_count": 37
        }
      ]
    },
    {
      "cell_type": "code",
      "metadata": {
        "id": "RyPwYgqvJhA9",
        "colab_type": "code",
        "colab": {
          "base_uri": "https://localhost:8080/",
          "height": 53
        },
        "outputId": "81cbfbef-d5db-459f-9bf0-f4918513997b"
      },
      "source": [
        "score = [45,89,72,53,94]\n",
        "for s in filter(lambda x:x < 60, score):\n",
        "  print(s)"
      ],
      "execution_count": null,
      "outputs": [
        {
          "output_type": "stream",
          "text": [
            "45\n",
            "53\n"
          ],
          "name": "stdout"
        }
      ]
    },
    {
      "cell_type": "code",
      "metadata": {
        "id": "4puhzXjgKG9j",
        "colab_type": "code",
        "colab": {
          "base_uri": "https://localhost:8080/",
          "height": 35
        },
        "outputId": "0e4b6187-fcdd-4eb6-c26a-70e8125dbfe3"
      },
      "source": [
        "score=[45,89,72,53,94]\n",
        "for s in map(lambda x:x/2,score):\n",
        "  print(s, end=',')"
      ],
      "execution_count": null,
      "outputs": [
        {
          "output_type": "stream",
          "text": [
            "22.5,44.5,36.0,26.5,47.0,"
          ],
          "name": "stdout"
        }
      ]
    },
    {
      "cell_type": "markdown",
      "metadata": {
        "id": "mlSwKxqMKT8R",
        "colab_type": "text"
      },
      "source": [
        "# list copy"
      ]
    },
    {
      "cell_type": "code",
      "metadata": {
        "id": "1gy4SE-aKzR2",
        "colab_type": "code",
        "colab": {
          "base_uri": "https://localhost:8080/",
          "height": 53
        },
        "outputId": "76776010-6cb7-4601-cbbd-b8384f2e1d34"
      },
      "source": [
        "list1 = [1,2,3]\n",
        "list2 = list1\n",
        "\n",
        "list2[1] = 100\n",
        "print(list1)\n",
        "print(list2)"
      ],
      "execution_count": null,
      "outputs": [
        {
          "output_type": "stream",
          "text": [
            "[1, 100, 3]\n",
            "[1, 100, 3]\n"
          ],
          "name": "stdout"
        }
      ]
    },
    {
      "cell_type": "markdown",
      "metadata": {
        "id": "2r2o0AqYLGzu",
        "colab_type": "text"
      },
      "source": [
        "# That is the reason why we must know listcopy.\n",
        "\n",
        "In case of list, twin list's memory are same"
      ]
    },
    {
      "cell_type": "code",
      "metadata": {
        "id": "e9N7AY8iLXRz",
        "colab_type": "code",
        "colab": {
          "base_uri": "https://localhost:8080/",
          "height": 53
        },
        "outputId": "5b46845d-e38f-4d3b-e4c8-c8dc2e2fd560"
      },
      "source": [
        "list1=[1,2,3]\n",
        "list2=list1.copy()\n",
        "\n",
        "list2[1]=100\n",
        "print(list1)\n",
        "print(list2)"
      ],
      "execution_count": null,
      "outputs": [
        {
          "output_type": "stream",
          "text": [
            "[1, 2, 3]\n",
            "[1, 100, 3]\n"
          ],
          "name": "stdout"
        }
      ]
    },
    {
      "cell_type": "code",
      "metadata": {
        "id": "brTTwE7pLgvI",
        "colab_type": "code",
        "colab": {
          "base_uri": "https://localhost:8080/",
          "height": 53
        },
        "outputId": "7e9aa915-61b3-4b0f-cb5a-5af4bc894f70"
      },
      "source": [
        "list0 =['a','b']\n",
        "list1 =[list0,1,2]\n",
        "list2 = list1.copy()\n",
        "\n",
        "list2[0][1]='c'\n",
        "print(list1)\n",
        "print(list2)\n",
        "\n",
        "#if you change the arguements of list0 then it affects list1, list2.\n",
        "\n",
        "# so to make perfect copy, we must use copy module, deepcopy"
      ],
      "execution_count": null,
      "outputs": [
        {
          "output_type": "stream",
          "text": [
            "[['a', 'c'], 1, 2]\n",
            "[['a', 'c'], 1, 2]\n"
          ],
          "name": "stdout"
        }
      ]
    },
    {
      "cell_type": "markdown",
      "metadata": {
        "id": "rgqzDLVpL4bb",
        "colab_type": "text"
      },
      "source": [
        "# Deep copy"
      ]
    },
    {
      "cell_type": "code",
      "metadata": {
        "id": "64oZH22KMRhL",
        "colab_type": "code",
        "colab": {
          "base_uri": "https://localhost:8080/",
          "height": 53
        },
        "outputId": "19ed9598-acd2-4e27-df21-dd07089727d7"
      },
      "source": [
        "import copy as cp\n",
        "\n",
        "list0=['a','b']\n",
        "list1=[list0,1,2]\n",
        "list2=cp.deepcopy(list1)\n",
        "\n",
        "list2[0][1]='c'\n",
        "print(list1)\n",
        "print(list2)"
      ],
      "execution_count": null,
      "outputs": [
        {
          "output_type": "stream",
          "text": [
            "[['a', 'b'], 1, 2]\n",
            "[['a', 'c'], 1, 2]\n"
          ],
          "name": "stdout"
        }
      ]
    },
    {
      "cell_type": "markdown",
      "metadata": {
        "id": "myTYfhDEMiIo",
        "colab_type": "text"
      },
      "source": [
        "# Is operator\n",
        "\n",
        "if right value is same left one, then it returns True if not False"
      ]
    },
    {
      "cell_type": "code",
      "metadata": {
        "id": "bzUf2bpdNEJw",
        "colab_type": "code",
        "colab": {
          "base_uri": "https://localhost:8080/",
          "height": 71
        },
        "outputId": "4d273a3c-651e-4a44-b66c-8e95851f2672"
      },
      "source": [
        "list1=[1,2,3]\n",
        "list2=list1\n",
        "list3=list1.copy()\n",
        "\n",
        "print('1==2', list1 is list2)\n",
        "print('1==3', list1 is list3)\n",
        "print('2==3', list2 is li"
      ],
      "execution_count": null,
      "outputs": [
        {
          "output_type": "stream",
          "text": [
            "1==2 True\n",
            "1==3 False\n",
            "2==3 False\n"
          ],
          "name": "stdout"
        }
      ]
    },
    {
      "cell_type": "markdown",
      "metadata": {
        "id": "0nazV2orNa-y",
        "colab_type": "text"
      },
      "source": [
        "# Copy data is not same based on one, the memory is different"
      ]
    },
    {
      "cell_type": "markdown",
      "metadata": {
        "id": "CKgLg0dgN-Jg",
        "colab_type": "text"
      },
      "source": [
        "# Import module\n",
        "module is script file written python code.\n",
        "\n",
        "and it contains some functions, variances classes"
      ]
    },
    {
      "cell_type": "code",
      "metadata": {
        "id": "0hPnqq165BdJ",
        "colab_type": "code",
        "colab": {
          "base_uri": "https://localhost:8080/",
          "height": 35
        },
        "outputId": "471d34ed-fb3a-4cb2-a8f7-7cd7e0c9b79c"
      },
      "source": [
        "import math\n",
        "print(math.sqrt(2))"
      ],
      "execution_count": null,
      "outputs": [
        {
          "output_type": "stream",
          "text": [
            "1.4142135623730951\n"
          ],
          "name": "stdout"
        }
      ]
    },
    {
      "cell_type": "markdown",
      "metadata": {
        "id": "mRQybWyj_YVZ",
        "colab_type": "text"
      },
      "source": [
        "import math brings every constant values and functions from module\n",
        "\n",
        "when it is used, write the what it belongs to first.\n",
        "ex)math.sqrt...\n",
        "\n",
        "pd.Series..."
      ]
    },
    {
      "cell_type": "markdown",
      "metadata": {
        "id": "XEDq4ijK_7dM",
        "colab_type": "text"
      },
      "source": [
        "# simple using"
      ]
    },
    {
      "cell_type": "markdown",
      "metadata": {
        "id": "qrbwSismADmP",
        "colab_type": "text"
      },
      "source": [
        "# from module import function's name\n",
        "\n",
        "it brings certain function from module so helps using the module simply"
      ]
    },
    {
      "cell_type": "code",
      "metadata": {
        "id": "9G_aMARcAqW8",
        "colab_type": "code",
        "colab": {
          "base_uri": "https://localhost:8080/",
          "height": 35
        },
        "outputId": "46451fb0-d835-4527-d9ad-75b69023a580"
      },
      "source": [
        "from math import sqrt\n",
        "print(sqrt(2))"
      ],
      "execution_count": null,
      "outputs": [
        {
          "output_type": "stream",
          "text": [
            "1.4142135623730951\n"
          ],
          "name": "stdout"
        }
      ]
    },
    {
      "cell_type": "code",
      "metadata": {
        "id": "5MFgxthxAvLo",
        "colab_type": "code",
        "colab": {
          "base_uri": "https://localhost:8080/",
          "height": 35
        },
        "outputId": "5529b3c0-245a-484b-9887-ea2ac10266c3"
      },
      "source": [
        "# it is possible too.\n",
        "from math import sqrt as sq\n",
        "print(sq(2))"
      ],
      "execution_count": null,
      "outputs": [
        {
          "output_type": "stream",
          "text": [
            "1.4142135623730951\n"
          ],
          "name": "stdout"
        }
      ]
    },
    {
      "cell_type": "markdown",
      "metadata": {
        "id": "fxuPxnkSA_Hw",
        "colab_type": "text"
      },
      "source": [
        "# kind of math module\n",
        "pi -> 원주율 상수\n",
        "\n",
        "tau -> pi * 2 인 상수(반지름과 원둘레의 비율)\n",
        "\n",
        "e -> 자연 대수 상수\n",
        "\n",
        "inf -> 무한대 값\n",
        "\n",
        "nan -> 숫자가 아닌 값"
      ]
    },
    {
      "cell_type": "markdown",
      "metadata": {
        "id": "yq_Db7NWBx9Y",
        "colab_type": "text"
      },
      "source": [
        "# sincurve with turtle graphic"
      ]
    },
    {
      "cell_type": "code",
      "metadata": {
        "id": "kyKO_N7zCsiW",
        "colab_type": "code",
        "colab": {
          "base_uri": "https://localhost:8080/",
          "height": 393
        },
        "outputId": "35122fce-16ec-43c8-d771-e8c029031900"
      },
      "source": [
        "import math\n",
        "import turtle as t\n",
        "\n",
        "t.penup()\n",
        "t.goto(-720,0)\n",
        "t.pendown()\n",
        "for x in range(-720,720):\n",
        "  t.goto(x, math.sin(math.radians(x)) * 100)\n",
        "t.done()"
      ],
      "execution_count": null,
      "outputs": [
        {
          "output_type": "error",
          "ename": "TclError",
          "evalue": "ignored",
          "traceback": [
            "\u001b[0;31m---------------------------------------------------------------------------\u001b[0m",
            "\u001b[0;31mTclError\u001b[0m                                  Traceback (most recent call last)",
            "\u001b[0;32m<ipython-input-8-0775267b263d>\u001b[0m in \u001b[0;36m<module>\u001b[0;34m()\u001b[0m\n\u001b[1;32m      2\u001b[0m \u001b[0;32mimport\u001b[0m \u001b[0mturtle\u001b[0m \u001b[0;32mas\u001b[0m \u001b[0mt\u001b[0m\u001b[0;34m\u001b[0m\u001b[0;34m\u001b[0m\u001b[0m\n\u001b[1;32m      3\u001b[0m \u001b[0;34m\u001b[0m\u001b[0m\n\u001b[0;32m----> 4\u001b[0;31m \u001b[0mt\u001b[0m\u001b[0;34m.\u001b[0m\u001b[0mpenup\u001b[0m\u001b[0;34m(\u001b[0m\u001b[0;34m)\u001b[0m\u001b[0;34m\u001b[0m\u001b[0;34m\u001b[0m\u001b[0m\n\u001b[0m\u001b[1;32m      5\u001b[0m \u001b[0mt\u001b[0m\u001b[0;34m.\u001b[0m\u001b[0mgoto\u001b[0m\u001b[0;34m(\u001b[0m\u001b[0;34m-\u001b[0m\u001b[0;36m720\u001b[0m\u001b[0;34m,\u001b[0m\u001b[0;36m0\u001b[0m\u001b[0;34m)\u001b[0m\u001b[0;34m\u001b[0m\u001b[0;34m\u001b[0m\u001b[0m\n\u001b[1;32m      6\u001b[0m \u001b[0mt\u001b[0m\u001b[0;34m.\u001b[0m\u001b[0mpendown\u001b[0m\u001b[0;34m(\u001b[0m\u001b[0;34m)\u001b[0m\u001b[0;34m\u001b[0m\u001b[0;34m\u001b[0m\u001b[0m\n",
            "\u001b[0;32m/usr/lib/python3.6/turtle.py\u001b[0m in \u001b[0;36mpenup\u001b[0;34m()\u001b[0m\n",
            "\u001b[0;32m/usr/lib/python3.6/turtle.py\u001b[0m in \u001b[0;36m__init__\u001b[0;34m(self, shape, undobuffersize, visible)\u001b[0m\n\u001b[1;32m   3810\u001b[0m                  visible=_CFG[\"visible\"]):\n\u001b[1;32m   3811\u001b[0m         \u001b[0;32mif\u001b[0m \u001b[0mTurtle\u001b[0m\u001b[0;34m.\u001b[0m\u001b[0m_screen\u001b[0m \u001b[0;32mis\u001b[0m \u001b[0;32mNone\u001b[0m\u001b[0;34m:\u001b[0m\u001b[0;34m\u001b[0m\u001b[0;34m\u001b[0m\u001b[0m\n\u001b[0;32m-> 3812\u001b[0;31m             \u001b[0mTurtle\u001b[0m\u001b[0;34m.\u001b[0m\u001b[0m_screen\u001b[0m \u001b[0;34m=\u001b[0m \u001b[0mScreen\u001b[0m\u001b[0;34m(\u001b[0m\u001b[0;34m)\u001b[0m\u001b[0;34m\u001b[0m\u001b[0;34m\u001b[0m\u001b[0m\n\u001b[0m\u001b[1;32m   3813\u001b[0m         RawTurtle.__init__(self, Turtle._screen,\n\u001b[1;32m   3814\u001b[0m                            \u001b[0mshape\u001b[0m\u001b[0;34m=\u001b[0m\u001b[0mshape\u001b[0m\u001b[0;34m,\u001b[0m\u001b[0;34m\u001b[0m\u001b[0;34m\u001b[0m\u001b[0m\n",
            "\u001b[0;32m/usr/lib/python3.6/turtle.py\u001b[0m in \u001b[0;36mScreen\u001b[0;34m()\u001b[0m\n\u001b[1;32m   3660\u001b[0m     else return the existing one.\"\"\"\n\u001b[1;32m   3661\u001b[0m     \u001b[0;32mif\u001b[0m \u001b[0mTurtle\u001b[0m\u001b[0;34m.\u001b[0m\u001b[0m_screen\u001b[0m \u001b[0;32mis\u001b[0m \u001b[0;32mNone\u001b[0m\u001b[0;34m:\u001b[0m\u001b[0;34m\u001b[0m\u001b[0;34m\u001b[0m\u001b[0m\n\u001b[0;32m-> 3662\u001b[0;31m         \u001b[0mTurtle\u001b[0m\u001b[0;34m.\u001b[0m\u001b[0m_screen\u001b[0m \u001b[0;34m=\u001b[0m \u001b[0m_Screen\u001b[0m\u001b[0;34m(\u001b[0m\u001b[0;34m)\u001b[0m\u001b[0;34m\u001b[0m\u001b[0;34m\u001b[0m\u001b[0m\n\u001b[0m\u001b[1;32m   3663\u001b[0m     \u001b[0;32mreturn\u001b[0m \u001b[0mTurtle\u001b[0m\u001b[0;34m.\u001b[0m\u001b[0m_screen\u001b[0m\u001b[0;34m\u001b[0m\u001b[0;34m\u001b[0m\u001b[0m\n\u001b[1;32m   3664\u001b[0m \u001b[0;34m\u001b[0m\u001b[0m\n",
            "\u001b[0;32m/usr/lib/python3.6/turtle.py\u001b[0m in \u001b[0;36m__init__\u001b[0;34m(self)\u001b[0m\n\u001b[1;32m   3676\u001b[0m         \u001b[0;31m# preserved (perhaps by passing it as an optional parameter)\u001b[0m\u001b[0;34m\u001b[0m\u001b[0;34m\u001b[0m\u001b[0;34m\u001b[0m\u001b[0m\n\u001b[1;32m   3677\u001b[0m         \u001b[0;32mif\u001b[0m \u001b[0m_Screen\u001b[0m\u001b[0;34m.\u001b[0m\u001b[0m_root\u001b[0m \u001b[0;32mis\u001b[0m \u001b[0;32mNone\u001b[0m\u001b[0;34m:\u001b[0m\u001b[0;34m\u001b[0m\u001b[0;34m\u001b[0m\u001b[0m\n\u001b[0;32m-> 3678\u001b[0;31m             \u001b[0m_Screen\u001b[0m\u001b[0;34m.\u001b[0m\u001b[0m_root\u001b[0m \u001b[0;34m=\u001b[0m \u001b[0mself\u001b[0m\u001b[0;34m.\u001b[0m\u001b[0m_root\u001b[0m \u001b[0;34m=\u001b[0m \u001b[0m_Root\u001b[0m\u001b[0;34m(\u001b[0m\u001b[0;34m)\u001b[0m\u001b[0;34m\u001b[0m\u001b[0;34m\u001b[0m\u001b[0m\n\u001b[0m\u001b[1;32m   3679\u001b[0m             \u001b[0mself\u001b[0m\u001b[0;34m.\u001b[0m\u001b[0m_root\u001b[0m\u001b[0;34m.\u001b[0m\u001b[0mtitle\u001b[0m\u001b[0;34m(\u001b[0m\u001b[0m_Screen\u001b[0m\u001b[0;34m.\u001b[0m\u001b[0m_title\u001b[0m\u001b[0;34m)\u001b[0m\u001b[0;34m\u001b[0m\u001b[0;34m\u001b[0m\u001b[0m\n\u001b[1;32m   3680\u001b[0m             \u001b[0mself\u001b[0m\u001b[0;34m.\u001b[0m\u001b[0m_root\u001b[0m\u001b[0;34m.\u001b[0m\u001b[0mondestroy\u001b[0m\u001b[0;34m(\u001b[0m\u001b[0mself\u001b[0m\u001b[0;34m.\u001b[0m\u001b[0m_destroy\u001b[0m\u001b[0;34m)\u001b[0m\u001b[0;34m\u001b[0m\u001b[0;34m\u001b[0m\u001b[0m\n",
            "\u001b[0;32m/usr/lib/python3.6/turtle.py\u001b[0m in \u001b[0;36m__init__\u001b[0;34m(self)\u001b[0m\n\u001b[1;32m    432\u001b[0m     \u001b[0;34m\"\"\"Root class for Screen based on Tkinter.\"\"\"\u001b[0m\u001b[0;34m\u001b[0m\u001b[0;34m\u001b[0m\u001b[0m\n\u001b[1;32m    433\u001b[0m     \u001b[0;32mdef\u001b[0m \u001b[0m__init__\u001b[0m\u001b[0;34m(\u001b[0m\u001b[0mself\u001b[0m\u001b[0;34m)\u001b[0m\u001b[0;34m:\u001b[0m\u001b[0;34m\u001b[0m\u001b[0;34m\u001b[0m\u001b[0m\n\u001b[0;32m--> 434\u001b[0;31m         \u001b[0mTK\u001b[0m\u001b[0;34m.\u001b[0m\u001b[0mTk\u001b[0m\u001b[0;34m.\u001b[0m\u001b[0m__init__\u001b[0m\u001b[0;34m(\u001b[0m\u001b[0mself\u001b[0m\u001b[0;34m)\u001b[0m\u001b[0;34m\u001b[0m\u001b[0;34m\u001b[0m\u001b[0m\n\u001b[0m\u001b[1;32m    435\u001b[0m \u001b[0;34m\u001b[0m\u001b[0m\n\u001b[1;32m    436\u001b[0m     \u001b[0;32mdef\u001b[0m \u001b[0msetupcanvas\u001b[0m\u001b[0;34m(\u001b[0m\u001b[0mself\u001b[0m\u001b[0;34m,\u001b[0m \u001b[0mwidth\u001b[0m\u001b[0;34m,\u001b[0m \u001b[0mheight\u001b[0m\u001b[0;34m,\u001b[0m \u001b[0mcwidth\u001b[0m\u001b[0;34m,\u001b[0m \u001b[0mcheight\u001b[0m\u001b[0;34m)\u001b[0m\u001b[0;34m:\u001b[0m\u001b[0;34m\u001b[0m\u001b[0;34m\u001b[0m\u001b[0m\n",
            "\u001b[0;32m/usr/lib/python3.6/tkinter/__init__.py\u001b[0m in \u001b[0;36m__init__\u001b[0;34m(self, screenName, baseName, className, useTk, sync, use)\u001b[0m\n\u001b[1;32m   2021\u001b[0m                 \u001b[0mbaseName\u001b[0m \u001b[0;34m=\u001b[0m \u001b[0mbaseName\u001b[0m \u001b[0;34m+\u001b[0m \u001b[0mext\u001b[0m\u001b[0;34m\u001b[0m\u001b[0;34m\u001b[0m\u001b[0m\n\u001b[1;32m   2022\u001b[0m         \u001b[0minteractive\u001b[0m \u001b[0;34m=\u001b[0m \u001b[0;36m0\u001b[0m\u001b[0;34m\u001b[0m\u001b[0;34m\u001b[0m\u001b[0m\n\u001b[0;32m-> 2023\u001b[0;31m         \u001b[0mself\u001b[0m\u001b[0;34m.\u001b[0m\u001b[0mtk\u001b[0m \u001b[0;34m=\u001b[0m \u001b[0m_tkinter\u001b[0m\u001b[0;34m.\u001b[0m\u001b[0mcreate\u001b[0m\u001b[0;34m(\u001b[0m\u001b[0mscreenName\u001b[0m\u001b[0;34m,\u001b[0m \u001b[0mbaseName\u001b[0m\u001b[0;34m,\u001b[0m \u001b[0mclassName\u001b[0m\u001b[0;34m,\u001b[0m \u001b[0minteractive\u001b[0m\u001b[0;34m,\u001b[0m \u001b[0mwantobjects\u001b[0m\u001b[0;34m,\u001b[0m \u001b[0museTk\u001b[0m\u001b[0;34m,\u001b[0m \u001b[0msync\u001b[0m\u001b[0;34m,\u001b[0m \u001b[0muse\u001b[0m\u001b[0;34m)\u001b[0m\u001b[0;34m\u001b[0m\u001b[0;34m\u001b[0m\u001b[0m\n\u001b[0m\u001b[1;32m   2024\u001b[0m         \u001b[0;32mif\u001b[0m \u001b[0museTk\u001b[0m\u001b[0;34m:\u001b[0m\u001b[0;34m\u001b[0m\u001b[0;34m\u001b[0m\u001b[0m\n\u001b[1;32m   2025\u001b[0m             \u001b[0mself\u001b[0m\u001b[0;34m.\u001b[0m\u001b[0m_loadtk\u001b[0m\u001b[0;34m(\u001b[0m\u001b[0;34m)\u001b[0m\u001b[0;34m\u001b[0m\u001b[0;34m\u001b[0m\u001b[0m\n",
            "\u001b[0;31mTclError\u001b[0m: no display name and no $DISPLAY environment variable"
          ]
        }
      ]
    },
    {
      "cell_type": "markdown",
      "metadata": {
        "id": "8PSBNgHLC8X2",
        "colab_type": "text"
      },
      "source": [
        "# Statistics module\n",
        "\n",
        "mean -> 평균\n",
        "\n",
        "harmonic_mean -> 조화 평균\n",
        "\n",
        "median -> 중앙값, 짝수인 경우 보간 값 계산\n",
        "\n",
        "median_low -> 중앙값, 집합 내의 낮은 값 선택\n",
        "\n",
        "median_high -> 중앙값, 집합 내의 높은 값 선택\n",
        "\n",
        "median_grouped -> 그룹 연속 중앙값을 구함\n",
        "\n",
        "mode -> 최빈값 계산\n",
        "\n",
        "pstdev -> 모표준편차를 계산\n",
        "\n",
        "stdev -> 표준편차를 계산\n",
        "\n",
        "variance -> 분산을 계산"
      ]
    },
    {
      "cell_type": "code",
      "metadata": {
        "id": "1UQXI3l7EzH5",
        "colab_type": "code",
        "colab": {
          "base_uri": "https://localhost:8080/",
          "height": 107
        },
        "outputId": "b57218e6-0cf0-4a9d-b12d-ef920b2a4035"
      },
      "source": [
        "import statistics\n",
        "\n",
        "score=[30,40,60,70,80,90]\n",
        "print(statistics.mean(score))\n",
        "print(statistics.harmonic_mean(score))\n",
        "print(statistics.median(score))\n",
        "print(statistics.median_low(score))\n",
        "print(statistics.median_high(score))"
      ],
      "execution_count": null,
      "outputs": [
        {
          "output_type": "stream",
          "text": [
            "61.666666666666664\n",
            "53.14586994727592\n",
            "65.0\n",
            "60\n",
            "70\n"
          ],
          "name": "stdout"
        }
      ]
    },
    {
      "cell_type": "markdown",
      "metadata": {
        "id": "fOL1u8pcFKfa",
        "colab_type": "text"
      },
      "source": [
        "#time module offers date, time etc...\n",
        "\n",
        "time function investigates current time \n",
        "\n",
        "and Unix offers the time since 1970.1.1 12:00AM by expressing with second\n",
        "\n"
      ]
    },
    {
      "cell_type": "code",
      "metadata": {
        "id": "khCJK8pDGYIt",
        "colab_type": "code",
        "colab": {
          "base_uri": "https://localhost:8080/",
          "height": 35
        },
        "outputId": "2a47b4b5-968d-4d09-8833-87cdd3af148e"
      },
      "source": [
        "import time\n",
        "print(time.time())"
      ],
      "execution_count": null,
      "outputs": [
        {
          "output_type": "stream",
          "text": [
            "1596437674.6199162\n"
          ],
          "name": "stdout"
        }
      ]
    },
    {
      "cell_type": "code",
      "metadata": {
        "id": "Ij1anePqGbfp",
        "colab_type": "code",
        "colab": {
          "base_uri": "https://localhost:8080/",
          "height": 35
        },
        "outputId": "533ec823-87b5-407e-82f5-a55a8dd011b4"
      },
      "source": [
        "t= time.time()\n",
        "print(time.ctime(t))"
      ],
      "execution_count": null,
      "outputs": [
        {
          "output_type": "stream",
          "text": [
            "Mon Aug  3 06:55:25 2020\n"
          ],
          "name": "stdout"
        }
      ]
    },
    {
      "cell_type": "code",
      "metadata": {
        "id": "mGLi00bpGoCz",
        "colab_type": "code",
        "colab": {
          "base_uri": "https://localhost:8080/",
          "height": 35
        },
        "outputId": "3524be25-22dc-40df-bf8d-394617f0ad08"
      },
      "source": [
        "print(time.ctime())"
      ],
      "execution_count": null,
      "outputs": [
        {
          "output_type": "stream",
          "text": [
            "Mon Aug  3 06:56:30 2020\n"
          ],
          "name": "stdout"
        }
      ]
    },
    {
      "cell_type": "markdown",
      "metadata": {
        "id": "HtrUabOMG32E",
        "colab_type": "text"
      },
      "source": [
        "# struc_time returns each of arguements of time"
      ]
    },
    {
      "cell_type": "code",
      "metadata": {
        "id": "g6HztqMLHQd2",
        "colab_type": "code",
        "colab": {
          "base_uri": "https://localhost:8080/",
          "height": 35
        },
        "outputId": "090a9a02-1724-434c-8a5e-4536cbf3ef90"
      },
      "source": [
        "import time\n",
        "t=time.time()\n",
        "print(time.localtime(t))"
      ],
      "execution_count": null,
      "outputs": [
        {
          "output_type": "stream",
          "text": [
            "time.struct_time(tm_year=2020, tm_mon=8, tm_mday=3, tm_hour=6, tm_min=58, tm_sec=31, tm_wday=0, tm_yday=216, tm_isdst=0)\n"
          ],
          "name": "stdout"
        }
      ]
    },
    {
      "cell_type": "code",
      "metadata": {
        "id": "4xIrCibrHVMO",
        "colab_type": "code",
        "colab": {
          "base_uri": "https://localhost:8080/",
          "height": 53
        },
        "outputId": "7fa468ab-7757-4a5e-d2b0-44c935eef777"
      },
      "source": [
        "import time \n",
        "now = time.localtime()\n",
        "print('%d.%d.%d' % (now.tm_year,now.tm_mon,now.tm_mday))\n",
        "print('%d:%d' %(now.tm_hour,now.tm_min))"
      ],
      "execution_count": null,
      "outputs": [
        {
          "output_type": "stream",
          "text": [
            "2020.8.3\n",
            "7:0\n"
          ],
          "name": "stdout"
        }
      ]
    },
    {
      "cell_type": "markdown",
      "metadata": {
        "id": "XCCa9OXGH3gn",
        "colab_type": "text"
      },
      "source": [
        "# now function in datetime brings now local time\n"
      ]
    },
    {
      "cell_type": "code",
      "metadata": {
        "id": "a1uw5czdII4V",
        "colab_type": "code",
        "colab": {
          "base_uri": "https://localhost:8080/",
          "height": 35
        },
        "outputId": "72412738-9c55-4121-e5db-fec2b1b0fa87"
      },
      "source": [
        "import datetime\n",
        "now= datetime.datetime.now()\n",
        "now"
      ],
      "execution_count": null,
      "outputs": [
        {
          "output_type": "execute_result",
          "data": {
            "text/plain": [
              "datetime.datetime(2020, 8, 3, 7, 2, 27, 938293)"
            ]
          },
          "metadata": {
            "tags": []
          },
          "execution_count": 19
        }
      ]
    },
    {
      "cell_type": "code",
      "metadata": {
        "id": "xW4mRm50IN3a",
        "colab_type": "code",
        "colab": {
          "base_uri": "https://localhost:8080/",
          "height": 53
        },
        "outputId": "d8a751f9-3375-4ebe-eca6-f644de447de2"
      },
      "source": [
        "print('%d.%d.%d' % (now.year, now.month, now.day))\n",
        "print('%d : %d : %d' % (now.hour, now.minute, now.second))"
      ],
      "execution_count": null,
      "outputs": [
        {
          "output_type": "stream",
          "text": [
            "2020.8.3\n",
            "7 : 2 : 27\n"
          ],
          "name": "stdout"
        }
      ]
    },
    {
      "cell_type": "markdown",
      "metadata": {
        "id": "fOlSmbN8ITzn",
        "colab_type": "text"
      },
      "source": [
        "# 실행시간 측정"
      ]
    },
    {
      "cell_type": "code",
      "metadata": {
        "id": "OYjMdH_gj3ql",
        "colab_type": "code",
        "colab": {}
      },
      "source": [
        "#time 함수가 구하는 시간은 컴퓨터에 내장된 시계를 기준으로 한다.\n",
        "\n",
        "#시간은 언제나 흘러가고 있어 time 함수를 호출하는 시점에 따라 구해지는 시간이 다르다.\n",
        "\n",
        "#그래서 이것을 이용하여 두 지점 간의 경과 시간을 측정할 수 있다."
      ],
      "execution_count": 1,
      "outputs": []
    },
    {
      "cell_type": "code",
      "metadata": {
        "id": "puqo7UEgkAb7",
        "colab_type": "code",
        "colab": {
          "base_uri": "https://localhost:8080/",
          "height": 1000
        },
        "outputId": "4c419258-6449-40d3-db9f-ed04fcf0a99e"
      },
      "source": [
        "#0에서 999까지 출력하는 데 걸린 시간을 측정한다.\n",
        "import time\n",
        "\n",
        "start=time.time()\n",
        "for a in range(1000):\n",
        "  print(a)\n",
        "end=time.time()\n",
        "print(end-start)\n"
      ],
      "execution_count": 2,
      "outputs": [
        {
          "output_type": "stream",
          "text": [
            "0\n",
            "1\n",
            "2\n",
            "3\n",
            "4\n",
            "5\n",
            "6\n",
            "7\n",
            "8\n",
            "9\n",
            "10\n",
            "11\n",
            "12\n",
            "13\n",
            "14\n",
            "15\n",
            "16\n",
            "17\n",
            "18\n",
            "19\n",
            "20\n",
            "21\n",
            "22\n",
            "23\n",
            "24\n",
            "25\n",
            "26\n",
            "27\n",
            "28\n",
            "29\n",
            "30\n",
            "31\n",
            "32\n",
            "33\n",
            "34\n",
            "35\n",
            "36\n",
            "37\n",
            "38\n",
            "39\n",
            "40\n",
            "41\n",
            "42\n",
            "43\n",
            "44\n",
            "45\n",
            "46\n",
            "47\n",
            "48\n",
            "49\n",
            "50\n",
            "51\n",
            "52\n",
            "53\n",
            "54\n",
            "55\n",
            "56\n",
            "57\n",
            "58\n",
            "59\n",
            "60\n",
            "61\n",
            "62\n",
            "63\n",
            "64\n",
            "65\n",
            "66\n",
            "67\n",
            "68\n",
            "69\n",
            "70\n",
            "71\n",
            "72\n",
            "73\n",
            "74\n",
            "75\n",
            "76\n",
            "77\n",
            "78\n",
            "79\n",
            "80\n",
            "81\n",
            "82\n",
            "83\n",
            "84\n",
            "85\n",
            "86\n",
            "87\n",
            "88\n",
            "89\n",
            "90\n",
            "91\n",
            "92\n",
            "93\n",
            "94\n",
            "95\n",
            "96\n",
            "97\n",
            "98\n",
            "99\n",
            "100\n",
            "101\n",
            "102\n",
            "103\n",
            "104\n",
            "105\n",
            "106\n",
            "107\n",
            "108\n",
            "109\n",
            "110\n",
            "111\n",
            "112\n",
            "113\n",
            "114\n",
            "115\n",
            "116\n",
            "117\n",
            "118\n",
            "119\n",
            "120\n",
            "121\n",
            "122\n",
            "123\n",
            "124\n",
            "125\n",
            "126\n",
            "127\n",
            "128\n",
            "129\n",
            "130\n",
            "131\n",
            "132\n",
            "133\n",
            "134\n",
            "135\n",
            "136\n",
            "137\n",
            "138\n",
            "139\n",
            "140\n",
            "141\n",
            "142\n",
            "143\n",
            "144\n",
            "145\n",
            "146\n",
            "147\n",
            "148\n",
            "149\n",
            "150\n",
            "151\n",
            "152\n",
            "153\n",
            "154\n",
            "155\n",
            "156\n",
            "157\n",
            "158\n",
            "159\n",
            "160\n",
            "161\n",
            "162\n",
            "163\n",
            "164\n",
            "165\n",
            "166\n",
            "167\n",
            "168\n",
            "169\n",
            "170\n",
            "171\n",
            "172\n",
            "173\n",
            "174\n",
            "175\n",
            "176\n",
            "177\n",
            "178\n",
            "179\n",
            "180\n",
            "181\n",
            "182\n",
            "183\n",
            "184\n",
            "185\n",
            "186\n",
            "187\n",
            "188\n",
            "189\n",
            "190\n",
            "191\n",
            "192\n",
            "193\n",
            "194\n",
            "195\n",
            "196\n",
            "197\n",
            "198\n",
            "199\n",
            "200\n",
            "201\n",
            "202\n",
            "203\n",
            "204\n",
            "205\n",
            "206\n",
            "207\n",
            "208\n",
            "209\n",
            "210\n",
            "211\n",
            "212\n",
            "213\n",
            "214\n",
            "215\n",
            "216\n",
            "217\n",
            "218\n",
            "219\n",
            "220\n",
            "221\n",
            "222\n",
            "223\n",
            "224\n",
            "225\n",
            "226\n",
            "227\n",
            "228\n",
            "229\n",
            "230\n",
            "231\n",
            "232\n",
            "233\n",
            "234\n",
            "235\n",
            "236\n",
            "237\n",
            "238\n",
            "239\n",
            "240\n",
            "241\n",
            "242\n",
            "243\n",
            "244\n",
            "245\n",
            "246\n",
            "247\n",
            "248\n",
            "249\n",
            "250\n",
            "251\n",
            "252\n",
            "253\n",
            "254\n",
            "255\n",
            "256\n",
            "257\n",
            "258\n",
            "259\n",
            "260\n",
            "261\n",
            "262\n",
            "263\n",
            "264\n",
            "265\n",
            "266\n",
            "267\n",
            "268\n",
            "269\n",
            "270\n",
            "271\n",
            "272\n",
            "273\n",
            "274\n",
            "275\n",
            "276\n",
            "277\n",
            "278\n",
            "279\n",
            "280\n",
            "281\n",
            "282\n",
            "283\n",
            "284\n",
            "285\n",
            "286\n",
            "287\n",
            "288\n",
            "289\n",
            "290\n",
            "291\n",
            "292\n",
            "293\n",
            "294\n",
            "295\n",
            "296\n",
            "297\n",
            "298\n",
            "299\n",
            "300\n",
            "301\n",
            "302\n",
            "303\n",
            "304\n",
            "305\n",
            "306\n",
            "307\n",
            "308\n",
            "309\n",
            "310\n",
            "311\n",
            "312\n",
            "313\n",
            "314\n",
            "315\n",
            "316\n",
            "317\n",
            "318\n",
            "319\n",
            "320\n",
            "321\n",
            "322\n",
            "323\n",
            "324\n",
            "325\n",
            "326\n",
            "327\n",
            "328\n",
            "329\n",
            "330\n",
            "331\n",
            "332\n",
            "333\n",
            "334\n",
            "335\n",
            "336\n",
            "337\n",
            "338\n",
            "339\n",
            "340\n",
            "341\n",
            "342\n",
            "343\n",
            "344\n",
            "345\n",
            "346\n",
            "347\n",
            "348\n",
            "349\n",
            "350\n",
            "351\n",
            "352\n",
            "353\n",
            "354\n",
            "355\n",
            "356\n",
            "357\n",
            "358\n",
            "359\n",
            "360\n",
            "361\n",
            "362\n",
            "363\n",
            "364\n",
            "365\n",
            "366\n",
            "367\n",
            "368\n",
            "369\n",
            "370\n",
            "371\n",
            "372\n",
            "373\n",
            "374\n",
            "375\n",
            "376\n",
            "377\n",
            "378\n",
            "379\n",
            "380\n",
            "381\n",
            "382\n",
            "383\n",
            "384\n",
            "385\n",
            "386\n",
            "387\n",
            "388\n",
            "389\n",
            "390\n",
            "391\n",
            "392\n",
            "393\n",
            "394\n",
            "395\n",
            "396\n",
            "397\n",
            "398\n",
            "399\n",
            "400\n",
            "401\n",
            "402\n",
            "403\n",
            "404\n",
            "405\n",
            "406\n",
            "407\n",
            "408\n",
            "409\n",
            "410\n",
            "411\n",
            "412\n",
            "413\n",
            "414\n",
            "415\n",
            "416\n",
            "417\n",
            "418\n",
            "419\n",
            "420\n",
            "421\n",
            "422\n",
            "423\n",
            "424\n",
            "425\n",
            "426\n",
            "427\n",
            "428\n",
            "429\n",
            "430\n",
            "431\n",
            "432\n",
            "433\n",
            "434\n",
            "435\n",
            "436\n",
            "437\n",
            "438\n",
            "439\n",
            "440\n",
            "441\n",
            "442\n",
            "443\n",
            "444\n",
            "445\n",
            "446\n",
            "447\n",
            "448\n",
            "449\n",
            "450\n",
            "451\n",
            "452\n",
            "453\n",
            "454\n",
            "455\n",
            "456\n",
            "457\n",
            "458\n",
            "459\n",
            "460\n",
            "461\n",
            "462\n",
            "463\n",
            "464\n",
            "465\n",
            "466\n",
            "467\n",
            "468\n",
            "469\n",
            "470\n",
            "471\n",
            "472\n",
            "473\n",
            "474\n",
            "475\n",
            "476\n",
            "477\n",
            "478\n",
            "479\n",
            "480\n",
            "481\n",
            "482\n",
            "483\n",
            "484\n",
            "485\n",
            "486\n",
            "487\n",
            "488\n",
            "489\n",
            "490\n",
            "491\n",
            "492\n",
            "493\n",
            "494\n",
            "495\n",
            "496\n",
            "497\n",
            "498\n",
            "499\n",
            "500\n",
            "501\n",
            "502\n",
            "503\n",
            "504\n",
            "505\n",
            "506\n",
            "507\n",
            "508\n",
            "509\n",
            "510\n",
            "511\n",
            "512\n",
            "513\n",
            "514\n",
            "515\n",
            "516\n",
            "517\n",
            "518\n",
            "519\n",
            "520\n",
            "521\n",
            "522\n",
            "523\n",
            "524\n",
            "525\n",
            "526\n",
            "527\n",
            "528\n",
            "529\n",
            "530\n",
            "531\n",
            "532\n",
            "533\n",
            "534\n",
            "535\n",
            "536\n",
            "537\n",
            "538\n",
            "539\n",
            "540\n",
            "541\n",
            "542\n",
            "543\n",
            "544\n",
            "545\n",
            "546\n",
            "547\n",
            "548\n",
            "549\n",
            "550\n",
            "551\n",
            "552\n",
            "553\n",
            "554\n",
            "555\n",
            "556\n",
            "557\n",
            "558\n",
            "559\n",
            "560\n",
            "561\n",
            "562\n",
            "563\n",
            "564\n",
            "565\n",
            "566\n",
            "567\n",
            "568\n",
            "569\n",
            "570\n",
            "571\n",
            "572\n",
            "573\n",
            "574\n",
            "575\n",
            "576\n",
            "577\n",
            "578\n",
            "579\n",
            "580\n",
            "581\n",
            "582\n",
            "583\n",
            "584\n",
            "585\n",
            "586\n",
            "587\n",
            "588\n",
            "589\n",
            "590\n",
            "591\n",
            "592\n",
            "593\n",
            "594\n",
            "595\n",
            "596\n",
            "597\n",
            "598\n",
            "599\n",
            "600\n",
            "601\n",
            "602\n",
            "603\n",
            "604\n",
            "605\n",
            "606\n",
            "607\n",
            "608\n",
            "609\n",
            "610\n",
            "611\n",
            "612\n",
            "613\n",
            "614\n",
            "615\n",
            "616\n",
            "617\n",
            "618\n",
            "619\n",
            "620\n",
            "621\n",
            "622\n",
            "623\n",
            "624\n",
            "625\n",
            "626\n",
            "627\n",
            "628\n",
            "629\n",
            "630\n",
            "631\n",
            "632\n",
            "633\n",
            "634\n",
            "635\n",
            "636\n",
            "637\n",
            "638\n",
            "639\n",
            "640\n",
            "641\n",
            "642\n",
            "643\n",
            "644\n",
            "645\n",
            "646\n",
            "647\n",
            "648\n",
            "649\n",
            "650\n",
            "651\n",
            "652\n",
            "653\n",
            "654\n",
            "655\n",
            "656\n",
            "657\n",
            "658\n",
            "659\n",
            "660\n",
            "661\n",
            "662\n",
            "663\n",
            "664\n",
            "665\n",
            "666\n",
            "667\n",
            "668\n",
            "669\n",
            "670\n",
            "671\n",
            "672\n",
            "673\n",
            "674\n",
            "675\n",
            "676\n",
            "677\n",
            "678\n",
            "679\n",
            "680\n",
            "681\n",
            "682\n",
            "683\n",
            "684\n",
            "685\n",
            "686\n",
            "687\n",
            "688\n",
            "689\n",
            "690\n",
            "691\n",
            "692\n",
            "693\n",
            "694\n",
            "695\n",
            "696\n",
            "697\n",
            "698\n",
            "699\n",
            "700\n",
            "701\n",
            "702\n",
            "703\n",
            "704\n",
            "705\n",
            "706\n",
            "707\n",
            "708\n",
            "709\n",
            "710\n",
            "711\n",
            "712\n",
            "713\n",
            "714\n",
            "715\n",
            "716\n",
            "717\n",
            "718\n",
            "719\n",
            "720\n",
            "721\n",
            "722\n",
            "723\n",
            "724\n",
            "725\n",
            "726\n",
            "727\n",
            "728\n",
            "729\n",
            "730\n",
            "731\n",
            "732\n",
            "733\n",
            "734\n",
            "735\n",
            "736\n",
            "737\n",
            "738\n",
            "739\n",
            "740\n",
            "741\n",
            "742\n",
            "743\n",
            "744\n",
            "745\n",
            "746\n",
            "747\n",
            "748\n",
            "749\n",
            "750\n",
            "751\n",
            "752\n",
            "753\n",
            "754\n",
            "755\n",
            "756\n",
            "757\n",
            "758\n",
            "759\n",
            "760\n",
            "761\n",
            "762\n",
            "763\n",
            "764\n",
            "765\n",
            "766\n",
            "767\n",
            "768\n",
            "769\n",
            "770\n",
            "771\n",
            "772\n",
            "773\n",
            "774\n",
            "775\n",
            "776\n",
            "777\n",
            "778\n",
            "779\n",
            "780\n",
            "781\n",
            "782\n",
            "783\n",
            "784\n",
            "785\n",
            "786\n",
            "787\n",
            "788\n",
            "789\n",
            "790\n",
            "791\n",
            "792\n",
            "793\n",
            "794\n",
            "795\n",
            "796\n",
            "797\n",
            "798\n",
            "799\n",
            "800\n",
            "801\n",
            "802\n",
            "803\n",
            "804\n",
            "805\n",
            "806\n",
            "807\n",
            "808\n",
            "809\n",
            "810\n",
            "811\n",
            "812\n",
            "813\n",
            "814\n",
            "815\n",
            "816\n",
            "817\n",
            "818\n",
            "819\n",
            "820\n",
            "821\n",
            "822\n",
            "823\n",
            "824\n",
            "825\n",
            "826\n",
            "827\n",
            "828\n",
            "829\n",
            "830\n",
            "831\n",
            "832\n",
            "833\n",
            "834\n",
            "835\n",
            "836\n",
            "837\n",
            "838\n",
            "839\n",
            "840\n",
            "841\n",
            "842\n",
            "843\n",
            "844\n",
            "845\n",
            "846\n",
            "847\n",
            "848\n",
            "849\n",
            "850\n",
            "851\n",
            "852\n",
            "853\n",
            "854\n",
            "855\n",
            "856\n",
            "857\n",
            "858\n",
            "859\n",
            "860\n",
            "861\n",
            "862\n",
            "863\n",
            "864\n",
            "865\n",
            "866\n",
            "867\n",
            "868\n",
            "869\n",
            "870\n",
            "871\n",
            "872\n",
            "873\n",
            "874\n",
            "875\n",
            "876\n",
            "877\n",
            "878\n",
            "879\n",
            "880\n",
            "881\n",
            "882\n",
            "883\n",
            "884\n",
            "885\n",
            "886\n",
            "887\n",
            "888\n",
            "889\n",
            "890\n",
            "891\n",
            "892\n",
            "893\n",
            "894\n",
            "895\n",
            "896\n",
            "897\n",
            "898\n",
            "899\n",
            "900\n",
            "901\n",
            "902\n",
            "903\n",
            "904\n",
            "905\n",
            "906\n",
            "907\n",
            "908\n",
            "909\n",
            "910\n",
            "911\n",
            "912\n",
            "913\n",
            "914\n",
            "915\n",
            "916\n",
            "917\n",
            "918\n",
            "919\n",
            "920\n",
            "921\n",
            "922\n",
            "923\n",
            "924\n",
            "925\n",
            "926\n",
            "927\n",
            "928\n",
            "929\n",
            "930\n",
            "931\n",
            "932\n",
            "933\n",
            "934\n",
            "935\n",
            "936\n",
            "937\n",
            "938\n",
            "939\n",
            "940\n",
            "941\n",
            "942\n",
            "943\n",
            "944\n",
            "945\n",
            "946\n",
            "947\n",
            "948\n",
            "949\n",
            "950\n",
            "951\n",
            "952\n",
            "953\n",
            "954\n",
            "955\n",
            "956\n",
            "957\n",
            "958\n",
            "959\n",
            "960\n",
            "961\n",
            "962\n",
            "963\n",
            "964\n",
            "965\n",
            "966\n",
            "967\n",
            "968\n",
            "969\n",
            "970\n",
            "971\n",
            "972\n",
            "973\n",
            "974\n",
            "975\n",
            "976\n",
            "977\n",
            "978\n",
            "979\n",
            "980\n",
            "981\n",
            "982\n",
            "983\n",
            "984\n",
            "985\n",
            "986\n",
            "987\n",
            "988\n",
            "989\n",
            "990\n",
            "991\n",
            "992\n",
            "993\n",
            "994\n",
            "995\n",
            "996\n",
            "997\n",
            "998\n",
            "999\n",
            "0.09810900688171387\n"
          ],
          "name": "stdout"
        }
      ]
    },
    {
      "cell_type": "code",
      "metadata": {
        "id": "dvuxr9TjkOlx",
        "colab_type": "code",
        "colab": {}
      },
      "source": [
        "#sleep 함수는 cpu를 지정한 시간만큼 잠재워 아무것도 하지 않고 시간을 끈다. 프로그램은 빠를수록 좋지만 사람이 워낙 느리기 때문에\n",
        "#잠시 대기해야 할 때도 있다. 인수로 초 단위의 값을 주되 소수점 이하의 정밀한 값으로 초 단위보다 더 짧은 시간을 지정할 수도 있다.\n"
      ],
      "execution_count": 3,
      "outputs": []
    },
    {
      "cell_type": "code",
      "metadata": {
        "id": "TZh0bpU-kc-n",
        "colab_type": "code",
        "colab": {
          "base_uri": "https://localhost:8080/",
          "height": 71
        },
        "outputId": "6224e88d-d68f-4541-e010-7fca167a66b7"
      },
      "source": [
        "import time\n",
        "\n",
        "print('안녕하세요')\n",
        "time.sleep(5)\n",
        "print('밤에 성시경이 두 명 있으면 뭘까요?')\n",
        "time.sleep(5)\n",
        "print('야간 투시경 입니다.')"
      ],
      "execution_count": 5,
      "outputs": [
        {
          "output_type": "stream",
          "text": [
            "안녕하세요\n",
            "밤에 성시경이 두 명 있으면 뭘까요?\n",
            "야간 투시경 입니다.\n"
          ],
          "name": "stdout"
        }
      ]
    },
    {
      "cell_type": "code",
      "metadata": {
        "id": "ao9t4ZYKkyYy",
        "colab_type": "code",
        "colab": {
          "base_uri": "https://localhost:8080/",
          "height": 1000
        },
        "outputId": "7a418d04-1a9d-43a1-c177-4cdabc7d8664"
      },
      "source": [
        "import time\n",
        "start=time.time()\n",
        "for dan in range(2,10):\n",
        "  print(dan,'단')\n",
        "  for hang in range(2,10):\n",
        "    print(dan,'x',hang,'=',dan*hang)\n",
        "  print()\n",
        "end=time.time()\n",
        "print(end-start)"
      ],
      "execution_count": 7,
      "outputs": [
        {
          "output_type": "stream",
          "text": [
            "2 단\n",
            "2 x 2 = 4\n",
            "2 x 3 = 6\n",
            "2 x 4 = 8\n",
            "2 x 5 = 10\n",
            "2 x 6 = 12\n",
            "2 x 7 = 14\n",
            "2 x 8 = 16\n",
            "2 x 9 = 18\n",
            "\n",
            "3 단\n",
            "3 x 2 = 6\n",
            "3 x 3 = 9\n",
            "3 x 4 = 12\n",
            "3 x 5 = 15\n",
            "3 x 6 = 18\n",
            "3 x 7 = 21\n",
            "3 x 8 = 24\n",
            "3 x 9 = 27\n",
            "\n",
            "4 단\n",
            "4 x 2 = 8\n",
            "4 x 3 = 12\n",
            "4 x 4 = 16\n",
            "4 x 5 = 20\n",
            "4 x 6 = 24\n",
            "4 x 7 = 28\n",
            "4 x 8 = 32\n",
            "4 x 9 = 36\n",
            "\n",
            "5 단\n",
            "5 x 2 = 10\n",
            "5 x 3 = 15\n",
            "5 x 4 = 20\n",
            "5 x 5 = 25\n",
            "5 x 6 = 30\n",
            "5 x 7 = 35\n",
            "5 x 8 = 40\n",
            "5 x 9 = 45\n",
            "\n",
            "6 단\n",
            "6 x 2 = 12\n",
            "6 x 3 = 18\n",
            "6 x 4 = 24\n",
            "6 x 5 = 30\n",
            "6 x 6 = 36\n",
            "6 x 7 = 42\n",
            "6 x 8 = 48\n",
            "6 x 9 = 54\n",
            "\n",
            "7 단\n",
            "7 x 2 = 14\n",
            "7 x 3 = 21\n",
            "7 x 4 = 28\n",
            "7 x 5 = 35\n",
            "7 x 6 = 42\n",
            "7 x 7 = 49\n",
            "7 x 8 = 56\n",
            "7 x 9 = 63\n",
            "\n",
            "8 단\n",
            "8 x 2 = 16\n",
            "8 x 3 = 24\n",
            "8 x 4 = 32\n",
            "8 x 5 = 40\n",
            "8 x 6 = 48\n",
            "8 x 7 = 56\n",
            "8 x 8 = 64\n",
            "8 x 9 = 72\n",
            "\n",
            "9 단\n",
            "9 x 2 = 18\n",
            "9 x 3 = 27\n",
            "9 x 4 = 36\n",
            "9 x 5 = 45\n",
            "9 x 6 = 54\n",
            "9 x 7 = 63\n",
            "9 x 8 = 72\n",
            "9 x 9 = 81\n",
            "\n",
            "0.013572216033935547\n"
          ],
          "name": "stdout"
        }
      ]
    },
    {
      "cell_type": "markdown",
      "metadata": {
        "id": "R_HJDndOlRA9",
        "colab_type": "text"
      },
      "source": [
        "# 달력\n",
        "\n",
        "calendar 모듈은 유닉스의 cal명령과 유사한 달력 기능을 제공한다.\n",
        "\n",
        "calendar 함수는 인수로 받은 년도의 달력 객체를 리턴하고 month 함수는 년도와 달을 인수로 받아 해당 월의 달력 객체를 리턴한다."
      ]
    },
    {
      "cell_type": "code",
      "metadata": {
        "id": "pd2SIppIlyiX",
        "colab_type": "code",
        "colab": {
          "base_uri": "https://localhost:8080/",
          "height": 827
        },
        "outputId": "19a9638a-0b30-428e-f1f1-c586ef2e8f67"
      },
      "source": [
        "import calendar\n",
        "\n",
        "print(calendar.calendar(2018))\n",
        "print(calendar.month(2019,1))"
      ],
      "execution_count": 8,
      "outputs": [
        {
          "output_type": "stream",
          "text": [
            "                                  2018\n",
            "\n",
            "      January                   February                   March\n",
            "Mo Tu We Th Fr Sa Su      Mo Tu We Th Fr Sa Su      Mo Tu We Th Fr Sa Su\n",
            " 1  2  3  4  5  6  7                1  2  3  4                1  2  3  4\n",
            " 8  9 10 11 12 13 14       5  6  7  8  9 10 11       5  6  7  8  9 10 11\n",
            "15 16 17 18 19 20 21      12 13 14 15 16 17 18      12 13 14 15 16 17 18\n",
            "22 23 24 25 26 27 28      19 20 21 22 23 24 25      19 20 21 22 23 24 25\n",
            "29 30 31                  26 27 28                  26 27 28 29 30 31\n",
            "\n",
            "       April                      May                       June\n",
            "Mo Tu We Th Fr Sa Su      Mo Tu We Th Fr Sa Su      Mo Tu We Th Fr Sa Su\n",
            "                   1          1  2  3  4  5  6                   1  2  3\n",
            " 2  3  4  5  6  7  8       7  8  9 10 11 12 13       4  5  6  7  8  9 10\n",
            " 9 10 11 12 13 14 15      14 15 16 17 18 19 20      11 12 13 14 15 16 17\n",
            "16 17 18 19 20 21 22      21 22 23 24 25 26 27      18 19 20 21 22 23 24\n",
            "23 24 25 26 27 28 29      28 29 30 31               25 26 27 28 29 30\n",
            "30\n",
            "\n",
            "        July                     August                  September\n",
            "Mo Tu We Th Fr Sa Su      Mo Tu We Th Fr Sa Su      Mo Tu We Th Fr Sa Su\n",
            "                   1             1  2  3  4  5                      1  2\n",
            " 2  3  4  5  6  7  8       6  7  8  9 10 11 12       3  4  5  6  7  8  9\n",
            " 9 10 11 12 13 14 15      13 14 15 16 17 18 19      10 11 12 13 14 15 16\n",
            "16 17 18 19 20 21 22      20 21 22 23 24 25 26      17 18 19 20 21 22 23\n",
            "23 24 25 26 27 28 29      27 28 29 30 31            24 25 26 27 28 29 30\n",
            "30 31\n",
            "\n",
            "      October                   November                  December\n",
            "Mo Tu We Th Fr Sa Su      Mo Tu We Th Fr Sa Su      Mo Tu We Th Fr Sa Su\n",
            " 1  2  3  4  5  6  7                1  2  3  4                      1  2\n",
            " 8  9 10 11 12 13 14       5  6  7  8  9 10 11       3  4  5  6  7  8  9\n",
            "15 16 17 18 19 20 21      12 13 14 15 16 17 18      10 11 12 13 14 15 16\n",
            "22 23 24 25 26 27 28      19 20 21 22 23 24 25      17 18 19 20 21 22 23\n",
            "29 30 31                  26 27 28 29 30            24 25 26 27 28 29 30\n",
            "                                                    31\n",
            "\n",
            "    January 2019\n",
            "Mo Tu We Th Fr Sa Su\n",
            "    1  2  3  4  5  6\n",
            " 7  8  9 10 11 12 13\n",
            "14 15 16 17 18 19 20\n",
            "21 22 23 24 25 26 27\n",
            "28 29 30 31\n",
            "\n"
          ],
          "name": "stdout"
        }
      ]
    },
    {
      "cell_type": "code",
      "metadata": {
        "id": "mSNy_PSgmCv5",
        "colab_type": "code",
        "colab": {
          "base_uri": "https://localhost:8080/",
          "height": 809
        },
        "outputId": "b04121c7-01fe-4271-e922-19e3366e1a31"
      },
      "source": [
        "#이렇게 해도 같다\n",
        "calendar.prcal(2018)\n",
        "calendar.prmonth(2019,1)"
      ],
      "execution_count": 9,
      "outputs": [
        {
          "output_type": "stream",
          "text": [
            "                                  2018\n",
            "\n",
            "      January                   February                   March\n",
            "Mo Tu We Th Fr Sa Su      Mo Tu We Th Fr Sa Su      Mo Tu We Th Fr Sa Su\n",
            " 1  2  3  4  5  6  7                1  2  3  4                1  2  3  4\n",
            " 8  9 10 11 12 13 14       5  6  7  8  9 10 11       5  6  7  8  9 10 11\n",
            "15 16 17 18 19 20 21      12 13 14 15 16 17 18      12 13 14 15 16 17 18\n",
            "22 23 24 25 26 27 28      19 20 21 22 23 24 25      19 20 21 22 23 24 25\n",
            "29 30 31                  26 27 28                  26 27 28 29 30 31\n",
            "\n",
            "       April                      May                       June\n",
            "Mo Tu We Th Fr Sa Su      Mo Tu We Th Fr Sa Su      Mo Tu We Th Fr Sa Su\n",
            "                   1          1  2  3  4  5  6                   1  2  3\n",
            " 2  3  4  5  6  7  8       7  8  9 10 11 12 13       4  5  6  7  8  9 10\n",
            " 9 10 11 12 13 14 15      14 15 16 17 18 19 20      11 12 13 14 15 16 17\n",
            "16 17 18 19 20 21 22      21 22 23 24 25 26 27      18 19 20 21 22 23 24\n",
            "23 24 25 26 27 28 29      28 29 30 31               25 26 27 28 29 30\n",
            "30\n",
            "\n",
            "        July                     August                  September\n",
            "Mo Tu We Th Fr Sa Su      Mo Tu We Th Fr Sa Su      Mo Tu We Th Fr Sa Su\n",
            "                   1             1  2  3  4  5                      1  2\n",
            " 2  3  4  5  6  7  8       6  7  8  9 10 11 12       3  4  5  6  7  8  9\n",
            " 9 10 11 12 13 14 15      13 14 15 16 17 18 19      10 11 12 13 14 15 16\n",
            "16 17 18 19 20 21 22      20 21 22 23 24 25 26      17 18 19 20 21 22 23\n",
            "23 24 25 26 27 28 29      27 28 29 30 31            24 25 26 27 28 29 30\n",
            "30 31\n",
            "\n",
            "      October                   November                  December\n",
            "Mo Tu We Th Fr Sa Su      Mo Tu We Th Fr Sa Su      Mo Tu We Th Fr Sa Su\n",
            " 1  2  3  4  5  6  7                1  2  3  4                      1  2\n",
            " 8  9 10 11 12 13 14       5  6  7  8  9 10 11       3  4  5  6  7  8  9\n",
            "15 16 17 18 19 20 21      12 13 14 15 16 17 18      10 11 12 13 14 15 16\n",
            "22 23 24 25 26 27 28      19 20 21 22 23 24 25      17 18 19 20 21 22 23\n",
            "29 30 31                  26 27 28 29 30            24 25 26 27 28 29 30\n",
            "                                                    31\n",
            "\n",
            "    January 2019\n",
            "Mo Tu We Th Fr Sa Su\n",
            "    1  2  3  4  5  6\n",
            " 7  8  9 10 11 12 13\n",
            "14 15 16 17 18 19 20\n",
            "21 22 23 24 25 26 27\n",
            "28 29 30 31\n"
          ],
          "name": "stdout"
        }
      ]
    },
    {
      "cell_type": "code",
      "metadata": {
        "id": "aTKqPTtEmMIs",
        "colab_type": "code",
        "colab": {
          "base_uri": "https://localhost:8080/",
          "height": 665
        },
        "outputId": "e1344bf6-3540-40bb-9be1-e3f470496fef"
      },
      "source": [
        "#유닉스의 달력은 월요일이 제일 첫 칸에 나오도록 되어 있다.\n",
        "\n",
        "#첫 칸의 요일을 바꿀 때는 setfirstweekday 함수로 첫 요일을 지정하되 0이 월요일이고 1이 화요일 이다.\n",
        "\n",
        "#그래서 디폴트를 6으로 바꿔주면 일요일 부터 오게 되어있다.\n",
        "\n",
        "calendar.setfirstweekday(6)\n",
        "calendar.prcal(2020)"
      ],
      "execution_count": 12,
      "outputs": [
        {
          "output_type": "stream",
          "text": [
            "                                  2020\n",
            "\n",
            "      January                   February                   March\n",
            "Su Mo Tu We Th Fr Sa      Su Mo Tu We Th Fr Sa      Su Mo Tu We Th Fr Sa\n",
            "          1  2  3  4                         1       1  2  3  4  5  6  7\n",
            " 5  6  7  8  9 10 11       2  3  4  5  6  7  8       8  9 10 11 12 13 14\n",
            "12 13 14 15 16 17 18       9 10 11 12 13 14 15      15 16 17 18 19 20 21\n",
            "19 20 21 22 23 24 25      16 17 18 19 20 21 22      22 23 24 25 26 27 28\n",
            "26 27 28 29 30 31         23 24 25 26 27 28 29      29 30 31\n",
            "\n",
            "       April                      May                       June\n",
            "Su Mo Tu We Th Fr Sa      Su Mo Tu We Th Fr Sa      Su Mo Tu We Th Fr Sa\n",
            "          1  2  3  4                      1  2          1  2  3  4  5  6\n",
            " 5  6  7  8  9 10 11       3  4  5  6  7  8  9       7  8  9 10 11 12 13\n",
            "12 13 14 15 16 17 18      10 11 12 13 14 15 16      14 15 16 17 18 19 20\n",
            "19 20 21 22 23 24 25      17 18 19 20 21 22 23      21 22 23 24 25 26 27\n",
            "26 27 28 29 30            24 25 26 27 28 29 30      28 29 30\n",
            "                          31\n",
            "\n",
            "        July                     August                  September\n",
            "Su Mo Tu We Th Fr Sa      Su Mo Tu We Th Fr Sa      Su Mo Tu We Th Fr Sa\n",
            "          1  2  3  4                         1             1  2  3  4  5\n",
            " 5  6  7  8  9 10 11       2  3  4  5  6  7  8       6  7  8  9 10 11 12\n",
            "12 13 14 15 16 17 18       9 10 11 12 13 14 15      13 14 15 16 17 18 19\n",
            "19 20 21 22 23 24 25      16 17 18 19 20 21 22      20 21 22 23 24 25 26\n",
            "26 27 28 29 30 31         23 24 25 26 27 28 29      27 28 29 30\n",
            "                          30 31\n",
            "\n",
            "      October                   November                  December\n",
            "Su Mo Tu We Th Fr Sa      Su Mo Tu We Th Fr Sa      Su Mo Tu We Th Fr Sa\n",
            "             1  2  3       1  2  3  4  5  6  7             1  2  3  4  5\n",
            " 4  5  6  7  8  9 10       8  9 10 11 12 13 14       6  7  8  9 10 11 12\n",
            "11 12 13 14 15 16 17      15 16 17 18 19 20 21      13 14 15 16 17 18 19\n",
            "18 19 20 21 22 23 24      22 23 24 25 26 27 28      20 21 22 23 24 25 26\n",
            "25 26 27 28 29 30 31      29 30                     27 28 29 30 31\n",
            "\n"
          ],
          "name": "stdout"
        }
      ]
    },
    {
      "cell_type": "code",
      "metadata": {
        "id": "JHW1Jc6empBM",
        "colab_type": "code",
        "colab": {
          "base_uri": "https://localhost:8080/",
          "height": 35
        },
        "outputId": "1ac5f2f5-8f00-4696-b866-a713d41f67ca"
      },
      "source": [
        "# 요일 찾아보기\n",
        "import calendar as c\n",
        "yoil=['월','화','수','목','금','토','일']\n",
        "day=c.weekday(2020,10,28)\n",
        "print('시현이의 생일은',yoil[day],'요일 입니다.')"
      ],
      "execution_count": 16,
      "outputs": [
        {
          "output_type": "stream",
          "text": [
            "시현이의 생일은 수 요일 입니다.\n"
          ],
          "name": "stdout"
        }
      ]
    },
    {
      "cell_type": "code",
      "metadata": {
        "id": "Ebi2uBkdnb1s",
        "colab_type": "code",
        "colab": {}
      },
      "source": [
        ""
      ],
      "execution_count": null,
      "outputs": []
    }
  ]
}