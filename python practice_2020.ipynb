{
  "nbformat": 4,
  "nbformat_minor": 0,
  "metadata": {
    "kernelspec": {
      "display_name": "Python 3",
      "language": "python",
      "name": "python3"
    },
    "language_info": {
      "codemirror_mode": {
        "name": "ipython",
        "version": 3
      },
      "file_extension": ".py",
      "mimetype": "text/x-python",
      "name": "python",
      "nbconvert_exporter": "python",
      "pygments_lexer": "ipython3",
      "version": "3.7.6"
    },
    "colab": {
      "name": "python practice_2020.ipynb",
      "provenance": [],
      "include_colab_link": true
    }
  },
  "cells": [
    {
      "cell_type": "markdown",
      "metadata": {
        "id": "view-in-github",
        "colab_type": "text"
      },
      "source": [
        "<a href=\"https://colab.research.google.com/github/Ash-Stat/An-Si-Hyun/blob/master/python%20practice_2020.ipynb\" target=\"_parent\"><img src=\"https://colab.research.google.com/assets/colab-badge.svg\" alt=\"Open In Colab\"/></a>"
      ]
    },
    {
      "cell_type": "code",
      "metadata": {
        "id": "HoUuO4BiQgK2",
        "colab_type": "code",
        "colab": {},
        "outputId": "fcd9293b-c98a-409d-f499-fd95de24db1a"
      },
      "source": [
        "#append(요소)는 전달한 요소를 리스트의 끝에 덧붙여 추가한다.\n",
        "#insert(삽입할 위치,요소)는 요소를 삽입할 위치에 삽입한다.\n",
        "nums=[1,2,3,4]\n",
        "nums.append(5)\n",
        "nums.insert(2,99)\n",
        "nums"
      ],
      "execution_count": null,
      "outputs": [
        {
          "output_type": "execute_result",
          "data": {
            "text/plain": [
              "[1, 2, 99, 3, 4, 5]"
            ]
          },
          "metadata": {
            "tags": []
          },
          "execution_count": 1
        }
      ]
    },
    {
      "cell_type": "code",
      "metadata": {
        "id": "lGrPkHigQgLB",
        "colab_type": "code",
        "colab": {},
        "outputId": "c032c9c5-f883-43c3-f5cc-0851132177b1"
      },
      "source": [
        "nums=[1,2,3,4]\n",
        "nums[2:2]=[90,91,92]\n",
        "nums\n",
        "#2번째 자리에서 2번째 자리까지, 끝의 순서는 생략되므로 즉 이동할 거리는 0이다.\n",
        "#따라서 2번째 자리 위치에 90,91,92를 추가하라는 것과 같다.\n"
      ],
      "execution_count": null,
      "outputs": [
        {
          "output_type": "execute_result",
          "data": {
            "text/plain": [
              "[1, 2, 90, 91, 92, 4]"
            ]
          },
          "metadata": {
            "tags": []
          },
          "execution_count": 3
        }
      ]
    },
    {
      "cell_type": "code",
      "metadata": {
        "id": "BSR49N1MQgLJ",
        "colab_type": "code",
        "colab": {},
        "outputId": "86b914b3-5bb9-4fcd-d1a0-8cde0f846c62"
      },
      "source": [
        "nums=[1,2,3,4]\n",
        "nums[2:3]=[90,91,92]\n",
        "nums\n",
        "#2번째 자리부터 세번째 자리까지 90 91 92를 추가하는 것 이다. 따라서\n",
        "#3이라는 요소 대신 1,2,90,91,92,4가 출력된다."
      ],
      "execution_count": null,
      "outputs": [
        {
          "output_type": "execute_result",
          "data": {
            "text/plain": [
              "[1, 2, 90, 91, 92, 4]"
            ]
          },
          "metadata": {
            "tags": []
          },
          "execution_count": 4
        }
      ]
    },
    {
      "cell_type": "code",
      "metadata": {
        "id": "U4YkdWAzQgLO",
        "colab_type": "code",
        "colab": {},
        "outputId": "0d73a94e-acc2-47da-b35e-07cb05f3b30e"
      },
      "source": [
        "nums=[1,2,3,4]\n",
        "nums[2]=[90,91,92]\n",
        "nums\n",
        "#2번째 요소값이 길이 3의 리스트로 대체된다."
      ],
      "execution_count": null,
      "outputs": [
        {
          "output_type": "execute_result",
          "data": {
            "text/plain": [
              "[1, 2, [90, 91, 92], 4]"
            ]
          },
          "metadata": {
            "tags": []
          },
          "execution_count": 5
        }
      ]
    },
    {
      "cell_type": "code",
      "metadata": {
        "id": "rZePDAduQgLR",
        "colab_type": "code",
        "colab": {},
        "outputId": "8d6df876-e8cc-436c-ff6f-ae4b6c4fc7a1"
      },
      "source": [
        "list1=[1,2,3,4,5]\n",
        "list2=[10,11]\n",
        "list1.extend(list2)\n",
        "list1\n",
        "#리스트끼리 병합할때는 extend 메서드를 쓴다."
      ],
      "execution_count": null,
      "outputs": [
        {
          "output_type": "execute_result",
          "data": {
            "text/plain": [
              "[1, 2, 3, 4, 5, 10, 11]"
            ]
          },
          "metadata": {
            "tags": []
          },
          "execution_count": 6
        }
      ]
    },
    {
      "cell_type": "code",
      "metadata": {
        "id": "PeU0XrmyQgLV",
        "colab_type": "code",
        "colab": {},
        "outputId": "ececb1b2-d0aa-41e1-f075-43b7adc0098b"
      },
      "source": [
        "list3=[1,2,3]\n",
        "list4=[5,6]\n",
        "list5=list3+list4\n",
        "list5\n",
        "#즉, +와 extend의 근본적 차이는\n",
        "# +의 경우는 list1의 값을 근본적으로 변화시키지 않고 새로운 list5라는 리스트를 만들어 낸다.\n",
        "# extend의 경우는 list1의 값을 근본적으로 변화시킨다."
      ],
      "execution_count": null,
      "outputs": [
        {
          "output_type": "execute_result",
          "data": {
            "text/plain": [
              "[1, 2, 3, 5, 6]"
            ]
          },
          "metadata": {
            "tags": []
          },
          "execution_count": 7
        }
      ]
    },
    {
      "cell_type": "code",
      "metadata": {
        "id": "kRq24c2KQgLW",
        "colab_type": "code",
        "colab": {},
        "outputId": "52053ccd-dd7c-4427-e468-2d044dc0ffb2"
      },
      "source": [
        "score=[88,95,70,100,99,80,78,50]\n",
        "score.remove(100)\n",
        "#리스트 요소중에서 100을 삭제시킨다.\n",
        "#만약 요소값이 2개이상이면 처음 발견한 값을 삭제 시킨다.\n",
        "print(score)"
      ],
      "execution_count": null,
      "outputs": [
        {
          "output_type": "stream",
          "text": [
            "[88, 95, 70, 99, 80, 78, 50]\n"
          ],
          "name": "stdout"
        }
      ]
    },
    {
      "cell_type": "code",
      "metadata": {
        "id": "cAWi8hdGQgLY",
        "colab_type": "code",
        "colab": {},
        "outputId": "e9461144-a0b4-420d-997e-1587690c8c7b"
      },
      "source": [
        "del(score[2])\n",
        "#리스트 요소중에서 3번째 요소(70)을 삭제 시키는 명령문\n",
        "#del score[2]도 가능하다.\n",
        "score"
      ],
      "execution_count": null,
      "outputs": [
        {
          "output_type": "execute_result",
          "data": {
            "text/plain": [
              "[88, 95, 99, 80, 78, 50]"
            ]
          },
          "metadata": {
            "tags": []
          },
          "execution_count": 9
        }
      ]
    },
    {
      "cell_type": "code",
      "metadata": {
        "id": "BCVAvfR9QgLZ",
        "colab_type": "code",
        "colab": {},
        "outputId": "b6d3b259-8ebc-4f7b-b78f-e95f37132564"
      },
      "source": [
        "score[1:4]=[]\n",
        "score\n",
        "#리스트 요소중에서 2번째 부터 4번째 값(95,99,80)을 빈칸으로 만든다. 즉, 삭제시킨다."
      ],
      "execution_count": null,
      "outputs": [
        {
          "output_type": "execute_result",
          "data": {
            "text/plain": [
              "[88, 78, 50]"
            ]
          },
          "metadata": {
            "tags": []
          },
          "execution_count": 10
        }
      ]
    },
    {
      "cell_type": "code",
      "metadata": {
        "id": "lMSk3Fp9QgLb",
        "colab_type": "code",
        "colab": {},
        "outputId": "8b05f51a-d53f-4318-89dd-7c7cac7b86f4"
      },
      "source": [
        "score=[1,2,3,4,5]\n",
        "score.pop()\n",
        "#pop은 삭제한 요소를 꺼내 리턴시킨다. 첨자를 사용하여 지울 대상을 정한다.\n",
        "#공란이라면 디폴트 값은 -1 (맨 끝자리) 이다."
      ],
      "execution_count": null,
      "outputs": [
        {
          "output_type": "execute_result",
          "data": {
            "text/plain": [
              "5"
            ]
          },
          "metadata": {
            "tags": []
          },
          "execution_count": 13
        }
      ]
    },
    {
      "cell_type": "code",
      "metadata": {
        "id": "oDX8sa3eQgLc",
        "colab_type": "code",
        "colab": {},
        "outputId": "4d79823e-a52c-485c-e6f2-931e472cd88a"
      },
      "source": [
        "score.pop(-1)\n",
        "#위의 명령문으로 5가 삭제되었으니 마지막 순서인 4가 없어지면서 리턴된 결과값"
      ],
      "execution_count": null,
      "outputs": [
        {
          "output_type": "execute_result",
          "data": {
            "text/plain": [
              "4"
            ]
          },
          "metadata": {
            "tags": []
          },
          "execution_count": 14
        }
      ]
    },
    {
      "cell_type": "code",
      "metadata": {
        "id": "SwZN5ZFNQgLd",
        "colab_type": "code",
        "colab": {},
        "outputId": "fb708af9-0021-45f7-c552-75d69b76d253"
      },
      "source": [
        "score.pop(0)\n",
        "score\n",
        "#나머지 값인 1,2,3 중에서 두번째 값을 날려버리고 score을 출력헀으니 1,3이 남는다.\n",
        "#계속 실행하면 점점 지워져서 빈칸이 된다."
      ],
      "execution_count": null,
      "outputs": [
        {
          "output_type": "execute_result",
          "data": {
            "text/plain": [
              "[]"
            ]
          },
          "metadata": {
            "tags": []
          },
          "execution_count": 18
        }
      ]
    },
    {
      "cell_type": "markdown",
      "metadata": {
        "id": "jaboBARuQgLf",
        "colab_type": "text"
      },
      "source": [
        "## 검색"
      ]
    },
    {
      "cell_type": "code",
      "metadata": {
        "id": "EfB1KeUSQgLf",
        "colab_type": "code",
        "colab": {},
        "outputId": "739bd3fb-d156-4aa5-8c6d-086b3c8b8200"
      },
      "source": [
        "score=[88,95,70,100,99,80,78,50]\n",
        "perfect=score.index(100)\n",
        "print('만점 받은 학생은',''+str(perfect)+'번 입니다.')\n",
        "#index메서드로 100의 요소를 가진 위치를 찾는다.\n",
        "#str(변수)를 통해 문자열화 시킨다.\n"
      ],
      "execution_count": null,
      "outputs": [
        {
          "output_type": "stream",
          "text": [
            "만점 받은 학생은 3번 입니다.\n"
          ],
          "name": "stdout"
        }
      ]
    },
    {
      "cell_type": "code",
      "metadata": {
        "id": "M8_jZVNHQgLg",
        "colab_type": "code",
        "colab": {},
        "outputId": "61d23c5f-7192-4639-b16e-a9c8b217e4f8"
      },
      "source": [
        "str(perfect)"
      ],
      "execution_count": null,
      "outputs": [
        {
          "output_type": "execute_result",
          "data": {
            "text/plain": [
              "'3'"
            ]
          },
          "metadata": {
            "tags": []
          },
          "execution_count": 33
        }
      ]
    },
    {
      "cell_type": "code",
      "metadata": {
        "id": "sZgIQI1AQgLh",
        "colab_type": "code",
        "colab": {},
        "outputId": "176d39bb-297d-455c-dfb6-dfafed81e637"
      },
      "source": [
        "print('만점 받은 학생은',str(perfect),'번 입니다.')\n",
        "# +기호 대신 ,로 이렇게 구분해도 똑같다."
      ],
      "execution_count": null,
      "outputs": [
        {
          "output_type": "stream",
          "text": [
            "만점 받은 학생은 3 번 입니다.\n"
          ],
          "name": "stdout"
        }
      ]
    },
    {
      "cell_type": "code",
      "metadata": {
        "id": "9CjOz1JkQgLi",
        "colab_type": "code",
        "colab": {},
        "outputId": "6416e2fc-3830-4032-cd49-b19a6d2e7c73"
      },
      "source": [
        "pernum=score.count(100)\n",
        "print('만점자 수는',str(pernum),'명 입니다.')"
      ],
      "execution_count": null,
      "outputs": [
        {
          "output_type": "stream",
          "text": [
            "만점자 수는 1 명 입니다.\n"
          ],
          "name": "stdout"
        }
      ]
    },
    {
      "cell_type": "code",
      "metadata": {
        "id": "3QwPLszHQgLj",
        "colab_type": "code",
        "colab": {},
        "outputId": "15a89b9b-1a8f-4346-f15e-6917c7952900"
      },
      "source": [
        "score=[88,95,70,100,99,80,78,50]\n",
        "print('학생 수는 %d명 입니다.' % len(score))\n",
        "print('최고 점수는 %d점 입니다.' % max(score))\n",
        "print('최저 점수는 %d점 입니다.' % min(score))\n",
        "#print('%연산자' % len,max,min(요소))"
      ],
      "execution_count": null,
      "outputs": [
        {
          "output_type": "stream",
          "text": [
            "학생 수는 8명 입니다.\n",
            "최고 점수는 100점 입니다.\n",
            "최저 점수는 50점 입니다.\n"
          ],
          "name": "stdout"
        }
      ]
    },
    {
      "cell_type": "code",
      "metadata": {
        "id": "hthOUCkwQgLl",
        "colab_type": "code",
        "colab": {},
        "outputId": "d0ad7a6d-e344-4c95-d78e-6056a5b17c61"
      },
      "source": [
        "#요소가 있는지 검사할때 in 또는 not in을 사용한다.\n",
        "ans=input('결제 하시겠습니까? (yes or not)')\n",
        "if ans in ['yes','y','ok','예','당근']:\n",
        "    print('구입해 주셔서 감사합니다.')\n",
        "else:\n",
        "    print('다음에 또 방문해 주세요.')"
      ],
      "execution_count": null,
      "outputs": [
        {
          "output_type": "stream",
          "text": [
            "결제 하시겠습니까? (yes or not)ㄴㄴ\n",
            "다음에 또 방문해 주세요.\n"
          ],
          "name": "stdout"
        }
      ]
    },
    {
      "cell_type": "code",
      "metadata": {
        "id": "8idpSS2RQgLn",
        "colab_type": "code",
        "colab": {
          "base_uri": "https://localhost:8080/",
          "height": 53
        },
        "outputId": "3d643962-b79f-4869-9446-062508d4326d"
      },
      "source": [
        "ans=input('do you have a girl friend?')\n",
        "if ans in ['yes','y','ok','예','당근']:\n",
        "  print('Awesome!')\n",
        "else:\n",
        "  print('Oh...Im sorry')"
      ],
      "execution_count": 1,
      "outputs": [
        {
          "output_type": "stream",
          "text": [
            "do you have a girl friend?ㄴㄴ\n",
            "Oh...Im sorry\n"
          ],
          "name": "stdout"
        }
      ]
    },
    {
      "cell_type": "code",
      "metadata": {
        "id": "_fB8APHFRKqA",
        "colab_type": "code",
        "colab": {
          "base_uri": "https://localhost:8080/",
          "height": 53
        },
        "outputId": "b435a631-966f-4aeb-9b2d-0dd281fbd119"
      },
      "source": [
        "#sort method arranges the list. In this process, values are arranged \n",
        "#reverse method reverses the order of values.\n",
        "score = [88,95,70,100,99]\n",
        "score.sort()\n",
        "print(score)\n",
        "score.reverse()\n",
        "print(score)"
      ],
      "execution_count": 3,
      "outputs": [
        {
          "output_type": "stream",
          "text": [
            "[70, 88, 95, 99, 100]\n",
            "[100, 99, 95, 88, 70]\n"
          ],
          "name": "stdout"
        }
      ]
    },
    {
      "cell_type": "code",
      "metadata": {
        "id": "491bRK2eTIl8",
        "colab_type": "code",
        "colab": {
          "base_uri": "https://localhost:8080/",
          "height": 35
        },
        "outputId": "890e3523-6cbc-49f9-ff5c-cd1c0a2a494b"
      },
      "source": [
        "#Using the method of sort and reverse\n",
        "score=[4,2,3,5,6,1,8]\n",
        "score.sort(reverse=True)\n",
        "print(score)"
      ],
      "execution_count": 7,
      "outputs": [
        {
          "output_type": "stream",
          "text": [
            "[8, 6, 5, 4, 3, 2, 1]\n"
          ],
          "name": "stdout"
        }
      ]
    },
    {
      "cell_type": "code",
      "metadata": {
        "id": "dBGDdW6ZTkkQ",
        "colab_type": "code",
        "colab": {
          "base_uri": "https://localhost:8080/",
          "height": 35
        },
        "outputId": "d5422abd-4262-4ae8-e046-deb55bca9622"
      },
      "source": [
        "score.sort()\n",
        "print(score)"
      ],
      "execution_count": 8,
      "outputs": [
        {
          "output_type": "stream",
          "text": [
            "[1, 2, 3, 4, 5, 6, 8]\n"
          ],
          "name": "stdout"
        }
      ]
    },
    {
      "cell_type": "code",
      "metadata": {
        "id": "IXMkKQMRTxFZ",
        "colab_type": "code",
        "colab": {
          "base_uri": "https://localhost:8080/",
          "height": 53
        },
        "outputId": "cc57776b-71b1-468a-9b05-05216cd4e195"
      },
      "source": [
        "#key is fuction what compares in sorting the values\n",
        "country = ['Korea','japan','CHINA','america']\n",
        "country.sort()\n",
        "print(country)\n",
        "country.sort(key=str.lower)\n",
        "print(country)\n",
        "# it was changed when use the key not itself"
      ],
      "execution_count": 9,
      "outputs": [
        {
          "output_type": "stream",
          "text": [
            "['CHINA', 'Korea', 'america', 'japan']\n",
            "['america', 'CHINA', 'japan', 'Korea']\n"
          ],
          "name": "stdout"
        }
      ]
    },
    {
      "cell_type": "code",
      "metadata": {
        "id": "d-UzJnf6UxA1",
        "colab_type": "code",
        "colab": {
          "base_uri": "https://localhost:8080/",
          "height": 53
        },
        "outputId": "24c4fae8-ae59-4f65-f298-0b2f2fafbbca"
      },
      "source": [
        "#sorted method is same the sort method but it doesn't change itself, but makes new list by returning\n",
        "score=[88,95,70,100,99]\n",
        "score2=sorted(score)\n",
        "print(score)\n",
        "print(score2)"
      ],
      "execution_count": 10,
      "outputs": [
        {
          "output_type": "stream",
          "text": [
            "[88, 95, 70, 100, 99]\n",
            "[70, 88, 95, 99, 100]\n"
          ],
          "name": "stdout"
        }
      ]
    },
    {
      "cell_type": "code",
      "metadata": {
        "id": "H6kRLikbVcdW",
        "colab_type": "code",
        "colab": {
          "base_uri": "https://localhost:8080/",
          "height": 53
        },
        "outputId": "e4a67e27-e7c4-445e-cc61-7bcd260d0423"
      },
      "source": [
        "#tuple is like list, but it doesn't edit after coding\n",
        "#so tuple is called 'number list' and use (), not []\n",
        "score=(88,95,70,100,99)\n",
        "sum=0\n",
        "for s in score:\n",
        "  sum +=s\n",
        "print('total : ', sum)\n",
        "print('average : ', sum/len(score))"
      ],
      "execution_count": 12,
      "outputs": [
        {
          "output_type": "stream",
          "text": [
            "total :  452\n",
            "average :  90.4\n"
          ],
          "name": "stdout"
        }
      ]
    },
    {
      "cell_type": "code",
      "metadata": {
        "id": "dnmJIl8zWSfC",
        "colab_type": "code",
        "colab": {
          "base_uri": "https://localhost:8080/",
          "height": 53
        },
        "outputId": "1eeb2c15-e86f-4997-8ea6-46573ec6b4bc"
      },
      "source": [
        "#when use only one tuple, it must be appeard by comma\n",
        "#because for distinguishing other values\n",
        "tu=2,\n",
        "value=2\n",
        "print(tu)\n",
        "print(value)\n",
        "#2, means tuple which has one value"
      ],
      "execution_count": 13,
      "outputs": [
        {
          "output_type": "stream",
          "text": [
            "(2,)\n",
            "2\n"
          ],
          "name": "stdout"
        }
      ]
    },
    {
      "cell_type": "code",
      "metadata": {
        "id": "T8c041fJXpx0",
        "colab_type": "code",
        "colab": {
          "base_uri": "https://localhost:8080/",
          "height": 89
        },
        "outputId": "327686c1-4f55-402d-dc42-bcf7b4eb1aaf"
      },
      "source": [
        "#Reading tuple\n",
        "tu=1,2,3,4,5\n",
        "print(tu[3])\n",
        "print(tu[1:4])\n",
        "print(tu + (6,7))\n",
        "print(tu*2)"
      ],
      "execution_count": 14,
      "outputs": [
        {
          "output_type": "stream",
          "text": [
            "4\n",
            "(2, 3, 4)\n",
            "(1, 2, 3, 4, 5, 6, 7)\n",
            "(1, 2, 3, 4, 5, 1, 2, 3, 4, 5)\n"
          ],
          "name": "stdout"
        }
      ]
    },
    {
      "cell_type": "code",
      "metadata": {
        "id": "4Ekgr-_mYKMD",
        "colab_type": "code",
        "colab": {
          "base_uri": "https://localhost:8080/",
          "height": 71
        },
        "outputId": "427908ee-8a4b-480a-b8e0-01b9176d6fdf"
      },
      "source": [
        "#when combinate tuple and tuple\n",
        "tu='ash','garen','riven'\n",
        "frellyord,demasia,exile=tu\n",
        "print(frellyord)\n",
        "print(demasia)\n",
        "print(exile)"
      ],
      "execution_count": 16,
      "outputs": [
        {
          "output_type": "stream",
          "text": [
            "ash\n",
            "garen\n",
            "riven\n"
          ],
          "name": "stdout"
        }
      ]
    },
    {
      "cell_type": "code",
      "metadata": {
        "id": "vRlWq9LIYvd7",
        "colab_type": "code",
        "colab": {
          "base_uri": "https://localhost:8080/",
          "height": 53
        },
        "outputId": "a3561eac-6884-42ff-aa70-f19bc90223d9"
      },
      "source": [
        "a,b=12,34\n",
        "print(a,b)\n",
        "a,b=b,a\n",
        "print(a,b)"
      ],
      "execution_count": 17,
      "outputs": [
        {
          "output_type": "stream",
          "text": [
            "12 34\n",
            "34 12\n"
          ],
          "name": "stdout"
        }
      ]
    },
    {
      "cell_type": "code",
      "metadata": {
        "id": "dAImA-aUZD44",
        "colab_type": "code",
        "colab": {
          "base_uri": "https://localhost:8080/",
          "height": 35
        },
        "outputId": "41f1d8ba-6dad-4524-f5c5-325ee47d6262"
      },
      "source": [
        "import time\n",
        "def gettime():\n",
        "  now = time.localtime()\n",
        "  return now.tm_hour, now.tm_min\n",
        "\n",
        "result=gettime()\n",
        "print('time is %d : %d' % (result[0],result[1]))"
      ],
      "execution_count": 26,
      "outputs": [
        {
          "output_type": "stream",
          "text": [
            "time is 11 : 53\n"
          ],
          "name": "stdout"
        }
      ]
    },
    {
      "cell_type": "code",
      "metadata": {
        "id": "U8SKdEm0Zo4T",
        "colab_type": "code",
        "colab": {
          "base_uri": "https://localhost:8080/",
          "height": 53
        },
        "outputId": "ce5719be-640d-4808-83ab-8edb1c9f6705"
      },
      "source": [
        "#divmod function returns the result of quotient and remainder in tuple\n",
        "d,m=divmod(7,3)\n",
        "print('quotient is', d)\n",
        "print('remainder is ', m)"
      ],
      "execution_count": 27,
      "outputs": [
        {
          "output_type": "stream",
          "text": [
            "quotient is 2\n",
            "remainder is  1\n"
          ],
          "name": "stdout"
        }
      ]
    },
    {
      "cell_type": "code",
      "metadata": {
        "id": "UPUSRH4Ab13r",
        "colab_type": "code",
        "colab": {
          "base_uri": "https://localhost:8080/",
          "height": 53
        },
        "outputId": "06ebfa35-c9f7-4232-8895-347e51b78e82"
      },
      "source": [
        "#why use the tuple?\n",
        "#in fact, list have an all function of tuple. but list is changeable. thus it takes more memories and slow speed than tuple\n",
        "#tuple is unchangeable. so tuple is more simple and has fast speed in reading than list\n",
        "#also tuple is safe because of uneditable feature that makes no mistakes\n",
        "#the method of converting tuple to list or otherwise\n",
        "socre=[88,95,70,100,99]\n",
        "tu=tuple(score)\n",
        "print(tu)\n",
        "li=list(tu)\n",
        "li[0]=100\n",
        "print(li)"
      ],
      "execution_count": 29,
      "outputs": [
        {
          "output_type": "stream",
          "text": [
            "(88, 95, 70, 100, 99)\n",
            "[100, 95, 70, 100, 99]\n"
          ],
          "name": "stdout"
        }
      ]
    },
    {
      "cell_type": "code",
      "metadata": {
        "id": "joEUl9umd9qt",
        "colab_type": "code",
        "colab": {}
      },
      "source": [
        ""
      ],
      "execution_count": null,
      "outputs": []
    }
  ]
}