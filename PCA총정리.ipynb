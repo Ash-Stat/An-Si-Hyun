{
  "nbformat": 4,
  "nbformat_minor": 0,
  "metadata": {
    "colab": {
      "name": "Untitled19.ipynb",
      "provenance": [],
      "authorship_tag": "ABX9TyONGfbb7HYHsKgWKSNGZuPI",
      "include_colab_link": true
    },
    "kernelspec": {
      "name": "python3",
      "display_name": "Python 3"
    }
  },
  "cells": [
    {
      "cell_type": "markdown",
      "metadata": {
        "id": "view-in-github",
        "colab_type": "text"
      },
      "source": [
        "<a href=\"https://colab.research.google.com/github/Ash-Stat/An-Si-Hyun/blob/data/PCA%EC%B4%9D%EC%A0%95%EB%A6%AC.ipynb\" target=\"_parent\"><img src=\"https://colab.research.google.com/assets/colab-badge.svg\" alt=\"Open In Colab\"/></a>"
      ]
    },
    {
      "cell_type": "code",
      "metadata": {
        "id": "xFMI1XG4lO9Q"
      },
      "source": [
        "#PCA실험\n",
        "import pandas as pd\n",
        "import numpy as np"
      ],
      "execution_count": 55,
      "outputs": []
    },
    {
      "cell_type": "code",
      "metadata": {
        "id": "NsnuwRniljIU",
        "outputId": "1847a990-15d9-444e-dfdb-6579e39e73f9",
        "colab": {
          "base_uri": "https://localhost:8080/",
          "height": 235
        }
      },
      "source": [
        "a=pd.Series([5,5,4,2,3,4],index=np.arange(0,6))\n",
        "b=pd.Series([2,2,3,4,5,6],index=np.arange(0,6))\n",
        "c=pd.Series([4,4,4,4,4,3],index=np.arange(0,6))\n",
        "d=pd.DataFrame({'예능' : a, '영화' : b, '아이돌' : c})\n",
        "d"
      ],
      "execution_count": 56,
      "outputs": [
        {
          "output_type": "execute_result",
          "data": {
            "text/html": [
              "<div>\n",
              "<style scoped>\n",
              "    .dataframe tbody tr th:only-of-type {\n",
              "        vertical-align: middle;\n",
              "    }\n",
              "\n",
              "    .dataframe tbody tr th {\n",
              "        vertical-align: top;\n",
              "    }\n",
              "\n",
              "    .dataframe thead th {\n",
              "        text-align: right;\n",
              "    }\n",
              "</style>\n",
              "<table border=\"1\" class=\"dataframe\">\n",
              "  <thead>\n",
              "    <tr style=\"text-align: right;\">\n",
              "      <th></th>\n",
              "      <th>예능</th>\n",
              "      <th>영화</th>\n",
              "      <th>아이돌</th>\n",
              "    </tr>\n",
              "  </thead>\n",
              "  <tbody>\n",
              "    <tr>\n",
              "      <th>0</th>\n",
              "      <td>5</td>\n",
              "      <td>2</td>\n",
              "      <td>4</td>\n",
              "    </tr>\n",
              "    <tr>\n",
              "      <th>1</th>\n",
              "      <td>5</td>\n",
              "      <td>2</td>\n",
              "      <td>4</td>\n",
              "    </tr>\n",
              "    <tr>\n",
              "      <th>2</th>\n",
              "      <td>4</td>\n",
              "      <td>3</td>\n",
              "      <td>4</td>\n",
              "    </tr>\n",
              "    <tr>\n",
              "      <th>3</th>\n",
              "      <td>2</td>\n",
              "      <td>4</td>\n",
              "      <td>4</td>\n",
              "    </tr>\n",
              "    <tr>\n",
              "      <th>4</th>\n",
              "      <td>3</td>\n",
              "      <td>5</td>\n",
              "      <td>4</td>\n",
              "    </tr>\n",
              "    <tr>\n",
              "      <th>5</th>\n",
              "      <td>4</td>\n",
              "      <td>6</td>\n",
              "      <td>3</td>\n",
              "    </tr>\n",
              "  </tbody>\n",
              "</table>\n",
              "</div>"
            ],
            "text/plain": [
              "   예능  영화  아이돌\n",
              "0   5   2    4\n",
              "1   5   2    4\n",
              "2   4   3    4\n",
              "3   2   4    4\n",
              "4   3   5    4\n",
              "5   4   6    3"
            ]
          },
          "metadata": {
            "tags": []
          },
          "execution_count": 56
        }
      ]
    },
    {
      "cell_type": "code",
      "metadata": {
        "id": "N482cdJKlVIG"
      },
      "source": [
        "#사이킷런의 PCA는 표준화를 해야만 값이 정확하다.\n",
        "from sklearn.decomposition import PCA\n",
        "pca=PCA() #요인개수 설정안하면 변수 갯수만큼의 축을 설정해줌\n",
        "pca_result=pca.fit_transform(scaler_result)\n"
      ],
      "execution_count": 83,
      "outputs": []
    },
    {
      "cell_type": "code",
      "metadata": {
        "id": "sMMbSjvdoGnS",
        "outputId": "ddf7117a-e961-4fc5-d9f7-9e8aca75188c",
        "colab": {
          "base_uri": "https://localhost:8080/"
        }
      },
      "source": [
        "print(' pc스코어 :\\n', pca_result)\n",
        "\n",
        "#1행의 1열은 첫번째 축 * 첫번째 변수들 이다.\n",
        "\n",
        "#축이 두개고 변수의 개수가 6개이니까 총 PC스코어는 12개"
      ],
      "execution_count": 84,
      "outputs": [
        {
          "output_type": "stream",
          "text": [
            " pc스코어 :\n",
            " [[-1.51292742 -0.59624575 -0.02575977]\n",
            " [-1.51292742 -0.59624575 -0.02575977]\n",
            " [-0.6342218   0.14849464  0.01011423]\n",
            " [ 0.64000431  1.62624713 -0.38332007]\n",
            " [ 0.72766898  0.90496335  0.51117051]\n",
            " [ 2.29240335 -1.48721362 -0.08644512]]\n"
          ],
          "name": "stdout"
        }
      ]
    },
    {
      "cell_type": "code",
      "metadata": {
        "id": "eYjLwT26oNMM",
        "outputId": "44380c87-5fec-41b6-e4c3-581abb5f383a",
        "colab": {
          "base_uri": "https://localhost:8080/",
          "height": 142
        }
      },
      "source": [
        "pca.components_ #고유값 벡터 \n",
        "vector_mat=pd.DataFrame(pca.components_)\n",
        "vector_mat\n",
        "\n",
        "#가로가 축이다. 즉, \n",
        "#첫 번째 주성분은 -0.422094* x11 -0.720290 * x12 -0.550471 * x13 = P11이 되는 것이다  ( 첫번째 주성분의 첫 번째 객체의 PC점수)"
      ],
      "execution_count": 85,
      "outputs": [
        {
          "output_type": "execute_result",
          "data": {
            "text/html": [
              "<div>\n",
              "<style scoped>\n",
              "    .dataframe tbody tr th:only-of-type {\n",
              "        vertical-align: middle;\n",
              "    }\n",
              "\n",
              "    .dataframe tbody tr th {\n",
              "        vertical-align: top;\n",
              "    }\n",
              "\n",
              "    .dataframe thead th {\n",
              "        text-align: right;\n",
              "    }\n",
              "</style>\n",
              "<table border=\"1\" class=\"dataframe\">\n",
              "  <thead>\n",
              "    <tr style=\"text-align: right;\">\n",
              "      <th></th>\n",
              "      <th>0</th>\n",
              "      <th>1</th>\n",
              "      <th>2</th>\n",
              "    </tr>\n",
              "  </thead>\n",
              "  <tbody>\n",
              "    <tr>\n",
              "      <th>0</th>\n",
              "      <td>-0.422094</td>\n",
              "      <td>0.720290</td>\n",
              "      <td>-0.550471</td>\n",
              "    </tr>\n",
              "    <tr>\n",
              "      <th>1</th>\n",
              "      <td>-0.782261</td>\n",
              "      <td>0.017484</td>\n",
              "      <td>0.622705</td>\n",
              "    </tr>\n",
              "    <tr>\n",
              "      <th>2</th>\n",
              "      <td>0.458152</td>\n",
              "      <td>0.693453</td>\n",
              "      <td>0.556075</td>\n",
              "    </tr>\n",
              "  </tbody>\n",
              "</table>\n",
              "</div>"
            ],
            "text/plain": [
              "          0         1         2\n",
              "0 -0.422094  0.720290 -0.550471\n",
              "1 -0.782261  0.017484  0.622705\n",
              "2  0.458152  0.693453  0.556075"
            ]
          },
          "metadata": {
            "tags": []
          },
          "execution_count": 85
        }
      ]
    },
    {
      "cell_type": "code",
      "metadata": {
        "id": "rqg8MUBXtyu9",
        "outputId": "5f7c5ea3-84da-4280-c2e8-035f32b79655",
        "colab": {
          "base_uri": "https://localhost:8080/"
        }
      },
      "source": [
        "from sklearn.preprocessing import StandardScaler\n",
        "scaler=StandardScaler()\n",
        "scaler_result=scaler.fit_transform(d)\n",
        "scaler_result"
      ],
      "execution_count": 86,
      "outputs": [
        {
          "output_type": "execute_result",
          "data": {
            "text/plain": [
              "array([[ 1.09321633, -1.11803399,  0.4472136 ],\n",
              "       [ 1.09321633, -1.11803399,  0.4472136 ],\n",
              "       [ 0.15617376, -0.4472136 ,  0.4472136 ],\n",
              "       [-1.71791138,  0.2236068 ,  0.4472136 ],\n",
              "       [-0.78086881,  0.89442719,  0.4472136 ],\n",
              "       [ 0.15617376,  1.56524758, -2.23606798]])"
            ]
          },
          "metadata": {
            "tags": []
          },
          "execution_count": 86
        }
      ]
    },
    {
      "cell_type": "code",
      "metadata": {
        "id": "vykTKMn0ry-7",
        "outputId": "a27392f9-5e36-49b8-98cd-b7e0d9429261",
        "colab": {
          "base_uri": "https://localhost:8080/"
        }
      },
      "source": [
        "-0.782261*1.09321633+( -1.11803399*0.017484)+(0.622705*0.4472136)"
      ],
      "execution_count": 87,
      "outputs": [
        {
          "output_type": "execute_result",
          "data": {
            "text/plain": [
              "-0.59624606101529"
            ]
          },
          "metadata": {
            "tags": []
          },
          "execution_count": 87
        }
      ]
    },
    {
      "cell_type": "code",
      "metadata": {
        "id": "ezf2aZq2orzT",
        "outputId": "3d97ebc9-d754-4125-88bb-0f32d70a7b1a",
        "colab": {
          "base_uri": "https://localhost:8080/"
        }
      },
      "source": [
        "pca.explained_variance_ #설명력 정도"
      ],
      "execution_count": 89,
      "outputs": [
        {
          "output_type": "execute_result",
          "data": {
            "text/plain": [
              "array([2.23487137, 1.28170228, 0.08342635])"
            ]
          },
          "metadata": {
            "tags": []
          },
          "execution_count": 89
        }
      ]
    },
    {
      "cell_type": "code",
      "metadata": {
        "id": "uDn2OierovLr",
        "outputId": "bd04e5e8-dd8a-4790-cabf-7d131322837a",
        "colab": {
          "base_uri": "https://localhost:8080/"
        }
      },
      "source": [
        "pca.explained_variance_ratio_ #설명력 비율"
      ],
      "execution_count": 90,
      "outputs": [
        {
          "output_type": "execute_result",
          "data": {
            "text/plain": [
              "array([0.6207976 , 0.35602841, 0.02317399])"
            ]
          },
          "metadata": {
            "tags": []
          },
          "execution_count": 90
        }
      ]
    },
    {
      "cell_type": "code",
      "metadata": {
        "id": "DLYGfnDRqaw6",
        "outputId": "cdefdd40-f0f9-45b0-a004-65aa6ced73da",
        "colab": {
          "base_uri": "https://localhost:8080/"
        }
      },
      "source": [
        "1.28170228/(2.23487137+1.28170228+0.08342635) #즉, explained_variance가 람다값이 되는 것 이다."
      ],
      "execution_count": 93,
      "outputs": [
        {
          "output_type": "execute_result",
          "data": {
            "text/plain": [
              "0.35602841111111116"
            ]
          },
          "metadata": {
            "tags": []
          },
          "execution_count": 93
        }
      ]
    },
    {
      "cell_type": "code",
      "metadata": {
        "id": "25ieLMfZweer",
        "outputId": "badae685-6f58-4c71-f90b-f26d44b2dade",
        "colab": {
          "base_uri": "https://localhost:8080/"
        }
      },
      "source": [
        ""
      ],
      "execution_count": 92,
      "outputs": [
        {
          "output_type": "execute_result",
          "data": {
            "text/plain": [
              "0.9768260099999999"
            ]
          },
          "metadata": {
            "tags": []
          },
          "execution_count": 92
        }
      ]
    },
    {
      "cell_type": "code",
      "metadata": {
        "id": "d8gVhbzjwzhI"
      },
      "source": [
        ""
      ],
      "execution_count": null,
      "outputs": []
    }
  ]
}