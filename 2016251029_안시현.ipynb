{
  "nbformat": 4,
  "nbformat_minor": 0,
  "metadata": {
    "colab": {
      "name": "2016251029_안시현.ipynb",
      "provenance": [],
      "authorship_tag": "ABX9TyNK90n4iV0cwqMBIeJWFmuo",
      "include_colab_link": true
    },
    "kernelspec": {
      "name": "python3",
      "display_name": "Python 3"
    },
    "language_info": {
      "name": "python"
    }
  },
  "cells": [
    {
      "cell_type": "markdown",
      "metadata": {
        "id": "view-in-github",
        "colab_type": "text"
      },
      "source": [
        "<a href=\"https://colab.research.google.com/github/Ash-Stat/An-Si-Hyun/blob/data/2016251029_%EC%95%88%EC%8B%9C%ED%98%84.ipynb\" target=\"_parent\"><img src=\"https://colab.research.google.com/assets/colab-badge.svg\" alt=\"Open In Colab\"/></a>"
      ]
    },
    {
      "cell_type": "markdown",
      "metadata": {
        "id": "p7OCH5Iwzu57"
      },
      "source": [
        "# 시계열 분석과제\n",
        "## 정보통계학과 2016251029 안시현\n"
      ]
    },
    {
      "cell_type": "code",
      "metadata": {
        "id": "xV0AzQHG05vi"
      },
      "source": [
        "import pandas as pd # 데이터프레임 핸들링하기 위한 모듈 임포트\n",
        "import numpy as np # 수학, 과학 계산을 위한 모듈 임포트\n",
        "import matplotlib.pyplot as plt # 시각화 모듈 임포트\n",
        "import seaborn as sns # 시각화 모듈 임포트"
      ],
      "execution_count": 98,
      "outputs": []
    },
    {
      "cell_type": "markdown",
      "metadata": {
        "id": "n2gm6zrFz1UK"
      },
      "source": [
        "# 1. 어느 제품에 대한 반품 개수에 대한 자료이다. R프로그램을 이용하여 질문에 답하시오."
      ]
    },
    {
      "cell_type": "markdown",
      "metadata": {
        "id": "6sEj6go9z63P"
      },
      "source": [
        "반품개수 = 22, 23, 39, 37, 38, 47, 43, 49, 61, 63\n",
        "\n",
        "1) 주어진 자료를 입력하여 ‘return’ 변수로 할당하시오."
      ]
    },
    {
      "cell_type": "code",
      "metadata": {
        "colab": {
          "base_uri": "https://localhost:8080/",
          "height": 0
        },
        "id": "fjqQIEouzXIi",
        "outputId": "9fe94a9d-ff73-4ffc-8857-4d904f17d0b7"
      },
      "source": [
        "retunn = [22,23,39,37,38,47,43,49,61,63] # return이라는 단어는 파이썬에서 arguement가 이미 할당되어 있기 때문에 retunn으로 한다.\n",
        "retunn"
      ],
      "execution_count": 99,
      "outputs": [
        {
          "output_type": "execute_result",
          "data": {
            "text/plain": [
              "[22, 23, 39, 37, 38, 47, 43, 49, 61, 63]"
            ]
          },
          "metadata": {
            "tags": []
          },
          "execution_count": 99
        }
      ]
    },
    {
      "cell_type": "markdown",
      "metadata": {
        "id": "fMdnzS250S9d"
      },
      "source": [
        "2) ‘return’ 데이터를 시계열 자료 형태로 변환하시오."
      ]
    },
    {
      "cell_type": "code",
      "metadata": {
        "colab": {
          "base_uri": "https://localhost:8080/",
          "height": 343
        },
        "id": "yKc1q0qf0Bbn",
        "outputId": "725b6eb3-0d61-4ca0-cb47-580706d3ec1e"
      },
      "source": [
        "retunn=pd.DataFrame(retunn) # 컬럼명이 return이라는 데이터 프레임으로 만들기\n",
        "retunn.columns=['return'] # 파이썬은 제로베이스라서 0 부터 시작함\n",
        "retunn"
      ],
      "execution_count": 101,
      "outputs": [
        {
          "output_type": "execute_result",
          "data": {
            "text/html": [
              "<div>\n",
              "<style scoped>\n",
              "    .dataframe tbody tr th:only-of-type {\n",
              "        vertical-align: middle;\n",
              "    }\n",
              "\n",
              "    .dataframe tbody tr th {\n",
              "        vertical-align: top;\n",
              "    }\n",
              "\n",
              "    .dataframe thead th {\n",
              "        text-align: right;\n",
              "    }\n",
              "</style>\n",
              "<table border=\"1\" class=\"dataframe\">\n",
              "  <thead>\n",
              "    <tr style=\"text-align: right;\">\n",
              "      <th></th>\n",
              "      <th>return</th>\n",
              "    </tr>\n",
              "  </thead>\n",
              "  <tbody>\n",
              "    <tr>\n",
              "      <th>0</th>\n",
              "      <td>22</td>\n",
              "    </tr>\n",
              "    <tr>\n",
              "      <th>1</th>\n",
              "      <td>23</td>\n",
              "    </tr>\n",
              "    <tr>\n",
              "      <th>2</th>\n",
              "      <td>39</td>\n",
              "    </tr>\n",
              "    <tr>\n",
              "      <th>3</th>\n",
              "      <td>37</td>\n",
              "    </tr>\n",
              "    <tr>\n",
              "      <th>4</th>\n",
              "      <td>38</td>\n",
              "    </tr>\n",
              "    <tr>\n",
              "      <th>5</th>\n",
              "      <td>47</td>\n",
              "    </tr>\n",
              "    <tr>\n",
              "      <th>6</th>\n",
              "      <td>43</td>\n",
              "    </tr>\n",
              "    <tr>\n",
              "      <th>7</th>\n",
              "      <td>49</td>\n",
              "    </tr>\n",
              "    <tr>\n",
              "      <th>8</th>\n",
              "      <td>61</td>\n",
              "    </tr>\n",
              "    <tr>\n",
              "      <th>9</th>\n",
              "      <td>63</td>\n",
              "    </tr>\n",
              "  </tbody>\n",
              "</table>\n",
              "</div>"
            ],
            "text/plain": [
              "   return\n",
              "0      22\n",
              "1      23\n",
              "2      39\n",
              "3      37\n",
              "4      38\n",
              "5      47\n",
              "6      43\n",
              "7      49\n",
              "8      61\n",
              "9      63"
            ]
          },
          "metadata": {
            "tags": []
          },
          "execution_count": 101
        }
      ]
    },
    {
      "cell_type": "markdown",
      "metadata": {
        "id": "6Dy0ZvvD1GfA"
      },
      "source": [
        "3) 생성된 시계열 자료 ‘return’을 이용하여 시계열 그래프를 그리시오."
      ]
    },
    {
      "cell_type": "code",
      "metadata": {
        "colab": {
          "base_uri": "https://localhost:8080/",
          "height": 282
        },
        "id": "Y6rLrKvo0xMS",
        "outputId": "50c10ca9-f334-4228-d454-c90ac951742e"
      },
      "source": [
        "plt.plot(retunn,'-*')"
      ],
      "execution_count": 15,
      "outputs": [
        {
          "output_type": "execute_result",
          "data": {
            "text/plain": [
              "[<matplotlib.lines.Line2D at 0x7f2ed7f1e190>]"
            ]
          },
          "metadata": {
            "tags": []
          },
          "execution_count": 15
        },
        {
          "output_type": "display_data",
          "data": {
            "image/png": "[encoded data removed]",
            "text/plain": [
              "<Figure size 432x288 with 1 Axes>"
            ]
          },
          "metadata": {
            "tags": [],
            "needs_background": "light"
          }
        }
      ]
    },
    {
      "cell_type": "markdown",
      "metadata": {
        "id": "3r2BEYaB1kz9"
      },
      "source": [
        "# 2. ‘kings.txt’는 영국 왕들의 수명에 대한자료이다. R프로그램을 이용하여 질문에 답하시오.\n",
        "1) 시계열 분석 실습 데이터의 ‘kings.txt’ 자료를 R로 불러온 후 ‘kings’ 변수로 할당하시오."
      ]
    },
    {
      "cell_type": "code",
      "metadata": {
        "colab": {
          "base_uri": "https://localhost:8080/",
          "height": 84
        },
        "id": "kN_0jadR1MQC",
        "outputId": "db9bf448-5699-40c9-b899-0acd74c334fc"
      },
      "source": [
        "kings=pd.read_csv('./kings.txt', sep=' ') # 데이터파일 불러오기, sep=' ' 은 띄어쓰기로 데이터를 구분한다는 뜻이다.\n",
        "kings"
      ],
      "execution_count": 102,
      "outputs": [
        {
          "output_type": "execute_result",
          "data": {
            "text/html": [
              "<div>\n",
              "<style scoped>\n",
              "    .dataframe tbody tr th:only-of-type {\n",
              "        vertical-align: middle;\n",
              "    }\n",
              "\n",
              "    .dataframe tbody tr th {\n",
              "        vertical-align: top;\n",
              "    }\n",
              "\n",
              "    .dataframe thead th {\n",
              "        text-align: right;\n",
              "    }\n",
              "</style>\n",
              "<table border=\"1\" class=\"dataframe\">\n",
              "  <thead>\n",
              "    <tr style=\"text-align: right;\">\n",
              "      <th></th>\n",
              "      <th>Unnamed: 0</th>\n",
              "      <th>60</th>\n",
              "      <th>43</th>\n",
              "      <th>67</th>\n",
              "      <th>50</th>\n",
              "      <th>56</th>\n",
              "      <th>42</th>\n",
              "      <th>50.1</th>\n",
              "      <th>65</th>\n",
              "      <th>68</th>\n",
              "      <th>43.1</th>\n",
              "      <th>65.1</th>\n",
              "      <th>34</th>\n",
              "      <th>47</th>\n",
              "      <th>34.1</th>\n",
              "      <th>49</th>\n",
              "      <th>41</th>\n",
              "      <th>13</th>\n",
              "      <th>35</th>\n",
              "      <th>53</th>\n",
              "      <th>56.1</th>\n",
              "      <th>16</th>\n",
              "      <th>43.2</th>\n",
              "      <th>69</th>\n",
              "      <th>59</th>\n",
              "      <th>48</th>\n",
              "      <th>59.1</th>\n",
              "      <th>86</th>\n",
              "      <th>55</th>\n",
              "      <th>68.1</th>\n",
              "      <th>51</th>\n",
              "      <th>33</th>\n",
              "      <th>49.1</th>\n",
              "      <th>67.1</th>\n",
              "      <th>77</th>\n",
              "      <th>81</th>\n",
              "      <th>67.2</th>\n",
              "      <th>71</th>\n",
              "      <th>81.1</th>\n",
              "      <th>68.2</th>\n",
              "      <th>70</th>\n",
              "      <th>77.1</th>\n",
              "      <th>56.2</th>\n",
              "    </tr>\n",
              "  </thead>\n",
              "  <tbody>\n",
              "  </tbody>\n",
              "</table>\n",
              "</div>"
            ],
            "text/plain": [
              "Empty DataFrame\n",
              "Columns: [Unnamed: 0, 60, 43, 67, 50, 56, 42, 50.1, 65, 68, 43.1, 65.1, 34, 47, 34.1, 49, 41, 13, 35, 53, 56.1, 16, 43.2, 69, 59, 48, 59.1, 86, 55, 68.1, 51, 33, 49.1, 67.1, 77, 81, 67.2, 71, 81.1, 68.2, 70, 77.1, 56.2]\n",
              "Index: []"
            ]
          },
          "metadata": {
            "tags": []
          },
          "execution_count": 102
        }
      ]
    },
    {
      "cell_type": "markdown",
      "metadata": {
        "id": "LiTIlqAO16Se"
      },
      "source": [
        "2) ‘kings’ 데이터를 시계열 자료 형태로 변환하시오."
      ]
    },
    {
      "cell_type": "code",
      "metadata": {
        "colab": {
          "base_uri": "https://localhost:8080/",
          "height": 1290
        },
        "id": "IL_wjHi61z4N",
        "outputId": "967d65fe-343e-4bd4-82a3-8eb2cf67f048"
      },
      "source": [
        "kings=kings.T # 데이터 행 전치 및 불러온 데이터를 데이터 프레임으로 만들기 위한 작업\n",
        "kings=kings.reset_index() \n",
        "kings=kings.drop([0],axis=0)\n",
        "kings.columns=['kings']\n",
        "kings=kings.astype('float') # 불러온 데이터를 실수화 시키는 작업\n",
        "kings"
      ],
      "execution_count": 103,
      "outputs": [
        {
          "output_type": "execute_result",
          "data": {
            "text/html": [
              "<div>\n",
              "<style scoped>\n",
              "    .dataframe tbody tr th:only-of-type {\n",
              "        vertical-align: middle;\n",
              "    }\n",
              "\n",
              "    .dataframe tbody tr th {\n",
              "        vertical-align: top;\n",
              "    }\n",
              "\n",
              "    .dataframe thead th {\n",
              "        text-align: right;\n",
              "    }\n",
              "</style>\n",
              "<table border=\"1\" class=\"dataframe\">\n",
              "  <thead>\n",
              "    <tr style=\"text-align: right;\">\n",
              "      <th></th>\n",
              "      <th>kings</th>\n",
              "    </tr>\n",
              "  </thead>\n",
              "  <tbody>\n",
              "    <tr>\n",
              "      <th>1</th>\n",
              "      <td>60.0</td>\n",
              "    </tr>\n",
              "    <tr>\n",
              "      <th>2</th>\n",
              "      <td>43.0</td>\n",
              "    </tr>\n",
              "    <tr>\n",
              "      <th>3</th>\n",
              "      <td>67.0</td>\n",
              "    </tr>\n",
              "    <tr>\n",
              "      <th>4</th>\n",
              "      <td>50.0</td>\n",
              "    </tr>\n",
              "    <tr>\n",
              "      <th>5</th>\n",
              "      <td>56.0</td>\n",
              "    </tr>\n",
              "    <tr>\n",
              "      <th>6</th>\n",
              "      <td>42.0</td>\n",
              "    </tr>\n",
              "    <tr>\n",
              "      <th>7</th>\n",
              "      <td>50.1</td>\n",
              "    </tr>\n",
              "    <tr>\n",
              "      <th>8</th>\n",
              "      <td>65.0</td>\n",
              "    </tr>\n",
              "    <tr>\n",
              "      <th>9</th>\n",
              "      <td>68.0</td>\n",
              "    </tr>\n",
              "    <tr>\n",
              "      <th>10</th>\n",
              "      <td>43.1</td>\n",
              "    </tr>\n",
              "    <tr>\n",
              "      <th>11</th>\n",
              "      <td>65.1</td>\n",
              "    </tr>\n",
              "    <tr>\n",
              "      <th>12</th>\n",
              "      <td>34.0</td>\n",
              "    </tr>\n",
              "    <tr>\n",
              "      <th>13</th>\n",
              "      <td>47.0</td>\n",
              "    </tr>\n",
              "    <tr>\n",
              "      <th>14</th>\n",
              "      <td>34.1</td>\n",
              "    </tr>\n",
              "    <tr>\n",
              "      <th>15</th>\n",
              "      <td>49.0</td>\n",
              "    </tr>\n",
              "    <tr>\n",
              "      <th>16</th>\n",
              "      <td>41.0</td>\n",
              "    </tr>\n",
              "    <tr>\n",
              "      <th>17</th>\n",
              "      <td>13.0</td>\n",
              "    </tr>\n",
              "    <tr>\n",
              "      <th>18</th>\n",
              "      <td>35.0</td>\n",
              "    </tr>\n",
              "    <tr>\n",
              "      <th>19</th>\n",
              "      <td>53.0</td>\n",
              "    </tr>\n",
              "    <tr>\n",
              "      <th>20</th>\n",
              "      <td>56.1</td>\n",
              "    </tr>\n",
              "    <tr>\n",
              "      <th>21</th>\n",
              "      <td>16.0</td>\n",
              "    </tr>\n",
              "    <tr>\n",
              "      <th>22</th>\n",
              "      <td>43.2</td>\n",
              "    </tr>\n",
              "    <tr>\n",
              "      <th>23</th>\n",
              "      <td>69.0</td>\n",
              "    </tr>\n",
              "    <tr>\n",
              "      <th>24</th>\n",
              "      <td>59.0</td>\n",
              "    </tr>\n",
              "    <tr>\n",
              "      <th>25</th>\n",
              "      <td>48.0</td>\n",
              "    </tr>\n",
              "    <tr>\n",
              "      <th>26</th>\n",
              "      <td>59.1</td>\n",
              "    </tr>\n",
              "    <tr>\n",
              "      <th>27</th>\n",
              "      <td>86.0</td>\n",
              "    </tr>\n",
              "    <tr>\n",
              "      <th>28</th>\n",
              "      <td>55.0</td>\n",
              "    </tr>\n",
              "    <tr>\n",
              "      <th>29</th>\n",
              "      <td>68.1</td>\n",
              "    </tr>\n",
              "    <tr>\n",
              "      <th>30</th>\n",
              "      <td>51.0</td>\n",
              "    </tr>\n",
              "    <tr>\n",
              "      <th>31</th>\n",
              "      <td>33.0</td>\n",
              "    </tr>\n",
              "    <tr>\n",
              "      <th>32</th>\n",
              "      <td>49.1</td>\n",
              "    </tr>\n",
              "    <tr>\n",
              "      <th>33</th>\n",
              "      <td>67.1</td>\n",
              "    </tr>\n",
              "    <tr>\n",
              "      <th>34</th>\n",
              "      <td>77.0</td>\n",
              "    </tr>\n",
              "    <tr>\n",
              "      <th>35</th>\n",
              "      <td>81.0</td>\n",
              "    </tr>\n",
              "    <tr>\n",
              "      <th>36</th>\n",
              "      <td>67.2</td>\n",
              "    </tr>\n",
              "    <tr>\n",
              "      <th>37</th>\n",
              "      <td>71.0</td>\n",
              "    </tr>\n",
              "    <tr>\n",
              "      <th>38</th>\n",
              "      <td>81.1</td>\n",
              "    </tr>\n",
              "    <tr>\n",
              "      <th>39</th>\n",
              "      <td>68.2</td>\n",
              "    </tr>\n",
              "    <tr>\n",
              "      <th>40</th>\n",
              "      <td>70.0</td>\n",
              "    </tr>\n",
              "    <tr>\n",
              "      <th>41</th>\n",
              "      <td>77.1</td>\n",
              "    </tr>\n",
              "    <tr>\n",
              "      <th>42</th>\n",
              "      <td>56.2</td>\n",
              "    </tr>\n",
              "  </tbody>\n",
              "</table>\n",
              "</div>"
            ],
            "text/plain": [
              "    kings\n",
              "1    60.0\n",
              "2    43.0\n",
              "3    67.0\n",
              "4    50.0\n",
              "5    56.0\n",
              "6    42.0\n",
              "7    50.1\n",
              "8    65.0\n",
              "9    68.0\n",
              "10   43.1\n",
              "11   65.1\n",
              "12   34.0\n",
              "13   47.0\n",
              "14   34.1\n",
              "15   49.0\n",
              "16   41.0\n",
              "17   13.0\n",
              "18   35.0\n",
              "19   53.0\n",
              "20   56.1\n",
              "21   16.0\n",
              "22   43.2\n",
              "23   69.0\n",
              "24   59.0\n",
              "25   48.0\n",
              "26   59.1\n",
              "27   86.0\n",
              "28   55.0\n",
              "29   68.1\n",
              "30   51.0\n",
              "31   33.0\n",
              "32   49.1\n",
              "33   67.1\n",
              "34   77.0\n",
              "35   81.0\n",
              "36   67.2\n",
              "37   71.0\n",
              "38   81.1\n",
              "39   68.2\n",
              "40   70.0\n",
              "41   77.1\n",
              "42   56.2"
            ]
          },
          "metadata": {
            "tags": []
          },
          "execution_count": 103
        }
      ]
    },
    {
      "cell_type": "markdown",
      "metadata": {
        "id": "GMNEIX6o2kkm"
      },
      "source": [
        "3) 생성된 시계열 자료 ‘kings’를 이용하여 시계열 그래프를 그리시오."
      ]
    },
    {
      "cell_type": "code",
      "metadata": {
        "colab": {
          "base_uri": "https://localhost:8080/",
          "height": 282
        },
        "id": "z2xkPEex2GZT",
        "outputId": "3bd532af-376e-4a10-97cd-154352be7940"
      },
      "source": [
        "plt.plot(kings,'-*')"
      ],
      "execution_count": 79,
      "outputs": [
        {
          "output_type": "execute_result",
          "data": {
            "text/plain": [
              "[<matplotlib.lines.Line2D at 0x7f2ed6fa8350>]"
            ]
          },
          "metadata": {
            "tags": []
          },
          "execution_count": 79
        },
        {
          "output_type": "display_data",
          "data": {
            "image/png": "[encoded data removed]",
            "text/plain": [
              "<Figure size 432x288 with 1 Axes>"
            ]
          },
          "metadata": {
            "tags": [],
            "needs_background": "light"
          }
        }
      ]
    },
    {
      "cell_type": "markdown",
      "metadata": {
        "id": "uRn8yTxw-MAq"
      },
      "source": [
        "# 3. 다음은 광고비와 매출액 자료이다. R프로그램을 이용하여 질문에 답하시오.\n",
        "광고비 = 5, 6, 7, 8, 9, 11, 12, 13, 14, 15\n",
        "\n",
        "매출액 = 16, 19, 18, 20, 24, 26, 30, 32, 31, 34 \n",
        " \n",
        "1) 광고비는 ‘x’, 매출액은 ‘y’라는 변수에 할당하시오."
      ]
    },
    {
      "cell_type": "code",
      "metadata": {
        "colab": {
          "base_uri": "https://localhost:8080/",
          "height": 0
        },
        "id": "Fnx8Mr8s2oSG",
        "outputId": "96fa0e15-8f5d-4962-e785-a25d31ac28c3"
      },
      "source": [
        "x=[5,6,7,8,9,11,12,13,14,15]\n",
        "y=[16,19,18,20,24,26,30,32,31,34]\n",
        "print('x:',x)\n",
        "print('y:',y)\n",
        "x=pd.DataFrame(x) # 그래프를 그리기 위한 데이터 프레임 형성\n",
        "y=pd.DataFrame(y)\n",
        "x_y=pd.concat([x,y],axis=1)\n",
        "x_y.columns=['x','y']"
      ],
      "execution_count": 104,
      "outputs": [
        {
          "output_type": "stream",
          "text": [
            "x: [5, 6, 7, 8, 9, 11, 12, 13, 14, 15]\n",
            "y: [16, 19, 18, 20, 24, 26, 30, 32, 31, 34]\n"
          ],
          "name": "stdout"
        }
      ]
    },
    {
      "cell_type": "markdown",
      "metadata": {
        "id": "IWltazWY-YhQ"
      },
      "source": [
        "2) 광고비(x)의 평균과 분산, 표준편차를 구하시오."
      ]
    },
    {
      "cell_type": "code",
      "metadata": {
        "colab": {
          "base_uri": "https://localhost:8080/",
          "height": 0
        },
        "id": "gOPZWKY8-Whj",
        "outputId": "8dba242b-c265-40e9-c91b-dfa233c5d6c1"
      },
      "source": [
        "print('광고비 x의 평균:',np.mean(x))\n",
        "print('광고비 x의 분산:',np.var(x))\n",
        "print('광고비 x의 표준편차:',np.std(x))"
      ],
      "execution_count": 66,
      "outputs": [
        {
          "output_type": "stream",
          "text": [
            "광고비 x의 평균: 10.0\n",
            "광고비 x의 분산: 11.0\n",
            "광고비 x의 표준편차: 3.3166247903554\n"
          ],
          "name": "stdout"
        }
      ]
    },
    {
      "cell_type": "markdown",
      "metadata": {
        "id": "1cssKANM-_co"
      },
      "source": [
        "3) 매출액(x)의 평균과 분산, 표준편차를 구하시오."
      ]
    },
    {
      "cell_type": "code",
      "metadata": {
        "colab": {
          "base_uri": "https://localhost:8080/",
          "height": 0
        },
        "id": "YAcW7yRn-7IG",
        "outputId": "9fe833a3-bc5b-42f2-b495-33333f8a8d9f"
      },
      "source": [
        "print('매출액 y의 평균:',np.mean(y))\n",
        "print('매출액 y의 분산:',np.var(y))\n",
        "print('매출액 y의 표준편차:',np.std(y))"
      ],
      "execution_count": 55,
      "outputs": [
        {
          "output_type": "stream",
          "text": [
            "매출액 y의 평균: 25.0\n",
            "매출액 y의 분산: 38.4\n",
            "매출액 y의 표준편차: 6.196773353931867\n"
          ],
          "name": "stdout"
        }
      ]
    },
    {
      "cell_type": "markdown",
      "metadata": {
        "id": "LlcJz6ok_LBm"
      },
      "source": [
        "4) 광고비(x)와 매출액(y) 자료에 대한 산점도를 그리시오."
      ]
    },
    {
      "cell_type": "code",
      "metadata": {
        "colab": {
          "base_uri": "https://localhost:8080/",
          "height": 297
        },
        "id": "OkvdSELB_Cls",
        "outputId": "3fd3a862-f83d-48ee-fe98-c5af793ef754"
      },
      "source": [
        "sns.scatterplot(x=x_y['x'],y=x_y['y'])"
      ],
      "execution_count": 83,
      "outputs": [
        {
          "output_type": "execute_result",
          "data": {
            "text/plain": [
              "<matplotlib.axes._subplots.AxesSubplot at 0x7f2ed76176d0>"
            ]
          },
          "metadata": {
            "tags": []
          },
          "execution_count": 83
        },
        {
          "output_type": "display_data",
          "data": {
            "image/png": "[encoded data removed]",
            "text/plain": [
              "<Figure size 432x288 with 1 Axes>"
            ]
          },
          "metadata": {
            "tags": [],
            "needs_background": "light"
          }
        }
      ]
    },
    {
      "cell_type": "markdown",
      "metadata": {
        "id": "uR1ghtM0Azfe"
      },
      "source": [
        "5) 광고비와 매출액의 공분산을 구하시오."
      ]
    },
    {
      "cell_type": "code",
      "metadata": {
        "colab": {
          "base_uri": "https://localhost:8080/",
          "height": 106
        },
        "id": "ict9sU5N_OyM",
        "outputId": "003c4d80-c62f-4a9c-a048-f7d8ec1f833c"
      },
      "source": [
        "x_y.cov()"
      ],
      "execution_count": 84,
      "outputs": [
        {
          "output_type": "execute_result",
          "data": {
            "text/html": [
              "<div>\n",
              "<style scoped>\n",
              "    .dataframe tbody tr th:only-of-type {\n",
              "        vertical-align: middle;\n",
              "    }\n",
              "\n",
              "    .dataframe tbody tr th {\n",
              "        vertical-align: top;\n",
              "    }\n",
              "\n",
              "    .dataframe thead th {\n",
              "        text-align: right;\n",
              "    }\n",
              "</style>\n",
              "<table border=\"1\" class=\"dataframe\">\n",
              "  <thead>\n",
              "    <tr style=\"text-align: right;\">\n",
              "      <th></th>\n",
              "      <th>x</th>\n",
              "      <th>y</th>\n",
              "    </tr>\n",
              "  </thead>\n",
              "  <tbody>\n",
              "    <tr>\n",
              "      <th>x</th>\n",
              "      <td>12.222222</td>\n",
              "      <td>22.444444</td>\n",
              "    </tr>\n",
              "    <tr>\n",
              "      <th>y</th>\n",
              "      <td>22.444444</td>\n",
              "      <td>42.666667</td>\n",
              "    </tr>\n",
              "  </tbody>\n",
              "</table>\n",
              "</div>"
            ],
            "text/plain": [
              "           x          y\n",
              "x  12.222222  22.444444\n",
              "y  22.444444  42.666667"
            ]
          },
          "metadata": {
            "tags": []
          },
          "execution_count": 84
        }
      ]
    },
    {
      "cell_type": "markdown",
      "metadata": {
        "id": "pkYY22cbA5f5"
      },
      "source": [
        "6) 광고비와 매출액의 상관계수를 구하시오."
      ]
    },
    {
      "cell_type": "code",
      "metadata": {
        "colab": {
          "base_uri": "https://localhost:8080/",
          "height": 106
        },
        "id": "0L0RWHtTA2AM",
        "outputId": "a5e42797-2977-44bf-83b1-f8aa24caa863"
      },
      "source": [
        "x_y.corr()"
      ],
      "execution_count": 85,
      "outputs": [
        {
          "output_type": "execute_result",
          "data": {
            "text/html": [
              "<div>\n",
              "<style scoped>\n",
              "    .dataframe tbody tr th:only-of-type {\n",
              "        vertical-align: middle;\n",
              "    }\n",
              "\n",
              "    .dataframe tbody tr th {\n",
              "        vertical-align: top;\n",
              "    }\n",
              "\n",
              "    .dataframe thead th {\n",
              "        text-align: right;\n",
              "    }\n",
              "</style>\n",
              "<table border=\"1\" class=\"dataframe\">\n",
              "  <thead>\n",
              "    <tr style=\"text-align: right;\">\n",
              "      <th></th>\n",
              "      <th>x</th>\n",
              "      <th>y</th>\n",
              "    </tr>\n",
              "  </thead>\n",
              "  <tbody>\n",
              "    <tr>\n",
              "      <th>x</th>\n",
              "      <td>1.000000</td>\n",
              "      <td>0.982855</td>\n",
              "    </tr>\n",
              "    <tr>\n",
              "      <th>y</th>\n",
              "      <td>0.982855</td>\n",
              "      <td>1.000000</td>\n",
              "    </tr>\n",
              "  </tbody>\n",
              "</table>\n",
              "</div>"
            ],
            "text/plain": [
              "          x         y\n",
              "x  1.000000  0.982855\n",
              "y  0.982855  1.000000"
            ]
          },
          "metadata": {
            "tags": []
          },
          "execution_count": 85
        }
      ]
    },
    {
      "cell_type": "markdown",
      "metadata": {
        "id": "cxhHILB2BGiO"
      },
      "source": [
        "# 4. R 프로그램에 내장된 ‘iris’ dataset을 활용하여 다음 질문에 답하시오.\n",
        "\n",
        " 1) sepal.Length(꽃받침 길이)와 petal.Length(꽃잎 길이)의 산점도를 그리시오."
      ]
    },
    {
      "cell_type": "code",
      "metadata": {
        "colab": {
          "base_uri": "https://localhost:8080/",
          "height": 297
        },
        "id": "6Q0KSvJJA6jP",
        "outputId": "5e98e155-d447-4a28-fe89-785ea2f0edc2"
      },
      "source": [
        "iris=pd.read_csv('./iris(150).csv') # 아이리스 데이터 불러오기\n",
        "sns.scatterplot(x=iris['SepalLength'],y=iris['PetalLength'])"
      ],
      "execution_count": 105,
      "outputs": [
        {
          "output_type": "execute_result",
          "data": {
            "text/plain": [
              "<matplotlib.axes._subplots.AxesSubplot at 0x7f2ec588b6d0>"
            ]
          },
          "metadata": {
            "tags": []
          },
          "execution_count": 105
        },
        {
          "output_type": "display_data",
          "data": {
            "image/png": "[encoded data removed]",
            "text/plain": [
              "<Figure size 432x288 with 1 Axes>"
            ]
          },
          "metadata": {
            "tags": [],
            "needs_background": "light"
          }
        }
      ]
    },
    {
      "cell_type": "markdown",
      "metadata": {
        "id": "gy4r9W_GDJy9"
      },
      "source": [
        "2) 꽃받침 길이와 꽃잎길이의 공분산을 구하시오."
      ]
    },
    {
      "cell_type": "code",
      "metadata": {
        "colab": {
          "base_uri": "https://localhost:8080/",
          "height": 106
        },
        "id": "u9P0D9teBaMW",
        "outputId": "e1c3961f-e45d-40ed-8964-814564f0c716"
      },
      "source": [
        "iris[['SepalLength','PetalLength']].cov()"
      ],
      "execution_count": 96,
      "outputs": [
        {
          "output_type": "execute_result",
          "data": {
            "text/html": [
              "<div>\n",
              "<style scoped>\n",
              "    .dataframe tbody tr th:only-of-type {\n",
              "        vertical-align: middle;\n",
              "    }\n",
              "\n",
              "    .dataframe tbody tr th {\n",
              "        vertical-align: top;\n",
              "    }\n",
              "\n",
              "    .dataframe thead th {\n",
              "        text-align: right;\n",
              "    }\n",
              "</style>\n",
              "<table border=\"1\" class=\"dataframe\">\n",
              "  <thead>\n",
              "    <tr style=\"text-align: right;\">\n",
              "      <th></th>\n",
              "      <th>SepalLength</th>\n",
              "      <th>PetalLength</th>\n",
              "    </tr>\n",
              "  </thead>\n",
              "  <tbody>\n",
              "    <tr>\n",
              "      <th>SepalLength</th>\n",
              "      <td>0.685694</td>\n",
              "      <td>1.274315</td>\n",
              "    </tr>\n",
              "    <tr>\n",
              "      <th>PetalLength</th>\n",
              "      <td>1.274315</td>\n",
              "      <td>3.116278</td>\n",
              "    </tr>\n",
              "  </tbody>\n",
              "</table>\n",
              "</div>"
            ],
            "text/plain": [
              "             SepalLength  PetalLength\n",
              "SepalLength     0.685694     1.274315\n",
              "PetalLength     1.274315     3.116278"
            ]
          },
          "metadata": {
            "tags": []
          },
          "execution_count": 96
        }
      ]
    },
    {
      "cell_type": "markdown",
      "metadata": {
        "id": "Zi18JQ7oDa1e"
      },
      "source": [
        "3) 꽃받침 길이와 꽃잎길이의 상관계수를 구하시오."
      ]
    },
    {
      "cell_type": "code",
      "metadata": {
        "colab": {
          "base_uri": "https://localhost:8080/",
          "height": 106
        },
        "id": "7lMAXWx3DPiL",
        "outputId": "e62cefe0-909a-4c4a-8880-c7d3816a24d2"
      },
      "source": [
        "iris[['SepalLength','PetalLength']].corr()"
      ],
      "execution_count": 97,
      "outputs": [
        {
          "output_type": "execute_result",
          "data": {
            "text/html": [
              "<div>\n",
              "<style scoped>\n",
              "    .dataframe tbody tr th:only-of-type {\n",
              "        vertical-align: middle;\n",
              "    }\n",
              "\n",
              "    .dataframe tbody tr th {\n",
              "        vertical-align: top;\n",
              "    }\n",
              "\n",
              "    .dataframe thead th {\n",
              "        text-align: right;\n",
              "    }\n",
              "</style>\n",
              "<table border=\"1\" class=\"dataframe\">\n",
              "  <thead>\n",
              "    <tr style=\"text-align: right;\">\n",
              "      <th></th>\n",
              "      <th>SepalLength</th>\n",
              "      <th>PetalLength</th>\n",
              "    </tr>\n",
              "  </thead>\n",
              "  <tbody>\n",
              "    <tr>\n",
              "      <th>SepalLength</th>\n",
              "      <td>1.000000</td>\n",
              "      <td>0.871754</td>\n",
              "    </tr>\n",
              "    <tr>\n",
              "      <th>PetalLength</th>\n",
              "      <td>0.871754</td>\n",
              "      <td>1.000000</td>\n",
              "    </tr>\n",
              "  </tbody>\n",
              "</table>\n",
              "</div>"
            ],
            "text/plain": [
              "             SepalLength  PetalLength\n",
              "SepalLength     1.000000     0.871754\n",
              "PetalLength     0.871754     1.000000"
            ]
          },
          "metadata": {
            "tags": []
          },
          "execution_count": 97
        }
      ]
    }
  ]
}