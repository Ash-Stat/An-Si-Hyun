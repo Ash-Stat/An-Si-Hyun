{
 "cells": [
  {
   "cell_type": "code",
   "execution_count": 1,
   "metadata": {},
   "outputs": [],
   "source": [
    "import pandas as pd\n",
    "import numpy as np\n"
   ]
  },
  {
   "cell_type": "code",
   "execution_count": 105,
   "metadata": {},
   "outputs": [],
   "source": [
    "\n",
    "H=pd.Series([1,1.13,1.32,1.48,1.68],index=['1M','3M','6M','1Y','3Y'])"
   ]
  },
  {
   "cell_type": "code",
   "execution_count": 101,
   "metadata": {},
   "outputs": [],
   "source": [
    "S_H=pd.Series([0.82,1.07,1.18,1.29,1.45], index=['1M','3M','6M','1Y','3Y'])\n",
    "S_N=pd.Series([0.79,0.93,1.02,1.1,1.25], index=['1M','3M','6M','1Y','3Y'])\n",
    "S_N151=pd.Series([0.87,1.0,1.09,1.17,1.31], index=['1M','3M','6M','1Y','3Y'])\n",
    "S_N101=pd.Series([0.12,0.24,0.46,0.67,0.91], index=['1M','3M','6M','1Y','3Y'])\n",
    "S_MMF1=pd.Series([1.28,1.41,1.49,1.57,1.71], index=['1M','3M','6M','1Y','3Y'])"
   ]
  },
  {
   "cell_type": "code",
   "execution_count": 107,
   "metadata": {},
   "outputs": [],
   "source": [
    "Total=pd.DataFrame({'Han': H, 'Samsung_H_1' : S_H, 'Samsung_New_4' : S_N, 'Samsung_New_151' : S_N151, 'Samsung_New_101' : S_N101,'Samsung_001':S_MMF1})"
   ]
  },
  {
   "cell_type": "code",
   "execution_count": 91,
   "metadata": {},
   "outputs": [
    {
     "data": {
      "text/html": [
       "<div>\n",
       "<style scoped>\n",
       "    .dataframe tbody tr th:only-of-type {\n",
       "        vertical-align: middle;\n",
       "    }\n",
       "\n",
       "    .dataframe tbody tr th {\n",
       "        vertical-align: top;\n",
       "    }\n",
       "\n",
       "    .dataframe thead th {\n",
       "        text-align: right;\n",
       "    }\n",
       "</style>\n",
       "<table border=\"1\" class=\"dataframe\">\n",
       "  <thead>\n",
       "    <tr style=\"text-align: right;\">\n",
       "      <th></th>\n",
       "      <th>H사</th>\n",
       "      <th>삼성 헤리티지 1호</th>\n",
       "      <th>삼성 신종MMF제4호</th>\n",
       "      <th>삼성 신종151호</th>\n",
       "      <th>삼성 신종101호</th>\n",
       "      <th>삼성 법인제1호</th>\n",
       "    </tr>\n",
       "  </thead>\n",
       "  <tbody>\n",
       "    <tr>\n",
       "      <th>1개월</th>\n",
       "      <td>1.00</td>\n",
       "      <td>0.82</td>\n",
       "      <td>0.79</td>\n",
       "      <td>0.87</td>\n",
       "      <td>0.12</td>\n",
       "      <td>1.28</td>\n",
       "    </tr>\n",
       "    <tr>\n",
       "      <th>3개월</th>\n",
       "      <td>1.13</td>\n",
       "      <td>1.07</td>\n",
       "      <td>0.93</td>\n",
       "      <td>1.00</td>\n",
       "      <td>0.24</td>\n",
       "      <td>1.41</td>\n",
       "    </tr>\n",
       "    <tr>\n",
       "      <th>6개월</th>\n",
       "      <td>1.32</td>\n",
       "      <td>1.18</td>\n",
       "      <td>1.02</td>\n",
       "      <td>1.09</td>\n",
       "      <td>0.46</td>\n",
       "      <td>1.49</td>\n",
       "    </tr>\n",
       "    <tr>\n",
       "      <th>1년</th>\n",
       "      <td>1.48</td>\n",
       "      <td>1.29</td>\n",
       "      <td>1.10</td>\n",
       "      <td>1.17</td>\n",
       "      <td>0.67</td>\n",
       "      <td>1.57</td>\n",
       "    </tr>\n",
       "    <tr>\n",
       "      <th>3년</th>\n",
       "      <td>1.68</td>\n",
       "      <td>1.45</td>\n",
       "      <td>1.25</td>\n",
       "      <td>1.31</td>\n",
       "      <td>0.91</td>\n",
       "      <td>1.71</td>\n",
       "    </tr>\n",
       "  </tbody>\n",
       "</table>\n",
       "</div>"
      ],
      "text/plain": [
       "       H사  삼성 헤리티지 1호  삼성 신종MMF제4호  삼성 신종151호  삼성 신종101호  삼성 법인제1호\n",
       "1개월  1.00        0.82         0.79       0.87       0.12      1.28\n",
       "3개월  1.13        1.07         0.93       1.00       0.24      1.41\n",
       "6개월  1.32        1.18         1.02       1.09       0.46      1.49\n",
       "1년   1.48        1.29         1.10       1.17       0.67      1.57\n",
       "3년   1.68        1.45         1.25       1.31       0.91      1.71"
      ]
     },
     "execution_count": 91,
     "metadata": {},
     "output_type": "execute_result"
    }
   ],
   "source": [
    "Total"
   ]
  },
  {
   "cell_type": "code",
   "execution_count": 38,
   "metadata": {},
   "outputs": [],
   "source": [
    "a=H.std()\n",
    "b=S_H.std()\n",
    "c=S_N.std()\n",
    "d=S_N151.std()\n",
    "e=S_N101.std()\n",
    "f=S_MMF1.std()"
   ]
  },
  {
   "cell_type": "code",
   "execution_count": 49,
   "metadata": {},
   "outputs": [],
   "source": [
    "\n",
    "T_R=pd.DataFrame({'H사': a, '삼성 헤리티지': b, '삼성 신종MMF제4호': c,'삼성 신종 151호': d,'삼성 신종 101호':e,'삼성 법인제1호':f}, index=['위험도'])"
   ]
  },
  {
   "cell_type": "code",
   "execution_count": 43,
   "metadata": {},
   "outputs": [
    {
     "data": {
      "text/html": [
       "<div>\n",
       "<style scoped>\n",
       "    .dataframe tbody tr th:only-of-type {\n",
       "        vertical-align: middle;\n",
       "    }\n",
       "\n",
       "    .dataframe tbody tr th {\n",
       "        vertical-align: top;\n",
       "    }\n",
       "\n",
       "    .dataframe thead th {\n",
       "        text-align: right;\n",
       "    }\n",
       "</style>\n",
       "<table border=\"1\" class=\"dataframe\">\n",
       "  <thead>\n",
       "    <tr style=\"text-align: right;\">\n",
       "      <th></th>\n",
       "      <th>H사</th>\n",
       "      <th>삼성 헤리티지</th>\n",
       "      <th>삼성 신종MMF제4호</th>\n",
       "      <th>삼성 신종151호</th>\n",
       "      <th>삼성 신종 101호</th>\n",
       "      <th>삼성 법인제1호</th>\n",
       "    </tr>\n",
       "  </thead>\n",
       "  <tbody>\n",
       "    <tr>\n",
       "      <th>위험도</th>\n",
       "      <td>0.270961</td>\n",
       "      <td>0.237213</td>\n",
       "      <td>0.173407</td>\n",
       "      <td>0.166793</td>\n",
       "      <td>0.319609</td>\n",
       "      <td>0.162234</td>\n",
       "    </tr>\n",
       "  </tbody>\n",
       "</table>\n",
       "</div>"
      ],
      "text/plain": [
       "           H사   삼성 헤리티지  삼성 신종MMF제4호  삼성 신종151호  삼성 신종 101호  삼성 법인제1호\n",
       "위험도  0.270961  0.237213     0.173407   0.166793    0.319609  0.162234"
      ]
     },
     "execution_count": 43,
     "metadata": {},
     "output_type": "execute_result"
    }
   ],
   "source": [
    "T_R"
   ]
  },
  {
   "cell_type": "code",
   "execution_count": 50,
   "metadata": {},
   "outputs": [],
   "source": [
    "A=H.mean()\n",
    "B=S_H.mean()\n",
    "C=S_N.mean()\n",
    "D=S_N.mean()\n",
    "E=S_N151.mean()\n",
    "F=S_MMF1.mean()\n",
    "T_R1=pd.DataFrame({'H사':A,'삼성 헤리티지':B,'삼성 신종MMF제4호':C,'삼성 신종 151호':D,'삼성 신종 101호':E,'삼성 법인제1호':F},index=['평균 수익률'\n",
    "])"
   ]
  },
  {
   "cell_type": "code",
   "execution_count": 46,
   "metadata": {},
   "outputs": [
    {
     "data": {
      "text/html": [
       "<div>\n",
       "<style scoped>\n",
       "    .dataframe tbody tr th:only-of-type {\n",
       "        vertical-align: middle;\n",
       "    }\n",
       "\n",
       "    .dataframe tbody tr th {\n",
       "        vertical-align: top;\n",
       "    }\n",
       "\n",
       "    .dataframe thead th {\n",
       "        text-align: right;\n",
       "    }\n",
       "</style>\n",
       "<table border=\"1\" class=\"dataframe\">\n",
       "  <thead>\n",
       "    <tr style=\"text-align: right;\">\n",
       "      <th></th>\n",
       "      <th>H사</th>\n",
       "      <th>삼성 헤리티지</th>\n",
       "      <th>삼성 신종MMF제4호</th>\n",
       "      <th>삼성 신종 151호</th>\n",
       "      <th>삼성 신종 101호</th>\n",
       "      <th>삼성 법인제1호</th>\n",
       "    </tr>\n",
       "  </thead>\n",
       "  <tbody>\n",
       "    <tr>\n",
       "      <th>평균 수익률</th>\n",
       "      <td>1.322</td>\n",
       "      <td>1.162</td>\n",
       "      <td>1.018</td>\n",
       "      <td>1.018</td>\n",
       "      <td>1.088</td>\n",
       "      <td>1.492</td>\n",
       "    </tr>\n",
       "  </tbody>\n",
       "</table>\n",
       "</div>"
      ],
      "text/plain": [
       "           H사  삼성 헤리티지  삼성 신종MMF제4호  삼성 신종 151호  삼성 신종 101호  삼성 법인제1호\n",
       "평균 수익률  1.322    1.162        1.018       1.018       1.088     1.492"
      ]
     },
     "execution_count": 46,
     "metadata": {},
     "output_type": "execute_result"
    }
   ],
   "source": [
    "T_R1"
   ]
  },
  {
   "cell_type": "code",
   "execution_count": 51,
   "metadata": {},
   "outputs": [
    {
     "data": {
      "text/html": [
       "<div>\n",
       "<style scoped>\n",
       "    .dataframe tbody tr th:only-of-type {\n",
       "        vertical-align: middle;\n",
       "    }\n",
       "\n",
       "    .dataframe tbody tr th {\n",
       "        vertical-align: top;\n",
       "    }\n",
       "\n",
       "    .dataframe thead th {\n",
       "        text-align: right;\n",
       "    }\n",
       "</style>\n",
       "<table border=\"1\" class=\"dataframe\">\n",
       "  <thead>\n",
       "    <tr style=\"text-align: right;\">\n",
       "      <th></th>\n",
       "      <th>H사</th>\n",
       "      <th>삼성 헤리티지</th>\n",
       "      <th>삼성 신종MMF제4호</th>\n",
       "      <th>삼성 신종 151호</th>\n",
       "      <th>삼성 신종 101호</th>\n",
       "      <th>삼성 법인제1호</th>\n",
       "    </tr>\n",
       "  </thead>\n",
       "  <tbody>\n",
       "    <tr>\n",
       "      <th>위험도</th>\n",
       "      <td>0.270961</td>\n",
       "      <td>0.237213</td>\n",
       "      <td>0.173407</td>\n",
       "      <td>0.166793</td>\n",
       "      <td>0.319609</td>\n",
       "      <td>0.162234</td>\n",
       "    </tr>\n",
       "    <tr>\n",
       "      <th>평균 수익률</th>\n",
       "      <td>1.322000</td>\n",
       "      <td>1.162000</td>\n",
       "      <td>1.018000</td>\n",
       "      <td>1.018000</td>\n",
       "      <td>1.088000</td>\n",
       "      <td>1.492000</td>\n",
       "    </tr>\n",
       "  </tbody>\n",
       "</table>\n",
       "</div>"
      ],
      "text/plain": [
       "              H사   삼성 헤리티지  삼성 신종MMF제4호  삼성 신종 151호  삼성 신종 101호  삼성 법인제1호\n",
       "위험도     0.270961  0.237213     0.173407    0.166793    0.319609  0.162234\n",
       "평균 수익률  1.322000  1.162000     1.018000    1.018000    1.088000  1.492000"
      ]
     },
     "execution_count": 51,
     "metadata": {},
     "output_type": "execute_result"
    }
   ],
   "source": [
    "Total_Result=pd.concat([T_R,T_R1])\n",
    "Total_Result"
   ]
  },
  {
   "cell_type": "code",
   "execution_count": 92,
   "metadata": {},
   "outputs": [],
   "source": [
    "%matplotlib inline\n",
    "import matplotlib.pyplot as plt\n",
    "import seaborn as sns"
   ]
  },
  {
   "cell_type": "code",
   "execution_count": 108,
   "metadata": {},
   "outputs": [
    {
     "data": {
      "text/plain": [
       "<matplotlib.axes._subplots.AxesSubplot at 0x1fb34474c08>"
      ]
     },
     "execution_count": 108,
     "metadata": {},
     "output_type": "execute_result"
    },
    {
     "data": {
      "image/png": "[encoded data removed]",
      "text/plain": [
       "<Figure size 432x288 with 1 Axes>"
      ]
     },
     "metadata": {
      "needs_background": "light"
     },
     "output_type": "display_data"
    }
   ],
   "source": [
    "Total.plot(kind='bar')"
   ]
  },
  {
   "cell_type": "code",
   "execution_count": 100,
   "metadata": {},
   "outputs": [
    {
     "ename": "ModuleNotFoundError",
     "evalue": "No module named 'tensorflow'",
     "output_type": "error",
     "traceback": [
      "\u001b[1;31m---------------------------------------------------------------------------\u001b[0m",
      "\u001b[1;31mModuleNotFoundError\u001b[0m                       Traceback (most recent call last)",
      "\u001b[1;32m<ipython-input-100-605502c74266>\u001b[0m in \u001b[0;36m<module>\u001b[1;34m\u001b[0m\n\u001b[1;32m----> 1\u001b[1;33m \u001b[1;32mimport\u001b[0m \u001b[0mtensorflow\u001b[0m \u001b[1;32mas\u001b[0m \u001b[0mtf\u001b[0m\u001b[1;33m\u001b[0m\u001b[1;33m\u001b[0m\u001b[0m\n\u001b[0m\u001b[0;32m      2\u001b[0m \u001b[0mmodel\u001b[0m\u001b[1;33m=\u001b[0m\u001b[0mtf\u001b[0m\u001b[1;33m.\u001b[0m\u001b[0mglobal_variables_initializer\u001b[0m\u001b[1;33m(\u001b[0m\u001b[1;33m)\u001b[0m\u001b[1;33m\u001b[0m\u001b[1;33m\u001b[0m\u001b[0m\n",
      "\u001b[1;31mModuleNotFoundError\u001b[0m: No module named 'tensorflow'"
     ]
    }
   ],
   "source": [
    "lr=linear_model.LinearRegression()\n",
    "moel=lr.fit()"
   ]
  },
  {
   "cell_type": "code",
   "execution_count": 122,
   "metadata": {},
   "outputs": [
    {
     "data": {
      "text/html": [
       "<div>\n",
       "<style scoped>\n",
       "    .dataframe tbody tr th:only-of-type {\n",
       "        vertical-align: middle;\n",
       "    }\n",
       "\n",
       "    .dataframe tbody tr th {\n",
       "        vertical-align: top;\n",
       "    }\n",
       "\n",
       "    .dataframe thead th {\n",
       "        text-align: right;\n",
       "    }\n",
       "</style>\n",
       "<table border=\"1\" class=\"dataframe\">\n",
       "  <thead>\n",
       "    <tr style=\"text-align: right;\">\n",
       "      <th></th>\n",
       "      <th>Month</th>\n",
       "      <th>Profit</th>\n",
       "    </tr>\n",
       "  </thead>\n",
       "  <tbody>\n",
       "    <tr>\n",
       "      <th>0</th>\n",
       "      <td>1M</td>\n",
       "      <td>1.28</td>\n",
       "    </tr>\n",
       "    <tr>\n",
       "      <th>1</th>\n",
       "      <td>3M</td>\n",
       "      <td>1.41</td>\n",
       "    </tr>\n",
       "    <tr>\n",
       "      <th>2</th>\n",
       "      <td>6M</td>\n",
       "      <td>1.49</td>\n",
       "    </tr>\n",
       "    <tr>\n",
       "      <th>3</th>\n",
       "      <td>12M</td>\n",
       "      <td>1.57</td>\n",
       "    </tr>\n",
       "    <tr>\n",
       "      <th>4</th>\n",
       "      <td>36M</td>\n",
       "      <td>1.71</td>\n",
       "    </tr>\n",
       "    <tr>\n",
       "      <th>5</th>\n",
       "      <td>72M</td>\n",
       "      <td>2.11</td>\n",
       "    </tr>\n",
       "  </tbody>\n",
       "</table>\n",
       "</div>"
      ],
      "text/plain": [
       "  Month  Profit\n",
       "0    1M    1.28\n",
       "1    3M    1.41\n",
       "2    6M    1.49\n",
       "3   12M    1.57\n",
       "4   36M    1.71\n",
       "5   72M    2.11"
      ]
     },
     "execution_count": 122,
     "metadata": {},
     "output_type": "execute_result"
    }
   ],
   "source": [
    "S_date=pd.Series(['1M','3M','6M','12M','36M','72M'])\n",
    "S_profit=pd.Series([1.28,1.41,1.49,1.57,1.71,2.11])\n",
    "S_data=pd.DataFrame({'Month':S_date,'Profit':S_profit})\n",
    "S_data"
   ]
  },
  {
   "cell_type": "code",
   "execution_count": 123,
   "metadata": {},
   "outputs": [
    {
     "data": {
      "text/plain": [
       "<matplotlib.axes._subplots.AxesSubplot at 0x1fb34617708>"
      ]
     },
     "execution_count": 123,
     "metadata": {},
     "output_type": "execute_result"
    },
    {
     "data": {
      "image/png": "[encoded data removed]",
      "text/plain": [
       "<Figure size 432x288 with 1 Axes>"
      ]
     },
     "metadata": {
      "needs_background": "light"
     },
     "output_type": "display_data"
    }
   ],
   "source": [
    "S_data.plot(x='Month',y='Profit')"
   ]
  },
  {
   "cell_type": "code",
   "execution_count": 135,
   "metadata": {},
   "outputs": [
    {
     "data": {
      "text/html": [
       "<div>\n",
       "<style scoped>\n",
       "    .dataframe tbody tr th:only-of-type {\n",
       "        vertical-align: middle;\n",
       "    }\n",
       "\n",
       "    .dataframe tbody tr th {\n",
       "        vertical-align: top;\n",
       "    }\n",
       "\n",
       "    .dataframe thead th {\n",
       "        text-align: right;\n",
       "    }\n",
       "</style>\n",
       "<table border=\"1\" class=\"dataframe\">\n",
       "  <thead>\n",
       "    <tr style=\"text-align: right;\">\n",
       "      <th></th>\n",
       "      <th>profit</th>\n",
       "      <th>month</th>\n",
       "    </tr>\n",
       "  </thead>\n",
       "  <tbody>\n",
       "    <tr>\n",
       "      <th>0</th>\n",
       "      <td>0.29</td>\n",
       "      <td>1</td>\n",
       "    </tr>\n",
       "    <tr>\n",
       "      <th>1</th>\n",
       "      <td>0.89</td>\n",
       "      <td>3</td>\n",
       "    </tr>\n",
       "    <tr>\n",
       "      <th>2</th>\n",
       "      <td>1.81</td>\n",
       "      <td>6</td>\n",
       "    </tr>\n",
       "    <tr>\n",
       "      <th>3</th>\n",
       "      <td>2.30</td>\n",
       "      <td>12</td>\n",
       "    </tr>\n",
       "  </tbody>\n",
       "</table>\n",
       "</div>"
      ],
      "text/plain": [
       "   profit  month\n",
       "0    0.29      1\n",
       "1    0.89      3\n",
       "2    1.81      6\n",
       "3    2.30     12"
      ]
     },
     "execution_count": 135,
     "metadata": {},
     "output_type": "execute_result"
    }
   ],
   "source": [
    "a=pd.Series([0.29,0.89,1.81,2.3])\n",
    "b=pd.Series([1,3,6,12])\n",
    "ab=pd.DataFrame({'profit':a,'month':b})\n",
    "ab"
   ]
  },
  {
   "cell_type": "code",
   "execution_count": 128,
   "metadata": {},
   "outputs": [
    {
     "data": {
      "text/plain": [
       "<seaborn.axisgrid.FacetGrid at 0x1fb34769a88>"
      ]
     },
     "execution_count": 128,
     "metadata": {},
     "output_type": "execute_result"
    },
    {
     "data": {
      "image/png": "[encoded data removed]",
      "text/plain": [
       "<Figure size 360x360 with 1 Axes>"
      ]
     },
     "metadata": {
      "needs_background": "light"
     },
     "output_type": "display_data"
    }
   ],
   "source": [
    "import pickle\n",
    "import seaborn as sns\n",
    "sns.relplot(x='month',y='profit',data=ab)"
   ]
  },
  {
   "cell_type": "code",
   "execution_count": 130,
   "metadata": {},
   "outputs": [
    {
     "data": {
      "text/plain": [
       "LinearRegression(copy_X=True, fit_intercept=True, n_jobs=None, normalize=False)"
      ]
     },
     "execution_count": 130,
     "metadata": {},
     "output_type": "execute_result"
    }
   ],
   "source": [
    "from sklearn.linear_model import LinearRegression\n",
    "model=LinearRegression()\n",
    "model.fit(ab[['month']],ab[['profit']])"
   ]
  },
  {
   "cell_type": "code",
   "execution_count": 131,
   "metadata": {},
   "outputs": [
    {
     "name": "stdout",
     "output_type": "stream",
     "text": [
      "0.8999522936307035\n",
      "[0.34007246]\n",
      "[[0.17862319]]\n"
     ]
    }
   ],
   "source": [
    "r_sq=model.score(ab[['month']],ab[['profit']])\n",
    "print(r_sq)\n",
    "print(model.intercept_)\n",
    "print(model.coef_)"
   ]
  },
  {
   "cell_type": "code",
   "execution_count": 132,
   "metadata": {},
   "outputs": [
    {
     "data": {
      "text/plain": [
       "<matplotlib.axes._subplots.AxesSubplot at 0x1fb34769dc8>"
      ]
     },
     "execution_count": 132,
     "metadata": {},
     "output_type": "execute_result"
    },
    {
     "data": {
      "image/png": "[encoded data removed]",
      "text/plain": [
       "<Figure size 360x360 with 1 Axes>"
      ]
     },
     "metadata": {
      "needs_background": "light"
     },
     "output_type": "display_data"
    }
   ],
   "source": [
    "ab['predict_profit']=model.predict(ab[['month']])\n",
    "sns.relplot(x='month',y='profit',data=ab)\n",
    "sns.lineplot(x='month',y='predict_profit',color='r',data=ab)"
   ]
  },
  {
   "cell_type": "code",
   "execution_count": 142,
   "metadata": {},
   "outputs": [],
   "source": [
    "bm=pd.Series([0.14,0.54,1.32,2.08])\n",
    "a1=pd.Series([0.66,1.62,1.71,1.87])\n",
    "bm1=pd.Series([1.22,2.31,2.04,1.37])\n",
    "a_std=a.std()\n",
    "bm_std=bm.std()\n",
    "a1_std=a1.std()\n",
    "bm1_std=bm1.std()\n",
    "a_mean=a.mean()\n",
    "bm_mean=bm.mean()\n",
    "a1_mean=a1.mean()\n",
    "bm1_mean=bm1.mean()"
   ]
  },
  {
   "cell_type": "code",
   "execution_count": 145,
   "metadata": {},
   "outputs": [
    {
     "data": {
      "text/html": [
       "<div>\n",
       "<style scoped>\n",
       "    .dataframe tbody tr th:only-of-type {\n",
       "        vertical-align: middle;\n",
       "    }\n",
       "\n",
       "    .dataframe tbody tr th {\n",
       "        vertical-align: top;\n",
       "    }\n",
       "\n",
       "    .dataframe thead th {\n",
       "        text-align: right;\n",
       "    }\n",
       "</style>\n",
       "<table border=\"1\" class=\"dataframe\">\n",
       "  <thead>\n",
       "    <tr style=\"text-align: right;\">\n",
       "      <th></th>\n",
       "      <th>펀드(개월)</th>\n",
       "      <th>펀드(년도)</th>\n",
       "      <th>BM(개월)</th>\n",
       "      <th>BM(년도)</th>\n",
       "    </tr>\n",
       "  </thead>\n",
       "  <tbody>\n",
       "    <tr>\n",
       "      <th>평균 수익률</th>\n",
       "      <td>1.3225</td>\n",
       "      <td>1.465</td>\n",
       "      <td>1.02</td>\n",
       "      <td>1.735</td>\n",
       "    </tr>\n",
       "  </tbody>\n",
       "</table>\n",
       "</div>"
      ],
      "text/plain": [
       "        펀드(개월)  펀드(년도)  BM(개월)  BM(년도)\n",
       "평균 수익률  1.3225   1.465    1.02   1.735"
      ]
     },
     "execution_count": 145,
     "metadata": {},
     "output_type": "execute_result"
    }
   ],
   "source": [
    "a_data=pd.DataFrame({'펀드(개월)':a_mean,'펀드(년도)':a1_mean,'BM(개월)':bm_mean,'BM(년도)':bm1_mean},index=['평균 수익률'])\n",
    "a_data"
   ]
  },
  {
   "cell_type": "code",
   "execution_count": 146,
   "metadata": {},
   "outputs": [
    {
     "data": {
      "text/html": [
       "<div>\n",
       "<style scoped>\n",
       "    .dataframe tbody tr th:only-of-type {\n",
       "        vertical-align: middle;\n",
       "    }\n",
       "\n",
       "    .dataframe tbody tr th {\n",
       "        vertical-align: top;\n",
       "    }\n",
       "\n",
       "    .dataframe thead th {\n",
       "        text-align: right;\n",
       "    }\n",
       "</style>\n",
       "<table border=\"1\" class=\"dataframe\">\n",
       "  <thead>\n",
       "    <tr style=\"text-align: right;\">\n",
       "      <th></th>\n",
       "      <th>펀드(개월)</th>\n",
       "      <th>펀드(년도)</th>\n",
       "      <th>BM(개월)</th>\n",
       "      <th>BM(년도)</th>\n",
       "    </tr>\n",
       "  </thead>\n",
       "  <tbody>\n",
       "    <tr>\n",
       "      <th>위험도</th>\n",
       "      <td>0.903009</td>\n",
       "      <td>0.546535</td>\n",
       "      <td>1.02</td>\n",
       "      <td>1.735</td>\n",
       "    </tr>\n",
       "  </tbody>\n",
       "</table>\n",
       "</div>"
      ],
      "text/plain": [
       "       펀드(개월)    펀드(년도)  BM(개월)  BM(년도)\n",
       "위험도  0.903009  0.546535    1.02   1.735"
      ]
     },
     "execution_count": 146,
     "metadata": {},
     "output_type": "execute_result"
    }
   ],
   "source": [
    "b_data=pd.DataFrame({'펀드(개월)':a_std,'펀드(년도)':a1_std,'BM(개월)':bm_mean,'BM(년도)':bm1_mean},index=['위험도'])\n",
    "b_data"
   ]
  },
  {
   "cell_type": "code",
   "execution_count": 147,
   "metadata": {},
   "outputs": [
    {
     "data": {
      "text/html": [
       "<div>\n",
       "<style scoped>\n",
       "    .dataframe tbody tr th:only-of-type {\n",
       "        vertical-align: middle;\n",
       "    }\n",
       "\n",
       "    .dataframe tbody tr th {\n",
       "        vertical-align: top;\n",
       "    }\n",
       "\n",
       "    .dataframe thead th {\n",
       "        text-align: right;\n",
       "    }\n",
       "</style>\n",
       "<table border=\"1\" class=\"dataframe\">\n",
       "  <thead>\n",
       "    <tr style=\"text-align: right;\">\n",
       "      <th></th>\n",
       "      <th>펀드(개월)</th>\n",
       "      <th>펀드(년도)</th>\n",
       "      <th>BM(개월)</th>\n",
       "      <th>BM(년도)</th>\n",
       "    </tr>\n",
       "  </thead>\n",
       "  <tbody>\n",
       "    <tr>\n",
       "      <th>평균 수익률</th>\n",
       "      <td>1.322500</td>\n",
       "      <td>1.465000</td>\n",
       "      <td>1.02</td>\n",
       "      <td>1.735</td>\n",
       "    </tr>\n",
       "    <tr>\n",
       "      <th>위험도</th>\n",
       "      <td>0.903009</td>\n",
       "      <td>0.546535</td>\n",
       "      <td>1.02</td>\n",
       "      <td>1.735</td>\n",
       "    </tr>\n",
       "  </tbody>\n",
       "</table>\n",
       "</div>"
      ],
      "text/plain": [
       "          펀드(개월)    펀드(년도)  BM(개월)  BM(년도)\n",
       "평균 수익률  1.322500  1.465000    1.02   1.735\n",
       "위험도     0.903009  0.546535    1.02   1.735"
      ]
     },
     "execution_count": 147,
     "metadata": {},
     "output_type": "execute_result"
    }
   ],
   "source": [
    "total_data=pd.concat([a_data,b_data])\n",
    "total_data"
   ]
  },
  {
   "cell_type": "code",
   "execution_count": null,
   "metadata": {},
   "outputs": [],
   "source": []
  },
  {
   "cell_type": "code",
   "execution_count": null,
   "metadata": {},
   "outputs": [],
   "source": []
  },
  {
   "cell_type": "code",
   "execution_count": null,
   "metadata": {},
   "outputs": [],
   "source": []
  }
 ],
 "metadata": {
  "kernelspec": {
   "display_name": "Python 3",
   "language": "python",
   "name": "python3"
  },
  "language_info": {
   "codemirror_mode": {
    "name": "ipython",
    "version": 3
   },
   "file_extension": ".py",
   "mimetype": "text/x-python",
   "name": "python",
   "nbconvert_exporter": "python",
   "pygments_lexer": "ipython3",
   "version": "3.7.6"
  }
 },
 "nbformat": 4,
 "nbformat_minor": 4
}
