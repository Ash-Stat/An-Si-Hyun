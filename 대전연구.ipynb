{
  "nbformat": 4,
  "nbformat_minor": 0,
  "metadata": {
    "colab": {
      "name": "대전연구.ipynb",
      "provenance": [],
      "authorship_tag": "ABX9TyPGmfR96N9I5LFhXwqZCbmJ",
      "include_colab_link": true
    },
    "kernelspec": {
      "name": "python3",
      "display_name": "Python 3"
    }
  },
  "cells": [
    {
      "cell_type": "markdown",
      "metadata": {
        "id": "view-in-github",
        "colab_type": "text"
      },
      "source": [
        "<a href=\"https://colab.research.google.com/github/Ash-Stat/An-Si-Hyun/blob/data/%EB%8C%80%EC%A0%84%EC%97%B0%EA%B5%AC.ipynb\" target=\"_parent\"><img src=\"https://colab.research.google.com/assets/colab-badge.svg\" alt=\"Open In Colab\"/></a>"
      ]
    },
    {
      "cell_type": "code",
      "metadata": {
        "id": "H1Jd05cZZJMI"
      },
      "source": [
        "import pandas as pd\n",
        "location=pd.read_csv('./locationn.csv')  #데이터셋 각각 불러오기 원자료에서 고유 좌표\n",
        "panorama=pd.read_csv('./대전파노라마.csv') #다운받은 파노라마\n",
        "log_lat=pd.read_csv('./대전경도위도.csv') #데이터 셋에 있었던 위도경도로 다운받기 성공한 위도경도\n",
        "panora=pd.read_csv('./파노라마포함된.txt',sep=' ') #위도경도 파노라마 포함된 자료"
      ],
      "execution_count": 25,
      "outputs": []
    },
    {
      "cell_type": "code",
      "metadata": {
        "colab": {
          "base_uri": "https://localhost:8080/",
          "height": 419
        },
        "id": "-AE56X1lZkRu",
        "outputId": "093d2c0e-882f-4a41-c4d8-3b2dd5d22418"
      },
      "source": [
        "location=location.drop(['Unnamed: 0'],axis=1) #대전데이터셋의 고유좌표 불러오기 및 정리\n",
        "location=location.sort_values('x')\n",
        "location=location.reset_index()\n",
        "location=location.drop(['index'],axis=1)\n",
        "location"
      ],
      "execution_count": 26,
      "outputs": [
        {
          "output_type": "execute_result",
          "data": {
            "text/html": [
              "<div>\n",
              "<style scoped>\n",
              "    .dataframe tbody tr th:only-of-type {\n",
              "        vertical-align: middle;\n",
              "    }\n",
              "\n",
              "    .dataframe tbody tr th {\n",
              "        vertical-align: top;\n",
              "    }\n",
              "\n",
              "    .dataframe thead th {\n",
              "        text-align: right;\n",
              "    }\n",
              "</style>\n",
              "<table border=\"1\" class=\"dataframe\">\n",
              "  <thead>\n",
              "    <tr style=\"text-align: right;\">\n",
              "      <th></th>\n",
              "      <th>x</th>\n",
              "      <th>y</th>\n",
              "    </tr>\n",
              "  </thead>\n",
              "  <tbody>\n",
              "    <tr>\n",
              "      <th>0</th>\n",
              "      <td>127.301355</td>\n",
              "      <td>36.337887</td>\n",
              "    </tr>\n",
              "    <tr>\n",
              "      <th>1</th>\n",
              "      <td>127.302159</td>\n",
              "      <td>36.388794</td>\n",
              "    </tr>\n",
              "    <tr>\n",
              "      <th>2</th>\n",
              "      <td>127.302358</td>\n",
              "      <td>36.357801</td>\n",
              "    </tr>\n",
              "    <tr>\n",
              "      <th>3</th>\n",
              "      <td>127.302428</td>\n",
              "      <td>36.343706</td>\n",
              "    </tr>\n",
              "    <tr>\n",
              "      <th>4</th>\n",
              "      <td>127.303293</td>\n",
              "      <td>36.344126</td>\n",
              "    </tr>\n",
              "    <tr>\n",
              "      <th>...</th>\n",
              "      <td>...</td>\n",
              "      <td>...</td>\n",
              "    </tr>\n",
              "    <tr>\n",
              "      <th>757</th>\n",
              "      <td>127.462773</td>\n",
              "      <td>36.315820</td>\n",
              "    </tr>\n",
              "    <tr>\n",
              "      <th>758</th>\n",
              "      <td>127.463796</td>\n",
              "      <td>36.328983</td>\n",
              "    </tr>\n",
              "    <tr>\n",
              "      <th>759</th>\n",
              "      <td>127.464157</td>\n",
              "      <td>36.287581</td>\n",
              "    </tr>\n",
              "    <tr>\n",
              "      <th>760</th>\n",
              "      <td>127.465668</td>\n",
              "      <td>36.327180</td>\n",
              "    </tr>\n",
              "    <tr>\n",
              "      <th>761</th>\n",
              "      <td>127.470424</td>\n",
              "      <td>36.282760</td>\n",
              "    </tr>\n",
              "  </tbody>\n",
              "</table>\n",
              "<p>762 rows × 2 columns</p>\n",
              "</div>"
            ],
            "text/plain": [
              "              x          y\n",
              "0    127.301355  36.337887\n",
              "1    127.302159  36.388794\n",
              "2    127.302358  36.357801\n",
              "3    127.302428  36.343706\n",
              "4    127.303293  36.344126\n",
              "..          ...        ...\n",
              "757  127.462773  36.315820\n",
              "758  127.463796  36.328983\n",
              "759  127.464157  36.287581\n",
              "760  127.465668  36.327180\n",
              "761  127.470424  36.282760\n",
              "\n",
              "[762 rows x 2 columns]"
            ]
          },
          "metadata": {
            "tags": []
          },
          "execution_count": 26
        }
      ]
    },
    {
      "cell_type": "code",
      "metadata": {
        "colab": {
          "base_uri": "https://localhost:8080/",
          "height": 419
        },
        "id": "jWoKEivXZnzX",
        "outputId": "fed01c9f-fa11-49cf-97b5-ff0cb1bff773"
      },
      "source": [
        "panorama  #파노라마 확인"
      ],
      "execution_count": 27,
      "outputs": [
        {
          "output_type": "execute_result",
          "data": {
            "text/html": [
              "<div>\n",
              "<style scoped>\n",
              "    .dataframe tbody tr th:only-of-type {\n",
              "        vertical-align: middle;\n",
              "    }\n",
              "\n",
              "    .dataframe tbody tr th {\n",
              "        vertical-align: top;\n",
              "    }\n",
              "\n",
              "    .dataframe thead th {\n",
              "        text-align: right;\n",
              "    }\n",
              "</style>\n",
              "<table border=\"1\" class=\"dataframe\">\n",
              "  <thead>\n",
              "    <tr style=\"text-align: right;\">\n",
              "      <th></th>\n",
              "      <th>panorama</th>\n",
              "    </tr>\n",
              "  </thead>\n",
              "  <tbody>\n",
              "    <tr>\n",
              "      <th>0</th>\n",
              "      <td>54tbUYef57t8d5_rxwsM4Q</td>\n",
              "    </tr>\n",
              "    <tr>\n",
              "      <th>1</th>\n",
              "      <td>CAoSK0FGMVFpcFBFNmtvalNabXktOC1YWkFSZGlhdFNvOU...</td>\n",
              "    </tr>\n",
              "    <tr>\n",
              "      <th>2</th>\n",
              "      <td>Z6YCvGhdM7c5n8NEweO_Qw</td>\n",
              "    </tr>\n",
              "    <tr>\n",
              "      <th>3</th>\n",
              "      <td>Uk3Ki328nfIJcDS0p0eFjw</td>\n",
              "    </tr>\n",
              "    <tr>\n",
              "      <th>4</th>\n",
              "      <td>CAoSLEFGMVFpcE1qQlh0al9tTkN5LU9IZjlteU56c3Z1Yk...</td>\n",
              "    </tr>\n",
              "    <tr>\n",
              "      <th>...</th>\n",
              "      <td>...</td>\n",
              "    </tr>\n",
              "    <tr>\n",
              "      <th>757</th>\n",
              "      <td>9nXvNDPq1Z7_BV3VkQUuWA</td>\n",
              "    </tr>\n",
              "    <tr>\n",
              "      <th>758</th>\n",
              "      <td>9nXvNDPq1Z7_BV3VkQUuWA</td>\n",
              "    </tr>\n",
              "    <tr>\n",
              "      <th>759</th>\n",
              "      <td>CAoSLEFGMVFpcE5STUtpTFNPOFVEUTltVk5TUU1WZ1FndW...</td>\n",
              "    </tr>\n",
              "    <tr>\n",
              "      <th>760</th>\n",
              "      <td>50n_At2HCikYnoqxLJV5Bg</td>\n",
              "    </tr>\n",
              "    <tr>\n",
              "      <th>761</th>\n",
              "      <td>CAoSLEFGMVFpcFBocE5TRE1oMWkyUF9FbmpobVFhb2NRWn...</td>\n",
              "    </tr>\n",
              "  </tbody>\n",
              "</table>\n",
              "<p>762 rows × 1 columns</p>\n",
              "</div>"
            ],
            "text/plain": [
              "                                              panorama\n",
              "0                               54tbUYef57t8d5_rxwsM4Q\n",
              "1    CAoSK0FGMVFpcFBFNmtvalNabXktOC1YWkFSZGlhdFNvOU...\n",
              "2                               Z6YCvGhdM7c5n8NEweO_Qw\n",
              "3                               Uk3Ki328nfIJcDS0p0eFjw\n",
              "4    CAoSLEFGMVFpcE1qQlh0al9tTkN5LU9IZjlteU56c3Z1Yk...\n",
              "..                                                 ...\n",
              "757                             9nXvNDPq1Z7_BV3VkQUuWA\n",
              "758                             9nXvNDPq1Z7_BV3VkQUuWA\n",
              "759  CAoSLEFGMVFpcE5STUtpTFNPOFVEUTltVk5TUU1WZ1FndW...\n",
              "760                             50n_At2HCikYnoqxLJV5Bg\n",
              "761  CAoSLEFGMVFpcFBocE5TRE1oMWkyUF9FbmpobVFhb2NRWn...\n",
              "\n",
              "[762 rows x 1 columns]"
            ]
          },
          "metadata": {
            "tags": []
          },
          "execution_count": 27
        }
      ]
    },
    {
      "cell_type": "code",
      "metadata": {
        "colab": {
          "base_uri": "https://localhost:8080/",
          "height": 419
        },
        "id": "dxk2qQVZX7Vg",
        "outputId": "b6249664-ce64-4aea-a832-4a0f6b461aa5"
      },
      "source": [
        "pp=panorama.drop_duplicates() #파노라마 고유값확인, 얼마나 미싱되었나\n",
        "pp"
      ],
      "execution_count": 16,
      "outputs": [
        {
          "output_type": "execute_result",
          "data": {
            "text/html": [
              "<div>\n",
              "<style scoped>\n",
              "    .dataframe tbody tr th:only-of-type {\n",
              "        vertical-align: middle;\n",
              "    }\n",
              "\n",
              "    .dataframe tbody tr th {\n",
              "        vertical-align: top;\n",
              "    }\n",
              "\n",
              "    .dataframe thead th {\n",
              "        text-align: right;\n",
              "    }\n",
              "</style>\n",
              "<table border=\"1\" class=\"dataframe\">\n",
              "  <thead>\n",
              "    <tr style=\"text-align: right;\">\n",
              "      <th></th>\n",
              "      <th>panorama</th>\n",
              "    </tr>\n",
              "  </thead>\n",
              "  <tbody>\n",
              "    <tr>\n",
              "      <th>0</th>\n",
              "      <td>54tbUYef57t8d5_rxwsM4Q</td>\n",
              "    </tr>\n",
              "    <tr>\n",
              "      <th>1</th>\n",
              "      <td>CAoSK0FGMVFpcFBFNmtvalNabXktOC1YWkFSZGlhdFNvOU...</td>\n",
              "    </tr>\n",
              "    <tr>\n",
              "      <th>2</th>\n",
              "      <td>Z6YCvGhdM7c5n8NEweO_Qw</td>\n",
              "    </tr>\n",
              "    <tr>\n",
              "      <th>3</th>\n",
              "      <td>Uk3Ki328nfIJcDS0p0eFjw</td>\n",
              "    </tr>\n",
              "    <tr>\n",
              "      <th>4</th>\n",
              "      <td>CAoSLEFGMVFpcE1qQlh0al9tTkN5LU9IZjlteU56c3Z1Yk...</td>\n",
              "    </tr>\n",
              "    <tr>\n",
              "      <th>...</th>\n",
              "      <td>...</td>\n",
              "    </tr>\n",
              "    <tr>\n",
              "      <th>756</th>\n",
              "      <td>X9HGAfnx8l2V5Tl1-0UxVA</td>\n",
              "    </tr>\n",
              "    <tr>\n",
              "      <th>757</th>\n",
              "      <td>9nXvNDPq1Z7_BV3VkQUuWA</td>\n",
              "    </tr>\n",
              "    <tr>\n",
              "      <th>759</th>\n",
              "      <td>CAoSLEFGMVFpcE5STUtpTFNPOFVEUTltVk5TUU1WZ1FndW...</td>\n",
              "    </tr>\n",
              "    <tr>\n",
              "      <th>760</th>\n",
              "      <td>50n_At2HCikYnoqxLJV5Bg</td>\n",
              "    </tr>\n",
              "    <tr>\n",
              "      <th>761</th>\n",
              "      <td>CAoSLEFGMVFpcFBocE5TRE1oMWkyUF9FbmpobVFhb2NRWn...</td>\n",
              "    </tr>\n",
              "  </tbody>\n",
              "</table>\n",
              "<p>709 rows × 1 columns</p>\n",
              "</div>"
            ],
            "text/plain": [
              "                                              panorama\n",
              "0                               54tbUYef57t8d5_rxwsM4Q\n",
              "1    CAoSK0FGMVFpcFBFNmtvalNabXktOC1YWkFSZGlhdFNvOU...\n",
              "2                               Z6YCvGhdM7c5n8NEweO_Qw\n",
              "3                               Uk3Ki328nfIJcDS0p0eFjw\n",
              "4    CAoSLEFGMVFpcE1qQlh0al9tTkN5LU9IZjlteU56c3Z1Yk...\n",
              "..                                                 ...\n",
              "756                             X9HGAfnx8l2V5Tl1-0UxVA\n",
              "757                             9nXvNDPq1Z7_BV3VkQUuWA\n",
              "759  CAoSLEFGMVFpcE5STUtpTFNPOFVEUTltVk5TUU1WZ1FndW...\n",
              "760                             50n_At2HCikYnoqxLJV5Bg\n",
              "761  CAoSLEFGMVFpcFBocE5TRE1oMWkyUF9FbmpobVFhb2NRWn...\n",
              "\n",
              "[709 rows x 1 columns]"
            ]
          },
          "metadata": {
            "tags": []
          },
          "execution_count": 16
        }
      ]
    },
    {
      "cell_type": "code",
      "metadata": {
        "colab": {
          "base_uri": "https://localhost:8080/",
          "height": 419
        },
        "id": "pVy9Q3VNZo7k",
        "outputId": "fbf86656-f244-4a96-adc1-83a8945689db"
      },
      "source": [
        "log_lat.columns=['d_x','d_y'] #원래데이터셋의 위도경도로 다운로드 성공한 위도경도\n",
        "log_lat"
      ],
      "execution_count": 28,
      "outputs": [
        {
          "output_type": "execute_result",
          "data": {
            "text/html": [
              "<div>\n",
              "<style scoped>\n",
              "    .dataframe tbody tr th:only-of-type {\n",
              "        vertical-align: middle;\n",
              "    }\n",
              "\n",
              "    .dataframe tbody tr th {\n",
              "        vertical-align: top;\n",
              "    }\n",
              "\n",
              "    .dataframe thead th {\n",
              "        text-align: right;\n",
              "    }\n",
              "</style>\n",
              "<table border=\"1\" class=\"dataframe\">\n",
              "  <thead>\n",
              "    <tr style=\"text-align: right;\">\n",
              "      <th></th>\n",
              "      <th>d_x</th>\n",
              "      <th>d_y</th>\n",
              "    </tr>\n",
              "  </thead>\n",
              "  <tbody>\n",
              "    <tr>\n",
              "      <th>0</th>\n",
              "      <td>127.301355</td>\n",
              "      <td>36.337887</td>\n",
              "    </tr>\n",
              "    <tr>\n",
              "      <th>1</th>\n",
              "      <td>127.302159</td>\n",
              "      <td>36.388794</td>\n",
              "    </tr>\n",
              "    <tr>\n",
              "      <th>2</th>\n",
              "      <td>127.302358</td>\n",
              "      <td>36.357801</td>\n",
              "    </tr>\n",
              "    <tr>\n",
              "      <th>3</th>\n",
              "      <td>127.302428</td>\n",
              "      <td>36.343706</td>\n",
              "    </tr>\n",
              "    <tr>\n",
              "      <th>4</th>\n",
              "      <td>127.303293</td>\n",
              "      <td>36.344126</td>\n",
              "    </tr>\n",
              "    <tr>\n",
              "      <th>...</th>\n",
              "      <td>...</td>\n",
              "      <td>...</td>\n",
              "    </tr>\n",
              "    <tr>\n",
              "      <th>757</th>\n",
              "      <td>127.462773</td>\n",
              "      <td>36.315820</td>\n",
              "    </tr>\n",
              "    <tr>\n",
              "      <th>758</th>\n",
              "      <td>127.463796</td>\n",
              "      <td>36.328983</td>\n",
              "    </tr>\n",
              "    <tr>\n",
              "      <th>759</th>\n",
              "      <td>127.464157</td>\n",
              "      <td>36.287581</td>\n",
              "    </tr>\n",
              "    <tr>\n",
              "      <th>760</th>\n",
              "      <td>127.465668</td>\n",
              "      <td>36.327180</td>\n",
              "    </tr>\n",
              "    <tr>\n",
              "      <th>761</th>\n",
              "      <td>127.470424</td>\n",
              "      <td>36.282760</td>\n",
              "    </tr>\n",
              "  </tbody>\n",
              "</table>\n",
              "<p>762 rows × 2 columns</p>\n",
              "</div>"
            ],
            "text/plain": [
              "            d_x        d_y\n",
              "0    127.301355  36.337887\n",
              "1    127.302159  36.388794\n",
              "2    127.302358  36.357801\n",
              "3    127.302428  36.343706\n",
              "4    127.303293  36.344126\n",
              "..          ...        ...\n",
              "757  127.462773  36.315820\n",
              "758  127.463796  36.328983\n",
              "759  127.464157  36.287581\n",
              "760  127.465668  36.327180\n",
              "761  127.470424  36.282760\n",
              "\n",
              "[762 rows x 2 columns]"
            ]
          },
          "metadata": {
            "tags": []
          },
          "execution_count": 28
        }
      ]
    },
    {
      "cell_type": "code",
      "metadata": {
        "colab": {
          "base_uri": "https://localhost:8080/",
          "height": 419
        },
        "id": "Ooe6iDi_Zrfo",
        "outputId": "1f37fcab-f0e6-4580-eea8-1e23095405e5"
      },
      "source": [
        "location=pd.concat([location,panorama,log_lat],axis=1) #데이터셋 총합\n",
        "location"
      ],
      "execution_count": 29,
      "outputs": [
        {
          "output_type": "execute_result",
          "data": {
            "text/html": [
              "<div>\n",
              "<style scoped>\n",
              "    .dataframe tbody tr th:only-of-type {\n",
              "        vertical-align: middle;\n",
              "    }\n",
              "\n",
              "    .dataframe tbody tr th {\n",
              "        vertical-align: top;\n",
              "    }\n",
              "\n",
              "    .dataframe thead th {\n",
              "        text-align: right;\n",
              "    }\n",
              "</style>\n",
              "<table border=\"1\" class=\"dataframe\">\n",
              "  <thead>\n",
              "    <tr style=\"text-align: right;\">\n",
              "      <th></th>\n",
              "      <th>x</th>\n",
              "      <th>y</th>\n",
              "      <th>panorama</th>\n",
              "      <th>d_x</th>\n",
              "      <th>d_y</th>\n",
              "    </tr>\n",
              "  </thead>\n",
              "  <tbody>\n",
              "    <tr>\n",
              "      <th>0</th>\n",
              "      <td>127.301355</td>\n",
              "      <td>36.337887</td>\n",
              "      <td>54tbUYef57t8d5_rxwsM4Q</td>\n",
              "      <td>127.301355</td>\n",
              "      <td>36.337887</td>\n",
              "    </tr>\n",
              "    <tr>\n",
              "      <th>1</th>\n",
              "      <td>127.302159</td>\n",
              "      <td>36.388794</td>\n",
              "      <td>CAoSK0FGMVFpcFBFNmtvalNabXktOC1YWkFSZGlhdFNvOU...</td>\n",
              "      <td>127.302159</td>\n",
              "      <td>36.388794</td>\n",
              "    </tr>\n",
              "    <tr>\n",
              "      <th>2</th>\n",
              "      <td>127.302358</td>\n",
              "      <td>36.357801</td>\n",
              "      <td>Z6YCvGhdM7c5n8NEweO_Qw</td>\n",
              "      <td>127.302358</td>\n",
              "      <td>36.357801</td>\n",
              "    </tr>\n",
              "    <tr>\n",
              "      <th>3</th>\n",
              "      <td>127.302428</td>\n",
              "      <td>36.343706</td>\n",
              "      <td>Uk3Ki328nfIJcDS0p0eFjw</td>\n",
              "      <td>127.302428</td>\n",
              "      <td>36.343706</td>\n",
              "    </tr>\n",
              "    <tr>\n",
              "      <th>4</th>\n",
              "      <td>127.303293</td>\n",
              "      <td>36.344126</td>\n",
              "      <td>CAoSLEFGMVFpcE1qQlh0al9tTkN5LU9IZjlteU56c3Z1Yk...</td>\n",
              "      <td>127.303293</td>\n",
              "      <td>36.344126</td>\n",
              "    </tr>\n",
              "    <tr>\n",
              "      <th>...</th>\n",
              "      <td>...</td>\n",
              "      <td>...</td>\n",
              "      <td>...</td>\n",
              "      <td>...</td>\n",
              "      <td>...</td>\n",
              "    </tr>\n",
              "    <tr>\n",
              "      <th>757</th>\n",
              "      <td>127.462773</td>\n",
              "      <td>36.315820</td>\n",
              "      <td>9nXvNDPq1Z7_BV3VkQUuWA</td>\n",
              "      <td>127.462773</td>\n",
              "      <td>36.315820</td>\n",
              "    </tr>\n",
              "    <tr>\n",
              "      <th>758</th>\n",
              "      <td>127.463796</td>\n",
              "      <td>36.328983</td>\n",
              "      <td>9nXvNDPq1Z7_BV3VkQUuWA</td>\n",
              "      <td>127.463796</td>\n",
              "      <td>36.328983</td>\n",
              "    </tr>\n",
              "    <tr>\n",
              "      <th>759</th>\n",
              "      <td>127.464157</td>\n",
              "      <td>36.287581</td>\n",
              "      <td>CAoSLEFGMVFpcE5STUtpTFNPOFVEUTltVk5TUU1WZ1FndW...</td>\n",
              "      <td>127.464157</td>\n",
              "      <td>36.287581</td>\n",
              "    </tr>\n",
              "    <tr>\n",
              "      <th>760</th>\n",
              "      <td>127.465668</td>\n",
              "      <td>36.327180</td>\n",
              "      <td>50n_At2HCikYnoqxLJV5Bg</td>\n",
              "      <td>127.465668</td>\n",
              "      <td>36.327180</td>\n",
              "    </tr>\n",
              "    <tr>\n",
              "      <th>761</th>\n",
              "      <td>127.470424</td>\n",
              "      <td>36.282760</td>\n",
              "      <td>CAoSLEFGMVFpcFBocE5TRE1oMWkyUF9FbmpobVFhb2NRWn...</td>\n",
              "      <td>127.470424</td>\n",
              "      <td>36.282760</td>\n",
              "    </tr>\n",
              "  </tbody>\n",
              "</table>\n",
              "<p>762 rows × 5 columns</p>\n",
              "</div>"
            ],
            "text/plain": [
              "              x          y  ...         d_x        d_y\n",
              "0    127.301355  36.337887  ...  127.301355  36.337887\n",
              "1    127.302159  36.388794  ...  127.302159  36.388794\n",
              "2    127.302358  36.357801  ...  127.302358  36.357801\n",
              "3    127.302428  36.343706  ...  127.302428  36.343706\n",
              "4    127.303293  36.344126  ...  127.303293  36.344126\n",
              "..          ...        ...  ...         ...        ...\n",
              "757  127.462773  36.315820  ...  127.462773  36.315820\n",
              "758  127.463796  36.328983  ...  127.463796  36.328983\n",
              "759  127.464157  36.287581  ...  127.464157  36.287581\n",
              "760  127.465668  36.327180  ...  127.465668  36.327180\n",
              "761  127.470424  36.282760  ...  127.470424  36.282760\n",
              "\n",
              "[762 rows x 5 columns]"
            ]
          },
          "metadata": {
            "tags": []
          },
          "execution_count": 29
        }
      ]
    },
    {
      "cell_type": "code",
      "metadata": {
        "colab": {
          "base_uri": "https://localhost:8080/",
          "height": 419
        },
        "id": "TcQAV28jzmgT",
        "outputId": "df2e696a-065a-4af8-8b8c-455bfc4a687a"
      },
      "source": [
        "panora"
      ],
      "execution_count": 30,
      "outputs": [
        {
          "output_type": "execute_result",
          "data": {
            "text/html": [
              "<div>\n",
              "<style scoped>\n",
              "    .dataframe tbody tr th:only-of-type {\n",
              "        vertical-align: middle;\n",
              "    }\n",
              "\n",
              "    .dataframe tbody tr th {\n",
              "        vertical-align: top;\n",
              "    }\n",
              "\n",
              "    .dataframe thead th {\n",
              "        text-align: right;\n",
              "    }\n",
              "</style>\n",
              "<table border=\"1\" class=\"dataframe\">\n",
              "  <thead>\n",
              "    <tr style=\"text-align: right;\">\n",
              "      <th></th>\n",
              "      <th>x</th>\n",
              "      <th>y</th>\n",
              "      <th>p</th>\n",
              "    </tr>\n",
              "  </thead>\n",
              "  <tbody>\n",
              "    <tr>\n",
              "      <th>0</th>\n",
              "      <td>127.301109</td>\n",
              "      <td>36.338152</td>\n",
              "      <td>54tbUYef57t8d5_rxwsM4Q.jpg</td>\n",
              "    </tr>\n",
              "    <tr>\n",
              "      <th>1</th>\n",
              "      <td>127.301958</td>\n",
              "      <td>36.388563</td>\n",
              "      <td>CAoSK0FGMVFpcFBFNmtvalNabXktOC1YWkFSZGlhdFNvOU...</td>\n",
              "    </tr>\n",
              "    <tr>\n",
              "      <th>2</th>\n",
              "      <td>127.302601</td>\n",
              "      <td>36.358149</td>\n",
              "      <td>Z6YCvGhdM7c5n8NEweO_Qw.jpg</td>\n",
              "    </tr>\n",
              "    <tr>\n",
              "      <th>3</th>\n",
              "      <td>127.302877</td>\n",
              "      <td>36.343933</td>\n",
              "      <td>Uk3Ki328nfIJcDS0p0eFjw.jpg</td>\n",
              "    </tr>\n",
              "    <tr>\n",
              "      <th>4</th>\n",
              "      <td>127.303120</td>\n",
              "      <td>36.344254</td>\n",
              "      <td>CAoSLEFGMVFpcE1qQlh0al9tTkN5LU9IZjlteU56c3Z1Yk...</td>\n",
              "    </tr>\n",
              "    <tr>\n",
              "      <th>...</th>\n",
              "      <td>...</td>\n",
              "      <td>...</td>\n",
              "      <td>...</td>\n",
              "    </tr>\n",
              "    <tr>\n",
              "      <th>707</th>\n",
              "      <td>127.462399</td>\n",
              "      <td>36.317706</td>\n",
              "      <td>X9HGAfnx8l2V5Tl1-0UxVA.jpg</td>\n",
              "    </tr>\n",
              "    <tr>\n",
              "      <th>708</th>\n",
              "      <td>127.462510</td>\n",
              "      <td>36.320795</td>\n",
              "      <td>tdHNZqxq8gvBAI3npaMoWw.jpg</td>\n",
              "    </tr>\n",
              "    <tr>\n",
              "      <th>709</th>\n",
              "      <td>127.464166</td>\n",
              "      <td>36.287657</td>\n",
              "      <td>CAoSLEFGMVFpcE5STUtpTFNPOFVEUTltVk5TUU1WZ1FndW...</td>\n",
              "    </tr>\n",
              "    <tr>\n",
              "      <th>710</th>\n",
              "      <td>127.466391</td>\n",
              "      <td>36.327242</td>\n",
              "      <td>50n_At2HCikYnoqxLJV5Bg.jpg</td>\n",
              "    </tr>\n",
              "    <tr>\n",
              "      <th>711</th>\n",
              "      <td>127.470209</td>\n",
              "      <td>36.282699</td>\n",
              "      <td>CAoSLEFGMVFpcFBocE5TRE1oMWkyUF9FbmpobVFhb2NRWn...</td>\n",
              "    </tr>\n",
              "  </tbody>\n",
              "</table>\n",
              "<p>712 rows × 3 columns</p>\n",
              "</div>"
            ],
            "text/plain": [
              "              x          y                                                  p\n",
              "0    127.301109  36.338152                         54tbUYef57t8d5_rxwsM4Q.jpg\n",
              "1    127.301958  36.388563  CAoSK0FGMVFpcFBFNmtvalNabXktOC1YWkFSZGlhdFNvOU...\n",
              "2    127.302601  36.358149                         Z6YCvGhdM7c5n8NEweO_Qw.jpg\n",
              "3    127.302877  36.343933                         Uk3Ki328nfIJcDS0p0eFjw.jpg\n",
              "4    127.303120  36.344254  CAoSLEFGMVFpcE1qQlh0al9tTkN5LU9IZjlteU56c3Z1Yk...\n",
              "..          ...        ...                                                ...\n",
              "707  127.462399  36.317706                         X9HGAfnx8l2V5Tl1-0UxVA.jpg\n",
              "708  127.462510  36.320795                         tdHNZqxq8gvBAI3npaMoWw.jpg\n",
              "709  127.464166  36.287657  CAoSLEFGMVFpcE5STUtpTFNPOFVEUTltVk5TUU1WZ1FndW...\n",
              "710  127.466391  36.327242                         50n_At2HCikYnoqxLJV5Bg.jpg\n",
              "711  127.470209  36.282699  CAoSLEFGMVFpcFBocE5TRE1oMWkyUF9FbmpobVFhb2NRWn...\n",
              "\n",
              "[712 rows x 3 columns]"
            ]
          },
          "metadata": {
            "tags": []
          },
          "execution_count": 30
        }
      ]
    },
    {
      "cell_type": "code",
      "metadata": {
        "colab": {
          "base_uri": "https://localhost:8080/"
        },
        "id": "PWnvdUgAzvbL",
        "outputId": "6605123f-d3bb-448e-93de-1f0913139386"
      },
      "source": [
        "panora_p=panora['p']\n",
        "panora_p # .jpg. 분리하는 과정"
      ],
      "execution_count": 36,
      "outputs": [
        {
          "output_type": "execute_result",
          "data": {
            "text/plain": [
              "0                             54tbUYef57t8d5_rxwsM4Q.jpg\n",
              "1      CAoSK0FGMVFpcFBFNmtvalNabXktOC1YWkFSZGlhdFNvOU...\n",
              "2                             Z6YCvGhdM7c5n8NEweO_Qw.jpg\n",
              "3                             Uk3Ki328nfIJcDS0p0eFjw.jpg\n",
              "4      CAoSLEFGMVFpcE1qQlh0al9tTkN5LU9IZjlteU56c3Z1Yk...\n",
              "                             ...                        \n",
              "707                           X9HGAfnx8l2V5Tl1-0UxVA.jpg\n",
              "708                           tdHNZqxq8gvBAI3npaMoWw.jpg\n",
              "709    CAoSLEFGMVFpcE5STUtpTFNPOFVEUTltVk5TUU1WZ1FndW...\n",
              "710                           50n_At2HCikYnoqxLJV5Bg.jpg\n",
              "711    CAoSLEFGMVFpcFBocE5TRE1oMWkyUF9FbmpobVFhb2NRWn...\n",
              "Name: p, Length: 712, dtype: object"
            ]
          },
          "metadata": {
            "tags": []
          },
          "execution_count": 36
        }
      ]
    },
    {
      "cell_type": "code",
      "metadata": {
        "colab": {
          "base_uri": "https://localhost:8080/",
          "height": 419
        },
        "id": "kCy8FbjOz6kr",
        "outputId": "35e460d0-4c09-474a-e0d7-46338a8f9502"
      },
      "source": [
        "em=pd.DataFrame()\n",
        "for p in panora_p:\n",
        "  p=p[:-4]\n",
        "  pa=pd.DataFrame([p])\n",
        "  em=pd.concat([em,pa],axis=0)\n",
        "em  #분리성공"
      ],
      "execution_count": 43,
      "outputs": [
        {
          "output_type": "execute_result",
          "data": {
            "text/html": [
              "<div>\n",
              "<style scoped>\n",
              "    .dataframe tbody tr th:only-of-type {\n",
              "        vertical-align: middle;\n",
              "    }\n",
              "\n",
              "    .dataframe tbody tr th {\n",
              "        vertical-align: top;\n",
              "    }\n",
              "\n",
              "    .dataframe thead th {\n",
              "        text-align: right;\n",
              "    }\n",
              "</style>\n",
              "<table border=\"1\" class=\"dataframe\">\n",
              "  <thead>\n",
              "    <tr style=\"text-align: right;\">\n",
              "      <th></th>\n",
              "      <th>0</th>\n",
              "    </tr>\n",
              "  </thead>\n",
              "  <tbody>\n",
              "    <tr>\n",
              "      <th>0</th>\n",
              "      <td>54tbUYef57t8d5_rxwsM4Q</td>\n",
              "    </tr>\n",
              "    <tr>\n",
              "      <th>0</th>\n",
              "      <td>CAoSK0FGMVFpcFBFNmtvalNabXktOC1YWkFSZGlhdFNvOU...</td>\n",
              "    </tr>\n",
              "    <tr>\n",
              "      <th>0</th>\n",
              "      <td>Z6YCvGhdM7c5n8NEweO_Qw</td>\n",
              "    </tr>\n",
              "    <tr>\n",
              "      <th>0</th>\n",
              "      <td>Uk3Ki328nfIJcDS0p0eFjw</td>\n",
              "    </tr>\n",
              "    <tr>\n",
              "      <th>0</th>\n",
              "      <td>CAoSLEFGMVFpcE1qQlh0al9tTkN5LU9IZjlteU56c3Z1Yk...</td>\n",
              "    </tr>\n",
              "    <tr>\n",
              "      <th>...</th>\n",
              "      <td>...</td>\n",
              "    </tr>\n",
              "    <tr>\n",
              "      <th>0</th>\n",
              "      <td>X9HGAfnx8l2V5Tl1-0UxVA</td>\n",
              "    </tr>\n",
              "    <tr>\n",
              "      <th>0</th>\n",
              "      <td>tdHNZqxq8gvBAI3npaMoWw</td>\n",
              "    </tr>\n",
              "    <tr>\n",
              "      <th>0</th>\n",
              "      <td>CAoSLEFGMVFpcE5STUtpTFNPOFVEUTltVk5TUU1WZ1FndW...</td>\n",
              "    </tr>\n",
              "    <tr>\n",
              "      <th>0</th>\n",
              "      <td>50n_At2HCikYnoqxLJV5Bg</td>\n",
              "    </tr>\n",
              "    <tr>\n",
              "      <th>0</th>\n",
              "      <td>CAoSLEFGMVFpcFBocE5TRE1oMWkyUF9FbmpobVFhb2NRWn...</td>\n",
              "    </tr>\n",
              "  </tbody>\n",
              "</table>\n",
              "<p>712 rows × 1 columns</p>\n",
              "</div>"
            ],
            "text/plain": [
              "                                                    0\n",
              "0                              54tbUYef57t8d5_rxwsM4Q\n",
              "0   CAoSK0FGMVFpcFBFNmtvalNabXktOC1YWkFSZGlhdFNvOU...\n",
              "0                              Z6YCvGhdM7c5n8NEweO_Qw\n",
              "0                              Uk3Ki328nfIJcDS0p0eFjw\n",
              "0   CAoSLEFGMVFpcE1qQlh0al9tTkN5LU9IZjlteU56c3Z1Yk...\n",
              "..                                                ...\n",
              "0                              X9HGAfnx8l2V5Tl1-0UxVA\n",
              "0                              tdHNZqxq8gvBAI3npaMoWw\n",
              "0   CAoSLEFGMVFpcE5STUtpTFNPOFVEUTltVk5TUU1WZ1FndW...\n",
              "0                              50n_At2HCikYnoqxLJV5Bg\n",
              "0   CAoSLEFGMVFpcFBocE5TRE1oMWkyUF9FbmpobVFhb2NRWn...\n",
              "\n",
              "[712 rows x 1 columns]"
            ]
          },
          "metadata": {
            "tags": []
          },
          "execution_count": 43
        }
      ]
    },
    {
      "cell_type": "code",
      "metadata": {
        "colab": {
          "base_uri": "https://localhost:8080/",
          "height": 419
        },
        "id": "eHWoco7C1L3a",
        "outputId": "56f71428-1608-41bb-f29f-e999fe5e7b84"
      },
      "source": [
        "em=em.reset_index()\n",
        "em=em.drop(['index'],axis=1)\n",
        "em.columns=['p']\n",
        "em"
      ],
      "execution_count": 44,
      "outputs": [
        {
          "output_type": "execute_result",
          "data": {
            "text/html": [
              "<div>\n",
              "<style scoped>\n",
              "    .dataframe tbody tr th:only-of-type {\n",
              "        vertical-align: middle;\n",
              "    }\n",
              "\n",
              "    .dataframe tbody tr th {\n",
              "        vertical-align: top;\n",
              "    }\n",
              "\n",
              "    .dataframe thead th {\n",
              "        text-align: right;\n",
              "    }\n",
              "</style>\n",
              "<table border=\"1\" class=\"dataframe\">\n",
              "  <thead>\n",
              "    <tr style=\"text-align: right;\">\n",
              "      <th></th>\n",
              "      <th>p</th>\n",
              "    </tr>\n",
              "  </thead>\n",
              "  <tbody>\n",
              "    <tr>\n",
              "      <th>0</th>\n",
              "      <td>54tbUYef57t8d5_rxwsM4Q</td>\n",
              "    </tr>\n",
              "    <tr>\n",
              "      <th>1</th>\n",
              "      <td>CAoSK0FGMVFpcFBFNmtvalNabXktOC1YWkFSZGlhdFNvOU...</td>\n",
              "    </tr>\n",
              "    <tr>\n",
              "      <th>2</th>\n",
              "      <td>Z6YCvGhdM7c5n8NEweO_Qw</td>\n",
              "    </tr>\n",
              "    <tr>\n",
              "      <th>3</th>\n",
              "      <td>Uk3Ki328nfIJcDS0p0eFjw</td>\n",
              "    </tr>\n",
              "    <tr>\n",
              "      <th>4</th>\n",
              "      <td>CAoSLEFGMVFpcE1qQlh0al9tTkN5LU9IZjlteU56c3Z1Yk...</td>\n",
              "    </tr>\n",
              "    <tr>\n",
              "      <th>...</th>\n",
              "      <td>...</td>\n",
              "    </tr>\n",
              "    <tr>\n",
              "      <th>707</th>\n",
              "      <td>X9HGAfnx8l2V5Tl1-0UxVA</td>\n",
              "    </tr>\n",
              "    <tr>\n",
              "      <th>708</th>\n",
              "      <td>tdHNZqxq8gvBAI3npaMoWw</td>\n",
              "    </tr>\n",
              "    <tr>\n",
              "      <th>709</th>\n",
              "      <td>CAoSLEFGMVFpcE5STUtpTFNPOFVEUTltVk5TUU1WZ1FndW...</td>\n",
              "    </tr>\n",
              "    <tr>\n",
              "      <th>710</th>\n",
              "      <td>50n_At2HCikYnoqxLJV5Bg</td>\n",
              "    </tr>\n",
              "    <tr>\n",
              "      <th>711</th>\n",
              "      <td>CAoSLEFGMVFpcFBocE5TRE1oMWkyUF9FbmpobVFhb2NRWn...</td>\n",
              "    </tr>\n",
              "  </tbody>\n",
              "</table>\n",
              "<p>712 rows × 1 columns</p>\n",
              "</div>"
            ],
            "text/plain": [
              "                                                     p\n",
              "0                               54tbUYef57t8d5_rxwsM4Q\n",
              "1    CAoSK0FGMVFpcFBFNmtvalNabXktOC1YWkFSZGlhdFNvOU...\n",
              "2                               Z6YCvGhdM7c5n8NEweO_Qw\n",
              "3                               Uk3Ki328nfIJcDS0p0eFjw\n",
              "4    CAoSLEFGMVFpcE1qQlh0al9tTkN5LU9IZjlteU56c3Z1Yk...\n",
              "..                                                 ...\n",
              "707                             X9HGAfnx8l2V5Tl1-0UxVA\n",
              "708                             tdHNZqxq8gvBAI3npaMoWw\n",
              "709  CAoSLEFGMVFpcE5STUtpTFNPOFVEUTltVk5TUU1WZ1FndW...\n",
              "710                             50n_At2HCikYnoqxLJV5Bg\n",
              "711  CAoSLEFGMVFpcFBocE5TRE1oMWkyUF9FbmpobVFhb2NRWn...\n",
              "\n",
              "[712 rows x 1 columns]"
            ]
          },
          "metadata": {
            "tags": []
          },
          "execution_count": 44
        }
      ]
    },
    {
      "cell_type": "code",
      "metadata": {
        "colab": {
          "base_uri": "https://localhost:8080/"
        },
        "id": "JnGxlAn74HFL",
        "outputId": "1ac0f3a3-cf9b-40c1-c295-a90e33bb4555"
      },
      "source": [
        "location_p=location['panorama']\n",
        "location_p=location_p.drop_duplicates()\n",
        "location_p #뭐가 결측되었나 확인하기 위한 사전 데이터셋 준비 과정 "
      ],
      "execution_count": 52,
      "outputs": [
        {
          "output_type": "execute_result",
          "data": {
            "text/plain": [
              "0                                 54tbUYef57t8d5_rxwsM4Q\n",
              "1      CAoSK0FGMVFpcFBFNmtvalNabXktOC1YWkFSZGlhdFNvOU...\n",
              "2                                 Z6YCvGhdM7c5n8NEweO_Qw\n",
              "3                                 Uk3Ki328nfIJcDS0p0eFjw\n",
              "4      CAoSLEFGMVFpcE1qQlh0al9tTkN5LU9IZjlteU56c3Z1Yk...\n",
              "                             ...                        \n",
              "756                               X9HGAfnx8l2V5Tl1-0UxVA\n",
              "757                               9nXvNDPq1Z7_BV3VkQUuWA\n",
              "759    CAoSLEFGMVFpcE5STUtpTFNPOFVEUTltVk5TUU1WZ1FndW...\n",
              "760                               50n_At2HCikYnoqxLJV5Bg\n",
              "761    CAoSLEFGMVFpcFBocE5TRE1oMWkyUF9FbmpobVFhb2NRWn...\n",
              "Name: panorama, Length: 709, dtype: object"
            ]
          },
          "metadata": {
            "tags": []
          },
          "execution_count": 52
        }
      ]
    },
    {
      "cell_type": "code",
      "metadata": {
        "colab": {
          "base_uri": "https://localhost:8080/"
        },
        "id": "sd1bwa6d4RbC",
        "outputId": "b172944e-7343-4df0-ae20-27889a4549ad"
      },
      "source": [
        "for a in em['p']:\n",
        "  if a not in location_p.values:\n",
        "      print(a)  #입력안된 값 확인"
      ],
      "execution_count": 61,
      "outputs": [
        {
          "output_type": "stream",
          "text": [
            "-kkFb1huT7Z7SdFuAK9bdw\n",
            "-QTjbRpxI5oKHVK0Ba8OSw\n",
            "-Qn9lX8JVxlXopWuXDY4nw\n",
            "-tgpBxftOzwVkLZ_8hN1xA\n"
          ],
          "name": "stdout"
        }
      ]
    },
    {
      "cell_type": "code",
      "metadata": {
        "colab": {
          "base_uri": "https://localhost:8080/",
          "height": 80
        },
        "id": "tU1d1K0K5_DA",
        "outputId": "645fe3ef-b942-49cc-d38f-4819008dd0d7"
      },
      "source": [
        "panorama[panorama.values=='dbGM_EY6ep6JQWNocCD_FA']\n",
        "#입력안된 값 바로위에 뭐가 있었는지 보기"
      ],
      "execution_count": 73,
      "outputs": [
        {
          "output_type": "execute_result",
          "data": {
            "text/html": [
              "<div>\n",
              "<style scoped>\n",
              "    .dataframe tbody tr th:only-of-type {\n",
              "        vertical-align: middle;\n",
              "    }\n",
              "\n",
              "    .dataframe tbody tr th {\n",
              "        vertical-align: top;\n",
              "    }\n",
              "\n",
              "    .dataframe thead th {\n",
              "        text-align: right;\n",
              "    }\n",
              "</style>\n",
              "<table border=\"1\" class=\"dataframe\">\n",
              "  <thead>\n",
              "    <tr style=\"text-align: right;\">\n",
              "      <th></th>\n",
              "      <th>panorama</th>\n",
              "    </tr>\n",
              "  </thead>\n",
              "  <tbody>\n",
              "    <tr>\n",
              "      <th>210</th>\n",
              "      <td>dbGM_EY6ep6JQWNocCD_FA</td>\n",
              "    </tr>\n",
              "  </tbody>\n",
              "</table>\n",
              "</div>"
            ],
            "text/plain": [
              "                   panorama\n",
              "210  dbGM_EY6ep6JQWNocCD_FA"
            ]
          },
          "metadata": {
            "tags": []
          },
          "execution_count": 73
        }
      ]
    },
    {
      "cell_type": "code",
      "metadata": {
        "colab": {
          "base_uri": "https://localhost:8080/"
        },
        "id": "AusouM597Wjn",
        "outputId": "281ab0a6-0d8b-433b-d75a-c272be390ca8"
      },
      "source": [
        "panorama.loc[211] #입력이안된 값은 #NAME?으로 나온다."
      ],
      "execution_count": 76,
      "outputs": [
        {
          "output_type": "execute_result",
          "data": {
            "text/plain": [
              "panorama    #NAME?\n",
              "Name: 211, dtype: object"
            ]
          },
          "metadata": {
            "tags": []
          },
          "execution_count": 76
        }
      ]
    },
    {
      "cell_type": "code",
      "metadata": {
        "colab": {
          "base_uri": "https://localhost:8080/",
          "height": 173
        },
        "id": "wXYjYYf87jcr",
        "outputId": "2db56408-0dd9-4a5e-b513-2a879106d1dc"
      },
      "source": [
        "panorama[panorama.values=='#NAME?'] #입력안된 위치 확인"
      ],
      "execution_count": 77,
      "outputs": [
        {
          "output_type": "execute_result",
          "data": {
            "text/html": [
              "<div>\n",
              "<style scoped>\n",
              "    .dataframe tbody tr th:only-of-type {\n",
              "        vertical-align: middle;\n",
              "    }\n",
              "\n",
              "    .dataframe tbody tr th {\n",
              "        vertical-align: top;\n",
              "    }\n",
              "\n",
              "    .dataframe thead th {\n",
              "        text-align: right;\n",
              "    }\n",
              "</style>\n",
              "<table border=\"1\" class=\"dataframe\">\n",
              "  <thead>\n",
              "    <tr style=\"text-align: right;\">\n",
              "      <th></th>\n",
              "      <th>panorama</th>\n",
              "    </tr>\n",
              "  </thead>\n",
              "  <tbody>\n",
              "    <tr>\n",
              "      <th>211</th>\n",
              "      <td>#NAME?</td>\n",
              "    </tr>\n",
              "    <tr>\n",
              "      <th>220</th>\n",
              "      <td>#NAME?</td>\n",
              "    </tr>\n",
              "    <tr>\n",
              "      <th>426</th>\n",
              "      <td>#NAME?</td>\n",
              "    </tr>\n",
              "    <tr>\n",
              "      <th>508</th>\n",
              "      <td>#NAME?</td>\n",
              "    </tr>\n",
              "  </tbody>\n",
              "</table>\n",
              "</div>"
            ],
            "text/plain": [
              "    panorama\n",
              "211   #NAME?\n",
              "220   #NAME?\n",
              "426   #NAME?\n",
              "508   #NAME?"
            ]
          },
          "metadata": {
            "tags": []
          },
          "execution_count": 77
        }
      ]
    },
    {
      "cell_type": "code",
      "metadata": {
        "colab": {
          "base_uri": "https://localhost:8080/",
          "height": 419
        },
        "id": "VP9xlkj06WsK",
        "outputId": "199719d6-966b-400d-c431-d5000f8c11e8"
      },
      "source": [
        "panorama.loc[211]='-kkFb1huT7Z7SdFuAK9bdw'\n",
        "panorama.loc[220]='-QTjbRpxI5oKHVK0Ba8OSw'\n",
        "panorama.loc[426]='-Qn9lX8JVxlXopWuXDY4nw'\n",
        "panorama.loc[508]='-tgpBxftOzwVkLZ_8hN1xA'\n",
        "panorama #데이터셋보강"
      ],
      "execution_count": 78,
      "outputs": [
        {
          "output_type": "execute_result",
          "data": {
            "text/html": [
              "<div>\n",
              "<style scoped>\n",
              "    .dataframe tbody tr th:only-of-type {\n",
              "        vertical-align: middle;\n",
              "    }\n",
              "\n",
              "    .dataframe tbody tr th {\n",
              "        vertical-align: top;\n",
              "    }\n",
              "\n",
              "    .dataframe thead th {\n",
              "        text-align: right;\n",
              "    }\n",
              "</style>\n",
              "<table border=\"1\" class=\"dataframe\">\n",
              "  <thead>\n",
              "    <tr style=\"text-align: right;\">\n",
              "      <th></th>\n",
              "      <th>panorama</th>\n",
              "    </tr>\n",
              "  </thead>\n",
              "  <tbody>\n",
              "    <tr>\n",
              "      <th>0</th>\n",
              "      <td>54tbUYef57t8d5_rxwsM4Q</td>\n",
              "    </tr>\n",
              "    <tr>\n",
              "      <th>1</th>\n",
              "      <td>CAoSK0FGMVFpcFBFNmtvalNabXktOC1YWkFSZGlhdFNvOU...</td>\n",
              "    </tr>\n",
              "    <tr>\n",
              "      <th>2</th>\n",
              "      <td>Z6YCvGhdM7c5n8NEweO_Qw</td>\n",
              "    </tr>\n",
              "    <tr>\n",
              "      <th>3</th>\n",
              "      <td>Uk3Ki328nfIJcDS0p0eFjw</td>\n",
              "    </tr>\n",
              "    <tr>\n",
              "      <th>4</th>\n",
              "      <td>CAoSLEFGMVFpcE1qQlh0al9tTkN5LU9IZjlteU56c3Z1Yk...</td>\n",
              "    </tr>\n",
              "    <tr>\n",
              "      <th>...</th>\n",
              "      <td>...</td>\n",
              "    </tr>\n",
              "    <tr>\n",
              "      <th>757</th>\n",
              "      <td>9nXvNDPq1Z7_BV3VkQUuWA</td>\n",
              "    </tr>\n",
              "    <tr>\n",
              "      <th>758</th>\n",
              "      <td>9nXvNDPq1Z7_BV3VkQUuWA</td>\n",
              "    </tr>\n",
              "    <tr>\n",
              "      <th>759</th>\n",
              "      <td>CAoSLEFGMVFpcE5STUtpTFNPOFVEUTltVk5TUU1WZ1FndW...</td>\n",
              "    </tr>\n",
              "    <tr>\n",
              "      <th>760</th>\n",
              "      <td>50n_At2HCikYnoqxLJV5Bg</td>\n",
              "    </tr>\n",
              "    <tr>\n",
              "      <th>761</th>\n",
              "      <td>CAoSLEFGMVFpcFBocE5TRE1oMWkyUF9FbmpobVFhb2NRWn...</td>\n",
              "    </tr>\n",
              "  </tbody>\n",
              "</table>\n",
              "<p>762 rows × 1 columns</p>\n",
              "</div>"
            ],
            "text/plain": [
              "                                              panorama\n",
              "0                               54tbUYef57t8d5_rxwsM4Q\n",
              "1    CAoSK0FGMVFpcFBFNmtvalNabXktOC1YWkFSZGlhdFNvOU...\n",
              "2                               Z6YCvGhdM7c5n8NEweO_Qw\n",
              "3                               Uk3Ki328nfIJcDS0p0eFjw\n",
              "4    CAoSLEFGMVFpcE1qQlh0al9tTkN5LU9IZjlteU56c3Z1Yk...\n",
              "..                                                 ...\n",
              "757                             9nXvNDPq1Z7_BV3VkQUuWA\n",
              "758                             9nXvNDPq1Z7_BV3VkQUuWA\n",
              "759  CAoSLEFGMVFpcE5STUtpTFNPOFVEUTltVk5TUU1WZ1FndW...\n",
              "760                             50n_At2HCikYnoqxLJV5Bg\n",
              "761  CAoSLEFGMVFpcFBocE5TRE1oMWkyUF9FbmpobVFhb2NRWn...\n",
              "\n",
              "[762 rows x 1 columns]"
            ]
          },
          "metadata": {
            "tags": []
          },
          "execution_count": 78
        }
      ]
    },
    {
      "cell_type": "code",
      "metadata": {
        "colab": {
          "base_uri": "https://localhost:8080/",
          "height": 419
        },
        "id": "pg2DWpL88Gyr",
        "outputId": "f0265b1a-79e4-4b3d-bccc-d3c8f6f088f0"
      },
      "source": [
        "modify=panorama.drop_duplicates()\n",
        "modify #잘 수정되었는지 확인"
      ],
      "execution_count": 79,
      "outputs": [
        {
          "output_type": "execute_result",
          "data": {
            "text/html": [
              "<div>\n",
              "<style scoped>\n",
              "    .dataframe tbody tr th:only-of-type {\n",
              "        vertical-align: middle;\n",
              "    }\n",
              "\n",
              "    .dataframe tbody tr th {\n",
              "        vertical-align: top;\n",
              "    }\n",
              "\n",
              "    .dataframe thead th {\n",
              "        text-align: right;\n",
              "    }\n",
              "</style>\n",
              "<table border=\"1\" class=\"dataframe\">\n",
              "  <thead>\n",
              "    <tr style=\"text-align: right;\">\n",
              "      <th></th>\n",
              "      <th>panorama</th>\n",
              "    </tr>\n",
              "  </thead>\n",
              "  <tbody>\n",
              "    <tr>\n",
              "      <th>0</th>\n",
              "      <td>54tbUYef57t8d5_rxwsM4Q</td>\n",
              "    </tr>\n",
              "    <tr>\n",
              "      <th>1</th>\n",
              "      <td>CAoSK0FGMVFpcFBFNmtvalNabXktOC1YWkFSZGlhdFNvOU...</td>\n",
              "    </tr>\n",
              "    <tr>\n",
              "      <th>2</th>\n",
              "      <td>Z6YCvGhdM7c5n8NEweO_Qw</td>\n",
              "    </tr>\n",
              "    <tr>\n",
              "      <th>3</th>\n",
              "      <td>Uk3Ki328nfIJcDS0p0eFjw</td>\n",
              "    </tr>\n",
              "    <tr>\n",
              "      <th>4</th>\n",
              "      <td>CAoSLEFGMVFpcE1qQlh0al9tTkN5LU9IZjlteU56c3Z1Yk...</td>\n",
              "    </tr>\n",
              "    <tr>\n",
              "      <th>...</th>\n",
              "      <td>...</td>\n",
              "    </tr>\n",
              "    <tr>\n",
              "      <th>756</th>\n",
              "      <td>X9HGAfnx8l2V5Tl1-0UxVA</td>\n",
              "    </tr>\n",
              "    <tr>\n",
              "      <th>757</th>\n",
              "      <td>9nXvNDPq1Z7_BV3VkQUuWA</td>\n",
              "    </tr>\n",
              "    <tr>\n",
              "      <th>759</th>\n",
              "      <td>CAoSLEFGMVFpcE5STUtpTFNPOFVEUTltVk5TUU1WZ1FndW...</td>\n",
              "    </tr>\n",
              "    <tr>\n",
              "      <th>760</th>\n",
              "      <td>50n_At2HCikYnoqxLJV5Bg</td>\n",
              "    </tr>\n",
              "    <tr>\n",
              "      <th>761</th>\n",
              "      <td>CAoSLEFGMVFpcFBocE5TRE1oMWkyUF9FbmpobVFhb2NRWn...</td>\n",
              "    </tr>\n",
              "  </tbody>\n",
              "</table>\n",
              "<p>712 rows × 1 columns</p>\n",
              "</div>"
            ],
            "text/plain": [
              "                                              panorama\n",
              "0                               54tbUYef57t8d5_rxwsM4Q\n",
              "1    CAoSK0FGMVFpcFBFNmtvalNabXktOC1YWkFSZGlhdFNvOU...\n",
              "2                               Z6YCvGhdM7c5n8NEweO_Qw\n",
              "3                               Uk3Ki328nfIJcDS0p0eFjw\n",
              "4    CAoSLEFGMVFpcE1qQlh0al9tTkN5LU9IZjlteU56c3Z1Yk...\n",
              "..                                                 ...\n",
              "756                             X9HGAfnx8l2V5Tl1-0UxVA\n",
              "757                             9nXvNDPq1Z7_BV3VkQUuWA\n",
              "759  CAoSLEFGMVFpcE5STUtpTFNPOFVEUTltVk5TUU1WZ1FndW...\n",
              "760                             50n_At2HCikYnoqxLJV5Bg\n",
              "761  CAoSLEFGMVFpcFBocE5TRE1oMWkyUF9FbmpobVFhb2NRWn...\n",
              "\n",
              "[712 rows x 1 columns]"
            ]
          },
          "metadata": {
            "tags": []
          },
          "execution_count": 79
        }
      ]
    },
    {
      "cell_type": "code",
      "metadata": {
        "colab": {
          "base_uri": "https://localhost:8080/",
          "height": 419
        },
        "id": "-34O0Bhy8QE9",
        "outputId": "03a75fc2-1183-4e84-d099-95989f294d94"
      },
      "source": [
        "location['panorama']=panorama\n",
        "location #데이터 합쳐주기"
      ],
      "execution_count": 82,
      "outputs": [
        {
          "output_type": "execute_result",
          "data": {
            "text/html": [
              "<div>\n",
              "<style scoped>\n",
              "    .dataframe tbody tr th:only-of-type {\n",
              "        vertical-align: middle;\n",
              "    }\n",
              "\n",
              "    .dataframe tbody tr th {\n",
              "        vertical-align: top;\n",
              "    }\n",
              "\n",
              "    .dataframe thead th {\n",
              "        text-align: right;\n",
              "    }\n",
              "</style>\n",
              "<table border=\"1\" class=\"dataframe\">\n",
              "  <thead>\n",
              "    <tr style=\"text-align: right;\">\n",
              "      <th></th>\n",
              "      <th>x</th>\n",
              "      <th>y</th>\n",
              "      <th>panorama</th>\n",
              "      <th>d_x</th>\n",
              "      <th>d_y</th>\n",
              "    </tr>\n",
              "  </thead>\n",
              "  <tbody>\n",
              "    <tr>\n",
              "      <th>0</th>\n",
              "      <td>127.301355</td>\n",
              "      <td>36.337887</td>\n",
              "      <td>54tbUYef57t8d5_rxwsM4Q</td>\n",
              "      <td>127.301355</td>\n",
              "      <td>36.337887</td>\n",
              "    </tr>\n",
              "    <tr>\n",
              "      <th>1</th>\n",
              "      <td>127.302159</td>\n",
              "      <td>36.388794</td>\n",
              "      <td>CAoSK0FGMVFpcFBFNmtvalNabXktOC1YWkFSZGlhdFNvOU...</td>\n",
              "      <td>127.302159</td>\n",
              "      <td>36.388794</td>\n",
              "    </tr>\n",
              "    <tr>\n",
              "      <th>2</th>\n",
              "      <td>127.302358</td>\n",
              "      <td>36.357801</td>\n",
              "      <td>Z6YCvGhdM7c5n8NEweO_Qw</td>\n",
              "      <td>127.302358</td>\n",
              "      <td>36.357801</td>\n",
              "    </tr>\n",
              "    <tr>\n",
              "      <th>3</th>\n",
              "      <td>127.302428</td>\n",
              "      <td>36.343706</td>\n",
              "      <td>Uk3Ki328nfIJcDS0p0eFjw</td>\n",
              "      <td>127.302428</td>\n",
              "      <td>36.343706</td>\n",
              "    </tr>\n",
              "    <tr>\n",
              "      <th>4</th>\n",
              "      <td>127.303293</td>\n",
              "      <td>36.344126</td>\n",
              "      <td>CAoSLEFGMVFpcE1qQlh0al9tTkN5LU9IZjlteU56c3Z1Yk...</td>\n",
              "      <td>127.303293</td>\n",
              "      <td>36.344126</td>\n",
              "    </tr>\n",
              "    <tr>\n",
              "      <th>...</th>\n",
              "      <td>...</td>\n",
              "      <td>...</td>\n",
              "      <td>...</td>\n",
              "      <td>...</td>\n",
              "      <td>...</td>\n",
              "    </tr>\n",
              "    <tr>\n",
              "      <th>757</th>\n",
              "      <td>127.462773</td>\n",
              "      <td>36.315820</td>\n",
              "      <td>9nXvNDPq1Z7_BV3VkQUuWA</td>\n",
              "      <td>127.462773</td>\n",
              "      <td>36.315820</td>\n",
              "    </tr>\n",
              "    <tr>\n",
              "      <th>758</th>\n",
              "      <td>127.463796</td>\n",
              "      <td>36.328983</td>\n",
              "      <td>9nXvNDPq1Z7_BV3VkQUuWA</td>\n",
              "      <td>127.463796</td>\n",
              "      <td>36.328983</td>\n",
              "    </tr>\n",
              "    <tr>\n",
              "      <th>759</th>\n",
              "      <td>127.464157</td>\n",
              "      <td>36.287581</td>\n",
              "      <td>CAoSLEFGMVFpcE5STUtpTFNPOFVEUTltVk5TUU1WZ1FndW...</td>\n",
              "      <td>127.464157</td>\n",
              "      <td>36.287581</td>\n",
              "    </tr>\n",
              "    <tr>\n",
              "      <th>760</th>\n",
              "      <td>127.465668</td>\n",
              "      <td>36.327180</td>\n",
              "      <td>50n_At2HCikYnoqxLJV5Bg</td>\n",
              "      <td>127.465668</td>\n",
              "      <td>36.327180</td>\n",
              "    </tr>\n",
              "    <tr>\n",
              "      <th>761</th>\n",
              "      <td>127.470424</td>\n",
              "      <td>36.282760</td>\n",
              "      <td>CAoSLEFGMVFpcFBocE5TRE1oMWkyUF9FbmpobVFhb2NRWn...</td>\n",
              "      <td>127.470424</td>\n",
              "      <td>36.282760</td>\n",
              "    </tr>\n",
              "  </tbody>\n",
              "</table>\n",
              "<p>762 rows × 5 columns</p>\n",
              "</div>"
            ],
            "text/plain": [
              "              x          y  ...         d_x        d_y\n",
              "0    127.301355  36.337887  ...  127.301355  36.337887\n",
              "1    127.302159  36.388794  ...  127.302159  36.388794\n",
              "2    127.302358  36.357801  ...  127.302358  36.357801\n",
              "3    127.302428  36.343706  ...  127.302428  36.343706\n",
              "4    127.303293  36.344126  ...  127.303293  36.344126\n",
              "..          ...        ...  ...         ...        ...\n",
              "757  127.462773  36.315820  ...  127.462773  36.315820\n",
              "758  127.463796  36.328983  ...  127.463796  36.328983\n",
              "759  127.464157  36.287581  ...  127.464157  36.287581\n",
              "760  127.465668  36.327180  ...  127.465668  36.327180\n",
              "761  127.470424  36.282760  ...  127.470424  36.282760\n",
              "\n",
              "[762 rows x 5 columns]"
            ]
          },
          "metadata": {
            "tags": []
          },
          "execution_count": 82
        }
      ]
    },
    {
      "cell_type": "code",
      "metadata": {
        "colab": {
          "base_uri": "https://localhost:8080/"
        },
        "id": "n2r3Ex7B-JPQ",
        "outputId": "26c15586-5ef1-4bf2-e61b-065ea772ef9f"
      },
      "source": [
        "location['panorama'].drop_duplicates() #확인 완료"
      ],
      "execution_count": 83,
      "outputs": [
        {
          "output_type": "execute_result",
          "data": {
            "text/plain": [
              "0                                 54tbUYef57t8d5_rxwsM4Q\n",
              "1      CAoSK0FGMVFpcFBFNmtvalNabXktOC1YWkFSZGlhdFNvOU...\n",
              "2                                 Z6YCvGhdM7c5n8NEweO_Qw\n",
              "3                                 Uk3Ki328nfIJcDS0p0eFjw\n",
              "4      CAoSLEFGMVFpcE1qQlh0al9tTkN5LU9IZjlteU56c3Z1Yk...\n",
              "                             ...                        \n",
              "756                               X9HGAfnx8l2V5Tl1-0UxVA\n",
              "757                               9nXvNDPq1Z7_BV3VkQUuWA\n",
              "759    CAoSLEFGMVFpcE5STUtpTFNPOFVEUTltVk5TUU1WZ1FndW...\n",
              "760                               50n_At2HCikYnoqxLJV5Bg\n",
              "761    CAoSLEFGMVFpcFBocE5TRE1oMWkyUF9FbmpobVFhb2NRWn...\n",
              "Name: panorama, Length: 712, dtype: object"
            ]
          },
          "metadata": {
            "tags": []
          },
          "execution_count": 83
        }
      ]
    },
    {
      "cell_type": "code",
      "metadata": {
        "id": "-x5b6Xcv-TsN"
      },
      "source": [
        ""
      ],
      "execution_count": null,
      "outputs": []
    }
  ]
}