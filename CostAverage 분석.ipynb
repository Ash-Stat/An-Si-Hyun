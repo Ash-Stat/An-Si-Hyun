{
 "cells": [
  {
   "cell_type": "code",
   "execution_count": 1,
   "metadata": {},
   "outputs": [],
   "source": [
    "import pandas as pd\n",
    "import numpy as np"
   ]
  },
  {
   "cell_type": "code",
   "execution_count": 2,
   "metadata": {},
   "outputs": [],
   "source": [
    "%matplotlib inline\n",
    "import matplotlib.pyplot as plt"
   ]
  },
  {
   "cell_type": "code",
   "execution_count": 22,
   "metadata": {},
   "outputs": [],
   "source": [
    "A_cost=['110,000 원','30 개','3,667 원']\n",
    "B_cost=['150,000 원','30 개','5,000 원']\n",
    "C_cost={'A' : A_cost, 'B' : B_cost}\n",
    "CC_cost=pd.DataFrame(C_cost)"
   ]
  },
  {
   "cell_type": "code",
   "execution_count": 24,
   "metadata": {},
   "outputs": [],
   "source": [
    "CC_cost.index = ['총 금액','보유 주식수','주당 평균 구입가']"
   ]
  },
  {
   "cell_type": "code",
   "execution_count": 25,
   "metadata": {},
   "outputs": [
    {
     "data": {
      "text/html": [
       "<div>\n",
       "<style scoped>\n",
       "    .dataframe tbody tr th:only-of-type {\n",
       "        vertical-align: middle;\n",
       "    }\n",
       "\n",
       "    .dataframe tbody tr th {\n",
       "        vertical-align: top;\n",
       "    }\n",
       "\n",
       "    .dataframe thead th {\n",
       "        text-align: right;\n",
       "    }\n",
       "</style>\n",
       "<table border=\"1\" class=\"dataframe\">\n",
       "  <thead>\n",
       "    <tr style=\"text-align: right;\">\n",
       "      <th></th>\n",
       "      <th>A</th>\n",
       "      <th>B</th>\n",
       "    </tr>\n",
       "  </thead>\n",
       "  <tbody>\n",
       "    <tr>\n",
       "      <th>총 금액</th>\n",
       "      <td>110,000 원</td>\n",
       "      <td>150,000 원</td>\n",
       "    </tr>\n",
       "    <tr>\n",
       "      <th>보유 주식수</th>\n",
       "      <td>30 개</td>\n",
       "      <td>30 개</td>\n",
       "    </tr>\n",
       "    <tr>\n",
       "      <th>주당 평균 구입가</th>\n",
       "      <td>3,667 원</td>\n",
       "      <td>5,000 원</td>\n",
       "    </tr>\n",
       "  </tbody>\n",
       "</table>\n",
       "</div>"
      ],
      "text/plain": [
       "                   A          B\n",
       "총 금액       110,000 원  150,000 원\n",
       "보유 주식수          30 개       30 개\n",
       "주당 평균 구입가    3,667 원    5,000 원"
      ]
     },
     "execution_count": 25,
     "metadata": {},
     "output_type": "execute_result"
    }
   ],
   "source": [
    "CC_cost"
   ]
  },
  {
   "cell_type": "code",
   "execution_count": 57,
   "metadata": {},
   "outputs": [],
   "source": [
    "def A():\n",
    "    price = 1000\n",
    "    while price <= 10000:\n",
    "        a=int(price)-3667\n",
    "        int(a)\n",
    "        print(a)\n",
    "        price += 1000\n",
    "    print()"
   ]
  },
  {
   "cell_type": "code",
   "execution_count": 68,
   "metadata": {},
   "outputs": [],
   "source": [
    "def B():\n",
    "    price = 1000\n",
    "    while price <= 10000:\n",
    "        b=price - 5000\n",
    "        print(b)\n",
    "        price+= 1000\n",
    "    print()"
   ]
  },
  {
   "cell_type": "code",
   "execution_count": 102,
   "metadata": {},
   "outputs": [],
   "source": [
    "aa=pd.Series(['-2,667원','-1,667원','-667원','333원','1,333원','2,333원','3,333원','4,333원','5,333원','6,333원'], index=['1,000원','2,000원','3,000원','4,000원','5,000원','6,000원','7,000원','8,000원','9,000원','10,000원'])\n",
    "bb=pd.Series(['-4,000원','-3,000원','-2,000원','-1,000원','0원','1,000원','2,000원','3,000원','4,000원','5,000원'], index=['1,000원','2,000원','3,000원','4,000원','5,000원','6,000원','7,000원','8,000원','9,000원','10,000원'])"
   ]
  },
  {
   "cell_type": "code",
   "execution_count": 75,
   "metadata": {},
   "outputs": [],
   "source": [
    "abab.index=['1,000원','2,000원','3,000원','4,000원','5,000원','6,000원','7,000원','8,000원','9,000원','10,000원']"
   ]
  },
  {
   "cell_type": "code",
   "execution_count": 76,
   "metadata": {},
   "outputs": [
    {
     "data": {
      "text/html": [
       "<div>\n",
       "<style scoped>\n",
       "    .dataframe tbody tr th:only-of-type {\n",
       "        vertical-align: middle;\n",
       "    }\n",
       "\n",
       "    .dataframe tbody tr th {\n",
       "        vertical-align: top;\n",
       "    }\n",
       "\n",
       "    .dataframe thead th {\n",
       "        text-align: right;\n",
       "    }\n",
       "</style>\n",
       "<table border=\"1\" class=\"dataframe\">\n",
       "  <thead>\n",
       "    <tr style=\"text-align: right;\">\n",
       "      <th></th>\n",
       "      <th>A 주당 손익</th>\n",
       "      <th>B 주당 손익</th>\n",
       "    </tr>\n",
       "  </thead>\n",
       "  <tbody>\n",
       "    <tr>\n",
       "      <th>1,000원</th>\n",
       "      <td>-2,667원</td>\n",
       "      <td>-4,000원</td>\n",
       "    </tr>\n",
       "    <tr>\n",
       "      <th>2,000원</th>\n",
       "      <td>-1,667원</td>\n",
       "      <td>-3,000원</td>\n",
       "    </tr>\n",
       "    <tr>\n",
       "      <th>3,000원</th>\n",
       "      <td>-667원</td>\n",
       "      <td>-2,000원</td>\n",
       "    </tr>\n",
       "    <tr>\n",
       "      <th>4,000원</th>\n",
       "      <td>333원</td>\n",
       "      <td>-1,000원</td>\n",
       "    </tr>\n",
       "    <tr>\n",
       "      <th>5,000원</th>\n",
       "      <td>1,333원</td>\n",
       "      <td>0원</td>\n",
       "    </tr>\n",
       "    <tr>\n",
       "      <th>6,000원</th>\n",
       "      <td>2,333원</td>\n",
       "      <td>1,000원</td>\n",
       "    </tr>\n",
       "    <tr>\n",
       "      <th>7,000원</th>\n",
       "      <td>3,333원</td>\n",
       "      <td>2,000원</td>\n",
       "    </tr>\n",
       "    <tr>\n",
       "      <th>8,000원</th>\n",
       "      <td>4,333원</td>\n",
       "      <td>3,000원</td>\n",
       "    </tr>\n",
       "    <tr>\n",
       "      <th>9,000원</th>\n",
       "      <td>5,333원</td>\n",
       "      <td>4,000원</td>\n",
       "    </tr>\n",
       "    <tr>\n",
       "      <th>10,000원</th>\n",
       "      <td>6,333원</td>\n",
       "      <td>5,000원</td>\n",
       "    </tr>\n",
       "  </tbody>\n",
       "</table>\n",
       "</div>"
      ],
      "text/plain": [
       "         A 주당 손익  B 주당 손익\n",
       "1,000원   -2,667원  -4,000원\n",
       "2,000원   -1,667원  -3,000원\n",
       "3,000원     -667원  -2,000원\n",
       "4,000원      333원  -1,000원\n",
       "5,000원    1,333원       0원\n",
       "6,000원    2,333원   1,000원\n",
       "7,000원    3,333원   2,000원\n",
       "8,000원    4,333원   3,000원\n",
       "9,000원    5,333원   4,000원\n",
       "10,000원   6,333원   5,000원"
      ]
     },
     "execution_count": 76,
     "metadata": {},
     "output_type": "execute_result"
    }
   ],
   "source": []
  },
  {
   "cell_type": "code",
   "execution_count": 88,
   "metadata": {},
   "outputs": [],
   "source": [
    "import datetime\n",
    "from datetime import datetime, date"
   ]
  },
  {
   "cell_type": "code",
   "execution_count": 104,
   "metadata": {},
   "outputs": [],
   "source": [
    "aa_list=aa.index.tolist()\n",
    "x_pos=np.arange(len(aa_list))\n",
    "sp=aa.values.tolist()"
   ]
  },
  {
   "cell_type": "code",
   "execution_count": 110,
   "metadata": {},
   "outputs": [
    {
     "data": {
      "image/png": "[encoded data removed]",
      "text/plain": [
       "<Figure size 432x288 with 1 Axes>"
      ]
     },
     "metadata": {
      "needs_background": "light"
     },
     "output_type": "display_data"
    }
   ],
   "source": [
    "plt.bar(x_pos, sp ,align='center')\n",
    "plt.ylabel('Stock Price')\n",
    "plt.title('Income of A by Stock variance')\n",
    "plt.show()"
   ]
  },
  {
   "cell_type": "code",
   "execution_count": 112,
   "metadata": {},
   "outputs": [
    {
     "data": {
      "image/png": "[encoded data removed]",
      "text/plain": [
       "<Figure size 432x288 with 1 Axes>"
      ]
     },
     "metadata": {
      "needs_background": "light"
     },
     "output_type": "display_data"
    }
   ],
   "source": [
    "bbb=bb.index.tolist()\n",
    "x=np.arange(len(bbb))\n",
    "spp=bb.values.tolist()\n",
    "plt.bar(x, spp,align='center')\n",
    "plt.ylabel('Stock Price')\n",
    "plt.title('Income of B by Stock variance')\n",
    "plt.show()"
   ]
  },
  {
   "cell_type": "code",
   "execution_count": null,
   "metadata": {},
   "outputs": [],
   "source": []
  }
 ],
 "metadata": {
  "kernelspec": {
   "display_name": "Python 3",
   "language": "python",
   "name": "python3"
  },
  "language_info": {
   "codemirror_mode": {
    "name": "ipython",
    "version": 3
   },
   "file_extension": ".py",
   "mimetype": "text/x-python",
   "name": "python",
   "nbconvert_exporter": "python",
   "pygments_lexer": "ipython3",
   "version": "3.7.6"
  }
 },
 "nbformat": 4,
 "nbformat_minor": 4
}
