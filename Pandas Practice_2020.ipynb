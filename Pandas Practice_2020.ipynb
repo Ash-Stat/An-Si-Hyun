{
  "nbformat": 4,
  "nbformat_minor": 0,
  "metadata": {
    "kernelspec": {
      "display_name": "Python 3",
      "language": "python",
      "name": "python3"
    },
    "language_info": {
      "codemirror_mode": {
        "name": "ipython",
        "version": 3
      },
      "file_extension": ".py",
      "mimetype": "text/x-python",
      "name": "python",
      "nbconvert_exporter": "python",
      "pygments_lexer": "ipython3",
      "version": "3.7.6"
    },
    "colab": {
      "name": "Pandas Practice_2020.ipynb",
      "provenance": []
    }
  },
  "cells": [
    {
      "cell_type": "markdown",
      "metadata": {
        "id": "qtWCp-6ujKbd",
        "colab_type": "text"
      },
      "source": [
        "# 기본환경구축\n",
        "import numpy as np\n",
        "import pandas as pd\n",
        "#from pandas import Series,DataFrame 이라는 문장을통해서\n",
        "#명시적으로 Series와 DataFrame객체를 임포트 할 수 있게 된다.\n",
        "#그러면 pd.이라는 접두사를 사용하지 않아도 참조할 수 있게 되므로 약간의 타이핑을\n",
        "#줄이는 효과적인 방법이다.\n",
        "import datetime\n",
        "from datetime import datetime, date\n",
        "#시계열 데이터를 다룰 때 흔히 사용되므로 모든 노트북에 포함시키게 될 라이브러리.\n",
        "pd.set_option('display.notebook_repr_html', False)\n",
        "#Series와 DataFrame의 출력을 HTML이 아닌 텍스트로 렌더링하게 설정하였다.\n",
        "pd.set_option('display.max_columns',7)\n",
        "pd.set_option('display.max_rows', 10)\n",
        "pd.set_option('display.width', 60)\n",
        "#칼럼과 로우의 최대 크기를 지정하고, 하나의 로우에 최대 몇글자를 보여줄지 설정 하였다.\n",
        "import matplotlib.pyplot as plt\n",
        "%matplotlib inline"
      ]
    },
    {
      "cell_type": "markdown",
      "metadata": {
        "id": "PLVloqwJjKbf",
        "colab_type": "text"
      },
      "source": [
        "# 기본환경 구축"
      ]
    },
    {
      "cell_type": "markdown",
      "metadata": {
        "id": "H6uE3f-mjKbi",
        "colab_type": "text"
      },
      "source": [
        "# Series는 pandas의 기본 데이터 구조이다.\n",
        "Numpy에서의 배열과 비슷하지만, 인덱스를 갖는다는 점에서 다르다."
      ]
    },
    {
      "cell_type": "code",
      "metadata": {
        "id": "ePHRrEynjKbj",
        "colab_type": "code",
        "colab": {},
        "outputId": "04c72696-9e35-4d47-878f-506e168a9799"
      },
      "source": [
        "s= pd.Series([1,2,3,4])\n",
        "s"
      ],
      "execution_count": null,
      "outputs": [
        {
          "output_type": "execute_result",
          "data": {
            "text/plain": [
              "0    1\n",
              "1    2\n",
              "2    3\n",
              "3    4\n",
              "dtype: int64"
            ]
          },
          "metadata": {
            "tags": []
          },
          "execution_count": 2
        }
      ]
    },
    {
      "cell_type": "markdown",
      "metadata": {
        "id": "WNLTkreYjKbr",
        "colab_type": "text"
      },
      "source": [
        "# []에 레이블을 전달해 접근하기."
      ]
    },
    {
      "cell_type": "code",
      "metadata": {
        "id": "88oSUkHSjKbs",
        "colab_type": "code",
        "colab": {},
        "outputId": "8fc5fb7d-5ab8-4b2a-fbf7-357619b34117"
      },
      "source": [
        "s[[1,2]]"
      ],
      "execution_count": null,
      "outputs": [
        {
          "output_type": "execute_result",
          "data": {
            "text/plain": [
              "1    2\n",
              "2    3\n",
              "dtype: int64"
            ]
          },
          "metadata": {
            "tags": []
          },
          "execution_count": 9
        }
      ]
    },
    {
      "cell_type": "code",
      "metadata": {
        "id": "uh5_6GP_jKbx",
        "colab_type": "code",
        "colab": {},
        "outputId": "68d14908-6e79-4f16-a06d-d5cd51614f9b"
      },
      "source": [
        "s[1:2]"
      ],
      "execution_count": null,
      "outputs": [
        {
          "output_type": "execute_result",
          "data": {
            "text/plain": [
              "1    2\n",
              "dtype: int64"
            ]
          },
          "metadata": {
            "tags": []
          },
          "execution_count": 11
        }
      ]
    },
    {
      "cell_type": "markdown",
      "metadata": {
        "id": "FuO55YF5jKb0",
        "colab_type": "text"
      },
      "source": [
        "# index가 문자열로된 Series 객체를 만드는 예시"
      ]
    },
    {
      "cell_type": "code",
      "metadata": {
        "id": "7yBJ4yYhjKb0",
        "colab_type": "code",
        "colab": {},
        "outputId": "c0a5dee6-a149-4d39-fe45-b9368c97fb85"
      },
      "source": [
        "s= pd.Series([1,2,3,4], index=['a','b','c','d'])\n",
        "s"
      ],
      "execution_count": null,
      "outputs": [
        {
          "output_type": "execute_result",
          "data": {
            "text/plain": [
              "a    1\n",
              "b    2\n",
              "c    3\n",
              "d    4\n",
              "dtype: int64"
            ]
          },
          "metadata": {
            "tags": []
          },
          "execution_count": 14
        }
      ]
    },
    {
      "cell_type": "code",
      "metadata": {
        "id": "3t9UbQzfjKb3",
        "colab_type": "code",
        "colab": {},
        "outputId": "0beae81d-1d1c-48e9-a33c-f7c18a807a7f"
      },
      "source": [
        "s[[1,2,]]"
      ],
      "execution_count": null,
      "outputs": [
        {
          "output_type": "execute_result",
          "data": {
            "text/plain": [
              "b    2\n",
              "c    3\n",
              "dtype: int64"
            ]
          },
          "metadata": {
            "tags": []
          },
          "execution_count": 15
        }
      ]
    },
    {
      "cell_type": "code",
      "metadata": {
        "id": "i2a43a9-jKb6",
        "colab_type": "code",
        "colab": {},
        "outputId": "a07289e0-0572-4a6c-b882-43cba581d1ad"
      },
      "source": [
        "s[['a','b']]"
      ],
      "execution_count": null,
      "outputs": [
        {
          "output_type": "execute_result",
          "data": {
            "text/plain": [
              "a    1\n",
              "b    2\n",
              "dtype: int64"
            ]
          },
          "metadata": {
            "tags": []
          },
          "execution_count": 17
        }
      ]
    },
    {
      "cell_type": "code",
      "metadata": {
        "id": "Y3WBYnMSjKb-",
        "colab_type": "code",
        "colab": {},
        "outputId": "d9926ae3-f3fd-4de5-9159-296375bb788d"
      },
      "source": [
        "#index 속성확인\n",
        "s.index"
      ],
      "execution_count": null,
      "outputs": [
        {
          "output_type": "execute_result",
          "data": {
            "text/plain": [
              "Index(['a', 'b', 'c', 'd'], dtype='object')"
            ]
          },
          "metadata": {
            "tags": []
          },
          "execution_count": 18
        }
      ]
    },
    {
      "cell_type": "markdown",
      "metadata": {
        "id": "VxmADDsljKcB",
        "colab_type": "text"
      },
      "source": [
        "# pd.date_range()함수를 이용해 날짜 범위 만들기"
      ]
    },
    {
      "cell_type": "code",
      "metadata": {
        "id": "76E8KChejKcB",
        "colab_type": "code",
        "colab": {},
        "outputId": "0edc9700-a1c3-4450-b11e-ff6c8b378471"
      },
      "source": [
        "s=pd.date_range('2016-04-01','2016-04-06')\n",
        "s\n",
        "#DatetimeIndex를 갖는 이와 같은 유형의 시리즈를 시계열이라고 한다."
      ],
      "execution_count": null,
      "outputs": [
        {
          "output_type": "execute_result",
          "data": {
            "text/plain": [
              "DatetimeIndex(['2016-04-01', '2016-04-02', '2016-04-03',\n",
              "               '2016-04-04', '2016-04-05', '2016-04-06'],\n",
              "              dtype='datetime64[ns]', freq='D')"
            ]
          },
          "metadata": {
            "tags": []
          },
          "execution_count": 20
        }
      ]
    },
    {
      "cell_type": "markdown",
      "metadata": {
        "id": "wfz0XXEyjKcD",
        "colab_type": "text"
      },
      "source": [
        "# 위의 생성된 인덱스를 이용하여 Series 만들어보기"
      ]
    },
    {
      "cell_type": "code",
      "metadata": {
        "id": "RlDGDlOYjKcD",
        "colab_type": "code",
        "colab": {},
        "outputId": "415d3080-b7aa-49ff-fdbf-47bca07a8c97"
      },
      "source": [
        "temps1=pd.Series([80,82,85,90,83,87],index=s)\n",
        "temps1"
      ],
      "execution_count": null,
      "outputs": [
        {
          "output_type": "execute_result",
          "data": {
            "text/plain": [
              "2016-04-01    80\n",
              "2016-04-02    82\n",
              "2016-04-03    85\n",
              "2016-04-04    90\n",
              "2016-04-05    83\n",
              "2016-04-06    87\n",
              "Freq: D, dtype: int64"
            ]
          },
          "metadata": {
            "tags": []
          },
          "execution_count": 21
        }
      ]
    },
    {
      "cell_type": "code",
      "metadata": {
        "id": "WhB4yAsajKcF",
        "colab_type": "code",
        "colab": {},
        "outputId": "b01aac11-5019-4c1d-b1ea-1e00cacc5094"
      },
      "source": [
        "temps1['2016-04-04']\n",
        "#특정 날짜를 나타내는 문자열을 사용해 최고 기온을 조회할 수 있다."
      ],
      "execution_count": null,
      "outputs": [
        {
          "output_type": "execute_result",
          "data": {
            "text/plain": [
              "90"
            ]
          },
          "metadata": {
            "tags": []
          },
          "execution_count": 22
        }
      ]
    },
    {
      "cell_type": "code",
      "metadata": {
        "id": "pbMuWjoyjKcK",
        "colab_type": "code",
        "colab": {},
        "outputId": "a46e0cb4-7212-4d42-ad6c-3a2807a6968f"
      },
      "source": [
        "temps2=pd.Series([70,75,69,83,79,77],index=s)\n",
        "temp_diffs=temps1-temps2\n",
        "temp_diffs"
      ],
      "execution_count": null,
      "outputs": [
        {
          "output_type": "execute_result",
          "data": {
            "text/plain": [
              "2016-04-01    10\n",
              "2016-04-02     7\n",
              "2016-04-03    16\n",
              "2016-04-04     7\n",
              "2016-04-05     4\n",
              "2016-04-06    10\n",
              "Freq: D, dtype: int64"
            ]
          },
          "metadata": {
            "tags": []
          },
          "execution_count": 23
        }
      ]
    },
    {
      "cell_type": "code",
      "metadata": {
        "id": "BQSbEsQ-jKcM",
        "colab_type": "code",
        "colab": {},
        "outputId": "321bb680-074a-4879-bf03-659d5ccc8c4c"
      },
      "source": [
        "#제로베이스 방법으로 값을 찾기\n",
        "temp_diffs[2]"
      ],
      "execution_count": null,
      "outputs": [
        {
          "output_type": "execute_result",
          "data": {
            "text/plain": [
              "16"
            ]
          },
          "metadata": {
            "tags": []
          },
          "execution_count": 25
        }
      ]
    },
    {
      "cell_type": "code",
      "metadata": {
        "id": "621OEgBCjKcO",
        "colab_type": "code",
        "colab": {},
        "outputId": "7009567e-c4a7-41fd-a524-95e25f41bc31"
      },
      "source": [
        "temp_diffs['2016-04-03']"
      ],
      "execution_count": null,
      "outputs": [
        {
          "output_type": "execute_result",
          "data": {
            "text/plain": [
              "16"
            ]
          },
          "metadata": {
            "tags": []
          },
          "execution_count": 28
        }
      ]
    },
    {
      "cell_type": "markdown",
      "metadata": {
        "id": "VhJgDdSajKcQ",
        "colab_type": "text"
      },
      "source": [
        "# pandas를 이용한 다수의 기술통계 메서드"
      ]
    },
    {
      "cell_type": "code",
      "metadata": {
        "id": "g8cZ01N5jKcQ",
        "colab_type": "code",
        "colab": {},
        "outputId": "99cedaf6-4960-48ce-f55d-7ba8856c5178"
      },
      "source": [
        "temp_diffs.mean()"
      ],
      "execution_count": null,
      "outputs": [
        {
          "output_type": "execute_result",
          "data": {
            "text/plain": [
              "9.0"
            ]
          },
          "metadata": {
            "tags": []
          },
          "execution_count": 29
        }
      ]
    },
    {
      "cell_type": "markdown",
      "metadata": {
        "id": "gG9D29YGjKcR",
        "colab_type": "text"
      },
      "source": [
        "# pandas DataFrame\n",
        "pandas의 Series는 각 인덱스 레이블당 하나의 값만 가질 수 있다.\n",
        "\n",
        "하지만 데이터프레임을 사용하면 인덱스 레이블당\n",
        "복수의 값을 가질 수 있다.\n",
        "\n",
        "데이터 프레임은 인덱스 레이블을 기준으로 배열된 하나 이상의 Series를 나타낸다.\n",
        "\n",
        "각 Series는 데이터프레임의 칼럼이 되며, 각 칼럼은 하나의 이름을 가진다."
      ]
    },
    {
      "cell_type": "code",
      "metadata": {
        "id": "860RTJsxjKcR",
        "colab_type": "code",
        "colab": {},
        "outputId": "32afbf60-4f6b-4d3d-e949-d53ca343c56a"
      },
      "source": [
        "temps_df=pd.DataFrame({'Missoula': temps1, 'Philadelphia' : temps2})\n",
        "temps_df"
      ],
      "execution_count": null,
      "outputs": [
        {
          "output_type": "execute_result",
          "data": {
            "text/plain": [
              "            Missoula  Philadelphia\n",
              "2016-04-01        80            70\n",
              "2016-04-02        82            75\n",
              "2016-04-03        85            69\n",
              "2016-04-04        90            83\n",
              "2016-04-05        83            79\n",
              "2016-04-06        87            77"
            ]
          },
          "metadata": {
            "tags": []
          },
          "execution_count": 32
        }
      ]
    },
    {
      "cell_type": "code",
      "metadata": {
        "id": "ejojf44kjKcT",
        "colab_type": "code",
        "colab": {},
        "outputId": "4438cb29-c12e-4a49-e08f-3983056bb87a"
      },
      "source": [
        "temps_df['Missoula']"
      ],
      "execution_count": null,
      "outputs": [
        {
          "output_type": "execute_result",
          "data": {
            "text/plain": [
              "2016-04-01    80\n",
              "2016-04-02    82\n",
              "2016-04-03    85\n",
              "2016-04-04    90\n",
              "2016-04-05    83\n",
              "2016-04-06    87\n",
              "Freq: D, Name: Missoula, dtype: int64"
            ]
          },
          "metadata": {
            "tags": []
          },
          "execution_count": 33
        }
      ]
    },
    {
      "cell_type": "markdown",
      "metadata": {
        "id": "i-QZnI4-jKcU",
        "colab_type": "text"
      },
      "source": [
        "temps_df['2016-04-03']\n",
        "이건 에러가 뜬다 왜??\n",
        "\n",
        "DataFrame의 []연산자에 이름 목록을 전달하면 복수의 칼럼을 가져온다.\n",
        "\n",
        "Series의 경우엔 복수의 로우를 반환한다는 차이가 있다.\n"
      ]
    },
    {
      "cell_type": "code",
      "metadata": {
        "id": "E8hchm8ujKcU",
        "colab_type": "code",
        "colab": {},
        "outputId": "ace7bbbe-aed6-45e0-d1e7-03e76abe4dc8"
      },
      "source": [
        "#리스트로 검색하기.\n",
        "temps_df[['Missoula','Philadelphia']]"
      ],
      "execution_count": null,
      "outputs": [
        {
          "output_type": "execute_result",
          "data": {
            "text/plain": [
              "            Missoula  Philadelphia\n",
              "2016-04-01        80            70\n",
              "2016-04-02        82            75\n",
              "2016-04-03        85            69\n",
              "2016-04-04        90            83\n",
              "2016-04-05        83            79\n",
              "2016-04-06        87            77"
            ]
          },
          "metadata": {
            "tags": []
          },
          "execution_count": 37
        }
      ]
    },
    {
      "cell_type": "code",
      "metadata": {
        "id": "VysvlbEejKcV",
        "colab_type": "code",
        "colab": {},
        "outputId": "d9d204d2-6ca7-4183-d6a2-5cba9fd2d4ef"
      },
      "source": [
        "#칼럼의 이름에 공백이 없을경우 속성으로 표기하는 방법\n",
        "temps_df.Missoula"
      ],
      "execution_count": null,
      "outputs": [
        {
          "output_type": "execute_result",
          "data": {
            "text/plain": [
              "2016-04-01    80\n",
              "2016-04-02    82\n",
              "2016-04-03    85\n",
              "2016-04-04    90\n",
              "2016-04-05    83\n",
              "2016-04-06    87\n",
              "Freq: D, Name: Missoula, dtype: int64"
            ]
          },
          "metadata": {
            "tags": []
          },
          "execution_count": 38
        }
      ]
    },
    {
      "cell_type": "code",
      "metadata": {
        "id": "em2AqgyxjKcW",
        "colab_type": "code",
        "colab": {},
        "outputId": "15976943-f705-47a8-d4d0-ad57b94a0503"
      },
      "source": [
        "#두 칼럼사이의 기온 차를 계산하는 코드\n",
        "temps_df.Missoula-temps_df.Philadelphia"
      ],
      "execution_count": null,
      "outputs": [
        {
          "output_type": "execute_result",
          "data": {
            "text/plain": [
              "2016-04-01    10\n",
              "2016-04-02     7\n",
              "2016-04-03    16\n",
              "2016-04-04     7\n",
              "2016-04-05     4\n",
              "2016-04-06    10\n",
              "Freq: D, dtype: int64"
            ]
          },
          "metadata": {
            "tags": []
          },
          "execution_count": 39
        }
      ]
    },
    {
      "cell_type": "markdown",
      "metadata": {
        "id": "BJDqe35CjKcX",
        "colab_type": "text"
      },
      "source": [
        "# DataFrame에 새 칼럼을 추가하는 코드"
      ]
    },
    {
      "cell_type": "code",
      "metadata": {
        "id": "GQDyLzJqjKcY",
        "colab_type": "code",
        "colab": {},
        "outputId": "8f117a12-4b52-491c-d821-3795fb791d94"
      },
      "source": [
        "temps_df['Difference']=temp_diffs\n",
        "temps_df"
      ],
      "execution_count": null,
      "outputs": [
        {
          "output_type": "execute_result",
          "data": {
            "text/plain": [
              "            Missoula  Philadelphia  Difference\n",
              "2016-04-01        80            70          10\n",
              "2016-04-02        82            75           7\n",
              "2016-04-03        85            69          16\n",
              "2016-04-04        90            83           7\n",
              "2016-04-05        83            79           4\n",
              "2016-04-06        87            77          10"
            ]
          },
          "metadata": {
            "tags": []
          },
          "execution_count": 41
        }
      ]
    },
    {
      "cell_type": "code",
      "metadata": {
        "id": "IQtjjMfajKcY",
        "colab_type": "code",
        "colab": {},
        "outputId": "6b824601-7bc7-4ad7-934c-34ead5c44b73"
      },
      "source": [
        "#columns 메서드로 칼럼명 검색하기\n",
        "temps_df.columns"
      ],
      "execution_count": null,
      "outputs": [
        {
          "output_type": "execute_result",
          "data": {
            "text/plain": [
              "Index(['Missoula', 'Philadelphia', 'Difference'], dtype='object')"
            ]
          },
          "metadata": {
            "tags": []
          },
          "execution_count": 42
        }
      ]
    },
    {
      "cell_type": "code",
      "metadata": {
        "id": "-5H8UiiYjKcZ",
        "colab_type": "code",
        "colab": {},
        "outputId": "e84f196e-c6ae-4f44-d978-8203e99d99b6"
      },
      "source": [
        "#특정 로우만 검색하기\n",
        "temps_df.Difference[1:4]"
      ],
      "execution_count": null,
      "outputs": [
        {
          "output_type": "execute_result",
          "data": {
            "text/plain": [
              "2016-04-02     7\n",
              "2016-04-03    16\n",
              "2016-04-04     7\n",
              "Freq: D, Name: Difference, dtype: int64"
            ]
          },
          "metadata": {
            "tags": []
          },
          "execution_count": 43
        }
      ]
    },
    {
      "cell_type": "markdown",
      "metadata": {
        "id": "VvIgC-5ajKca",
        "colab_type": "text"
      },
      "source": [
        "# 전체 칼럼에 있어서의 특정 로우 데이터 검색하기\n",
        ".loc 는 인덱스 레이블을 사용해 검색한다.\n",
        "\n",
        ".iloc 는 제로베이스 위치를 사용해 검색한다."
      ]
    },
    {
      "cell_type": "code",
      "metadata": {
        "id": "1VMmh_Y8jKca",
        "colab_type": "code",
        "colab": {},
        "outputId": "1f555726-285c-4a5b-ac77-edad7526a8df"
      },
      "source": [
        "temps_df.iloc[1]"
      ],
      "execution_count": null,
      "outputs": [
        {
          "output_type": "execute_result",
          "data": {
            "text/plain": [
              "Missoula        82\n",
              "Philadelphia    75\n",
              "Difference       7\n",
              "Name: 2016-04-02 00:00:00, dtype: int64"
            ]
          },
          "metadata": {
            "tags": []
          },
          "execution_count": 44
        }
      ]
    },
    {
      "cell_type": "code",
      "metadata": {
        "id": "_NXM5bdYjKcb",
        "colab_type": "code",
        "colab": {},
        "outputId": "0a8f1fb3-a105-436c-bf6f-b8448abf0cf0"
      },
      "source": [
        "temps_df.iloc[1].index\n",
        "#2번째 줄에 있는 요소들의 인덱스 확인"
      ],
      "execution_count": null,
      "outputs": [
        {
          "output_type": "execute_result",
          "data": {
            "text/plain": [
              "Index(['Missoula', 'Philadelphia', 'Difference'], dtype='object')"
            ]
          },
          "metadata": {
            "tags": []
          },
          "execution_count": 45
        }
      ]
    },
    {
      "cell_type": "code",
      "metadata": {
        "id": "X8BW2HmdjKcc",
        "colab_type": "code",
        "colab": {},
        "outputId": "e816a7c0-565f-4d19-df42-2669b2c639aa"
      },
      "source": [
        "temps_df.loc['2016-04-05']"
      ],
      "execution_count": null,
      "outputs": [
        {
          "output_type": "execute_result",
          "data": {
            "text/plain": [
              "Missoula        83\n",
              "Philadelphia    79\n",
              "Difference       4\n",
              "Name: 2016-04-05 00:00:00, dtype: int64"
            ]
          },
          "metadata": {
            "tags": []
          },
          "execution_count": 46
        }
      ]
    },
    {
      "cell_type": "code",
      "metadata": {
        "id": "-meBAcMTjKcc",
        "colab_type": "code",
        "colab": {},
        "outputId": "797f6e10-3158-40ba-f17c-bfa01b94f20c"
      },
      "source": [
        "#특정 칼럼의 특정 위치의 값을 검색하는 코드\n",
        "temps_df.Difference.iloc[[1,3,5]]\n",
        "#순서 바뀌어도 무방하다."
      ],
      "execution_count": null,
      "outputs": [
        {
          "output_type": "execute_result",
          "data": {
            "text/plain": [
              "2016-04-02     7\n",
              "2016-04-04     7\n",
              "2016-04-06    10\n",
              "Freq: 2D, Name: Difference, dtype: int64"
            ]
          },
          "metadata": {
            "tags": []
          },
          "execution_count": 48
        }
      ]
    },
    {
      "cell_type": "markdown",
      "metadata": {
        "id": "vmN0BIC6jKcd",
        "colab_type": "text"
      },
      "source": [
        "# 논리식에 기초하여 로우 데이터를 탐색하기\n",
        "## 불리언 선택"
      ]
    },
    {
      "cell_type": "code",
      "metadata": {
        "id": "16Xb_-afjKcd",
        "colab_type": "code",
        "colab": {},
        "outputId": "a7a32fab-c55b-496b-a08f-3a51a3e803bc"
      },
      "source": [
        "temps_df.Missoula>82"
      ],
      "execution_count": null,
      "outputs": [
        {
          "output_type": "execute_result",
          "data": {
            "text/plain": [
              "2016-04-01    False\n",
              "2016-04-02    False\n",
              "2016-04-03     True\n",
              "2016-04-04     True\n",
              "2016-04-05     True\n",
              "2016-04-06     True\n",
              "Freq: D, Name: Missoula, dtype: bool"
            ]
          },
          "metadata": {
            "tags": []
          },
          "execution_count": 52
        }
      ]
    },
    {
      "cell_type": "code",
      "metadata": {
        "id": "Y3T3E5_AjKce",
        "colab_type": "code",
        "colab": {},
        "outputId": "558fc55e-4225-427e-ea9a-c8da6f31f869"
      },
      "source": [
        "#조건에 맞는 값만 반환하기\n",
        "temps_df[temps_df.Missoula>82]"
      ],
      "execution_count": null,
      "outputs": [
        {
          "output_type": "execute_result",
          "data": {
            "text/plain": [
              "            Missoula  Philadelphia  Difference\n",
              "2016-04-03        85            69          16\n",
              "2016-04-04        90            83           7\n",
              "2016-04-05        83            79           4\n",
              "2016-04-06        87            77          10"
            ]
          },
          "metadata": {
            "tags": []
          },
          "execution_count": 57
        }
      ]
    },
    {
      "cell_type": "markdown",
      "metadata": {
        "id": "XTDJkMYdjKcf",
        "colab_type": "text"
      },
      "source": [
        "# 정리\n",
        "## Series 에서는 []로 열, 행 모두 접근 가능\n",
        "## DataFrame 에서는 []로는 열에만 접근하고 .iloc나 .loc로 행에만 접근 가능"
      ]
    },
    {
      "cell_type": "markdown",
      "metadata": {
        "id": "2dWo1cYNjx4B",
        "colab_type": "text"
      },
      "source": [
        "# Making Series"
      ]
    },
    {
      "cell_type": "code",
      "metadata": {
        "id": "oAx6J57ukRnx",
        "colab_type": "code",
        "colab": {
          "base_uri": "https://localhost:8080/",
          "height": 125
        },
        "outputId": "e5e334fb-e190-4333-e0a1-c9596c644466"
      },
      "source": [
        "import numpy as np\n",
        "import pandas as pd\n",
        "import datetime\n",
        "from datetime import datetime, date\n",
        "import matplotlib.pyplot as plt\n",
        "%matplotlib inline\n",
        "s=pd.Series([10,11,12,13,14])\n",
        "s"
      ],
      "execution_count": null,
      "outputs": [
        {
          "output_type": "execute_result",
          "data": {
            "text/plain": [
              "0    10\n",
              "1    11\n",
              "2    12\n",
              "3    13\n",
              "4    14\n",
              "dtype: int64"
            ]
          },
          "metadata": {
            "tags": []
          },
          "execution_count": 4
        }
      ]
    },
    {
      "cell_type": "code",
      "metadata": {
        "id": "pcmLyV0_kW68",
        "colab_type": "code",
        "colab": {
          "base_uri": "https://localhost:8080/",
          "height": 35
        },
        "outputId": "bfaee432-8082-4455-c08d-2389d369966a"
      },
      "source": [
        "s[3]"
      ],
      "execution_count": null,
      "outputs": [
        {
          "output_type": "execute_result",
          "data": {
            "text/plain": [
              "13"
            ]
          },
          "metadata": {
            "tags": []
          },
          "execution_count": 6
        }
      ]
    },
    {
      "cell_type": "code",
      "metadata": {
        "id": "7xWjizEikssb",
        "colab_type": "code",
        "colab": {
          "base_uri": "https://localhost:8080/",
          "height": 125
        },
        "outputId": "5cd3d31d-3036-4223-89b4-249d59ac21e7"
      },
      "source": [
        "pd.Series(list('abcde'))"
      ],
      "execution_count": null,
      "outputs": [
        {
          "output_type": "execute_result",
          "data": {
            "text/plain": [
              "0    a\n",
              "1    b\n",
              "2    c\n",
              "3    d\n",
              "4    e\n",
              "dtype: object"
            ]
          },
          "metadata": {
            "tags": []
          },
          "execution_count": 7
        }
      ]
    },
    {
      "cell_type": "code",
      "metadata": {
        "id": "gfOUyyONk-Yx",
        "colab_type": "code",
        "colab": {
          "base_uri": "https://localhost:8080/",
          "height": 71
        },
        "outputId": "1f7b0bc0-1b0a-4108-f5c6-b6635e116b03"
      },
      "source": [
        "pd.Series({'Mike' : 'Dad', 'Marcia' : 'Mom'})"
      ],
      "execution_count": null,
      "outputs": [
        {
          "output_type": "execute_result",
          "data": {
            "text/plain": [
              "Mike      Dad\n",
              "Marcia    Mom\n",
              "dtype: object"
            ]
          },
          "metadata": {
            "tags": []
          },
          "execution_count": 10
        }
      ]
    },
    {
      "cell_type": "code",
      "metadata": {
        "id": "3Ax0jB7NlIrt",
        "colab_type": "code",
        "colab": {
          "base_uri": "https://localhost:8080/",
          "height": 125
        },
        "outputId": "7c016623-d02e-4714-ea01-ac3a86470c38"
      },
      "source": [
        "pd.Series(np.arange(4,9))"
      ],
      "execution_count": null,
      "outputs": [
        {
          "output_type": "execute_result",
          "data": {
            "text/plain": [
              "0    4\n",
              "1    5\n",
              "2    6\n",
              "3    7\n",
              "4    8\n",
              "dtype: int64"
            ]
          },
          "metadata": {
            "tags": []
          },
          "execution_count": 11
        }
      ]
    },
    {
      "cell_type": "code",
      "metadata": {
        "id": "Hoyzuh9glYS0",
        "colab_type": "code",
        "colab": {
          "base_uri": "https://localhost:8080/",
          "height": 125
        },
        "outputId": "b6867c5a-b10f-4b77-d6c6-c4f3d144a536"
      },
      "source": [
        "pd.Series(np.linspace(0,9,5))"
      ],
      "execution_count": null,
      "outputs": [
        {
          "output_type": "execute_result",
          "data": {
            "text/plain": [
              "0    0.00\n",
              "1    2.25\n",
              "2    4.50\n",
              "3    6.75\n",
              "4    9.00\n",
              "dtype: float64"
            ]
          },
          "metadata": {
            "tags": []
          },
          "execution_count": 12
        }
      ]
    },
    {
      "cell_type": "markdown",
      "metadata": {
        "id": "b5hUtX7zlhAX",
        "colab_type": "text"
      },
      "source": [
        "# when generate the random number"
      ]
    },
    {
      "cell_type": "code",
      "metadata": {
        "id": "WHJYzYFmlu5t",
        "colab_type": "code",
        "colab": {
          "base_uri": "https://localhost:8080/",
          "height": 125
        },
        "outputId": "1c58e1fb-315f-4271-ed35-b72ea7acb5bb"
      },
      "source": [
        "np.random.seed(12345)\n",
        "pd.Series(np.random.normal(size=5))\n",
        "#it followed the normal distribution in size 5"
      ],
      "execution_count": null,
      "outputs": [
        {
          "output_type": "execute_result",
          "data": {
            "text/plain": [
              "0   -0.204708\n",
              "1    0.478943\n",
              "2   -0.519439\n",
              "3   -0.555730\n",
              "4    1.965781\n",
              "dtype: float64"
            ]
          },
          "metadata": {
            "tags": []
          },
          "execution_count": 16
        }
      ]
    },
    {
      "cell_type": "markdown",
      "metadata": {
        "id": "UD9keNo2mWGc",
        "colab_type": "text"
      },
      "source": [
        "# Values method has access for figuring out the database\n"
      ]
    },
    {
      "cell_type": "code",
      "metadata": {
        "id": "gqVwbDNFm1QD",
        "colab_type": "code",
        "colab": {
          "base_uri": "https://localhost:8080/",
          "height": 35
        },
        "outputId": "b0ec603a-2d34-4775-fa30-c3f55f86b814"
      },
      "source": [
        "s=pd.Series([1,2,3])\n",
        "s.values"
      ],
      "execution_count": null,
      "outputs": [
        {
          "output_type": "execute_result",
          "data": {
            "text/plain": [
              "array([1, 2, 3])"
            ]
          },
          "metadata": {
            "tags": []
          },
          "execution_count": 18
        }
      ]
    },
    {
      "cell_type": "markdown",
      "metadata": {
        "id": "-KX0WIbgm5ua",
        "colab_type": "text"
      },
      "source": [
        "# head, tail, take"
      ]
    },
    {
      "cell_type": "code",
      "metadata": {
        "id": "arANn_zkMbK8",
        "colab_type": "code",
        "colab": {
          "base_uri": "https://localhost:8080/",
          "height": 197
        },
        "outputId": "dd57471a-ea8b-4a69-8481-ab2a7504e627"
      },
      "source": [
        "s= pd.Series(np.arange(1,10), index=['a','b','c','d','e','f','g','h','i'])\n",
        "s"
      ],
      "execution_count": null,
      "outputs": [
        {
          "output_type": "execute_result",
          "data": {
            "text/plain": [
              "a    1\n",
              "b    2\n",
              "c    3\n",
              "d    4\n",
              "e    5\n",
              "f    6\n",
              "g    7\n",
              "h    8\n",
              "i    9\n",
              "dtype: int64"
            ]
          },
          "metadata": {
            "tags": []
          },
          "execution_count": 10
        }
      ]
    },
    {
      "cell_type": "code",
      "metadata": {
        "id": "BjDhLqFqMjmN",
        "colab_type": "code",
        "colab": {
          "base_uri": "https://localhost:8080/",
          "height": 125
        },
        "outputId": "aa116545-7551-4bea-b598-9a470d542e57"
      },
      "source": [
        "s.head()"
      ],
      "execution_count": null,
      "outputs": [
        {
          "output_type": "execute_result",
          "data": {
            "text/plain": [
              "a    1\n",
              "b    2\n",
              "c    3\n",
              "d    4\n",
              "e    5\n",
              "dtype: int64"
            ]
          },
          "metadata": {
            "tags": []
          },
          "execution_count": 11
        }
      ]
    },
    {
      "cell_type": "code",
      "metadata": {
        "id": "ALMaKnRfNFp4",
        "colab_type": "code",
        "colab": {
          "base_uri": "https://localhost:8080/",
          "height": 125
        },
        "outputId": "d892239f-c985-4852-9ece-1f55e55c5a2d"
      },
      "source": [
        "s.tail()"
      ],
      "execution_count": null,
      "outputs": [
        {
          "output_type": "execute_result",
          "data": {
            "text/plain": [
              "e    5\n",
              "f    6\n",
              "g    7\n",
              "h    8\n",
              "i    9\n",
              "dtype: int64"
            ]
          },
          "metadata": {
            "tags": []
          },
          "execution_count": 12
        }
      ]
    },
    {
      "cell_type": "code",
      "metadata": {
        "id": "t8FXRirDNGza",
        "colab_type": "code",
        "colab": {
          "base_uri": "https://localhost:8080/",
          "height": 125
        },
        "outputId": "1d825f29-bf7d-4e5c-c679-0721caade270"
      },
      "source": [
        "s.head(5)"
      ],
      "execution_count": null,
      "outputs": [
        {
          "output_type": "execute_result",
          "data": {
            "text/plain": [
              "a    1\n",
              "b    2\n",
              "c    3\n",
              "d    4\n",
              "e    5\n",
              "dtype: int64"
            ]
          },
          "metadata": {
            "tags": []
          },
          "execution_count": 13
        }
      ]
    },
    {
      "cell_type": "code",
      "metadata": {
        "id": "d18Nkyi-NI0P",
        "colab_type": "code",
        "colab": {
          "base_uri": "https://localhost:8080/",
          "height": 89
        },
        "outputId": "c6faa7cd-5935-4232-af60-aaef3e931f85"
      },
      "source": [
        "s.take([1,3,5])"
      ],
      "execution_count": null,
      "outputs": [
        {
          "output_type": "execute_result",
          "data": {
            "text/plain": [
              "b    2\n",
              "d    4\n",
              "f    6\n",
              "dtype: int64"
            ]
          },
          "metadata": {
            "tags": []
          },
          "execution_count": 16
        }
      ]
    },
    {
      "cell_type": "markdown",
      "metadata": {
        "id": "FwSZg2MyNOrp",
        "colab_type": "text"
      },
      "source": [
        "# Search for label with [], .ix[]"
      ]
    },
    {
      "cell_type": "code",
      "metadata": {
        "id": "rl0DcO6FNj0K",
        "colab_type": "code",
        "colab": {
          "base_uri": "https://localhost:8080/",
          "height": 35
        },
        "outputId": "5b36066a-c991-427c-b32f-a416c5bb365c"
      },
      "source": [
        "s['a']"
      ],
      "execution_count": null,
      "outputs": [
        {
          "output_type": "execute_result",
          "data": {
            "text/plain": [
              "1"
            ]
          },
          "metadata": {
            "tags": []
          },
          "execution_count": 17
        }
      ]
    },
    {
      "cell_type": "code",
      "metadata": {
        "id": "DfJMD3c2NmGC",
        "colab_type": "code",
        "colab": {
          "base_uri": "https://localhost:8080/",
          "height": 71
        },
        "outputId": "8764bb5d-e0e8-47e6-a139-9fb6707998b1"
      },
      "source": [
        "s[['a','b']]"
      ],
      "execution_count": null,
      "outputs": [
        {
          "output_type": "execute_result",
          "data": {
            "text/plain": [
              "a    1\n",
              "b    2\n",
              "dtype: int64"
            ]
          },
          "metadata": {
            "tags": []
          },
          "execution_count": 18
        }
      ]
    },
    {
      "cell_type": "markdown",
      "metadata": {
        "id": "UfVeswjANp_R",
        "colab_type": "text"
      },
      "source": [
        "# In fact, [] and .ix[] are not using currently.\n",
        "\n",
        "so, it's recommended to use .iloc or .loc"
      ]
    },
    {
      "cell_type": "code",
      "metadata": {
        "id": "AZIIK-IcOQUb",
        "colab_type": "code",
        "colab": {
          "base_uri": "https://localhost:8080/",
          "height": 71
        },
        "outputId": "26c67841-49b7-4799-a6cc-c5354c7f3db0"
      },
      "source": [
        "s.iloc[[0,2]]"
      ],
      "execution_count": null,
      "outputs": [
        {
          "output_type": "execute_result",
          "data": {
            "text/plain": [
              "a    1\n",
              "c    3\n",
              "dtype: int64"
            ]
          },
          "metadata": {
            "tags": []
          },
          "execution_count": 19
        }
      ]
    },
    {
      "cell_type": "code",
      "metadata": {
        "id": "yeC08shJOV2B",
        "colab_type": "code",
        "colab": {
          "base_uri": "https://localhost:8080/",
          "height": 71
        },
        "outputId": "4277c22d-25b0-42fc-c359-f2c29560f7bc"
      },
      "source": [
        "s.loc[['a','b']]"
      ],
      "execution_count": null,
      "outputs": [
        {
          "output_type": "execute_result",
          "data": {
            "text/plain": [
              "a    1\n",
              "b    2\n",
              "dtype: int64"
            ]
          },
          "metadata": {
            "tags": []
          },
          "execution_count": 20
        }
      ]
    },
    {
      "cell_type": "markdown",
      "metadata": {
        "id": "JJetTsJVOuty",
        "colab_type": "text"
      },
      "source": [
        "# pandas Series supports the function 'slicing', it is the strong way of extracting subset from dataset"
      ]
    },
    {
      "cell_type": "code",
      "metadata": {
        "id": "HeQ_pvyFP3R1",
        "colab_type": "code",
        "colab": {
          "base_uri": "https://localhost:8080/",
          "height": 215
        },
        "outputId": "93792dcd-30e7-4ccf-a5a1-28afa0e53aba"
      },
      "source": [
        "s=pd.Series(np.arange(100,110), index=np.arange(10,20))\n",
        "s"
      ],
      "execution_count": null,
      "outputs": [
        {
          "output_type": "execute_result",
          "data": {
            "text/plain": [
              "10    100\n",
              "11    101\n",
              "12    102\n",
              "13    103\n",
              "14    104\n",
              "15    105\n",
              "16    106\n",
              "17    107\n",
              "18    108\n",
              "19    109\n",
              "dtype: int64"
            ]
          },
          "metadata": {
            "tags": []
          },
          "execution_count": 25
        }
      ]
    },
    {
      "cell_type": "code",
      "metadata": {
        "id": "Wk9M3DIDQAbd",
        "colab_type": "code",
        "colab": {
          "base_uri": "https://localhost:8080/",
          "height": 125
        },
        "outputId": "214117d0-d6a6-49ab-f161-acca127cff50"
      },
      "source": [
        "s[1:6]"
      ],
      "execution_count": null,
      "outputs": [
        {
          "output_type": "execute_result",
          "data": {
            "text/plain": [
              "11    101\n",
              "12    102\n",
              "13    103\n",
              "14    104\n",
              "15    105\n",
              "dtype: int64"
            ]
          },
          "metadata": {
            "tags": []
          },
          "execution_count": 26
        }
      ]
    },
    {
      "cell_type": "code",
      "metadata": {
        "id": "w1sFUckGQCu-",
        "colab_type": "code",
        "colab": {
          "base_uri": "https://localhost:8080/",
          "height": 143
        },
        "outputId": "201c99ec-329e-4fb7-f4b1-2df47311cde3"
      },
      "source": [
        "s.iloc[[1,2,3,4,5,6]]"
      ],
      "execution_count": null,
      "outputs": [
        {
          "output_type": "execute_result",
          "data": {
            "text/plain": [
              "11    101\n",
              "12    102\n",
              "13    103\n",
              "14    104\n",
              "15    105\n",
              "16    106\n",
              "dtype: int64"
            ]
          },
          "metadata": {
            "tags": []
          },
          "execution_count": 27
        }
      ]
    },
    {
      "cell_type": "code",
      "metadata": {
        "id": "jgloy0ufQG2r",
        "colab_type": "code",
        "colab": {
          "base_uri": "https://localhost:8080/",
          "height": 89
        },
        "outputId": "17edfe7b-1781-4e1b-e6cc-1cb2f7905bac"
      },
      "source": [
        "s[1:6:2]"
      ],
      "execution_count": null,
      "outputs": [
        {
          "output_type": "execute_result",
          "data": {
            "text/plain": [
              "11    101\n",
              "13    103\n",
              "15    105\n",
              "dtype: int64"
            ]
          },
          "metadata": {
            "tags": []
          },
          "execution_count": 28
        }
      ]
    },
    {
      "cell_type": "code",
      "metadata": {
        "id": "yXx3aDlzQLQX",
        "colab_type": "code",
        "colab": {
          "base_uri": "https://localhost:8080/",
          "height": 125
        },
        "outputId": "4229ab42-8c3c-4f42-80df-48b5a3cc2dcd"
      },
      "source": [
        "s[:5]\n",
        "#it is same head"
      ],
      "execution_count": null,
      "outputs": [
        {
          "output_type": "execute_result",
          "data": {
            "text/plain": [
              "10    100\n",
              "11    101\n",
              "12    102\n",
              "13    103\n",
              "14    104\n",
              "dtype: int64"
            ]
          },
          "metadata": {
            "tags": []
          },
          "execution_count": 29
        }
      ]
    },
    {
      "cell_type": "code",
      "metadata": {
        "id": "rijYBVr3QPQ7",
        "colab_type": "code",
        "colab": {
          "base_uri": "https://localhost:8080/",
          "height": 143
        },
        "outputId": "6a23f423-cd03-490a-eaea-ce2199854355"
      },
      "source": [
        "s[4:]"
      ],
      "execution_count": null,
      "outputs": [
        {
          "output_type": "execute_result",
          "data": {
            "text/plain": [
              "14    104\n",
              "15    105\n",
              "16    106\n",
              "17    107\n",
              "18    108\n",
              "19    109\n",
              "dtype: int64"
            ]
          },
          "metadata": {
            "tags": []
          },
          "execution_count": 30
        }
      ]
    },
    {
      "cell_type": "code",
      "metadata": {
        "id": "aKpPWq3eQWU1",
        "colab_type": "code",
        "colab": {
          "base_uri": "https://localhost:8080/",
          "height": 215
        },
        "outputId": "f2dc972d-9c74-4672-c474-e02dc769f98d"
      },
      "source": [
        "s[::-1]\n",
        "#reverse"
      ],
      "execution_count": null,
      "outputs": [
        {
          "output_type": "execute_result",
          "data": {
            "text/plain": [
              "19    109\n",
              "18    108\n",
              "17    107\n",
              "16    106\n",
              "15    105\n",
              "14    104\n",
              "13    103\n",
              "12    102\n",
              "11    101\n",
              "10    100\n",
              "dtype: int64"
            ]
          },
          "metadata": {
            "tags": []
          },
          "execution_count": 32
        }
      ]
    },
    {
      "cell_type": "code",
      "metadata": {
        "id": "rPIZZy3BQYBa",
        "colab_type": "code",
        "colab": {
          "base_uri": "https://localhost:8080/",
          "height": 107
        },
        "outputId": "85c4b996-7ea8-4fec-89cc-f0f69c60939c"
      },
      "source": [
        "s[-4:]\n",
        "#showing last fourth"
      ],
      "execution_count": null,
      "outputs": [
        {
          "output_type": "execute_result",
          "data": {
            "text/plain": [
              "16    106\n",
              "17    107\n",
              "18    108\n",
              "19    109\n",
              "dtype: int64"
            ]
          },
          "metadata": {
            "tags": []
          },
          "execution_count": 34
        }
      ]
    },
    {
      "cell_type": "code",
      "metadata": {
        "id": "fPu-tTjWQiih",
        "colab_type": "code",
        "colab": {
          "base_uri": "https://localhost:8080/",
          "height": 143
        },
        "outputId": "a2351506-38d3-4183-9380-8fb33af89e45"
      },
      "source": [
        "s[:-4]\n",
        "#showing without last fourth"
      ],
      "execution_count": null,
      "outputs": [
        {
          "output_type": "execute_result",
          "data": {
            "text/plain": [
              "10    100\n",
              "11    101\n",
              "12    102\n",
              "13    103\n",
              "14    104\n",
              "15    105\n",
              "dtype: int64"
            ]
          },
          "metadata": {
            "tags": []
          },
          "execution_count": 36
        }
      ]
    },
    {
      "cell_type": "markdown",
      "metadata": {
        "id": "g2t8vRJAQw9z",
        "colab_type": "text"
      },
      "source": [
        "# Index slicing"
      ]
    },
    {
      "cell_type": "code",
      "metadata": {
        "id": "2XzLWOfERCou",
        "colab_type": "code",
        "colab": {
          "base_uri": "https://localhost:8080/",
          "height": 125
        },
        "outputId": "2d00d80a-337c-40f3-aa6f-99861acfcf35"
      },
      "source": [
        "s=pd.Series(np.arange(0,5), index=['a','b','c','d','e'])\n",
        "s"
      ],
      "execution_count": null,
      "outputs": [
        {
          "output_type": "execute_result",
          "data": {
            "text/plain": [
              "a    0\n",
              "b    1\n",
              "c    2\n",
              "d    3\n",
              "e    4\n",
              "dtype: int64"
            ]
          },
          "metadata": {
            "tags": []
          },
          "execution_count": 37
        }
      ]
    },
    {
      "cell_type": "code",
      "metadata": {
        "id": "OIskeWc3RKss",
        "colab_type": "code",
        "colab": {
          "base_uri": "https://localhost:8080/",
          "height": 71
        },
        "outputId": "d6d8ccec-0526-422c-b1a2-c8641843d741"
      },
      "source": [
        "s[1:3]"
      ],
      "execution_count": null,
      "outputs": [
        {
          "output_type": "execute_result",
          "data": {
            "text/plain": [
              "b    1\n",
              "c    2\n",
              "dtype: int64"
            ]
          },
          "metadata": {
            "tags": []
          },
          "execution_count": 38
        }
      ]
    },
    {
      "cell_type": "code",
      "metadata": {
        "id": "t-W3EU_mRNmm",
        "colab_type": "code",
        "colab": {
          "base_uri": "https://localhost:8080/",
          "height": 89
        },
        "outputId": "927c456d-651d-469c-a460-82a45db7da6c"
      },
      "source": [
        "s['b':'d']"
      ],
      "execution_count": null,
      "outputs": [
        {
          "output_type": "execute_result",
          "data": {
            "text/plain": [
              "b    1\n",
              "c    2\n",
              "d    3\n",
              "dtype: int64"
            ]
          },
          "metadata": {
            "tags": []
          },
          "execution_count": 39
        }
      ]
    },
    {
      "cell_type": "markdown",
      "metadata": {
        "id": "JF2mYwM0RQxc",
        "colab_type": "text"
      },
      "source": [
        "# bullian select"
      ]
    },
    {
      "cell_type": "code",
      "metadata": {
        "id": "_9etrXQ_R-DP",
        "colab_type": "code",
        "colab": {
          "base_uri": "https://localhost:8080/",
          "height": 125
        },
        "outputId": "6d961fd8-cbbe-4183-ea2d-5ff780bf107e"
      },
      "source": [
        "s=pd.Series(np.arange(0,5),index=list('abcde'))\n",
        "logical_results =s >=3\n",
        "logical_results"
      ],
      "execution_count": null,
      "outputs": [
        {
          "output_type": "execute_result",
          "data": {
            "text/plain": [
              "a    False\n",
              "b    False\n",
              "c    False\n",
              "d     True\n",
              "e     True\n",
              "dtype: bool"
            ]
          },
          "metadata": {
            "tags": []
          },
          "execution_count": 40
        }
      ]
    },
    {
      "cell_type": "code",
      "metadata": {
        "id": "sWmouxgqSOpg",
        "colab_type": "code",
        "colab": {
          "base_uri": "https://localhost:8080/",
          "height": 71
        },
        "outputId": "13010bec-c996-4c5a-c57c-ebe0a221f98a"
      },
      "source": [
        "s[logical_results]"
      ],
      "execution_count": null,
      "outputs": [
        {
          "output_type": "execute_result",
          "data": {
            "text/plain": [
              "d    3\n",
              "e    4\n",
              "dtype: int64"
            ]
          },
          "metadata": {
            "tags": []
          },
          "execution_count": 41
        }
      ]
    },
    {
      "cell_type": "code",
      "metadata": {
        "id": "2AVQNG4uSSez",
        "colab_type": "code",
        "colab": {
          "base_uri": "https://localhost:8080/",
          "height": 35
        },
        "outputId": "7c242093-9eab-452e-caa7-dfc1c6b2cca0"
      },
      "source": [
        "s[s>5]"
      ],
      "execution_count": null,
      "outputs": [
        {
          "output_type": "execute_result",
          "data": {
            "text/plain": [
              "Series([], dtype: int64)"
            ]
          },
          "metadata": {
            "tags": []
          },
          "execution_count": 42
        }
      ]
    },
    {
      "cell_type": "code",
      "metadata": {
        "id": "fU3FlkQZSVq3",
        "colab_type": "code",
        "colab": {
          "base_uri": "https://localhost:8080/",
          "height": 89
        },
        "outputId": "3d196849-5628-4dfe-aa81-b586a643af1a"
      },
      "source": [
        "s[s>1]"
      ],
      "execution_count": null,
      "outputs": [
        {
          "output_type": "execute_result",
          "data": {
            "text/plain": [
              "c    2\n",
              "d    3\n",
              "e    4\n",
              "dtype: int64"
            ]
          },
          "metadata": {
            "tags": []
          },
          "execution_count": 43
        }
      ]
    },
    {
      "cell_type": "markdown",
      "metadata": {
        "id": "CfQYoEC_SZV3",
        "colab_type": "text"
      },
      "source": [
        "# When find the particular value"
      ]
    },
    {
      "cell_type": "code",
      "metadata": {
        "id": "ab2_aGJdSnK8",
        "colab_type": "code",
        "colab": {
          "base_uri": "https://localhost:8080/",
          "height": 89
        },
        "outputId": "8ef368f9-7a80-4dcf-ab0f-522d5583ad57"
      },
      "source": [
        "s[(s>=2) & (s<5)]"
      ],
      "execution_count": null,
      "outputs": [
        {
          "output_type": "execute_result",
          "data": {
            "text/plain": [
              "c    2\n",
              "d    3\n",
              "e    4\n",
              "dtype: int64"
            ]
          },
          "metadata": {
            "tags": []
          },
          "execution_count": 46
        }
      ]
    },
    {
      "cell_type": "markdown",
      "metadata": {
        "id": "pygRzhJxStCu",
        "colab_type": "text"
      },
      "source": [
        "# Cheking all conditions about values"
      ]
    },
    {
      "cell_type": "code",
      "metadata": {
        "id": "9Q4Pym89TA3X",
        "colab_type": "code",
        "colab": {
          "base_uri": "https://localhost:8080/",
          "height": 35
        },
        "outputId": "a5c705ef-8e90-4c40-9a60-bbbbd8b0b62e"
      },
      "source": [
        "(s>=0).all()"
      ],
      "execution_count": null,
      "outputs": [
        {
          "output_type": "execute_result",
          "data": {
            "text/plain": [
              "True"
            ]
          },
          "metadata": {
            "tags": []
          },
          "execution_count": 47
        }
      ]
    },
    {
      "cell_type": "code",
      "metadata": {
        "id": "9ljjyr8FTEWC",
        "colab_type": "code",
        "colab": {
          "base_uri": "https://localhost:8080/",
          "height": 35
        },
        "outputId": "d9c9d2be-5512-44dc-8c05-422234737c80"
      },
      "source": [
        "s[s<2].any()"
      ],
      "execution_count": null,
      "outputs": [
        {
          "output_type": "execute_result",
          "data": {
            "text/plain": [
              "True"
            ]
          },
          "metadata": {
            "tags": []
          },
          "execution_count": 48
        }
      ]
    },
    {
      "cell_type": "code",
      "metadata": {
        "id": "e0S4kIYNTIlM",
        "colab_type": "code",
        "colab": {
          "base_uri": "https://localhost:8080/",
          "height": 35
        },
        "outputId": "88352e7f-76f4-400d-e312-bd5f64f3a41b"
      },
      "source": [
        "(s<2).any()"
      ],
      "execution_count": null,
      "outputs": [
        {
          "output_type": "execute_result",
          "data": {
            "text/plain": [
              "True"
            ]
          },
          "metadata": {
            "tags": []
          },
          "execution_count": 49
        }
      ]
    },
    {
      "cell_type": "code",
      "metadata": {
        "id": "opURVf10TLk2",
        "colab_type": "code",
        "colab": {
          "base_uri": "https://localhost:8080/",
          "height": 125
        },
        "outputId": "936d9a3c-ba99-47f8-e1f6-1dcc57352b9b"
      },
      "source": [
        "s>3"
      ],
      "execution_count": null,
      "outputs": [
        {
          "output_type": "execute_result",
          "data": {
            "text/plain": [
              "a    False\n",
              "b    False\n",
              "c    False\n",
              "d    False\n",
              "e     True\n",
              "dtype: bool"
            ]
          },
          "metadata": {
            "tags": []
          },
          "execution_count": 50
        }
      ]
    },
    {
      "cell_type": "code",
      "metadata": {
        "id": "jjg6xTE1TNSs",
        "colab_type": "code",
        "colab": {
          "base_uri": "https://localhost:8080/",
          "height": 53
        },
        "outputId": "232c669d-75ca-44ef-c6d4-0286a37574cd"
      },
      "source": [
        "print(s[s>3])"
      ],
      "execution_count": null,
      "outputs": [
        {
          "output_type": "stream",
          "text": [
            "e    4\n",
            "dtype: int64\n"
          ],
          "name": "stdout"
        }
      ]
    },
    {
      "cell_type": "markdown",
      "metadata": {
        "id": "GXbJvJ79TQpm",
        "colab_type": "text"
      },
      "source": [
        "# .sum() method can know the number of conditioned items"
      ]
    },
    {
      "cell_type": "code",
      "metadata": {
        "id": "9ovgFL-yTiKd",
        "colab_type": "code",
        "colab": {
          "base_uri": "https://localhost:8080/",
          "height": 35
        },
        "outputId": "6bfefc1c-3d01-4df0-9cc1-381c9e7d738a"
      },
      "source": [
        "s[s<2].sum()\n",
        "#why it is difference?"
      ],
      "execution_count": null,
      "outputs": [
        {
          "output_type": "execute_result",
          "data": {
            "text/plain": [
              "1"
            ]
          },
          "metadata": {
            "tags": []
          },
          "execution_count": 56
        }
      ]
    },
    {
      "cell_type": "code",
      "metadata": {
        "id": "II7pvE5NTkT1",
        "colab_type": "code",
        "colab": {
          "base_uri": "https://localhost:8080/",
          "height": 35
        },
        "outputId": "1d217113-388e-4817-e62e-3d7bdc9287fb"
      },
      "source": [
        "(s<2).sum()"
      ],
      "execution_count": null,
      "outputs": [
        {
          "output_type": "execute_result",
          "data": {
            "text/plain": [
              "2"
            ]
          },
          "metadata": {
            "tags": []
          },
          "execution_count": 57
        }
      ]
    },
    {
      "cell_type": "code",
      "metadata": {
        "id": "EwUt9wPJTn5C",
        "colab_type": "code",
        "colab": {
          "base_uri": "https://localhost:8080/",
          "height": 71
        },
        "outputId": "d73c61b1-e9f0-4cfe-c682-4a76b2d17d9a"
      },
      "source": [
        "s[s<2]"
      ],
      "execution_count": null,
      "outputs": [
        {
          "output_type": "execute_result",
          "data": {
            "text/plain": [
              "a    0\n",
              "b    1\n",
              "dtype: int64"
            ]
          },
          "metadata": {
            "tags": []
          },
          "execution_count": 54
        }
      ]
    },
    {
      "cell_type": "code",
      "metadata": {
        "id": "OGTMtvVfT-RI",
        "colab_type": "code",
        "colab": {
          "base_uri": "https://localhost:8080/",
          "height": 197
        },
        "outputId": "e48c5f23-ab35-43cc-da1d-11e8d843a064"
      },
      "source": [
        "a=pd.Series(np.arange(1,10), index=list('abcdefghi'))\n",
        "a"
      ],
      "execution_count": null,
      "outputs": [
        {
          "output_type": "execute_result",
          "data": {
            "text/plain": [
              "a    1\n",
              "b    2\n",
              "c    3\n",
              "d    4\n",
              "e    5\n",
              "f    6\n",
              "g    7\n",
              "h    8\n",
              "i    9\n",
              "dtype: int64"
            ]
          },
          "metadata": {
            "tags": []
          },
          "execution_count": 58
        }
      ]
    },
    {
      "cell_type": "code",
      "metadata": {
        "id": "1lWdm12TT_lQ",
        "colab_type": "code",
        "colab": {
          "base_uri": "https://localhost:8080/",
          "height": 71
        },
        "outputId": "31f80c78-32d1-46f2-ba95-f2f2959b05f5"
      },
      "source": [
        "a[a<3]"
      ],
      "execution_count": null,
      "outputs": [
        {
          "output_type": "execute_result",
          "data": {
            "text/plain": [
              "a    1\n",
              "b    2\n",
              "dtype: int64"
            ]
          },
          "metadata": {
            "tags": []
          },
          "execution_count": 60
        }
      ]
    },
    {
      "cell_type": "code",
      "metadata": {
        "id": "zSGSLvmJUuMy",
        "colab_type": "code",
        "colab": {
          "base_uri": "https://localhost:8080/",
          "height": 197
        },
        "outputId": "77a871fa-891c-43b9-d7a8-b9c24acb0e06"
      },
      "source": [
        "(a<3)"
      ],
      "execution_count": null,
      "outputs": [
        {
          "output_type": "execute_result",
          "data": {
            "text/plain": [
              "a     True\n",
              "b     True\n",
              "c    False\n",
              "d    False\n",
              "e    False\n",
              "f    False\n",
              "g    False\n",
              "h    False\n",
              "i    False\n",
              "dtype: bool"
            ]
          },
          "metadata": {
            "tags": []
          },
          "execution_count": 61
        }
      ]
    },
    {
      "cell_type": "code",
      "metadata": {
        "id": "YAnAqtiaUxHD",
        "colab_type": "code",
        "colab": {
          "base_uri": "https://localhost:8080/",
          "height": 35
        },
        "outputId": "471fb57a-4dcf-4ba3-98fe-c71b4117469e"
      },
      "source": [
        "a[a<3].sum()"
      ],
      "execution_count": null,
      "outputs": [
        {
          "output_type": "execute_result",
          "data": {
            "text/plain": [
              "3"
            ]
          },
          "metadata": {
            "tags": []
          },
          "execution_count": 62
        }
      ]
    },
    {
      "cell_type": "code",
      "metadata": {
        "id": "kAoPZ025U0qK",
        "colab_type": "code",
        "colab": {
          "base_uri": "https://localhost:8080/",
          "height": 35
        },
        "outputId": "34c17474-c2a1-4722-83de-b4930805c7f3"
      },
      "source": [
        "(a<3).sum()"
      ],
      "execution_count": null,
      "outputs": [
        {
          "output_type": "execute_result",
          "data": {
            "text/plain": [
              "2"
            ]
          },
          "metadata": {
            "tags": []
          },
          "execution_count": 63
        }
      ]
    },
    {
      "cell_type": "markdown",
      "metadata": {
        "id": "w4rk290tU38B",
        "colab_type": "text"
      },
      "source": [
        "# The reason of diffrence between a[a<3] and (a<3) is a[a<3] retruns values otherwise, (a<3) returns only 0 or 1 like True, False"
      ]
    },
    {
      "cell_type": "markdown",
      "metadata": {
        "id": "asMxzgGvVdA4",
        "colab_type": "text"
      },
      "source": [
        "# Re-indexing\n",
        "\n",
        "rearranging some datas\n",
        "if hasn't been existed data then it fill out the 'NaN'"
      ]
    },
    {
      "cell_type": "code",
      "metadata": {
        "id": "VpvIDEwEUWhY",
        "colab_type": "code",
        "colab": {
          "base_uri": "https://localhost:8080/",
          "height": 125
        },
        "outputId": "2a908456-16da-4402-b8f4-28820226ee36"
      },
      "source": [
        "import pandas as pd\n",
        "import numpy as np\n",
        "np.random.seed(123456)\n",
        "s=pd.Series(np.random.randn(5))\n",
        "s"
      ],
      "execution_count": 2,
      "outputs": [
        {
          "output_type": "execute_result",
          "data": {
            "text/plain": [
              "0    0.469112\n",
              "1   -0.282863\n",
              "2   -1.509059\n",
              "3   -1.135632\n",
              "4    1.212112\n",
              "dtype: float64"
            ]
          },
          "metadata": {
            "tags": []
          },
          "execution_count": 2
        }
      ]
    },
    {
      "cell_type": "code",
      "metadata": {
        "id": "hbZq_oWKUfNn",
        "colab_type": "code",
        "colab": {
          "base_uri": "https://localhost:8080/",
          "height": 107
        },
        "outputId": "4c5d6931-f070-4c5a-eac7-f6da29f81fc5"
      },
      "source": [
        "np.random.seed(123456)\n",
        "s1=pd.Series(np.random.randn(4),['a','b','c','d'])\n",
        "s1"
      ],
      "execution_count": 6,
      "outputs": [
        {
          "output_type": "execute_result",
          "data": {
            "text/plain": [
              "a    0.469112\n",
              "b   -0.282863\n",
              "c   -1.509059\n",
              "d   -1.135632\n",
              "dtype: float64"
            ]
          },
          "metadata": {
            "tags": []
          },
          "execution_count": 6
        }
      ]
    },
    {
      "cell_type": "code",
      "metadata": {
        "id": "0DCRjXImU9mh",
        "colab_type": "code",
        "colab": {
          "base_uri": "https://localhost:8080/",
          "height": 89
        },
        "outputId": "d0a6c732-1fb1-493c-e291-52d3f13c8bfa"
      },
      "source": [
        "s2=s1.reindex(['a','b','g'])\n",
        "s2"
      ],
      "execution_count": 7,
      "outputs": [
        {
          "output_type": "execute_result",
          "data": {
            "text/plain": [
              "a    0.469112\n",
              "b   -0.282863\n",
              "g         NaN\n",
              "dtype: float64"
            ]
          },
          "metadata": {
            "tags": []
          },
          "execution_count": 7
        }
      ]
    },
    {
      "cell_type": "markdown",
      "metadata": {
        "id": "A7O0nx6kVM_5",
        "colab_type": "text"
      },
      "source": [
        "# .reindex() method is jsut copy of Series not in-place modification\n"
      ]
    },
    {
      "cell_type": "code",
      "metadata": {
        "id": "8gVUp4nuVp1s",
        "colab_type": "code",
        "colab": {
          "base_uri": "https://localhost:8080/",
          "height": 143
        },
        "outputId": "447f278f-1944-463b-e56c-22fe82891f24"
      },
      "source": [
        "s1= pd.Series([0,1,2], index=[0,1,2])\n",
        "s2= pd.Series([3,4,5], index=['0','1','2'])\n",
        "s1+s2\n",
        "#becaus data types are not same each other, so the result shows NaN"
      ],
      "execution_count": 9,
      "outputs": [
        {
          "output_type": "execute_result",
          "data": {
            "text/plain": [
              "0   NaN\n",
              "1   NaN\n",
              "2   NaN\n",
              "0   NaN\n",
              "1   NaN\n",
              "2   NaN\n",
              "dtype: float64"
            ]
          },
          "metadata": {
            "tags": []
          },
          "execution_count": 9
        }
      ]
    },
    {
      "cell_type": "code",
      "metadata": {
        "id": "5IrQNOeqV4no",
        "colab_type": "code",
        "colab": {
          "base_uri": "https://localhost:8080/",
          "height": 89
        },
        "outputId": "cacaef8d-9209-4e56-9fbc-7310379ef7a9"
      },
      "source": [
        "s2.index=s2.index.values.astype(int)\n",
        "s1+s2"
      ],
      "execution_count": 11,
      "outputs": [
        {
          "output_type": "execute_result",
          "data": {
            "text/plain": [
              "0    3\n",
              "1    5\n",
              "2    7\n",
              "dtype: int64"
            ]
          },
          "metadata": {
            "tags": []
          },
          "execution_count": 11
        }
      ]
    },
    {
      "cell_type": "code",
      "metadata": {
        "id": "hPn1mKcUWRxX",
        "colab_type": "code",
        "colab": {
          "base_uri": "https://localhost:8080/",
          "height": 71
        },
        "outputId": "49cf98d5-86f7-4b24-9ce3-6ed1c060bd82"
      },
      "source": [
        "#how to change the NaN value to 0 or something \n",
        "s2=s.copy()\n",
        "s2.reindex(['a','f'], fill_value=0)"
      ],
      "execution_count": 13,
      "outputs": [
        {
          "output_type": "execute_result",
          "data": {
            "text/plain": [
              "a    0.0\n",
              "f    0.0\n",
              "dtype: float64"
            ]
          },
          "metadata": {
            "tags": []
          },
          "execution_count": 13
        }
      ]
    },
    {
      "cell_type": "markdown",
      "metadata": {
        "id": "D8gw_GLWWlbe",
        "colab_type": "text"
      },
      "source": [
        "# Forward filling"
      ]
    },
    {
      "cell_type": "code",
      "metadata": {
        "id": "z-wzPUP-W-mi",
        "colab_type": "code",
        "colab": {
          "base_uri": "https://localhost:8080/",
          "height": 89
        },
        "outputId": "f73f3a93-0c90-4d2a-d7e1-345bff5b5b38"
      },
      "source": [
        "s3 = pd.Series(['red','green','blue'], index=[0,3,5])\n",
        "s3"
      ],
      "execution_count": 14,
      "outputs": [
        {
          "output_type": "execute_result",
          "data": {
            "text/plain": [
              "0      red\n",
              "3    green\n",
              "5     blue\n",
              "dtype: object"
            ]
          },
          "metadata": {
            "tags": []
          },
          "execution_count": 14
        }
      ]
    },
    {
      "cell_type": "code",
      "metadata": {
        "id": "I2dTPQhzXQzM",
        "colab_type": "code",
        "colab": {
          "base_uri": "https://localhost:8080/",
          "height": 161
        },
        "outputId": "826aad80-da0e-4cdb-9be4-2d04595afe90"
      },
      "source": [
        "s3.reindex(np.arange(0,7), method='ffill')"
      ],
      "execution_count": 15,
      "outputs": [
        {
          "output_type": "execute_result",
          "data": {
            "text/plain": [
              "0      red\n",
              "1      red\n",
              "2      red\n",
              "3    green\n",
              "4    green\n",
              "5     blue\n",
              "6     blue\n",
              "dtype: object"
            ]
          },
          "metadata": {
            "tags": []
          },
          "execution_count": 15
        }
      ]
    },
    {
      "cell_type": "code",
      "metadata": {
        "id": "9Ic8zBWiXVS-",
        "colab_type": "code",
        "colab": {
          "base_uri": "https://localhost:8080/",
          "height": 161
        },
        "outputId": "4e4722d0-686e-47bd-f747-a315d3fc0f2f"
      },
      "source": [
        "#backward filling\n",
        "s3.reindex(np.arange(0,7), method='bfill')\n",
        "#previous label has not any values so, no.6 is NaN"
      ],
      "execution_count": 20,
      "outputs": [
        {
          "output_type": "execute_result",
          "data": {
            "text/plain": [
              "0      red\n",
              "1    green\n",
              "2    green\n",
              "3    green\n",
              "4     blue\n",
              "5     blue\n",
              "6      NaN\n",
              "dtype: object"
            ]
          },
          "metadata": {
            "tags": []
          },
          "execution_count": 20
        }
      ]
    },
    {
      "cell_type": "markdown",
      "metadata": {
        "id": "-TuNAIXKXtZo",
        "colab_type": "text"
      },
      "source": [
        "# add, modify, delete"
      ]
    },
    {
      "cell_type": "code",
      "metadata": {
        "id": "_EaDOqt9YiJl",
        "colab_type": "code",
        "colab": {
          "base_uri": "https://localhost:8080/",
          "height": 89
        },
        "outputId": "7afd5127-5e67-40f9-97a1-270684f0ab2c"
      },
      "source": [
        "np.random.seed(123456789)\n",
        "s=pd.Series(np.random.randn(3), index=['a','b','c'])\n",
        "s"
      ],
      "execution_count": 22,
      "outputs": [
        {
          "output_type": "execute_result",
          "data": {
            "text/plain": [
              "a    2.212902\n",
              "b    2.128398\n",
              "c    1.841711\n",
              "dtype: float64"
            ]
          },
          "metadata": {
            "tags": []
          },
          "execution_count": 22
        }
      ]
    },
    {
      "cell_type": "code",
      "metadata": {
        "id": "BpJEoraXYvLt",
        "colab_type": "code",
        "colab": {
          "base_uri": "https://localhost:8080/",
          "height": 107
        },
        "outputId": "a786b634-94f3-48ca-cadf-2424b9aa9b55"
      },
      "source": [
        "#modify\n",
        "s['d']=100\n",
        "s"
      ],
      "execution_count": 23,
      "outputs": [
        {
          "output_type": "execute_result",
          "data": {
            "text/plain": [
              "a      2.212902\n",
              "b      2.128398\n",
              "c      1.841711\n",
              "d    100.000000\n",
              "dtype: float64"
            ]
          },
          "metadata": {
            "tags": []
          },
          "execution_count": 23
        }
      ]
    },
    {
      "cell_type": "code",
      "metadata": {
        "id": "fXoUd1N4Y5FN",
        "colab_type": "code",
        "colab": {
          "base_uri": "https://localhost:8080/",
          "height": 89
        },
        "outputId": "f0e25b18-4b20-43ea-9030-425a94361323"
      },
      "source": [
        "#del\n",
        "del(s['a'])\n",
        "s"
      ],
      "execution_count": 24,
      "outputs": [
        {
          "output_type": "execute_result",
          "data": {
            "text/plain": [
              "b      2.128398\n",
              "c      1.841711\n",
              "d    100.000000\n",
              "dtype: float64"
            ]
          },
          "metadata": {
            "tags": []
          },
          "execution_count": 24
        }
      ]
    },
    {
      "cell_type": "markdown",
      "metadata": {
        "id": "BDll_OXpY-47",
        "colab_type": "text"
      },
      "source": [
        "# Chapter 4. how to express data with DataFrame"
      ]
    },
    {
      "cell_type": "code",
      "metadata": {
        "id": "MQp2vuJ3ZZJ4",
        "colab_type": "code",
        "colab": {}
      },
      "source": [
        "#import numpy and pandas\n",
        "import numpy as np\n",
        "import pandas as pd\n",
        "\n",
        "#used for dates\n",
        "import datetime\n",
        "from datetime import datetime, date\n",
        "\n",
        "#set som pandas options controlling output format\n",
        "#but i don't use it\n",
        "\n",
        "#bring in matplotlib for graphics\n",
        "import matplotlib.pyplot as plt\n",
        "%matplotlib inline"
      ],
      "execution_count": 26,
      "outputs": []
    },
    {
      "cell_type": "code",
      "metadata": {
        "id": "OV38H805Zyay",
        "colab_type": "code",
        "colab": {
          "base_uri": "https://localhost:8080/",
          "height": 204
        },
        "outputId": "f60fd940-0d90-4080-ff2d-1ed113b5750b"
      },
      "source": [
        "pd.DataFrame(np.arange(1,6))"
      ],
      "execution_count": 27,
      "outputs": [
        {
          "output_type": "execute_result",
          "data": {
            "text/html": [
              "<div>\n",
              "<style scoped>\n",
              "    .dataframe tbody tr th:only-of-type {\n",
              "        vertical-align: middle;\n",
              "    }\n",
              "\n",
              "    .dataframe tbody tr th {\n",
              "        vertical-align: top;\n",
              "    }\n",
              "\n",
              "    .dataframe thead th {\n",
              "        text-align: right;\n",
              "    }\n",
              "</style>\n",
              "<table border=\"1\" class=\"dataframe\">\n",
              "  <thead>\n",
              "    <tr style=\"text-align: right;\">\n",
              "      <th></th>\n",
              "      <th>0</th>\n",
              "    </tr>\n",
              "  </thead>\n",
              "  <tbody>\n",
              "    <tr>\n",
              "      <th>0</th>\n",
              "      <td>1</td>\n",
              "    </tr>\n",
              "    <tr>\n",
              "      <th>1</th>\n",
              "      <td>2</td>\n",
              "    </tr>\n",
              "    <tr>\n",
              "      <th>2</th>\n",
              "      <td>3</td>\n",
              "    </tr>\n",
              "    <tr>\n",
              "      <th>3</th>\n",
              "      <td>4</td>\n",
              "    </tr>\n",
              "    <tr>\n",
              "      <th>4</th>\n",
              "      <td>5</td>\n",
              "    </tr>\n",
              "  </tbody>\n",
              "</table>\n",
              "</div>"
            ],
            "text/plain": [
              "   0\n",
              "0  1\n",
              "1  2\n",
              "2  3\n",
              "3  4\n",
              "4  5"
            ]
          },
          "metadata": {
            "tags": []
          },
          "execution_count": 27
        }
      ]
    },
    {
      "cell_type": "code",
      "metadata": {
        "id": "r9NVW7bgZ4eC",
        "colab_type": "code",
        "colab": {
          "base_uri": "https://localhost:8080/",
          "height": 111
        },
        "outputId": "7261d6c2-3e08-4096-96c5-212b2067ed2d"
      },
      "source": [
        "df=pd.DataFrame(np.array([[10,11],[20,21]]))\n",
        "df"
      ],
      "execution_count": 29,
      "outputs": [
        {
          "output_type": "execute_result",
          "data": {
            "text/html": [
              "<div>\n",
              "<style scoped>\n",
              "    .dataframe tbody tr th:only-of-type {\n",
              "        vertical-align: middle;\n",
              "    }\n",
              "\n",
              "    .dataframe tbody tr th {\n",
              "        vertical-align: top;\n",
              "    }\n",
              "\n",
              "    .dataframe thead th {\n",
              "        text-align: right;\n",
              "    }\n",
              "</style>\n",
              "<table border=\"1\" class=\"dataframe\">\n",
              "  <thead>\n",
              "    <tr style=\"text-align: right;\">\n",
              "      <th></th>\n",
              "      <th>0</th>\n",
              "      <th>1</th>\n",
              "    </tr>\n",
              "  </thead>\n",
              "  <tbody>\n",
              "    <tr>\n",
              "      <th>0</th>\n",
              "      <td>10</td>\n",
              "      <td>11</td>\n",
              "    </tr>\n",
              "    <tr>\n",
              "      <th>1</th>\n",
              "      <td>20</td>\n",
              "      <td>21</td>\n",
              "    </tr>\n",
              "  </tbody>\n",
              "</table>\n",
              "</div>"
            ],
            "text/plain": [
              "    0   1\n",
              "0  10  11\n",
              "1  20  21"
            ]
          },
          "metadata": {
            "tags": []
          },
          "execution_count": 29
        }
      ]
    },
    {
      "cell_type": "code",
      "metadata": {
        "id": "Xg3ZsvViaBFn",
        "colab_type": "code",
        "colab": {
          "base_uri": "https://localhost:8080/",
          "height": 35
        },
        "outputId": "10c6caf1-0e39-4216-c2c2-7f4cb618512a"
      },
      "source": [
        "df.columns"
      ],
      "execution_count": 30,
      "outputs": [
        {
          "output_type": "execute_result",
          "data": {
            "text/plain": [
              "RangeIndex(start=0, stop=2, step=1)"
            ]
          },
          "metadata": {
            "tags": []
          },
          "execution_count": 30
        }
      ]
    },
    {
      "cell_type": "code",
      "metadata": {
        "id": "43RUGAHnaIOM",
        "colab_type": "code",
        "colab": {
          "base_uri": "https://localhost:8080/",
          "height": 111
        },
        "outputId": "79273d05-06d5-47b0-b244-d197287a8c27"
      },
      "source": [
        "df=pd.DataFrame(np.array([[70,71],[90,91]]), columns=['Missoula','Philadelphia'])\n",
        "df"
      ],
      "execution_count": 31,
      "outputs": [
        {
          "output_type": "execute_result",
          "data": {
            "text/html": [
              "<div>\n",
              "<style scoped>\n",
              "    .dataframe tbody tr th:only-of-type {\n",
              "        vertical-align: middle;\n",
              "    }\n",
              "\n",
              "    .dataframe tbody tr th {\n",
              "        vertical-align: top;\n",
              "    }\n",
              "\n",
              "    .dataframe thead th {\n",
              "        text-align: right;\n",
              "    }\n",
              "</style>\n",
              "<table border=\"1\" class=\"dataframe\">\n",
              "  <thead>\n",
              "    <tr style=\"text-align: right;\">\n",
              "      <th></th>\n",
              "      <th>Missoula</th>\n",
              "      <th>Philadelphia</th>\n",
              "    </tr>\n",
              "  </thead>\n",
              "  <tbody>\n",
              "    <tr>\n",
              "      <th>0</th>\n",
              "      <td>70</td>\n",
              "      <td>71</td>\n",
              "    </tr>\n",
              "    <tr>\n",
              "      <th>1</th>\n",
              "      <td>90</td>\n",
              "      <td>91</td>\n",
              "    </tr>\n",
              "  </tbody>\n",
              "</table>\n",
              "</div>"
            ],
            "text/plain": [
              "   Missoula  Philadelphia\n",
              "0        70            71\n",
              "1        90            91"
            ]
          },
          "metadata": {
            "tags": []
          },
          "execution_count": 31
        }
      ]
    },
    {
      "cell_type": "code",
      "metadata": {
        "id": "H3z3oEhlabH7",
        "colab_type": "code",
        "colab": {
          "base_uri": "https://localhost:8080/",
          "height": 35
        },
        "outputId": "231b383c-9304-4259-a7e5-3f371e2e8ba1"
      },
      "source": [
        "#checking the number of DataFrame row\n",
        "len(df)"
      ],
      "execution_count": 32,
      "outputs": [
        {
          "output_type": "execute_result",
          "data": {
            "text/plain": [
              "2"
            ]
          },
          "metadata": {
            "tags": []
          },
          "execution_count": 32
        }
      ]
    },
    {
      "cell_type": "code",
      "metadata": {
        "id": "9KK_WtRPapZY",
        "colab_type": "code",
        "colab": {
          "base_uri": "https://localhost:8080/",
          "height": 35
        },
        "outputId": "46c5f339-4422-410c-adfd-f719e417bc0b"
      },
      "source": [
        "#checking the dimention of DataFrame\n",
        "df.shape"
      ],
      "execution_count": 33,
      "outputs": [
        {
          "output_type": "execute_result",
          "data": {
            "text/plain": [
              "(2, 2)"
            ]
          },
          "metadata": {
            "tags": []
          },
          "execution_count": 33
        }
      ]
    },
    {
      "cell_type": "code",
      "metadata": {
        "id": "k7vX8ElVav_p",
        "colab_type": "code",
        "colab": {
          "base_uri": "https://localhost:8080/",
          "height": 111
        },
        "outputId": "98c1e7bc-ad1a-450f-bdc4-be7077ea0fca"
      },
      "source": [
        "#making DataFrame with Python dictionary and pandas Series\n",
        "temps_missoula = [70,71]\n",
        "temps_philly = [90,91]\n",
        "temperatures = { 'Missoula' : temps_missoula, 'Philadelphia' : temps_philly}\n",
        "pd.DataFrame(temperatures)"
      ],
      "execution_count": 34,
      "outputs": [
        {
          "output_type": "execute_result",
          "data": {
            "text/html": [
              "<div>\n",
              "<style scoped>\n",
              "    .dataframe tbody tr th:only-of-type {\n",
              "        vertical-align: middle;\n",
              "    }\n",
              "\n",
              "    .dataframe tbody tr th {\n",
              "        vertical-align: top;\n",
              "    }\n",
              "\n",
              "    .dataframe thead th {\n",
              "        text-align: right;\n",
              "    }\n",
              "</style>\n",
              "<table border=\"1\" class=\"dataframe\">\n",
              "  <thead>\n",
              "    <tr style=\"text-align: right;\">\n",
              "      <th></th>\n",
              "      <th>Missoula</th>\n",
              "      <th>Philadelphia</th>\n",
              "    </tr>\n",
              "  </thead>\n",
              "  <tbody>\n",
              "    <tr>\n",
              "      <th>0</th>\n",
              "      <td>70</td>\n",
              "      <td>90</td>\n",
              "    </tr>\n",
              "    <tr>\n",
              "      <th>1</th>\n",
              "      <td>71</td>\n",
              "      <td>91</td>\n",
              "    </tr>\n",
              "  </tbody>\n",
              "</table>\n",
              "</div>"
            ],
            "text/plain": [
              "   Missoula  Philadelphia\n",
              "0        70            90\n",
              "1        71            91"
            ]
          },
          "metadata": {
            "tags": []
          },
          "execution_count": 34
        }
      ]
    },
    {
      "cell_type": "code",
      "metadata": {
        "id": "AAfSgCLpbUcM",
        "colab_type": "code",
        "colab": {
          "base_uri": "https://localhost:8080/",
          "height": 111
        },
        "outputId": "e4c78929-5c48-4605-da68-b02a1fe49637"
      },
      "source": [
        "temps_at_time0=pd.Series([70,90])\n",
        "temps_at_time1=pd.Series([71,91])\n",
        "df=pd.DataFrame([temps_at_time0, temps_at_time1])\n",
        "df"
      ],
      "execution_count": 35,
      "outputs": [
        {
          "output_type": "execute_result",
          "data": {
            "text/html": [
              "<div>\n",
              "<style scoped>\n",
              "    .dataframe tbody tr th:only-of-type {\n",
              "        vertical-align: middle;\n",
              "    }\n",
              "\n",
              "    .dataframe tbody tr th {\n",
              "        vertical-align: top;\n",
              "    }\n",
              "\n",
              "    .dataframe thead th {\n",
              "        text-align: right;\n",
              "    }\n",
              "</style>\n",
              "<table border=\"1\" class=\"dataframe\">\n",
              "  <thead>\n",
              "    <tr style=\"text-align: right;\">\n",
              "      <th></th>\n",
              "      <th>0</th>\n",
              "      <th>1</th>\n",
              "    </tr>\n",
              "  </thead>\n",
              "  <tbody>\n",
              "    <tr>\n",
              "      <th>0</th>\n",
              "      <td>70</td>\n",
              "      <td>90</td>\n",
              "    </tr>\n",
              "    <tr>\n",
              "      <th>1</th>\n",
              "      <td>71</td>\n",
              "      <td>91</td>\n",
              "    </tr>\n",
              "  </tbody>\n",
              "</table>\n",
              "</div>"
            ],
            "text/plain": [
              "    0   1\n",
              "0  70  90\n",
              "1  71  91"
            ]
          },
          "metadata": {
            "tags": []
          },
          "execution_count": 35
        }
      ]
    },
    {
      "cell_type": "code",
      "metadata": {
        "id": "Ra5nWiwobuC7",
        "colab_type": "code",
        "colab": {
          "base_uri": "https://localhost:8080/",
          "height": 111
        },
        "outputId": "ac42ae4b-5629-491c-c42a-5eae887dcc70"
      },
      "source": [
        "df=pd.DataFrame([temps_at_time0, temps_at_time1], columns=['Missoula','Philadelphia'])\n",
        "df\n",
        "# when the result appear at NaN, then there are two ways to solve this problem"
      ],
      "execution_count": 36,
      "outputs": [
        {
          "output_type": "execute_result",
          "data": {
            "text/html": [
              "<div>\n",
              "<style scoped>\n",
              "    .dataframe tbody tr th:only-of-type {\n",
              "        vertical-align: middle;\n",
              "    }\n",
              "\n",
              "    .dataframe tbody tr th {\n",
              "        vertical-align: top;\n",
              "    }\n",
              "\n",
              "    .dataframe thead th {\n",
              "        text-align: right;\n",
              "    }\n",
              "</style>\n",
              "<table border=\"1\" class=\"dataframe\">\n",
              "  <thead>\n",
              "    <tr style=\"text-align: right;\">\n",
              "      <th></th>\n",
              "      <th>Missoula</th>\n",
              "      <th>Philadelphia</th>\n",
              "    </tr>\n",
              "  </thead>\n",
              "  <tbody>\n",
              "    <tr>\n",
              "      <th>0</th>\n",
              "      <td>NaN</td>\n",
              "      <td>NaN</td>\n",
              "    </tr>\n",
              "    <tr>\n",
              "      <th>1</th>\n",
              "      <td>NaN</td>\n",
              "      <td>NaN</td>\n",
              "    </tr>\n",
              "  </tbody>\n",
              "</table>\n",
              "</div>"
            ],
            "text/plain": [
              "   Missoula  Philadelphia\n",
              "0       NaN           NaN\n",
              "1       NaN           NaN"
            ]
          },
          "metadata": {
            "tags": []
          },
          "execution_count": 36
        }
      ]
    },
    {
      "cell_type": "code",
      "metadata": {
        "id": "LyMYOXPTb7Sh",
        "colab_type": "code",
        "colab": {
          "base_uri": "https://localhost:8080/",
          "height": 111
        },
        "outputId": "51af7b4a-8d99-4ad7-dd95-ae4cadfadf24"
      },
      "source": [
        "#designating the column name with .columns method\n",
        "df= pd.DataFrame([temps_at_time0, temps_at_time1])\n",
        "df.columns = ['Missoula', 'Philadelphia']\n",
        "df"
      ],
      "execution_count": 37,
      "outputs": [
        {
          "output_type": "execute_result",
          "data": {
            "text/html": [
              "<div>\n",
              "<style scoped>\n",
              "    .dataframe tbody tr th:only-of-type {\n",
              "        vertical-align: middle;\n",
              "    }\n",
              "\n",
              "    .dataframe tbody tr th {\n",
              "        vertical-align: top;\n",
              "    }\n",
              "\n",
              "    .dataframe thead th {\n",
              "        text-align: right;\n",
              "    }\n",
              "</style>\n",
              "<table border=\"1\" class=\"dataframe\">\n",
              "  <thead>\n",
              "    <tr style=\"text-align: right;\">\n",
              "      <th></th>\n",
              "      <th>Missoula</th>\n",
              "      <th>Philadelphia</th>\n",
              "    </tr>\n",
              "  </thead>\n",
              "  <tbody>\n",
              "    <tr>\n",
              "      <th>0</th>\n",
              "      <td>70</td>\n",
              "      <td>90</td>\n",
              "    </tr>\n",
              "    <tr>\n",
              "      <th>1</th>\n",
              "      <td>71</td>\n",
              "      <td>91</td>\n",
              "    </tr>\n",
              "  </tbody>\n",
              "</table>\n",
              "</div>"
            ],
            "text/plain": [
              "   Missoula  Philadelphia\n",
              "0        70            90\n",
              "1        71            91"
            ]
          },
          "metadata": {
            "tags": []
          },
          "execution_count": 37
        }
      ]
    },
    {
      "cell_type": "code",
      "metadata": {
        "id": "s_w9JN9jc19i",
        "colab_type": "code",
        "colab": {
          "base_uri": "https://localhost:8080/",
          "height": 111
        },
        "outputId": "b1add6f8-6c7f-4c58-b57b-7f13b1da3fee"
      },
      "source": [
        "#Using the python dictionary\n",
        "temps_mso_series=pd.Series(temps_missoula)\n",
        "temps_phl_series=pd.Series(temps_philly)\n",
        "df=pd.DataFrame({'Missoula' : temps_mso_series, 'Philadelphia' : temps_phl_series})\n",
        "df"
      ],
      "execution_count": 39,
      "outputs": [
        {
          "output_type": "execute_result",
          "data": {
            "text/html": [
              "<div>\n",
              "<style scoped>\n",
              "    .dataframe tbody tr th:only-of-type {\n",
              "        vertical-align: middle;\n",
              "    }\n",
              "\n",
              "    .dataframe tbody tr th {\n",
              "        vertical-align: top;\n",
              "    }\n",
              "\n",
              "    .dataframe thead th {\n",
              "        text-align: right;\n",
              "    }\n",
              "</style>\n",
              "<table border=\"1\" class=\"dataframe\">\n",
              "  <thead>\n",
              "    <tr style=\"text-align: right;\">\n",
              "      <th></th>\n",
              "      <th>Missoula</th>\n",
              "      <th>Philadelphia</th>\n",
              "    </tr>\n",
              "  </thead>\n",
              "  <tbody>\n",
              "    <tr>\n",
              "      <th>0</th>\n",
              "      <td>70</td>\n",
              "      <td>90</td>\n",
              "    </tr>\n",
              "    <tr>\n",
              "      <th>1</th>\n",
              "      <td>71</td>\n",
              "      <td>91</td>\n",
              "    </tr>\n",
              "  </tbody>\n",
              "</table>\n",
              "</div>"
            ],
            "text/plain": [
              "   Missoula  Philadelphia\n",
              "0        70            90\n",
              "1        71            91"
            ]
          },
          "metadata": {
            "tags": []
          },
          "execution_count": 39
        }
      ]
    },
    {
      "cell_type": "code",
      "metadata": {
        "id": "31tqCRxZdxtF",
        "colab_type": "code",
        "colab": {
          "base_uri": "https://localhost:8080/",
          "height": 142
        },
        "outputId": "9952b69b-ae36-48bc-f931-46c4eec66ee5"
      },
      "source": [
        "#add another city\n",
        "temps_nyc_series=pd.Series([85,87], index=[1,2])\n",
        "df= pd.DataFrame({'Missoula' : temps_mso_series, 'Philadelphia' : temps_phl_series,'New York' : temps_nyc_series})\n",
        "df"
      ],
      "execution_count": 40,
      "outputs": [
        {
          "output_type": "execute_result",
          "data": {
            "text/html": [
              "<div>\n",
              "<style scoped>\n",
              "    .dataframe tbody tr th:only-of-type {\n",
              "        vertical-align: middle;\n",
              "    }\n",
              "\n",
              "    .dataframe tbody tr th {\n",
              "        vertical-align: top;\n",
              "    }\n",
              "\n",
              "    .dataframe thead th {\n",
              "        text-align: right;\n",
              "    }\n",
              "</style>\n",
              "<table border=\"1\" class=\"dataframe\">\n",
              "  <thead>\n",
              "    <tr style=\"text-align: right;\">\n",
              "      <th></th>\n",
              "      <th>Missoula</th>\n",
              "      <th>Philadelphia</th>\n",
              "      <th>New York</th>\n",
              "    </tr>\n",
              "  </thead>\n",
              "  <tbody>\n",
              "    <tr>\n",
              "      <th>0</th>\n",
              "      <td>70.0</td>\n",
              "      <td>90.0</td>\n",
              "      <td>NaN</td>\n",
              "    </tr>\n",
              "    <tr>\n",
              "      <th>1</th>\n",
              "      <td>71.0</td>\n",
              "      <td>91.0</td>\n",
              "      <td>85.0</td>\n",
              "    </tr>\n",
              "    <tr>\n",
              "      <th>2</th>\n",
              "      <td>NaN</td>\n",
              "      <td>NaN</td>\n",
              "      <td>87.0</td>\n",
              "    </tr>\n",
              "  </tbody>\n",
              "</table>\n",
              "</div>"
            ],
            "text/plain": [
              "   Missoula  Philadelphia  New York\n",
              "0      70.0          90.0       NaN\n",
              "1      71.0          91.0      85.0\n",
              "2       NaN           NaN      87.0"
            ]
          },
          "metadata": {
            "tags": []
          },
          "execution_count": 40
        }
      ]
    },
    {
      "cell_type": "code",
      "metadata": {
        "id": "3ahhdP23e-3q",
        "colab_type": "code",
        "colab": {
          "base_uri": "https://localhost:8080/",
          "height": 35
        },
        "outputId": "cd8acd5f-6012-4acf-d1f4-036c32129849"
      },
      "source": [
        "df.Missoula.iloc[1]"
      ],
      "execution_count": 41,
      "outputs": [
        {
          "output_type": "execute_result",
          "data": {
            "text/plain": [
              "71.0"
            ]
          },
          "metadata": {
            "tags": []
          },
          "execution_count": 41
        }
      ]
    },
    {
      "cell_type": "code",
      "metadata": {
        "id": "na7lamMzfIb0",
        "colab_type": "code",
        "colab": {
          "base_uri": "https://localhost:8080/",
          "height": 89
        },
        "outputId": "8726144e-d567-4b03-d868-3af2bb36ebcc"
      },
      "source": [
        "df.iloc[1]"
      ],
      "execution_count": 42,
      "outputs": [
        {
          "output_type": "execute_result",
          "data": {
            "text/plain": [
              "Missoula        71.0\n",
              "Philadelphia    91.0\n",
              "New York        85.0\n",
              "Name: 1, dtype: float64"
            ]
          },
          "metadata": {
            "tags": []
          },
          "execution_count": 42
        }
      ]
    },
    {
      "cell_type": "code",
      "metadata": {
        "id": "AVnOQbdTfLIL",
        "colab_type": "code",
        "colab": {
          "base_uri": "https://localhost:8080/",
          "height": 35
        },
        "outputId": "b72487ec-d740-4e83-b2dc-ed4903338a79"
      },
      "source": [
        "df.Missoula.loc[1]"
      ],
      "execution_count": 44,
      "outputs": [
        {
          "output_type": "execute_result",
          "data": {
            "text/plain": [
              "71.0"
            ]
          },
          "metadata": {
            "tags": []
          },
          "execution_count": 44
        }
      ]
    },
    {
      "cell_type": "code",
      "metadata": {
        "id": "DJoZ_MFkfOy_",
        "colab_type": "code",
        "colab": {}
      },
      "source": [
        ""
      ],
      "execution_count": null,
      "outputs": []
    }
  ]
}