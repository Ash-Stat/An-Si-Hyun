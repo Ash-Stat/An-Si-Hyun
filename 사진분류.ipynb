{
  "nbformat": 4,
  "nbformat_minor": 0,
  "metadata": {
    "colab": {
      "name": "사진분류.ipynb",
      "provenance": [],
      "authorship_tag": "ABX9TyM/EjkiGLMLOEIIoSKZ3YUe",
      "include_colab_link": true
    },
    "kernelspec": {
      "name": "python3",
      "display_name": "Python 3"
    }
  },
  "cells": [
    {
      "cell_type": "markdown",
      "metadata": {
        "id": "view-in-github",
        "colab_type": "text"
      },
      "source": [
        "<a href=\"https://colab.research.google.com/github/Ash-Stat/An-Si-Hyun/blob/data/%EC%82%AC%EC%A7%84%EB%B6%84%EB%A5%98.ipynb\" target=\"_parent\"><img src=\"https://colab.research.google.com/assets/colab-badge.svg\" alt=\"Open In Colab\"/></a>"
      ]
    },
    {
      "cell_type": "code",
      "metadata": {
        "id": "7mPb9Czo62bK",
        "outputId": "556f2682-713e-45a5-8d0e-46339f34938e",
        "colab": {
          "base_uri": "https://localhost:8080/"
        }
      },
      "source": [
        "#데이터 불러오기셋\n",
        "from sklearn.datasets import fetch_openml\n",
        "mnist=fetch_openml('mnist_784',version=1)\n",
        "mnist.keys()"
      ],
      "execution_count": 2,
      "outputs": [
        {
          "output_type": "execute_result",
          "data": {
            "text/plain": [
              "dict_keys(['data', 'target', 'frame', 'feature_names', 'target_names', 'DESCR', 'details', 'categories', 'url'])"
            ]
          },
          "metadata": {
            "tags": []
          },
          "execution_count": 2
        }
      ]
    },
    {
      "cell_type": "code",
      "metadata": {
        "id": "vo3Uo3vw7MG4",
        "outputId": "650423e7-3b0b-4dd0-88dc-6e5f83fc9edd",
        "colab": {
          "base_uri": "https://localhost:8080/"
        }
      },
      "source": [
        "X,y=mnist['data'],mnist['target']\n",
        "X.shape\n",
        "# 28팍셀 * 28픽셀 = 784 이고, 70,000개의 이미지가 있다."
      ],
      "execution_count": 6,
      "outputs": [
        {
          "output_type": "execute_result",
          "data": {
            "text/plain": [
              "(70000, 784)"
            ]
          },
          "metadata": {
            "tags": []
          },
          "execution_count": 6
        }
      ]
    },
    {
      "cell_type": "code",
      "metadata": {
        "id": "cuNZ48Jf7rk_",
        "outputId": "0f5a4c4e-72d0-4136-c6a5-8a1242792488",
        "colab": {
          "base_uri": "https://localhost:8080/"
        }
      },
      "source": [
        "y.shape"
      ],
      "execution_count": 12,
      "outputs": [
        {
          "output_type": "execute_result",
          "data": {
            "text/plain": [
              "(70000,)"
            ]
          },
          "metadata": {
            "tags": []
          },
          "execution_count": 12
        }
      ]
    },
    {
      "cell_type": "code",
      "metadata": {
        "id": "qtH2nSN98Dto",
        "outputId": "abf85966-26d5-4f38-bcdb-6c9e39b3f5f5",
        "colab": {
          "base_uri": "https://localhost:8080/",
          "height": 266
        }
      },
      "source": [
        "import matplotlib.pyplot as plt\n",
        "some_digit=X[0]\n",
        "some_digit_image=some_digit.reshape(28,28)\n",
        "plt.imshow(some_digit_image,cmap='binary')\n",
        "plt.axis('off')\n",
        "plt.show()\n",
        "print('실제 레이블 :',y[0])"
      ],
      "execution_count": 16,
      "outputs": [
        {
          "output_type": "display_data",
          "data": {
            "image/png": "[encoded data removed]",
            "text/plain": [
              "<Figure size 432x288 with 1 Axes>"
            ]
          },
          "metadata": {
            "tags": [],
            "needs_background": "light"
          }
        },
        {
          "output_type": "stream",
          "text": [
            "실제 레이블 : 5\n"
          ],
          "name": "stdout"
        }
      ]
    },
    {
      "cell_type": "code",
      "metadata": {
        "id": "-l-mbP6f8mM-"
      },
      "source": [
        "#레이블이 문자열로 되어있으므로 수치형으로 변환한다.\n",
        "\n",
        "y=y.astype(float)"
      ],
      "execution_count": 18,
      "outputs": []
    },
    {
      "cell_type": "code",
      "metadata": {
        "id": "5BBqAnl88-Ti"
      },
      "source": [
        "#mnist 데이터셋은 이미 훈련과 테스트셋으로 나누어 놓았다.\n",
        "\n",
        "X_train,X_test,y_train,y_test=X[:60000],X[60000:],y[:60000],y[60000:]"
      ],
      "execution_count": 19,
      "outputs": []
    },
    {
      "cell_type": "code",
      "metadata": {
        "id": "AgySDJAO9VWQ"
      },
      "source": [
        "#문제를 단순화 하여 하나의 숫자, 예컨대 숫자 5만 식별을 해보도록 한다.\n",
        "\n",
        "#즉, 5인가? 아닌가 처럼 두 개의 클래스를 구분할 수 있는 이진 분류기의 한 예시인 것이다.\n",
        "\n",
        "y_train_5=(y_train==5) #5는 True반환, 나머지는 죄다 False 반환\n",
        "y_test_5=(y_test==5)\n"
      ],
      "execution_count": 20,
      "outputs": []
    },
    {
      "cell_type": "code",
      "metadata": {
        "id": "USUAbHnD9wuq",
        "outputId": "5f2a7a74-d679-4b02-a8aa-ad87d8d2ac89",
        "colab": {
          "base_uri": "https://localhost:8080/"
        }
      },
      "source": [
        "#모델중 사이킷런의 SGDClassifier 클래스를 사용한다.\n",
        "#그래서 확률적 경사 하강법 분류기로 시작을 해본다.\n",
        "#이 분류기는 매우 큰 데이터셋을 효율적으로 처리하는 장점을 지니고 있다.(한번에 하나씩 훈련샘플을 독립적으로 처리하기 때문)\n",
        "##그래서 인지 온라인 학습에 아주 걸맞다.\n",
        "from sklearn.linear_model import SGDClassifier\n",
        "\n",
        "sgd_clf=SGDClassifier(random_state=42)\n",
        "sgd_clf.fit(X_train,y_train_5)\n",
        "#SGDClassifier는 훈련하는 데 무작위성을 사용한다( 그래서 결과를 재현하고 싶다면 random_state 매개변수를 저장해야 한다.)\n",
        "sgd_clf.predict([some_digit]) #[]을 붙혀주자.\n",
        "\n",
        "#이 분류기에서는 5를 5라고 판별 하였다."
      ],
      "execution_count": 22,
      "outputs": [
        {
          "output_type": "execute_result",
          "data": {
            "text/plain": [
              "array([ True])"
            ]
          },
          "metadata": {
            "tags": []
          },
          "execution_count": 22
        }
      ]
    },
    {
      "cell_type": "code",
      "metadata": {
        "id": "Y3xaAEBr_iPq",
        "outputId": "982f5598-f386-4437-eec6-f0ffab0c39c5",
        "colab": {
          "base_uri": "https://localhost:8080/"
        }
      },
      "source": [
        "#사이킷런 교차검증\n",
        "from sklearn.model_selection import cross_val_score\n",
        "cross_val_score(sgd_clf,X_train,y_train_5, cv=3,scoring='accuracy')\n",
        "\n",
        "#모든 교차검증 폴드에 대해 정확도가 95%이상이다.\n",
        "#하지만 불균형한 데이터(어떤 클래스가 다른 것보다 월등히 많을 경우)에는\n",
        "#정확도를 성능지표로 활용하는 것이 선호되지 않는다."
      ],
      "execution_count": 26,
      "outputs": [
        {
          "output_type": "execute_result",
          "data": {
            "text/plain": [
              "array([0.95035, 0.96035, 0.9604 ])"
            ]
          },
          "metadata": {
            "tags": []
          },
          "execution_count": 26
        }
      ]
    },
    {
      "cell_type": "code",
      "metadata": {
        "id": "3uEeN3bRCqQ5"
      },
      "source": [
        "#분류기의 성능을 평가하는 더 좋은 방법은 오차행렬(confusiong matrix)을 조사하는 것이다.\n",
        "#기본적인 아이디어는 예를들어 A샘플이 B로 분류된 횟수를 세는 것 이다.\n",
        "#예를 들어 분류기가 숫자 5의 이미지를 3으로 잘못 분류한 횟수를 알고 싶다면 오차 행렬의 5행 3열을 살펴보면 된다.\n",
        "\n",
        "#오차행렬을 만들기 위해서 먼저 실제 타깃과 비교할 수 있도록 예측값을 만들어야 한다.\n",
        "#테스트 세트로 예측을 만들 수 있지만 여기서 사용하면 안된다.(테스트세트는 분류기가 출시 준비를 다 마친후 프로젝트의 맨 마지막에 사용된다.)\n",
        "#대신 cross_val_predict()\n",
        "\n",
        "from sklearn.model_selection import cross_val_predict #평가 점수를 반환하지 않고 각 테스트폴드에서 얻은 예측결과를 반환한다.\n",
        "y_train_pred=cross_val_predict(sgd_clf,X_train,y_train_5,cv=3)\n",
        "#이때 cross_val_predict() 함수는 k-겹 교차 검증을 수행하지만 평가 점수를 반환하지 않고 각 테스트 폴드에서 얻은 예측을 반환한다.\n",
        "#즉, 훈련 세트의 모든 샘플에 대해 깨끗한 예측을 얻게된다.\n",
        "#이때 깨끗한 예측은 모델이 훈련하는 동안 보지 못했던 데이터에 대해 예측했다는 뜻이다."
      ],
      "execution_count": 27,
      "outputs": []
    },
    {
      "cell_type": "code",
      "metadata": {
        "id": "2VKkKLiRF50K",
        "outputId": "cfea76a8-f4bc-4b9e-ff93-2229ea69ef7b",
        "colab": {
          "base_uri": "https://localhost:8080/"
        }
      },
      "source": [
        "#confusion_matrix() 함수를 사용해 오차 행렬을 만들 준비\n",
        "from sklearn.metrics import confusion_matrix\n",
        "confusion_matrix(y_train_5,y_train_pred)\n",
        "\n",
        "#오차행렬의 행은 실제 클래스를 나타내고, 열은 예측한 클래스를 나타낸다.\n",
        "#첫 번째 행은 '5 아님' 이미지(음성 클래스)에 대한 것이다.\n",
        "#53,892개를 '5아님'으로 정확하게 분류했다.(진짜 음성)\n",
        "#나머지 687개를 '5'라고 잘못 분류 했다.(거짓 양성)\n",
        "\n",
        "#두 번째 행은 '5'이미지(양성 클래스)에 대한 것으로, 1,891개를 '5아님'으로 잘못 분류했고(거짓 음성)\n",
        "#나머지 3,530개를 정확히 '5'라고 분류 했다( 진짜 양성)"
      ],
      "execution_count": 28,
      "outputs": [
        {
          "output_type": "execute_result",
          "data": {
            "text/plain": [
              "array([[53892,   687],\n",
              "       [ 1891,  3530]])"
            ]
          },
          "metadata": {
            "tags": []
          },
          "execution_count": 28
        }
      ]
    },
    {
      "cell_type": "code",
      "metadata": {
        "id": "OTkyGH2CGcVs",
        "outputId": "8cb3b187-2d93-46ad-b86a-3ab005e1d480",
        "colab": {
          "base_uri": "https://localhost:8080/",
          "height": 111
        }
      },
      "source": [
        "#많은 요약된 지표중 하나인 양성 예측의 정확도를 살펴보자.\n",
        "\n",
        "#이를 분류기의 '정밀도(precision)'이라고도 부른다.\n",
        "\n",
        "#정밀도 = TP/(TP+FP)\n",
        "\n",
        "#TP는 진짜 양성의 수이고, FP는 거짓 양성의 수이다.\n",
        "\n",
        "#정밀도는 재현율 이라는 또 다른 지표와 같이 사용하는 것이 일반적이다.\n",
        "\n",
        "#재현율은 분류기가 정확하게 감지한 양성 샘플의 비율이다.\n",
        "\n",
        "#이를 민감도, 또는 진짜 양성 비율이라고 부른다.\n",
        "\n",
        "#재현율 =TP/(TP+FN) ,FN은 거짓 음성의 수이다.\n",
        "\n",
        "import pandas as pd\n",
        "pd.DataFrame({'음성' : ['TN','FN'], '양성' : ['FP','TP']},index=['음성','양성'])\n",
        "#오차행렬에 대한 정리표"
      ],
      "execution_count": 30,
      "outputs": [
        {
          "output_type": "execute_result",
          "data": {
            "text/html": [
              "<div>\n",
              "<style scoped>\n",
              "    .dataframe tbody tr th:only-of-type {\n",
              "        vertical-align: middle;\n",
              "    }\n",
              "\n",
              "    .dataframe tbody tr th {\n",
              "        vertical-align: top;\n",
              "    }\n",
              "\n",
              "    .dataframe thead th {\n",
              "        text-align: right;\n",
              "    }\n",
              "</style>\n",
              "<table border=\"1\" class=\"dataframe\">\n",
              "  <thead>\n",
              "    <tr style=\"text-align: right;\">\n",
              "      <th></th>\n",
              "      <th>음성</th>\n",
              "      <th>양성</th>\n",
              "    </tr>\n",
              "  </thead>\n",
              "  <tbody>\n",
              "    <tr>\n",
              "      <th>음성</th>\n",
              "      <td>TN</td>\n",
              "      <td>FP</td>\n",
              "    </tr>\n",
              "    <tr>\n",
              "      <th>양성</th>\n",
              "      <td>FN</td>\n",
              "      <td>TP</td>\n",
              "    </tr>\n",
              "  </tbody>\n",
              "</table>\n",
              "</div>"
            ],
            "text/plain": [
              "    음성  양성\n",
              "음성  TN  FP\n",
              "양성  FN  TP"
            ]
          },
          "metadata": {
            "tags": []
          },
          "execution_count": 30
        }
      ]
    },
    {
      "cell_type": "code",
      "metadata": {
        "id": "i3ZDJoipK7Ya",
        "outputId": "e4b28743-ddd9-44f0-9f02-0cbf0e8e262a",
        "colab": {
          "base_uri": "https://localhost:8080/"
        }
      },
      "source": [
        "#정밀도와 재현율\n",
        "\n",
        "#사이킷런은 정밀도와 재현율을 포함하여 분류기의 지표를 계산하는 여러 함수를 제공한다.\n",
        "\n",
        "from sklearn.metrics import precision_score, recall_score\n",
        "precision_score(y_train_5,y_train_pred)\n",
        "#정밀도는 83% 즉, 진짜 양성 + 거짓 양성중에서 진짜 양성이 나타날 확률이 83%(5라고 판별된)\n",
        "\n",
        "#5라고 판별된거 중에서 진짜 5는 83%이다."
      ],
      "execution_count": 34,
      "outputs": [
        {
          "output_type": "execute_result",
          "data": {
            "text/plain": [
              "0.8370879772350012"
            ]
          },
          "metadata": {
            "tags": []
          },
          "execution_count": 34
        }
      ]
    },
    {
      "cell_type": "code",
      "metadata": {
        "id": "8D01RFTrLhw5",
        "outputId": "97c2a47a-8627-48d9-a7cc-f38f50490602",
        "colab": {
          "base_uri": "https://localhost:8080/"
        }
      },
      "source": [
        "recall_score(y_train_5,y_train_pred)\n",
        "#재현율은 65% 즉, 진짜 양성 + 거짓 음성 중에서 진짜 양성이 차지하는 비율이 65%이다.\n",
        "\n",
        "#진짜 5이미지들 중에서 5라고 분류된게 65%이다."
      ],
      "execution_count": 35,
      "outputs": [
        {
          "output_type": "execute_result",
          "data": {
            "text/plain": [
              "0.6511713705958311"
            ]
          },
          "metadata": {
            "tags": []
          },
          "execution_count": 35
        }
      ]
    },
    {
      "cell_type": "code",
      "metadata": {
        "id": "6UPYD3D6L6rM",
        "outputId": "c7f29d58-1bec-4218-cfbf-d15d158e97a0",
        "colab": {
          "base_uri": "https://localhost:8080/"
        }
      },
      "source": [
        "#정밀도와 재현율을 F1이라고 하는 하나의 숫자로 만들면 편리할 때가 많다.\n",
        "\n",
        "#F1점수는 정밀도와 재현율의 조화 평균 이다.\n",
        "\n",
        "#2 X (1/(1/정밀도 + 1/재현율)) = 2 X (정밀도 X 재현율) / (정밀도 +재현율)\n",
        "\n",
        "#F1 함수 호출 코드\n",
        "\n",
        "from sklearn.metrics import f1_score\n",
        "f1_score(y_train_5,y_train_pred)"
      ],
      "execution_count": 36,
      "outputs": [
        {
          "output_type": "execute_result",
          "data": {
            "text/plain": [
              "0.7325171197343846"
            ]
          },
          "metadata": {
            "tags": []
          },
          "execution_count": 36
        }
      ]
    },
    {
      "cell_type": "markdown",
      "metadata": {
        "id": "8piOLBCDNZ5k"
      },
      "source": [
        "#정밀도와 재현율이 비슷한 분류기에서는 F1점수가 높다.\n",
        "\n",
        "##하지만 이게 항상 바람직한 것은 아니다.\n",
        "\n",
        "##예를들어 어린아이에게 야동을 걸러내는 분류기 훈련을 한다면\n",
        "\n",
        "##재현율은 높을수록 즉, 야동중에서 야동으로 분류되는게 많아질 것 이다.\n",
        "\n",
        "##하지만 몇몇개를 놓치는 경우가 있을텐데 이것 보다는\n",
        "\n",
        "##정밀도를 높여서 즉, 좋은 동영상이 야동으로 포함되어 잘못 걸러지더라도\n",
        "\n",
        "##최대한 야동이라고 판별되는 것을 걸러지게 만드는 것이 나을 것 이다.\n",
        "\n",
        "##즉, 이 경우에는 재현율보다는 정밀도를 높이는 것이 관건이라고 할 수 있겠다.\n",
        "\n",
        "-----------------------------------------------------------------------------------\n",
        "#정밀도를 올리면 재현율이 줄고, 재현율을 올리면 정밀도가 줄어든다.\n",
        "##이 관계를 정밀도/재현율 트레이드 오프 라고 한다."
      ]
    },
    {
      "cell_type": "code",
      "metadata": {
        "id": "QUAn0GIFNX0e",
        "outputId": "a6908a9f-d596-4073-ca54-c5457ea98a59",
        "colab": {
          "base_uri": "https://localhost:8080/"
        }
      },
      "source": [
        "#SDGClassifier가 분류를 어떻게 결정하는지 살펴보며 이 트레이드오프관계를 살펴보자\n",
        "\n",
        "#이 분류기는 결정함수를 사용하여 각 샘플의 점수를 계산한다.\n",
        "\n",
        "#이 점수가 임계값보다 크면 샘플을 양성 클래스에 할당하고, 그렇지 않으면 음성 클래스에 할당한다.\n",
        "\n",
        "#각 이미지를 5에 대해서 평가점수를 부여하고 일렬로 줄세웠을때 (오른쪽으로 갈수록 점수가 크다.)\n",
        "\n",
        "#임계값을 높이면 정밀도가 높아지고, 재현율이 낮아진다. 이때, 임계값보다 평가점수가 높으면 5로 분류가 된다.\n",
        "\n",
        "#임계값을 낮추면 재현율이 높아지고, 정밀도가 낮아진다.\n",
        "\n",
        "#사이킷런에서는 임곗값을 직접 지정할 수는 없지만 예측에 사용한 점수는 확인할 수 있다.\n",
        "\n",
        "#분류기의 predict()대신 decision_function()를 호출하면 샘플의 점수를 얻는다.\n",
        "\n",
        "#이 점수를 기반으로 원하는 임곗값을 정해 예측을 만들 수 있다.\n",
        "\n",
        "y_scores=sgd_clf.decision_function([some_digit])\n",
        "y_scores"
      ],
      "execution_count": 38,
      "outputs": [
        {
          "output_type": "execute_result",
          "data": {
            "text/plain": [
              "array([2164.22030239])"
            ]
          },
          "metadata": {
            "tags": []
          },
          "execution_count": 38
        }
      ]
    },
    {
      "cell_type": "code",
      "metadata": {
        "id": "VoUcVA6VVdrM",
        "outputId": "ff22450d-c744-40fc-ec36-f7b215e171ef",
        "colab": {
          "base_uri": "https://localhost:8080/"
        }
      },
      "source": [
        "#임계값 설정\n",
        "\n",
        "threshold= 0\n",
        "y_some_digit_pred=(y_scores> threshold)\n",
        "y_some_digit_pred"
      ],
      "execution_count": 40,
      "outputs": [
        {
          "output_type": "execute_result",
          "data": {
            "text/plain": [
              "array([ True])"
            ]
          },
          "metadata": {
            "tags": []
          },
          "execution_count": 40
        }
      ]
    },
    {
      "cell_type": "code",
      "metadata": {
        "id": "5O0BQpiFVt2F",
        "outputId": "4acbc616-b592-4e9a-d791-e652857b3476",
        "colab": {
          "base_uri": "https://localhost:8080/"
        }
      },
      "source": [
        "threshold1=8000\n",
        "y_some_digit_pred1=(y_scores>threshold1)\n",
        "y_some_digit_pred1\n",
        "\n",
        "#임계값을 높일 수록 재현율이 줄어드는 것을 알 수 있다.(5를 5라고 분류하지 못하므로)"
      ],
      "execution_count": 41,
      "outputs": [
        {
          "output_type": "execute_result",
          "data": {
            "text/plain": [
              "array([False])"
            ]
          },
          "metadata": {
            "tags": []
          },
          "execution_count": 41
        }
      ]
    },
    {
      "cell_type": "code",
      "metadata": {
        "id": "nOEBDEezV-Ad",
        "outputId": "9f60dbfb-64ef-4268-f9ed-4b5dbe9c8b6a",
        "colab": {
          "base_uri": "https://localhost:8080/"
        }
      },
      "source": [
        "y_scores=cross_val_predict(sgd_clf,X_train,y_train_5,cv=3,method='decision_function')\n",
        "#method='decision_function' 파라미터는 예측 결과값이 아닌 결정함수 값을 반환하도록 한다.\n",
        "\n",
        "y_scores"
      ],
      "execution_count": 42,
      "outputs": [
        {
          "output_type": "execute_result",
          "data": {
            "text/plain": [
              "array([  1200.93051237, -26883.79202424, -33072.03475406, ...,\n",
              "        13272.12718981,  -7258.47203373, -16877.50840447])"
            ]
          },
          "metadata": {
            "tags": []
          },
          "execution_count": 42
        }
      ]
    },
    {
      "cell_type": "code",
      "metadata": {
        "id": "Uv6k9PsCWvD_"
      },
      "source": [
        "#평가점수를 이용해서 정밀도와 재현율을 그리는 방법\n",
        "\n",
        "from sklearn.metrics import precision_recall_curve\n",
        "precisions, recalls, thresholds = precision_recall_curve(y_train_5,y_scores)"
      ],
      "execution_count": 44,
      "outputs": []
    },
    {
      "cell_type": "code",
      "metadata": {
        "id": "AWTGMctoXaqs",
        "outputId": "7a595c8f-b8a6-4b72-a1cc-1d5a9f37c1c9",
        "colab": {
          "base_uri": "https://localhost:8080/",
          "height": 927
        }
      },
      "source": [
        "plt.plot(thresholds,precisions[:-1],'b--',label='정밀도')\n",
        "plt.plot(thresholds,recalls[:-1],'g--',label='재현율') #-1을 해주는 이유는 값의 크기가 달라서 그럼\n",
        "plt.xlabel('임곗값')\n",
        "plt.grid()\n",
        "plt.legend()\n",
        "plt.show()"
      ],
      "execution_count": 57,
      "outputs": [
        {
          "output_type": "stream",
          "text": [
            "/usr/local/lib/python3.6/dist-packages/matplotlib/backends/backend_agg.py:214: RuntimeWarning: Glyph 51076 missing from current font.\n",
            "  font.set_text(s, 0.0, flags=flags)\n",
            "/usr/local/lib/python3.6/dist-packages/matplotlib/backends/backend_agg.py:214: RuntimeWarning: Glyph 44247 missing from current font.\n",
            "  font.set_text(s, 0.0, flags=flags)\n",
            "/usr/local/lib/python3.6/dist-packages/matplotlib/backends/backend_agg.py:214: RuntimeWarning: Glyph 44050 missing from current font.\n",
            "  font.set_text(s, 0.0, flags=flags)\n",
            "/usr/local/lib/python3.6/dist-packages/matplotlib/backends/backend_agg.py:214: RuntimeWarning: Glyph 51221 missing from current font.\n",
            "  font.set_text(s, 0.0, flags=flags)\n",
            "/usr/local/lib/python3.6/dist-packages/matplotlib/backends/backend_agg.py:214: RuntimeWarning: Glyph 48128 missing from current font.\n",
            "  font.set_text(s, 0.0, flags=flags)\n",
            "/usr/local/lib/python3.6/dist-packages/matplotlib/backends/backend_agg.py:214: RuntimeWarning: Glyph 46020 missing from current font.\n",
            "  font.set_text(s, 0.0, flags=flags)\n",
            "/usr/local/lib/python3.6/dist-packages/matplotlib/backends/backend_agg.py:214: RuntimeWarning: Glyph 51116 missing from current font.\n",
            "  font.set_text(s, 0.0, flags=flags)\n",
            "/usr/local/lib/python3.6/dist-packages/matplotlib/backends/backend_agg.py:214: RuntimeWarning: Glyph 54788 missing from current font.\n",
            "  font.set_text(s, 0.0, flags=flags)\n",
            "/usr/local/lib/python3.6/dist-packages/matplotlib/backends/backend_agg.py:214: RuntimeWarning: Glyph 50984 missing from current font.\n",
            "  font.set_text(s, 0.0, flags=flags)\n",
            "/usr/local/lib/python3.6/dist-packages/matplotlib/backends/backend_agg.py:183: RuntimeWarning: Glyph 51076 missing from current font.\n",
            "  font.set_text(s, 0, flags=flags)\n",
            "/usr/local/lib/python3.6/dist-packages/matplotlib/backends/backend_agg.py:183: RuntimeWarning: Glyph 44247 missing from current font.\n",
            "  font.set_text(s, 0, flags=flags)\n",
            "/usr/local/lib/python3.6/dist-packages/matplotlib/backends/backend_agg.py:183: RuntimeWarning: Glyph 44050 missing from current font.\n",
            "  font.set_text(s, 0, flags=flags)\n",
            "/usr/local/lib/python3.6/dist-packages/matplotlib/backends/backend_agg.py:183: RuntimeWarning: Glyph 51221 missing from current font.\n",
            "  font.set_text(s, 0, flags=flags)\n",
            "/usr/local/lib/python3.6/dist-packages/matplotlib/backends/backend_agg.py:183: RuntimeWarning: Glyph 48128 missing from current font.\n",
            "  font.set_text(s, 0, flags=flags)\n",
            "/usr/local/lib/python3.6/dist-packages/matplotlib/backends/backend_agg.py:183: RuntimeWarning: Glyph 46020 missing from current font.\n",
            "  font.set_text(s, 0, flags=flags)\n",
            "/usr/local/lib/python3.6/dist-packages/matplotlib/backends/backend_agg.py:183: RuntimeWarning: Glyph 51116 missing from current font.\n",
            "  font.set_text(s, 0, flags=flags)\n",
            "/usr/local/lib/python3.6/dist-packages/matplotlib/backends/backend_agg.py:183: RuntimeWarning: Glyph 54788 missing from current font.\n",
            "  font.set_text(s, 0, flags=flags)\n",
            "/usr/local/lib/python3.6/dist-packages/matplotlib/backends/backend_agg.py:183: RuntimeWarning: Glyph 50984 missing from current font.\n",
            "  font.set_text(s, 0, flags=flags)\n"
          ],
          "name": "stderr"
        },
        {
          "output_type": "display_data",
          "data": {
            "image/png": "[encoded data removed]",
            "text/plain": [
              "<Figure size 432x288 with 1 Axes>"
            ]
          },
          "metadata": {
            "tags": [],
            "needs_background": "light"
          }
        }
      ]
    },
    {
      "cell_type": "code",
      "metadata": {
        "id": "aQPyBaiQXeyw",
        "outputId": "f2dc1568-b445-40af-8d6a-97412f6d0546",
        "colab": {
          "base_uri": "https://localhost:8080/",
          "height": 301
        }
      },
      "source": [
        "import numpy as np\n",
        "#좋은 정밀도/재현율 트레이드오프를 선택하는 방법은 재현율에 대한 정밀도 곡선을 그리는 것 이다.\n",
        "\n",
        "plt.plot(recalls,precisions,'g--')\n",
        "plt.grid()\n",
        "plt.legend()\n",
        "plt.show()\n",
        "\n",
        "#그래프상 재현율 0.8근처에서 급격하게 정밀도가 줄어들기 시작한다.\n",
        "\n",
        "#보통은 이 하강점 직전을 정밀도/재현율 트레이드 오프로 선택한다.\n",
        "\n",
        "#이런 선택은 프로젝트마다 달라진다.\n",
        "\n",
        "#또한 위의 그래프와 함께 정밀도나 재현율의 그래프 수준을 정하고 그에따른 임계값을 찾으면 된다.\n",
        "\n",
        "#예를들어 정밀도 90%가 목표라면 임곗값이 약 8,000정도 인데 정확한 인덱스를 반환해보자\n",
        "\n",
        "threshold_90_precision=thresholds[np.argmax(precisions>=0.90)]\n",
        "print(threshold_90_precision) #argmax는 처음으로 0.9이상이 나타나는 임계값 인덱스를 반환해준다."
      ],
      "execution_count": 67,
      "outputs": [
        {
          "output_type": "stream",
          "text": [
            "No handles with labels found to put in legend.\n"
          ],
          "name": "stderr"
        },
        {
          "output_type": "display_data",
          "data": {
            "image/png": "[encoded data removed]",
            "text/plain": [
              "<Figure size 432x288 with 1 Axes>"
            ]
          },
          "metadata": {
            "tags": [],
            "needs_background": "light"
          }
        },
        {
          "output_type": "stream",
          "text": [
            "3370.0194991439557\n"
          ],
          "name": "stdout"
        }
      ]
    },
    {
      "cell_type": "code",
      "metadata": {
        "id": "DGL_2P2JZL_H"
      },
      "source": [
        ""
      ],
      "execution_count": null,
      "outputs": []
    }
  ]
}