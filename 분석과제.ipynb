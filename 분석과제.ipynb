{
  "nbformat": 4,
  "nbformat_minor": 0,
  "metadata": {
    "colab": {
      "name": "분석과제.ipynb",
      "provenance": [],
      "authorship_tag": "ABX9TyMtkqfYiI+D+ES1beOuxzwu",
      "include_colab_link": true
    },
    "kernelspec": {
      "name": "python3",
      "display_name": "Python 3"
    },
    "language_info": {
      "name": "python"
    }
  },
  "cells": [
    {
      "cell_type": "markdown",
      "metadata": {
        "id": "view-in-github",
        "colab_type": "text"
      },
      "source": [
        "<a href=\"https://colab.research.google.com/github/Ash-Stat/An-Si-Hyun/blob/data/%EB%B6%84%EC%84%9D%EA%B3%BC%EC%A0%9C.ipynb\" target=\"_parent\"><img src=\"https://colab.research.google.com/assets/colab-badge.svg\" alt=\"Open In Colab\"/></a>"
      ]
    },
    {
      "cell_type": "code",
      "metadata": {
        "id": "-V6-1k3USnX5"
      },
      "source": [
        "import pandas as pd\n",
        "import numpy as np\n",
        "import matplotlib.pyplot as plt\n",
        "from sklearn.linear_model import LinearRegression\n",
        "x=[77,100,185,239,285]\n",
        "y=[2.4,3.4,7,11.1,19.6]\n",
        "lny=np.log(y)\n",
        "x_data=pd.DataFrame(x)\n",
        "y_data=pd.DataFrame(lny)\n",
        "data=pd.concat([x_data,y_data],axis=1)\n",
        "data.columns=['x','lny']"
      ],
      "execution_count": 16,
      "outputs": []
    },
    {
      "cell_type": "code",
      "metadata": {
        "colab": {
          "base_uri": "https://localhost:8080/",
          "height": 501
        },
        "id": "V_pJlxBqVkg8",
        "outputId": "e687e257-ee4e-4768-d249-241f0a3b0787"
      },
      "source": [
        "plt.figure(figsize=(8,8))\n",
        "plt.plot(x,y)"
      ],
      "execution_count": 28,
      "outputs": [
        {
          "output_type": "execute_result",
          "data": {
            "text/plain": [
              "[<matplotlib.lines.Line2D at 0x7fe4f41f5f50>]"
            ]
          },
          "metadata": {
            "tags": []
          },
          "execution_count": 28
        },
        {
          "output_type": "display_data",
          "data": {
            "image/png": "[encoded data removed]",
            "text/plain": [
              "<Figure size 576x576 with 1 Axes>"
            ]
          },
          "metadata": {
            "tags": [],
            "needs_background": "light"
          }
        }
      ]
    },
    {
      "cell_type": "code",
      "metadata": {
        "colab": {
          "base_uri": "https://localhost:8080/"
        },
        "id": "jffIrBE_Voa3",
        "outputId": "a2b2d3db-ee19-4310-c16a-df4adb555370"
      },
      "source": [
        "model=LinearRegression()\n",
        "model.fit(x_data,y_data)\n",
        "print('베타값 :',model.coef_)\n",
        "print('알파값 :',np.exp(model.intercept_))\n",
        "print('r값 :',data.corr())"
      ],
      "execution_count": 26,
      "outputs": [
        {
          "output_type": "stream",
          "text": [
            "베타값 : [[0.00960268]]\n",
            "알파값 : [1.20193371]\n",
            "r값 :             x       lny\n",
            "x    1.000000  0.997082\n",
            "lny  0.997082  1.000000\n"
          ],
          "name": "stdout"
        }
      ]
    },
    {
      "cell_type": "code",
      "metadata": {
        "id": "qYa3rvC-V-Gz"
      },
      "source": [
        ""
      ],
      "execution_count": null,
      "outputs": []
    }
  ]
}