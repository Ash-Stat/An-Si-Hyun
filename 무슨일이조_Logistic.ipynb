{
  "nbformat": 4,
  "nbformat_minor": 0,
  "metadata": {
    "colab": {
      "name": "Untitled12.ipynb",
      "provenance": [],
      "authorship_tag": "ABX9TyOcWtDsw6P5r0+YZNK8xl8+",
      "include_colab_link": true
    },
    "kernelspec": {
      "name": "python3",
      "display_name": "Python 3"
    },
    "language_info": {
      "name": "python"
    }
  },
  "cells": [
    {
      "cell_type": "markdown",
      "metadata": {
        "id": "view-in-github",
        "colab_type": "text"
      },
      "source": [
        "<a href=\"https://colab.research.google.com/github/Ash-Stat/An-Si-Hyun/blob/data/%EB%AC%B4%EC%8A%A8%EC%9D%BC%EC%9D%B4%EC%A1%B0_Logistic.ipynb\" target=\"_parent\"><img src=\"https://colab.research.google.com/assets/colab-badge.svg\" alt=\"Open In Colab\"/></a>"
      ]
    },
    {
      "cell_type": "markdown",
      "metadata": {
        "id": "wIHBJcRxNc6X"
      },
      "source": [
        "# 먼저 읽어주세요!\n",
        "\n",
        "이번 실습에서 사용한 데이터는 저번에 CBR, AR했던 데이터였는데 그때는 사용된 변수들이 본 실습 목적에 맞지 않는다고 했었습니다. 그래서 이번에는 똑같은 분류 문제이기도 하고 종협님 의견대로 같은 데이터 사용해도 된다고하기도 했고, 로지스틱 분류문제에서 다양한 변수들이 들어갈 수 있기 때문에 이와 같은 데이터를 활용해도 좋을 것 같습니다.\n",
        "\n",
        "저번에 연준님이 보내주신 그 혈압혈당데이터 입니다. 이번에는 **고혈압이냐? -1**, **당뇨냐?-2** 가 타겟변수(Y)가 될 것입니다. 그리고 각각의 독립변수(나이, 성별, 혈당, BMI지수 등)에 따른 고혈압이냐 당뇨냐를 분류하는것을 목적으로 하겠습니다.\n",
        "\n",
        "---\n",
        "\n",
        "## Help 라고 적힌 부분에 대한 해석을 도와주세요!\n",
        "\n",
        "오즈비의 경우 교차오즈비를 사용하였고, 로짓모형에 따른 오즈비 역시 사용하였습니다. 결과는 같고 해석하는 방법은 제가 주석으로 달아놓겠습니다.\n",
        "\n",
        "---\n",
        "\n",
        "## 이번 실습의 방향\n",
        "\n",
        "오즈비를 해석하시다보면 20대가 70대 노인보다 당뇨에 걸릴 위험이 높다는 것을 알 수 있습니다. 반면에 70대 노인들은 당뇨보다는 고혈압에 더 취약한 모습을 보입니다. 그런데 이것을 자칫, **20대는 70대보다 당뇨에 잘 걸리는 구나** 라고 해석하는 것은 다소 무리가 있습니다. 그 이유로는 이 데이터셋 자체가 애초에 당뇨, 고혈압을 진단받은 데이터셋으로만 이루어져 있었기 때문에 이 데이터를 수집한 곳에서 20대애들이 당뇨에 많이 걸렸을 뿐이지 대한민국 20대 애들에 대한 대표적인 사례가 되기란 어렵다는 것입니다.\n",
        "\n",
        "**그렇다면 20대 애들이 70대보다 당뇨의 위험이 높다고 할 수는 없느냐?**\n",
        "하면 그것은 또 아닙니다. 실제로 뉴스기사 https://www.akomnews.com/bbs/board.php?bo_table=news&wr_id=41698 에 따르면, 20대의 당뇨 비율이 높아졌음을 알 수 있는데 다만, 이것은 20대 내에서의 결과가 그렇다는 것이지 70대에 비해서 라고 비교를 하는것은 다소 무리가 있다는 것 뿐입니다.\n",
        "\n",
        "**이렇게 제가 설명을 드리는 이유는** 위 데이터셋이 **당뇨에 걸린사람 vs 안걸린 사람, 고혈압에 걸린사람 vs 고혈압에 안걸린 사람** 이런식의 데이터가 아니라서 조교님이 평가하실 때 혹시나 감점사항으로 생각하실 까봐 미리 방어차원에서 말씀드리는 겁니다.\n",
        "\n",
        "**결론적으로는** 해석에 있어서 **이 데이터 내에서는**이라는 워딩이 중요하다고 생각합니다.(이 데이터 내에서는 or 당뇨 혹은 고혈압 환자들 데이터를 기준으로 봤을때는) \n",
        "\n",
        "이것은 Team Review같은 부분을 작성할때 아쉬웠던 점으로 작성할수도 있을 것 같습니다.(걸린 사람 vs 안걸린 사람 데이터였으면 더 정확했을 것이다. 등)\n",
        "\n",
        "---\n",
        "## 채점기준\n",
        "1. Apply a logistic regression to the data of your interest.\n",
        "\n",
        "2. Interpret the result.\n",
        "\n",
        "채점 기준 (상, 중상, 중, 중하, 하)\n",
        "\n",
        "1. 타겟변수에 대한 명확한 정의와 구하고자는 class의확률에 대해 명시하였는지\n",
        "\n",
        "2. maximum likelihood 의미를서술하였는지\n",
        "\n",
        "3. 결과해석 - 변수해석, odds ratio (승산비) 해석\n",
        "\n",
        "4. misclassification rate를 포함한 다양한 성능지표의 해석 및 ROC 커브해석 (민감도, 특이도)\n",
        "\n",
        " * cut-off value값도 0.5 이외에 다른 값들도 해보시길 바랍니다."
      ]
    },
    {
      "cell_type": "markdown",
      "metadata": {
        "id": "loLlKPg6R9_N"
      },
      "source": [
        "# ***(Help)RQ랑 팀이름, 학번, 이름, 서론(당뇨랑 고혈압의 위험이 높아지고 있어서 분석해보고 싶었다 등), 데이터 변수 설명(명확한 정의) -- DIS 변수 1,2,3,4 중에서 3, 4만 쓸거고 왜 3,4만 썼는지( 고혈압 당뇨), 활용목적 쓰기***"
      ]
    },
    {
      "cell_type": "code",
      "metadata": {
        "id": "OFx6eqiJ4Ntv"
      },
      "source": [
        "import pandas as pd\n",
        "import numpy as np\n",
        "import seaborn as sns\n",
        "import matplotlib.pyplot as plt\n",
        "from scipy.stats import chi2_contingency\n",
        "import statsmodels.api as sm\n",
        "from sklearn.preprocessing import StandardScaler\n",
        "from sklearn.preprocessing import OneHotEncoder\n",
        "from sklearn.compose import ColumnTransformer\n",
        "import sklearn\n",
        "import imblearn\n",
        "from imblearn.under_sampling import RandomUnderSampler\n",
        "from sklearn.model_selection import train_test_split\n",
        "from sklearn.metrics import roc_curve,recall_score,f1_score,accuracy_score,precision_score,precision_recall_curve,roc_auc_score,confusion_matrix"
      ],
      "execution_count": 247,
      "outputs": []
    },
    {
      "cell_type": "code",
      "metadata": {
        "colab": {
          "base_uri": "https://localhost:8080/",
          "height": 402
        },
        "id": "RCMe4dNj557L",
        "outputId": "6defa331-c40c-42b7-b02b-e6d83c663881"
      },
      "source": [
        "df=pd.read_csv('./국가건강검진_혈압혈당데이터.csv')\n",
        "df"
      ],
      "execution_count": 152,
      "outputs": [
        {
          "output_type": "execute_result",
          "data": {
            "text/html": [
              "<div>\n",
              "<style scoped>\n",
              "    .dataframe tbody tr th:only-of-type {\n",
              "        vertical-align: middle;\n",
              "    }\n",
              "\n",
              "    .dataframe tbody tr th {\n",
              "        vertical-align: top;\n",
              "    }\n",
              "\n",
              "    .dataframe thead th {\n",
              "        text-align: right;\n",
              "    }\n",
              "</style>\n",
              "<table border=\"1\" class=\"dataframe\">\n",
              "  <thead>\n",
              "    <tr style=\"text-align: right;\">\n",
              "      <th></th>\n",
              "      <th>SEX</th>\n",
              "      <th>BTH_G</th>\n",
              "      <th>SBP</th>\n",
              "      <th>DBP</th>\n",
              "      <th>FBS</th>\n",
              "      <th>DIS</th>\n",
              "      <th>BMI</th>\n",
              "    </tr>\n",
              "  </thead>\n",
              "  <tbody>\n",
              "    <tr>\n",
              "      <th>0</th>\n",
              "      <td>1</td>\n",
              "      <td>1</td>\n",
              "      <td>116</td>\n",
              "      <td>78</td>\n",
              "      <td>94</td>\n",
              "      <td>4</td>\n",
              "      <td>16.6</td>\n",
              "    </tr>\n",
              "    <tr>\n",
              "      <th>1</th>\n",
              "      <td>1</td>\n",
              "      <td>1</td>\n",
              "      <td>100</td>\n",
              "      <td>60</td>\n",
              "      <td>79</td>\n",
              "      <td>4</td>\n",
              "      <td>22.3</td>\n",
              "    </tr>\n",
              "    <tr>\n",
              "      <th>2</th>\n",
              "      <td>1</td>\n",
              "      <td>1</td>\n",
              "      <td>100</td>\n",
              "      <td>60</td>\n",
              "      <td>87</td>\n",
              "      <td>4</td>\n",
              "      <td>21.9</td>\n",
              "    </tr>\n",
              "    <tr>\n",
              "      <th>3</th>\n",
              "      <td>1</td>\n",
              "      <td>1</td>\n",
              "      <td>111</td>\n",
              "      <td>70</td>\n",
              "      <td>72</td>\n",
              "      <td>4</td>\n",
              "      <td>20.2</td>\n",
              "    </tr>\n",
              "    <tr>\n",
              "      <th>4</th>\n",
              "      <td>1</td>\n",
              "      <td>1</td>\n",
              "      <td>120</td>\n",
              "      <td>80</td>\n",
              "      <td>98</td>\n",
              "      <td>4</td>\n",
              "      <td>20.0</td>\n",
              "    </tr>\n",
              "    <tr>\n",
              "      <th>...</th>\n",
              "      <td>...</td>\n",
              "      <td>...</td>\n",
              "      <td>...</td>\n",
              "      <td>...</td>\n",
              "      <td>...</td>\n",
              "      <td>...</td>\n",
              "      <td>...</td>\n",
              "    </tr>\n",
              "    <tr>\n",
              "      <th>999995</th>\n",
              "      <td>2</td>\n",
              "      <td>27</td>\n",
              "      <td>120</td>\n",
              "      <td>70</td>\n",
              "      <td>81</td>\n",
              "      <td>2</td>\n",
              "      <td>23.1</td>\n",
              "    </tr>\n",
              "    <tr>\n",
              "      <th>999996</th>\n",
              "      <td>2</td>\n",
              "      <td>27</td>\n",
              "      <td>110</td>\n",
              "      <td>70</td>\n",
              "      <td>104</td>\n",
              "      <td>2</td>\n",
              "      <td>27.2</td>\n",
              "    </tr>\n",
              "    <tr>\n",
              "      <th>999997</th>\n",
              "      <td>2</td>\n",
              "      <td>27</td>\n",
              "      <td>115</td>\n",
              "      <td>53</td>\n",
              "      <td>110</td>\n",
              "      <td>1</td>\n",
              "      <td>25.2</td>\n",
              "    </tr>\n",
              "    <tr>\n",
              "      <th>999998</th>\n",
              "      <td>2</td>\n",
              "      <td>27</td>\n",
              "      <td>120</td>\n",
              "      <td>70</td>\n",
              "      <td>90</td>\n",
              "      <td>2</td>\n",
              "      <td>19.7</td>\n",
              "    </tr>\n",
              "    <tr>\n",
              "      <th>999999</th>\n",
              "      <td>2</td>\n",
              "      <td>27</td>\n",
              "      <td>116</td>\n",
              "      <td>73</td>\n",
              "      <td>92</td>\n",
              "      <td>4</td>\n",
              "      <td>17.6</td>\n",
              "    </tr>\n",
              "  </tbody>\n",
              "</table>\n",
              "<p>1000000 rows × 7 columns</p>\n",
              "</div>"
            ],
            "text/plain": [
              "        SEX  BTH_G  SBP  DBP  FBS  DIS   BMI\n",
              "0         1      1  116   78   94    4  16.6\n",
              "1         1      1  100   60   79    4  22.3\n",
              "2         1      1  100   60   87    4  21.9\n",
              "3         1      1  111   70   72    4  20.2\n",
              "4         1      1  120   80   98    4  20.0\n",
              "...     ...    ...  ...  ...  ...  ...   ...\n",
              "999995    2     27  120   70   81    2  23.1\n",
              "999996    2     27  110   70  104    2  27.2\n",
              "999997    2     27  115   53  110    1  25.2\n",
              "999998    2     27  120   70   90    2  19.7\n",
              "999999    2     27  116   73   92    4  17.6\n",
              "\n",
              "[1000000 rows x 7 columns]"
            ]
          },
          "metadata": {
            "tags": []
          },
          "execution_count": 152
        }
      ]
    },
    {
      "cell_type": "code",
      "metadata": {
        "colab": {
          "base_uri": "https://localhost:8080/"
        },
        "id": "eiZhWPJs6XV3",
        "outputId": "638e8c67-28a2-463f-ea87-4a8718900529"
      },
      "source": [
        "df.shape"
      ],
      "execution_count": 153,
      "outputs": [
        {
          "output_type": "execute_result",
          "data": {
            "text/plain": [
              "(1000000, 7)"
            ]
          },
          "metadata": {
            "tags": []
          },
          "execution_count": 153
        }
      ]
    },
    {
      "cell_type": "code",
      "metadata": {
        "colab": {
          "base_uri": "https://localhost:8080/"
        },
        "id": "dHRRy_-o592c",
        "outputId": "52bbe116-9ad2-485b-e316-625f5ec68b9d"
      },
      "source": [
        "df.info()"
      ],
      "execution_count": 154,
      "outputs": [
        {
          "output_type": "stream",
          "text": [
            "<class 'pandas.core.frame.DataFrame'>\n",
            "RangeIndex: 1000000 entries, 0 to 999999\n",
            "Data columns (total 7 columns):\n",
            " #   Column  Non-Null Count    Dtype  \n",
            "---  ------  --------------    -----  \n",
            " 0   SEX     1000000 non-null  int64  \n",
            " 1   BTH_G   1000000 non-null  int64  \n",
            " 2   SBP     1000000 non-null  int64  \n",
            " 3   DBP     1000000 non-null  int64  \n",
            " 4   FBS     1000000 non-null  int64  \n",
            " 5   DIS     1000000 non-null  int64  \n",
            " 6   BMI     1000000 non-null  float64\n",
            "dtypes: float64(1), int64(6)\n",
            "memory usage: 53.4 MB\n"
          ],
          "name": "stdout"
        }
      ]
    },
    {
      "cell_type": "code",
      "metadata": {
        "colab": {
          "base_uri": "https://localhost:8080/",
          "height": 284
        },
        "id": "wIjY-7Wg6FBs",
        "outputId": "df08157e-e3f4-41aa-ea88-ef76832eb625"
      },
      "source": [
        "df.describe()"
      ],
      "execution_count": 155,
      "outputs": [
        {
          "output_type": "execute_result",
          "data": {
            "text/html": [
              "<div>\n",
              "<style scoped>\n",
              "    .dataframe tbody tr th:only-of-type {\n",
              "        vertical-align: middle;\n",
              "    }\n",
              "\n",
              "    .dataframe tbody tr th {\n",
              "        vertical-align: top;\n",
              "    }\n",
              "\n",
              "    .dataframe thead th {\n",
              "        text-align: right;\n",
              "    }\n",
              "</style>\n",
              "<table border=\"1\" class=\"dataframe\">\n",
              "  <thead>\n",
              "    <tr style=\"text-align: right;\">\n",
              "      <th></th>\n",
              "      <th>SEX</th>\n",
              "      <th>BTH_G</th>\n",
              "      <th>SBP</th>\n",
              "      <th>DBP</th>\n",
              "      <th>FBS</th>\n",
              "      <th>DIS</th>\n",
              "      <th>BMI</th>\n",
              "    </tr>\n",
              "  </thead>\n",
              "  <tbody>\n",
              "    <tr>\n",
              "      <th>count</th>\n",
              "      <td>1000000.000000</td>\n",
              "      <td>1000000.000000</td>\n",
              "      <td>1000000.000000</td>\n",
              "      <td>1000000.000000</td>\n",
              "      <td>1000000.000000</td>\n",
              "      <td>1000000.000000</td>\n",
              "      <td>1000000.000000</td>\n",
              "    </tr>\n",
              "    <tr>\n",
              "      <th>mean</th>\n",
              "      <td>1.489773</td>\n",
              "      <td>13.905268</td>\n",
              "      <td>121.871763</td>\n",
              "      <td>75.787874</td>\n",
              "      <td>98.864428</td>\n",
              "      <td>3.471040</td>\n",
              "      <td>23.804029</td>\n",
              "    </tr>\n",
              "    <tr>\n",
              "      <th>std</th>\n",
              "      <td>0.499896</td>\n",
              "      <td>7.006442</td>\n",
              "      <td>14.561706</td>\n",
              "      <td>9.793411</td>\n",
              "      <td>22.981300</td>\n",
              "      <td>0.946151</td>\n",
              "      <td>3.297287</td>\n",
              "    </tr>\n",
              "    <tr>\n",
              "      <th>min</th>\n",
              "      <td>1.000000</td>\n",
              "      <td>1.000000</td>\n",
              "      <td>82.000000</td>\n",
              "      <td>50.000000</td>\n",
              "      <td>60.000000</td>\n",
              "      <td>1.000000</td>\n",
              "      <td>14.800000</td>\n",
              "    </tr>\n",
              "    <tr>\n",
              "      <th>25%</th>\n",
              "      <td>1.000000</td>\n",
              "      <td>9.000000</td>\n",
              "      <td>110.000000</td>\n",
              "      <td>70.000000</td>\n",
              "      <td>87.000000</td>\n",
              "      <td>3.000000</td>\n",
              "      <td>21.500000</td>\n",
              "    </tr>\n",
              "    <tr>\n",
              "      <th>50%</th>\n",
              "      <td>1.000000</td>\n",
              "      <td>14.000000</td>\n",
              "      <td>120.000000</td>\n",
              "      <td>76.000000</td>\n",
              "      <td>94.000000</td>\n",
              "      <td>4.000000</td>\n",
              "      <td>23.600000</td>\n",
              "    </tr>\n",
              "    <tr>\n",
              "      <th>75%</th>\n",
              "      <td>2.000000</td>\n",
              "      <td>19.000000</td>\n",
              "      <td>130.000000</td>\n",
              "      <td>80.000000</td>\n",
              "      <td>104.000000</td>\n",
              "      <td>4.000000</td>\n",
              "      <td>25.800000</td>\n",
              "    </tr>\n",
              "    <tr>\n",
              "      <th>max</th>\n",
              "      <td>2.000000</td>\n",
              "      <td>27.000000</td>\n",
              "      <td>190.000000</td>\n",
              "      <td>120.000000</td>\n",
              "      <td>358.000000</td>\n",
              "      <td>4.000000</td>\n",
              "      <td>40.300000</td>\n",
              "    </tr>\n",
              "  </tbody>\n",
              "</table>\n",
              "</div>"
            ],
            "text/plain": [
              "                  SEX           BTH_G  ...             DIS             BMI\n",
              "count  1000000.000000  1000000.000000  ...  1000000.000000  1000000.000000\n",
              "mean         1.489773       13.905268  ...        3.471040       23.804029\n",
              "std          0.499896        7.006442  ...        0.946151        3.297287\n",
              "min          1.000000        1.000000  ...        1.000000       14.800000\n",
              "25%          1.000000        9.000000  ...        3.000000       21.500000\n",
              "50%          1.000000       14.000000  ...        4.000000       23.600000\n",
              "75%          2.000000       19.000000  ...        4.000000       25.800000\n",
              "max          2.000000       27.000000  ...        4.000000       40.300000\n",
              "\n",
              "[8 rows x 7 columns]"
            ]
          },
          "metadata": {
            "tags": []
          },
          "execution_count": 155
        }
      ]
    },
    {
      "cell_type": "code",
      "metadata": {
        "colab": {
          "base_uri": "https://localhost:8080/"
        },
        "id": "r82G6J2-6ITe",
        "outputId": "d5f5884e-4a52-4633-f62d-6115d0bde915"
      },
      "source": [
        "df.isnull().sum()"
      ],
      "execution_count": 156,
      "outputs": [
        {
          "output_type": "execute_result",
          "data": {
            "text/plain": [
              "SEX      0\n",
              "BTH_G    0\n",
              "SBP      0\n",
              "DBP      0\n",
              "FBS      0\n",
              "DIS      0\n",
              "BMI      0\n",
              "dtype: int64"
            ]
          },
          "metadata": {
            "tags": []
          },
          "execution_count": 156
        }
      ]
    },
    {
      "cell_type": "code",
      "metadata": {
        "id": "Pv2A3q8b_J3z"
      },
      "source": [
        "df['DIS']=df['DIS'].replace(2,0)\n",
        "df['DIS']=df['DIS'].replace(3,1)"
      ],
      "execution_count": 157,
      "outputs": []
    },
    {
      "cell_type": "code",
      "metadata": {
        "colab": {
          "base_uri": "https://localhost:8080/",
          "height": 402
        },
        "id": "Zgv_JBrA9SWw",
        "outputId": "9d4ff072-1367-4b5a-9659-9eec60b78925"
      },
      "source": [
        "df=df[(df['DIS'] == 0) | (df['DIS'] == 1)]\n",
        "df=df.reset_index()\n",
        "df=df.drop(['index'],axis=1)\n",
        "df"
      ],
      "execution_count": 158,
      "outputs": [
        {
          "output_type": "execute_result",
          "data": {
            "text/html": [
              "<div>\n",
              "<style scoped>\n",
              "    .dataframe tbody tr th:only-of-type {\n",
              "        vertical-align: middle;\n",
              "    }\n",
              "\n",
              "    .dataframe tbody tr th {\n",
              "        vertical-align: top;\n",
              "    }\n",
              "\n",
              "    .dataframe thead th {\n",
              "        text-align: right;\n",
              "    }\n",
              "</style>\n",
              "<table border=\"1\" class=\"dataframe\">\n",
              "  <thead>\n",
              "    <tr style=\"text-align: right;\">\n",
              "      <th></th>\n",
              "      <th>SEX</th>\n",
              "      <th>BTH_G</th>\n",
              "      <th>SBP</th>\n",
              "      <th>DBP</th>\n",
              "      <th>FBS</th>\n",
              "      <th>DIS</th>\n",
              "      <th>BMI</th>\n",
              "    </tr>\n",
              "  </thead>\n",
              "  <tbody>\n",
              "    <tr>\n",
              "      <th>0</th>\n",
              "      <td>1</td>\n",
              "      <td>1</td>\n",
              "      <td>90</td>\n",
              "      <td>50</td>\n",
              "      <td>86</td>\n",
              "      <td>0</td>\n",
              "      <td>20.1</td>\n",
              "    </tr>\n",
              "    <tr>\n",
              "      <th>1</th>\n",
              "      <td>1</td>\n",
              "      <td>1</td>\n",
              "      <td>120</td>\n",
              "      <td>80</td>\n",
              "      <td>90</td>\n",
              "      <td>1</td>\n",
              "      <td>27.0</td>\n",
              "    </tr>\n",
              "    <tr>\n",
              "      <th>2</th>\n",
              "      <td>1</td>\n",
              "      <td>1</td>\n",
              "      <td>100</td>\n",
              "      <td>60</td>\n",
              "      <td>112</td>\n",
              "      <td>0</td>\n",
              "      <td>31.8</td>\n",
              "    </tr>\n",
              "    <tr>\n",
              "      <th>3</th>\n",
              "      <td>1</td>\n",
              "      <td>1</td>\n",
              "      <td>170</td>\n",
              "      <td>120</td>\n",
              "      <td>86</td>\n",
              "      <td>0</td>\n",
              "      <td>23.3</td>\n",
              "    </tr>\n",
              "    <tr>\n",
              "      <th>4</th>\n",
              "      <td>1</td>\n",
              "      <td>1</td>\n",
              "      <td>135</td>\n",
              "      <td>80</td>\n",
              "      <td>104</td>\n",
              "      <td>0</td>\n",
              "      <td>35.0</td>\n",
              "    </tr>\n",
              "    <tr>\n",
              "      <th>...</th>\n",
              "      <td>...</td>\n",
              "      <td>...</td>\n",
              "      <td>...</td>\n",
              "      <td>...</td>\n",
              "      <td>...</td>\n",
              "      <td>...</td>\n",
              "      <td>...</td>\n",
              "    </tr>\n",
              "    <tr>\n",
              "      <th>259333</th>\n",
              "      <td>2</td>\n",
              "      <td>27</td>\n",
              "      <td>126</td>\n",
              "      <td>70</td>\n",
              "      <td>123</td>\n",
              "      <td>1</td>\n",
              "      <td>25.2</td>\n",
              "    </tr>\n",
              "    <tr>\n",
              "      <th>259334</th>\n",
              "      <td>2</td>\n",
              "      <td>27</td>\n",
              "      <td>120</td>\n",
              "      <td>70</td>\n",
              "      <td>81</td>\n",
              "      <td>0</td>\n",
              "      <td>23.1</td>\n",
              "    </tr>\n",
              "    <tr>\n",
              "      <th>259335</th>\n",
              "      <td>2</td>\n",
              "      <td>27</td>\n",
              "      <td>110</td>\n",
              "      <td>70</td>\n",
              "      <td>104</td>\n",
              "      <td>0</td>\n",
              "      <td>27.2</td>\n",
              "    </tr>\n",
              "    <tr>\n",
              "      <th>259336</th>\n",
              "      <td>2</td>\n",
              "      <td>27</td>\n",
              "      <td>115</td>\n",
              "      <td>53</td>\n",
              "      <td>110</td>\n",
              "      <td>1</td>\n",
              "      <td>25.2</td>\n",
              "    </tr>\n",
              "    <tr>\n",
              "      <th>259337</th>\n",
              "      <td>2</td>\n",
              "      <td>27</td>\n",
              "      <td>120</td>\n",
              "      <td>70</td>\n",
              "      <td>90</td>\n",
              "      <td>0</td>\n",
              "      <td>19.7</td>\n",
              "    </tr>\n",
              "  </tbody>\n",
              "</table>\n",
              "<p>259338 rows × 7 columns</p>\n",
              "</div>"
            ],
            "text/plain": [
              "        SEX  BTH_G  SBP  DBP  FBS  DIS   BMI\n",
              "0         1      1   90   50   86    0  20.1\n",
              "1         1      1  120   80   90    1  27.0\n",
              "2         1      1  100   60  112    0  31.8\n",
              "3         1      1  170  120   86    0  23.3\n",
              "4         1      1  135   80  104    0  35.0\n",
              "...     ...    ...  ...  ...  ...  ...   ...\n",
              "259333    2     27  126   70  123    1  25.2\n",
              "259334    2     27  120   70   81    0  23.1\n",
              "259335    2     27  110   70  104    0  27.2\n",
              "259336    2     27  115   53  110    1  25.2\n",
              "259337    2     27  120   70   90    0  19.7\n",
              "\n",
              "[259338 rows x 7 columns]"
            ]
          },
          "metadata": {
            "tags": []
          },
          "execution_count": 158
        }
      ]
    },
    {
      "cell_type": "code",
      "metadata": {
        "colab": {
          "base_uri": "https://localhost:8080/",
          "height": 352
        },
        "id": "tX0XAJmB8Uf5",
        "outputId": "a45286d4-e03b-4d05-debe-10aaae103053"
      },
      "source": [
        "sns.countplot(df['SEX'])"
      ],
      "execution_count": 159,
      "outputs": [
        {
          "output_type": "stream",
          "text": [
            "/usr/local/lib/python3.7/dist-packages/seaborn/_decorators.py:43: FutureWarning: Pass the following variable as a keyword arg: x. From version 0.12, the only valid positional argument will be `data`, and passing other arguments without an explicit keyword will result in an error or misinterpretation.\n",
            "  FutureWarning\n"
          ],
          "name": "stderr"
        },
        {
          "output_type": "execute_result",
          "data": {
            "text/plain": [
              "<matplotlib.axes._subplots.AxesSubplot at 0x7fd1e0821d90>"
            ]
          },
          "metadata": {
            "tags": []
          },
          "execution_count": 159
        },
        {
          "output_type": "display_data",
          "data": {
            "image/png": "[encoded data removed]",
            "text/plain": [
              "<Figure size 432x288 with 1 Axes>"
            ]
          },
          "metadata": {
            "tags": [],
            "needs_background": "light"
          }
        }
      ]
    },
    {
      "cell_type": "code",
      "metadata": {
        "colab": {
          "base_uri": "https://localhost:8080/",
          "height": 352
        },
        "id": "5A6QAsCtANGV",
        "outputId": "3a7e0ded-4c9d-4844-b5f0-740119461a8d"
      },
      "source": [
        "sns.countplot(df[df['DIS'] == 0]['SEX'])"
      ],
      "execution_count": 160,
      "outputs": [
        {
          "output_type": "stream",
          "text": [
            "/usr/local/lib/python3.7/dist-packages/seaborn/_decorators.py:43: FutureWarning: Pass the following variable as a keyword arg: x. From version 0.12, the only valid positional argument will be `data`, and passing other arguments without an explicit keyword will result in an error or misinterpretation.\n",
            "  FutureWarning\n"
          ],
          "name": "stderr"
        },
        {
          "output_type": "execute_result",
          "data": {
            "text/plain": [
              "<matplotlib.axes._subplots.AxesSubplot at 0x7fd1db2a4890>"
            ]
          },
          "metadata": {
            "tags": []
          },
          "execution_count": 160
        },
        {
          "output_type": "display_data",
          "data": {
            "image/png": "[encoded data removed]",
            "text/plain": [
              "<Figure size 432x288 with 1 Axes>"
            ]
          },
          "metadata": {
            "tags": [],
            "needs_background": "light"
          }
        }
      ]
    },
    {
      "cell_type": "code",
      "metadata": {
        "colab": {
          "base_uri": "https://localhost:8080/",
          "height": 352
        },
        "id": "2S5U-PikAVvx",
        "outputId": "ec624870-7a3d-4acb-bb94-93d7ecc3737c"
      },
      "source": [
        "sns.countplot(df[df['DIS'] == 1]['SEX'])"
      ],
      "execution_count": 161,
      "outputs": [
        {
          "output_type": "stream",
          "text": [
            "/usr/local/lib/python3.7/dist-packages/seaborn/_decorators.py:43: FutureWarning: Pass the following variable as a keyword arg: x. From version 0.12, the only valid positional argument will be `data`, and passing other arguments without an explicit keyword will result in an error or misinterpretation.\n",
            "  FutureWarning\n"
          ],
          "name": "stderr"
        },
        {
          "output_type": "execute_result",
          "data": {
            "text/plain": [
              "<matplotlib.axes._subplots.AxesSubplot at 0x7fd1db273890>"
            ]
          },
          "metadata": {
            "tags": []
          },
          "execution_count": 161
        },
        {
          "output_type": "display_data",
          "data": {
            "image/png": "[encoded data removed]",
            "text/plain": [
              "<Figure size 432x288 with 1 Axes>"
            ]
          },
          "metadata": {
            "tags": [],
            "needs_background": "light"
          }
        }
      ]
    },
    {
      "cell_type": "code",
      "metadata": {
        "colab": {
          "base_uri": "https://localhost:8080/",
          "height": 353
        },
        "id": "BIv4EOExAJBC",
        "outputId": "eaeb8ded-5c44-4a39-cfde-06e2ee0bc81f"
      },
      "source": [
        "sns.countplot(df['BTH_G'])"
      ],
      "execution_count": 162,
      "outputs": [
        {
          "output_type": "stream",
          "text": [
            "/usr/local/lib/python3.7/dist-packages/seaborn/_decorators.py:43: FutureWarning: Pass the following variable as a keyword arg: x. From version 0.12, the only valid positional argument will be `data`, and passing other arguments without an explicit keyword will result in an error or misinterpretation.\n",
            "  FutureWarning\n"
          ],
          "name": "stderr"
        },
        {
          "output_type": "execute_result",
          "data": {
            "text/plain": [
              "<matplotlib.axes._subplots.AxesSubplot at 0x7fd1db2436d0>"
            ]
          },
          "metadata": {
            "tags": []
          },
          "execution_count": 162
        },
        {
          "output_type": "display_data",
          "data": {
            "image/png": "[encoded data removed]",
            "text/plain": [
              "<Figure size 432x288 with 1 Axes>"
            ]
          },
          "metadata": {
            "tags": [],
            "needs_background": "light"
          }
        }
      ]
    },
    {
      "cell_type": "code",
      "metadata": {
        "colab": {
          "base_uri": "https://localhost:8080/",
          "height": 490
        },
        "id": "ustNuAKx-4TY",
        "outputId": "0086edb6-9c9f-4b29-de25-d22bcacfb6b3"
      },
      "source": [
        "for ag,ind in zip(df['BTH_G'], df.index):\n",
        "  if ag < 5:\n",
        "    df['BTH_G'].loc[ind]=2\n",
        "  elif ag < 10:\n",
        "    df['BTH_G'].loc[ind]=3\n",
        "  elif ag < 15:\n",
        "    df['BTH_G'].loc[ind]=4\n",
        "  elif ag < 20:\n",
        "    df['BTH_G'].loc[ind]=5\n",
        "  elif ag < 25:\n",
        "    df['BTH_G'].loc[ind]=6\n",
        "  else:\n",
        "    df['BTH_G'].loc[ind]=7\n",
        "df"
      ],
      "execution_count": 163,
      "outputs": [
        {
          "output_type": "stream",
          "text": [
            "/usr/local/lib/python3.7/dist-packages/pandas/core/indexing.py:670: SettingWithCopyWarning: \n",
            "A value is trying to be set on a copy of a slice from a DataFrame\n",
            "\n",
            "See the caveats in the documentation: https://pandas.pydata.org/pandas-docs/stable/user_guide/indexing.html#returning-a-view-versus-a-copy\n",
            "  iloc._setitem_with_indexer(indexer, value)\n"
          ],
          "name": "stderr"
        },
        {
          "output_type": "execute_result",
          "data": {
            "text/html": [
              "<div>\n",
              "<style scoped>\n",
              "    .dataframe tbody tr th:only-of-type {\n",
              "        vertical-align: middle;\n",
              "    }\n",
              "\n",
              "    .dataframe tbody tr th {\n",
              "        vertical-align: top;\n",
              "    }\n",
              "\n",
              "    .dataframe thead th {\n",
              "        text-align: right;\n",
              "    }\n",
              "</style>\n",
              "<table border=\"1\" class=\"dataframe\">\n",
              "  <thead>\n",
              "    <tr style=\"text-align: right;\">\n",
              "      <th></th>\n",
              "      <th>SEX</th>\n",
              "      <th>BTH_G</th>\n",
              "      <th>SBP</th>\n",
              "      <th>DBP</th>\n",
              "      <th>FBS</th>\n",
              "      <th>DIS</th>\n",
              "      <th>BMI</th>\n",
              "    </tr>\n",
              "  </thead>\n",
              "  <tbody>\n",
              "    <tr>\n",
              "      <th>0</th>\n",
              "      <td>1</td>\n",
              "      <td>2</td>\n",
              "      <td>90</td>\n",
              "      <td>50</td>\n",
              "      <td>86</td>\n",
              "      <td>0</td>\n",
              "      <td>20.1</td>\n",
              "    </tr>\n",
              "    <tr>\n",
              "      <th>1</th>\n",
              "      <td>1</td>\n",
              "      <td>2</td>\n",
              "      <td>120</td>\n",
              "      <td>80</td>\n",
              "      <td>90</td>\n",
              "      <td>1</td>\n",
              "      <td>27.0</td>\n",
              "    </tr>\n",
              "    <tr>\n",
              "      <th>2</th>\n",
              "      <td>1</td>\n",
              "      <td>2</td>\n",
              "      <td>100</td>\n",
              "      <td>60</td>\n",
              "      <td>112</td>\n",
              "      <td>0</td>\n",
              "      <td>31.8</td>\n",
              "    </tr>\n",
              "    <tr>\n",
              "      <th>3</th>\n",
              "      <td>1</td>\n",
              "      <td>2</td>\n",
              "      <td>170</td>\n",
              "      <td>120</td>\n",
              "      <td>86</td>\n",
              "      <td>0</td>\n",
              "      <td>23.3</td>\n",
              "    </tr>\n",
              "    <tr>\n",
              "      <th>4</th>\n",
              "      <td>1</td>\n",
              "      <td>2</td>\n",
              "      <td>135</td>\n",
              "      <td>80</td>\n",
              "      <td>104</td>\n",
              "      <td>0</td>\n",
              "      <td>35.0</td>\n",
              "    </tr>\n",
              "    <tr>\n",
              "      <th>...</th>\n",
              "      <td>...</td>\n",
              "      <td>...</td>\n",
              "      <td>...</td>\n",
              "      <td>...</td>\n",
              "      <td>...</td>\n",
              "      <td>...</td>\n",
              "      <td>...</td>\n",
              "    </tr>\n",
              "    <tr>\n",
              "      <th>259333</th>\n",
              "      <td>2</td>\n",
              "      <td>7</td>\n",
              "      <td>126</td>\n",
              "      <td>70</td>\n",
              "      <td>123</td>\n",
              "      <td>1</td>\n",
              "      <td>25.2</td>\n",
              "    </tr>\n",
              "    <tr>\n",
              "      <th>259334</th>\n",
              "      <td>2</td>\n",
              "      <td>7</td>\n",
              "      <td>120</td>\n",
              "      <td>70</td>\n",
              "      <td>81</td>\n",
              "      <td>0</td>\n",
              "      <td>23.1</td>\n",
              "    </tr>\n",
              "    <tr>\n",
              "      <th>259335</th>\n",
              "      <td>2</td>\n",
              "      <td>7</td>\n",
              "      <td>110</td>\n",
              "      <td>70</td>\n",
              "      <td>104</td>\n",
              "      <td>0</td>\n",
              "      <td>27.2</td>\n",
              "    </tr>\n",
              "    <tr>\n",
              "      <th>259336</th>\n",
              "      <td>2</td>\n",
              "      <td>7</td>\n",
              "      <td>115</td>\n",
              "      <td>53</td>\n",
              "      <td>110</td>\n",
              "      <td>1</td>\n",
              "      <td>25.2</td>\n",
              "    </tr>\n",
              "    <tr>\n",
              "      <th>259337</th>\n",
              "      <td>2</td>\n",
              "      <td>7</td>\n",
              "      <td>120</td>\n",
              "      <td>70</td>\n",
              "      <td>90</td>\n",
              "      <td>0</td>\n",
              "      <td>19.7</td>\n",
              "    </tr>\n",
              "  </tbody>\n",
              "</table>\n",
              "<p>259338 rows × 7 columns</p>\n",
              "</div>"
            ],
            "text/plain": [
              "        SEX  BTH_G  SBP  DBP  FBS  DIS   BMI\n",
              "0         1      2   90   50   86    0  20.1\n",
              "1         1      2  120   80   90    1  27.0\n",
              "2         1      2  100   60  112    0  31.8\n",
              "3         1      2  170  120   86    0  23.3\n",
              "4         1      2  135   80  104    0  35.0\n",
              "...     ...    ...  ...  ...  ...  ...   ...\n",
              "259333    2      7  126   70  123    1  25.2\n",
              "259334    2      7  120   70   81    0  23.1\n",
              "259335    2      7  110   70  104    0  27.2\n",
              "259336    2      7  115   53  110    1  25.2\n",
              "259337    2      7  120   70   90    0  19.7\n",
              "\n",
              "[259338 rows x 7 columns]"
            ]
          },
          "metadata": {
            "tags": []
          },
          "execution_count": 163
        }
      ]
    },
    {
      "cell_type": "code",
      "metadata": {
        "colab": {
          "base_uri": "https://localhost:8080/",
          "height": 353
        },
        "id": "LCcznkLkAhof",
        "outputId": "9f140967-912d-4fc1-bf39-5952f9ff12a4"
      },
      "source": [
        "sns.countplot(df['BTH_G'])"
      ],
      "execution_count": 164,
      "outputs": [
        {
          "output_type": "stream",
          "text": [
            "/usr/local/lib/python3.7/dist-packages/seaborn/_decorators.py:43: FutureWarning: Pass the following variable as a keyword arg: x. From version 0.12, the only valid positional argument will be `data`, and passing other arguments without an explicit keyword will result in an error or misinterpretation.\n",
            "  FutureWarning\n"
          ],
          "name": "stderr"
        },
        {
          "output_type": "execute_result",
          "data": {
            "text/plain": [
              "<matplotlib.axes._subplots.AxesSubplot at 0x7fd1db12e350>"
            ]
          },
          "metadata": {
            "tags": []
          },
          "execution_count": 164
        },
        {
          "output_type": "display_data",
          "data": {
            "image/png": "[encoded data removed]",
            "text/plain": [
              "<Figure size 432x288 with 1 Axes>"
            ]
          },
          "metadata": {
            "tags": [],
            "needs_background": "light"
          }
        }
      ]
    },
    {
      "cell_type": "code",
      "metadata": {
        "colab": {
          "base_uri": "https://localhost:8080/",
          "height": 353
        },
        "id": "8aUb_0i0_87N",
        "outputId": "f2e6ecbe-5504-4707-8f10-b709589ef4ed"
      },
      "source": [
        "sns.countplot(df[df['DIS'] == 0]['BTH_G'])"
      ],
      "execution_count": 165,
      "outputs": [
        {
          "output_type": "stream",
          "text": [
            "/usr/local/lib/python3.7/dist-packages/seaborn/_decorators.py:43: FutureWarning: Pass the following variable as a keyword arg: x. From version 0.12, the only valid positional argument will be `data`, and passing other arguments without an explicit keyword will result in an error or misinterpretation.\n",
            "  FutureWarning\n"
          ],
          "name": "stderr"
        },
        {
          "output_type": "execute_result",
          "data": {
            "text/plain": [
              "<matplotlib.axes._subplots.AxesSubplot at 0x7fd1db0518d0>"
            ]
          },
          "metadata": {
            "tags": []
          },
          "execution_count": 165
        },
        {
          "output_type": "display_data",
          "data": {
            "image/png": "[encoded data removed]",
            "text/plain": [
              "<Figure size 432x288 with 1 Axes>"
            ]
          },
          "metadata": {
            "tags": [],
            "needs_background": "light"
          }
        }
      ]
    },
    {
      "cell_type": "code",
      "metadata": {
        "colab": {
          "base_uri": "https://localhost:8080/",
          "height": 353
        },
        "id": "k9thAmxZAnhG",
        "outputId": "9ce276b2-1197-4d4f-ef55-5f3a91b1dc39"
      },
      "source": [
        "sns.countplot(df[df['DIS'] == 1]['BTH_G'])"
      ],
      "execution_count": 166,
      "outputs": [
        {
          "output_type": "stream",
          "text": [
            "/usr/local/lib/python3.7/dist-packages/seaborn/_decorators.py:43: FutureWarning: Pass the following variable as a keyword arg: x. From version 0.12, the only valid positional argument will be `data`, and passing other arguments without an explicit keyword will result in an error or misinterpretation.\n",
            "  FutureWarning\n"
          ],
          "name": "stderr"
        },
        {
          "output_type": "execute_result",
          "data": {
            "text/plain": [
              "<matplotlib.axes._subplots.AxesSubplot at 0x7fd1db041710>"
            ]
          },
          "metadata": {
            "tags": []
          },
          "execution_count": 166
        },
        {
          "output_type": "display_data",
          "data": {
            "image/png": "[encoded data removed]",
            "text/plain": [
              "<Figure size 432x288 with 1 Axes>"
            ]
          },
          "metadata": {
            "tags": [],
            "needs_background": "light"
          }
        }
      ]
    },
    {
      "cell_type": "code",
      "metadata": {
        "colab": {
          "base_uri": "https://localhost:8080/",
          "height": 352
        },
        "id": "z03kARCCBFBZ",
        "outputId": "7ca5e0fa-3610-4cd1-e142-b92bbe94f42d"
      },
      "source": [
        "sns.countplot(df['DIS'])"
      ],
      "execution_count": 167,
      "outputs": [
        {
          "output_type": "stream",
          "text": [
            "/usr/local/lib/python3.7/dist-packages/seaborn/_decorators.py:43: FutureWarning: Pass the following variable as a keyword arg: x. From version 0.12, the only valid positional argument will be `data`, and passing other arguments without an explicit keyword will result in an error or misinterpretation.\n",
            "  FutureWarning\n"
          ],
          "name": "stderr"
        },
        {
          "output_type": "execute_result",
          "data": {
            "text/plain": [
              "<matplotlib.axes._subplots.AxesSubplot at 0x7fd1daf99f90>"
            ]
          },
          "metadata": {
            "tags": []
          },
          "execution_count": 167
        },
        {
          "output_type": "display_data",
          "data": {
            "image/png": "[encoded data removed]",
            "text/plain": [
              "<Figure size 432x288 with 1 Axes>"
            ]
          },
          "metadata": {
            "tags": [],
            "needs_background": "light"
          }
        }
      ]
    },
    {
      "cell_type": "markdown",
      "metadata": {
        "id": "uFFCsx9JTNq9"
      },
      "source": [
        "# (Help) 카이제곱검정 해석(p-value가 0.05 이하 이므로 귀무가설 기각, a 변수와 DIS는 관계가 있다."
      ]
    },
    {
      "cell_type": "code",
      "metadata": {
        "colab": {
          "base_uri": "https://localhost:8080/"
        },
        "id": "dsA2yPKPBpOC",
        "outputId": "3d895b48-ab4c-4407-b6b4-2d5a3944111e"
      },
      "source": [
        "chi_data=pd.crosstab(index=df.SEX, columns=df.DIS,values=df.DIS, aggfunc=pd.value_counts )\n",
        "chi, p, dof, expected = chi2_contingency(chi_data)\n",
        "\n",
        "print()\n",
        "print(f\"chi 스퀘어 값: {chi}\",\n",
        "      f\"p-value (0.05): {p}\",\n",
        "      f\"자유도 수: {dof}\",\n",
        "      f\"기대값: \\n{pd.DataFrame(expected)}\",\n",
        "      f\"측정값: \\n{chi_data}\", sep = \"\\n\" )"
      ],
      "execution_count": 168,
      "outputs": [
        {
          "output_type": "stream",
          "text": [
            "\n",
            "chi 스퀘어 값: 532.6563260401686\n",
            "p-value (0.05): 7.465405398361976e-118\n",
            "자유도 수: 1\n",
            "기대값: \n",
            "              0             1\n",
            "0  82732.745861  49038.254139\n",
            "1  80093.254139  47473.745861\n",
            "측정값: \n",
            "DIS      0      1\n",
            "SEX              \n",
            "1    79892  51879\n",
            "2    82934  44633\n"
          ],
          "name": "stdout"
        }
      ]
    },
    {
      "cell_type": "markdown",
      "metadata": {
        "id": "QYCGxbqOVHxz"
      },
      "source": [
        "# chi_data에 대한 해석은 안하셔도 됩니다.\n",
        "\n",
        "chi_data라는 테이블에 대한 해석 필요 x"
      ]
    },
    {
      "cell_type": "code",
      "metadata": {
        "colab": {
          "base_uri": "https://localhost:8080/",
          "height": 136
        },
        "id": "QWPh-w5gGj8j",
        "outputId": "dbb25098-6879-4513-c6a4-214a06921133"
      },
      "source": [
        "chi_data.columns=['고혈압','당뇨']\n",
        "chi_data"
      ],
      "execution_count": 169,
      "outputs": [
        {
          "output_type": "execute_result",
          "data": {
            "text/html": [
              "<div>\n",
              "<style scoped>\n",
              "    .dataframe tbody tr th:only-of-type {\n",
              "        vertical-align: middle;\n",
              "    }\n",
              "\n",
              "    .dataframe tbody tr th {\n",
              "        vertical-align: top;\n",
              "    }\n",
              "\n",
              "    .dataframe thead th {\n",
              "        text-align: right;\n",
              "    }\n",
              "</style>\n",
              "<table border=\"1\" class=\"dataframe\">\n",
              "  <thead>\n",
              "    <tr style=\"text-align: right;\">\n",
              "      <th></th>\n",
              "      <th>고혈압</th>\n",
              "      <th>당뇨</th>\n",
              "    </tr>\n",
              "    <tr>\n",
              "      <th>SEX</th>\n",
              "      <th></th>\n",
              "      <th></th>\n",
              "    </tr>\n",
              "  </thead>\n",
              "  <tbody>\n",
              "    <tr>\n",
              "      <th>1</th>\n",
              "      <td>79892</td>\n",
              "      <td>51879</td>\n",
              "    </tr>\n",
              "    <tr>\n",
              "      <th>2</th>\n",
              "      <td>82934</td>\n",
              "      <td>44633</td>\n",
              "    </tr>\n",
              "  </tbody>\n",
              "</table>\n",
              "</div>"
            ],
            "text/plain": [
              "       고혈압     당뇨\n",
              "SEX              \n",
              "1    79892  51879\n",
              "2    82934  44633"
            ]
          },
          "metadata": {
            "tags": []
          },
          "execution_count": 169
        }
      ]
    },
    {
      "cell_type": "markdown",
      "metadata": {
        "id": "1FT020OMTdXq"
      },
      "source": [
        "# (Help)오즈비에 대한 해석\n",
        "\n",
        "아래 보이시는 것은 교차오즈비 입니다.\n",
        "\n",
        "교차오즈비는 상대적 위험을 나타내는 측도개념으로 생각하시면 되는데, 이 칸 바로위에 SEX,고혈압,당뇨에 관한 데이터 테이블을 보시면 남자(1)가 고혈압이 79,892명이고 여자(2)가 고혈압이 82,934명입니다. 이때 이것들을 교차오즈비를 통해 구해주면 아래처럼 0.8287721~과 같은 값이 나오는데 이는 **남자(1)가 여자(2)보다 고혈압에 노출될 확률이 상대적으로 약 18% 낮다.**를 의미 합니다. 바꿔 말하자면, 여자의 경우 남자보다 고혈압에 걸릴 확률이 높다고 볼 수 있겠네요.\n",
        "\n",
        "또한, 이 교차오즈비에서 행 or 열의 배열을 바꿔주게 되면 교차오즈비 값의 역이 됩니다. 아래 보시는 것과 같이 1.20660421~ 값이 0.82877217~이라는 값의 역이 되는데 이를 열의 배열을 바꿔주었다 생각한다면 **남자가 여자보다 당뇨에 노출될 확률이 상대적으로 20% 높다.**라고 해석할 수 있습니다. 이것 또한, 바꿔 말하자면 남자의 경우 여자보다 당뇨에 걸릴 확률이 높다고 볼 수 있겠습니다. 모두 건강조심!"
      ]
    },
    {
      "cell_type": "code",
      "metadata": {
        "colab": {
          "base_uri": "https://localhost:8080/"
        },
        "id": "zjAU3ZzfG1Lf",
        "outputId": "af16ca3d-e6d8-4a01-e6fc-85563c4067af"
      },
      "source": [
        "print((chi_data['고혈압'][1]*chi_data['당뇨'][2])/(chi_data['고혈압'][2]*chi_data['당뇨'][1]))\n",
        "print(1/((chi_data['고혈압'][1]*chi_data['당뇨'][2])/(chi_data['고혈압'][2]*chi_data['당뇨'][1])))"
      ],
      "execution_count": 170,
      "outputs": [
        {
          "output_type": "stream",
          "text": [
            "0.828772178528976\n",
            "1.2066042103089702\n"
          ],
          "name": "stdout"
        }
      ]
    },
    {
      "cell_type": "markdown",
      "metadata": {
        "id": "bLVWmkL7VOJo"
      },
      "source": [
        "# Help"
      ]
    },
    {
      "cell_type": "code",
      "metadata": {
        "colab": {
          "base_uri": "https://localhost:8080/"
        },
        "id": "F59Xsi_fBgBm",
        "outputId": "7510af1b-cbe7-43bd-a10b-79ca5ad1826c"
      },
      "source": [
        "chi_data=pd.crosstab(index=df.BTH_G, columns=df.DIS,values=df.DIS, aggfunc=pd.value_counts )\n",
        "chi, p, dof, expected = chi2_contingency(chi_data)\n",
        "\n",
        "print()\n",
        "print(f\"chi 스퀘어 값: {chi}\",\n",
        "      f\"p-value (0.05): {p}\",\n",
        "      f\"자유도 수: {dof}\",\n",
        "      f\"기대값: \\n{pd.DataFrame(expected)}\",\n",
        "      f\"측정값: \\n{chi_data}\", sep = \"\\n\" )"
      ],
      "execution_count": 171,
      "outputs": [
        {
          "output_type": "stream",
          "text": [
            "\n",
            "chi 스퀘어 값: 218.61347599762328\n",
            "p-value (0.05): 2.944198315904106e-45\n",
            "자유도 수: 5\n",
            "기대값: \n",
            "              0             1\n",
            "0    640.409504    379.590496\n",
            "1   4992.054870   2958.945130\n",
            "2  22185.794353  13150.205647\n",
            "3  49187.844890  29155.155110\n",
            "4  48236.020568  28590.979432\n",
            "5  37583.875815  22277.124185\n",
            "측정값: \n",
            "DIS        0      1\n",
            "BTH_G              \n",
            "2        553    467\n",
            "3       5033   2918\n",
            "4      22896  12440\n",
            "5      49866  28477\n",
            "6      46900  29927\n",
            "7      37578  22283\n"
          ],
          "name": "stdout"
        }
      ]
    },
    {
      "cell_type": "code",
      "metadata": {
        "colab": {
          "base_uri": "https://localhost:8080/",
          "height": 254
        },
        "id": "Ys7RTMQDJc3J",
        "outputId": "b5006222-b8e4-4ffd-d1dc-43cd0a5ee7ec"
      },
      "source": [
        "chi_data.columns=['고혈압','당뇨']\n",
        "chi_data"
      ],
      "execution_count": 172,
      "outputs": [
        {
          "output_type": "execute_result",
          "data": {
            "text/html": [
              "<div>\n",
              "<style scoped>\n",
              "    .dataframe tbody tr th:only-of-type {\n",
              "        vertical-align: middle;\n",
              "    }\n",
              "\n",
              "    .dataframe tbody tr th {\n",
              "        vertical-align: top;\n",
              "    }\n",
              "\n",
              "    .dataframe thead th {\n",
              "        text-align: right;\n",
              "    }\n",
              "</style>\n",
              "<table border=\"1\" class=\"dataframe\">\n",
              "  <thead>\n",
              "    <tr style=\"text-align: right;\">\n",
              "      <th></th>\n",
              "      <th>고혈압</th>\n",
              "      <th>당뇨</th>\n",
              "    </tr>\n",
              "    <tr>\n",
              "      <th>BTH_G</th>\n",
              "      <th></th>\n",
              "      <th></th>\n",
              "    </tr>\n",
              "  </thead>\n",
              "  <tbody>\n",
              "    <tr>\n",
              "      <th>2</th>\n",
              "      <td>553</td>\n",
              "      <td>467</td>\n",
              "    </tr>\n",
              "    <tr>\n",
              "      <th>3</th>\n",
              "      <td>5033</td>\n",
              "      <td>2918</td>\n",
              "    </tr>\n",
              "    <tr>\n",
              "      <th>4</th>\n",
              "      <td>22896</td>\n",
              "      <td>12440</td>\n",
              "    </tr>\n",
              "    <tr>\n",
              "      <th>5</th>\n",
              "      <td>49866</td>\n",
              "      <td>28477</td>\n",
              "    </tr>\n",
              "    <tr>\n",
              "      <th>6</th>\n",
              "      <td>46900</td>\n",
              "      <td>29927</td>\n",
              "    </tr>\n",
              "    <tr>\n",
              "      <th>7</th>\n",
              "      <td>37578</td>\n",
              "      <td>22283</td>\n",
              "    </tr>\n",
              "  </tbody>\n",
              "</table>\n",
              "</div>"
            ],
            "text/plain": [
              "         고혈압     당뇨\n",
              "BTH_G              \n",
              "2        553    467\n",
              "3       5033   2918\n",
              "4      22896  12440\n",
              "5      49866  28477\n",
              "6      46900  29927\n",
              "7      37578  22283"
            ]
          },
          "metadata": {
            "tags": []
          },
          "execution_count": 172
        }
      ]
    },
    {
      "cell_type": "markdown",
      "metadata": {
        "id": "VJTmMvfZVQaM"
      },
      "source": [
        "# Help\n",
        "\n",
        "이것 또한 위에 설명드린 것처럼 해석하시면 되는데 지금 보시는 값은 20대 vs 30대, 40대, 50대, 60대, 70대의 교차오즈비를 구해놓은 것 입니다.\n",
        "\n",
        "다시 말해서, 20대와 30대를 비교했을때는 0.68654120492값이 나왔는데 이는 **20대의 경우 30대보다 고혈압에 노출될 상대적 위험이 32% 낮다.**라고 볼 수 있겠습니다. 마찬가지로 20대와 70대를 비교했을 때 0.702179666~ 값이 나왔는데 이는 **20대의 경우 70대보다 고혈압에 노출될 상대적 위험이 30% 낮다.**라고 볼 수 있겠습니다.\n",
        "\n",
        "결론적으로 봤을때 20대는 전 연령에 비해서 고혈압에 걸릴 확률이 지극히 낮아보입니다.(적어도 위 데이터셋 에서는)"
      ]
    },
    {
      "cell_type": "code",
      "metadata": {
        "colab": {
          "base_uri": "https://localhost:8080/"
        },
        "id": "XkyMyYdnJgxW",
        "outputId": "8c72ccbd-5448-4253-dca6-d006e167e3b0"
      },
      "source": [
        "print((chi_data['고혈압'][2]*chi_data['당뇨'][3])/(chi_data['고혈압'][3]*chi_data['당뇨'][2]))\n",
        "print((chi_data['고혈압'][2]*chi_data['당뇨'][4])/(chi_data['고혈압'][4]*chi_data['당뇨'][2]))\n",
        "print((chi_data['고혈압'][2]*chi_data['당뇨'][5])/(chi_data['고혈압'][5]*chi_data['당뇨'][2]))\n",
        "print((chi_data['고혈압'][2]*chi_data['당뇨'][6])/(chi_data['고혈압'][6]*chi_data['당뇨'][2]))\n",
        "print((chi_data['고혈압'][2]*chi_data['당뇨'][7])/(chi_data['고혈압'][7]*chi_data['당뇨'][2]))"
      ],
      "execution_count": 173,
      "outputs": [
        {
          "output_type": "stream",
          "text": [
            "0.6865412049211819\n",
            "0.6433821603915741\n",
            "0.6762354802519575\n",
            "0.7556115567771421\n",
            "0.7021796661516494\n"
          ],
          "name": "stdout"
        }
      ]
    },
    {
      "cell_type": "markdown",
      "metadata": {
        "id": "6KCHnhDnV6zr"
      },
      "source": [
        "# Help\n",
        "\n",
        "반면에 당뇨는 20대가 위험한 모습을 보이네요.. 20대와 30대를 비교했을때 약 45%가 높게 나왔습니다. 아무튼 이런식으로 해석을 적어주시면 감사하겠습니다."
      ]
    },
    {
      "cell_type": "code",
      "metadata": {
        "colab": {
          "base_uri": "https://localhost:8080/"
        },
        "id": "Et7YbianMGGK",
        "outputId": "b34e73dd-ecdc-4134-936a-b375c9bd3c9a"
      },
      "source": [
        "print(1/((chi_data['고혈압'][2]*chi_data['당뇨'][3])/(chi_data['고혈압'][3]*chi_data['당뇨'][2])))\n",
        "print(1/((chi_data['고혈압'][2]*chi_data['당뇨'][4])/(chi_data['고혈압'][4]*chi_data['당뇨'][2])))\n",
        "print(1/((chi_data['고혈압'][2]*chi_data['당뇨'][5])/(chi_data['고혈압'][5]*chi_data['당뇨'][2])))\n",
        "print(1/((chi_data['고혈압'][2]*chi_data['당뇨'][6])/(chi_data['고혈압'][6]*chi_data['당뇨'][2])))\n",
        "print(1/((chi_data['고혈압'][2]*chi_data['당뇨'][7])/(chi_data['고혈압'][7]*chi_data['당뇨'][2])))"
      ],
      "execution_count": 174,
      "outputs": [
        {
          "output_type": "stream",
          "text": [
            "1.4565768126252592\n",
            "1.5542861794479688\n",
            "1.4787748191316605\n",
            "1.3234313200094916\n",
            "1.424136938457045\n"
          ],
          "name": "stdout"
        }
      ]
    },
    {
      "cell_type": "markdown",
      "metadata": {
        "id": "RzYE9SSXWDR1"
      },
      "source": [
        "# Help\n",
        "\n",
        "30~40,50,60,70 (고혈압에 대한것)"
      ]
    },
    {
      "cell_type": "code",
      "metadata": {
        "colab": {
          "base_uri": "https://localhost:8080/"
        },
        "id": "be4tPU_yQ68S",
        "outputId": "2d3f457e-06e2-4131-af9f-eb8bdf10e928"
      },
      "source": [
        "print((chi_data['고혈압'][3]*chi_data['당뇨'][4])/(chi_data['고혈압'][4]*chi_data['당뇨'][3]))\n",
        "print((chi_data['고혈압'][3]*chi_data['당뇨'][5])/(chi_data['고혈압'][5]*chi_data['당뇨'][3]))\n",
        "print((chi_data['고혈압'][3]*chi_data['당뇨'][6])/(chi_data['고혈압'][6]*chi_data['당뇨'][3]))\n",
        "print((chi_data['고혈압'][3]*chi_data['당뇨'][7])/(chi_data['고혈압'][7]*chi_data['당뇨'][3]))"
      ],
      "execution_count": 175,
      "outputs": [
        {
          "output_type": "stream",
          "text": [
            "0.9371355364831123\n",
            "0.9849889204095076\n",
            "1.1006062729532597\n",
            "1.0227786200134381\n"
          ],
          "name": "stdout"
        }
      ]
    },
    {
      "cell_type": "markdown",
      "metadata": {
        "id": "hSSSIDjaWHdV"
      },
      "source": [
        "# Help\n",
        "\n",
        "30~40,50,60,70(당뇨에 대한것)"
      ]
    },
    {
      "cell_type": "code",
      "metadata": {
        "colab": {
          "base_uri": "https://localhost:8080/"
        },
        "id": "ixxr82sFQ_6c",
        "outputId": "331253ba-0f4b-45d8-c765-ebe4c70738ce"
      },
      "source": [
        "print(1/((chi_data['고혈압'][3]*chi_data['당뇨'][4])/(chi_data['고혈압'][4]*chi_data['당뇨'][3])))\n",
        "print(1/((chi_data['고혈압'][3]*chi_data['당뇨'][5])/(chi_data['고혈압'][5]*chi_data['당뇨'][3])))\n",
        "print(1/((chi_data['고혈압'][3]*chi_data['당뇨'][6])/(chi_data['고혈압'][6]*chi_data['당뇨'][3])))\n",
        "print(1/((chi_data['고혈압'][3]*chi_data['당뇨'][7])/(chi_data['고혈압'][7]*chi_data['당뇨'][3])))"
      ],
      "execution_count": 176,
      "outputs": [
        {
          "output_type": "stream",
          "text": [
            "1.0670815064305488\n",
            "1.015239846133753\n",
            "0.9085901330697465\n",
            "0.9777286897010627\n"
          ],
          "name": "stdout"
        }
      ]
    },
    {
      "cell_type": "markdown",
      "metadata": {
        "id": "LD3Mr3-VWKjM"
      },
      "source": [
        "# Help\n",
        "40기준 고혈압"
      ]
    },
    {
      "cell_type": "code",
      "metadata": {
        "colab": {
          "base_uri": "https://localhost:8080/"
        },
        "id": "8KbPj6_rRDFl",
        "outputId": "4fbbf384-558a-4491-d79e-415f64bf9a76"
      },
      "source": [
        "print((chi_data['고혈압'][4]*chi_data['당뇨'][5])/(chi_data['고혈압'][5]*chi_data['당뇨'][4]))\n",
        "print((chi_data['고혈압'][4]*chi_data['당뇨'][6])/(chi_data['고혈압'][6]*chi_data['당뇨'][4]))\n",
        "print((chi_data['고혈압'][4]*chi_data['당뇨'][7])/(chi_data['고혈압'][7]*chi_data['당뇨'][4]))"
      ],
      "execution_count": 177,
      "outputs": [
        {
          "output_type": "stream",
          "text": [
            "1.0510634610079772\n",
            "1.174436599729876\n",
            "1.0913881505888974\n"
          ],
          "name": "stdout"
        }
      ]
    },
    {
      "cell_type": "markdown",
      "metadata": {
        "id": "L4Ptp1_EWWb8"
      },
      "source": [
        "# Help\n",
        "40기준 당뇨"
      ]
    },
    {
      "cell_type": "code",
      "metadata": {
        "colab": {
          "base_uri": "https://localhost:8080/"
        },
        "id": "1kY4_PC_RHWM",
        "outputId": "078b9e1c-c8e5-4013-fd27-46eccc16e55a"
      },
      "source": [
        "print(1/((chi_data['고혈압'][4]*chi_data['당뇨'][5])/(chi_data['고혈압'][5]*chi_data['당뇨'][4])))\n",
        "print(1/((chi_data['고혈압'][4]*chi_data['당뇨'][6])/(chi_data['고혈압'][6]*chi_data['당뇨'][4])))\n",
        "print(1/((chi_data['고혈압'][4]*chi_data['당뇨'][7])/(chi_data['고혈압'][7]*chi_data['당뇨'][4])))"
      ],
      "execution_count": 178,
      "outputs": [
        {
          "output_type": "stream",
          "text": [
            "0.9514173378655871\n",
            "0.8514721017975794\n",
            "0.9162643001579359\n"
          ],
          "name": "stdout"
        }
      ]
    },
    {
      "cell_type": "markdown",
      "metadata": {
        "id": "rzadjWsEWdCQ"
      },
      "source": [
        "# Help\n",
        "50기준 고혈압"
      ]
    },
    {
      "cell_type": "code",
      "metadata": {
        "colab": {
          "base_uri": "https://localhost:8080/"
        },
        "id": "7XDKKuhcRPze",
        "outputId": "a057d195-bcf9-4566-cc88-875f94aefd3b"
      },
      "source": [
        "print((chi_data['고혈압'][5]*chi_data['당뇨'][6])/(chi_data['고혈압'][6]*chi_data['당뇨'][5]))\n",
        "print((chi_data['고혈압'][5]*chi_data['당뇨'][7])/(chi_data['고혈압'][7]*chi_data['당뇨'][5]))"
      ],
      "execution_count": 179,
      "outputs": [
        {
          "output_type": "stream",
          "text": [
            "1.1173793432069108\n",
            "1.038365608811335\n"
          ],
          "name": "stdout"
        }
      ]
    },
    {
      "cell_type": "markdown",
      "metadata": {
        "id": "Wv6iJmL0Wet3"
      },
      "source": [
        "# Help\n",
        "50기준 당뇨"
      ]
    },
    {
      "cell_type": "code",
      "metadata": {
        "colab": {
          "base_uri": "https://localhost:8080/"
        },
        "id": "EFojF20wRV6a",
        "outputId": "1ae8205c-011a-4dcf-c9fe-b855c833d75f"
      },
      "source": [
        "print(1/((chi_data['고혈압'][5]*chi_data['당뇨'][6])/(chi_data['고혈압'][6]*chi_data['당뇨'][5])))\n",
        "print(1/((chi_data['고혈압'][5]*chi_data['당뇨'][7])/(chi_data['고혈압'][7]*chi_data['당뇨'][5])))"
      ],
      "execution_count": 180,
      "outputs": [
        {
          "output_type": "stream",
          "text": [
            "0.8949512142671004\n",
            "0.9630519265220523\n"
          ],
          "name": "stdout"
        }
      ]
    },
    {
      "cell_type": "markdown",
      "metadata": {
        "id": "_WB44sZjWg0C"
      },
      "source": [
        "# Help\n",
        "60기준 고혈압"
      ]
    },
    {
      "cell_type": "code",
      "metadata": {
        "colab": {
          "base_uri": "https://localhost:8080/"
        },
        "id": "J0qhH9xpRYjF",
        "outputId": "d59f527d-b00c-4cf8-dd90-b1b87e98f17c"
      },
      "source": [
        "print((chi_data['고혈압'][6]*chi_data['당뇨'][7])/(chi_data['고혈압'][7]*chi_data['당뇨'][6]))"
      ],
      "execution_count": 181,
      "outputs": [
        {
          "output_type": "stream",
          "text": [
            "0.9292865624589014\n"
          ],
          "name": "stdout"
        }
      ]
    },
    {
      "cell_type": "markdown",
      "metadata": {
        "id": "-eWW_ziYWjZp"
      },
      "source": [
        "# Help\n",
        "60기준 당뇨"
      ]
    },
    {
      "cell_type": "code",
      "metadata": {
        "colab": {
          "base_uri": "https://localhost:8080/"
        },
        "id": "5JP22_37Rc04",
        "outputId": "89c3fcd3-f234-48bc-e36c-e2e593d50328"
      },
      "source": [
        "print(1/((chi_data['고혈압'][6]*chi_data['당뇨'][7])/(chi_data['고혈압'][7]*chi_data['당뇨'][6])))"
      ],
      "execution_count": 182,
      "outputs": [
        {
          "output_type": "stream",
          "text": [
            "1.076094329131361\n"
          ],
          "name": "stdout"
        }
      ]
    },
    {
      "cell_type": "code",
      "metadata": {
        "colab": {
          "base_uri": "https://localhost:8080/",
          "height": 352
        },
        "id": "NXhP7CcpSpmm",
        "outputId": "a84f7034-cb41-4db6-d5a8-f80751fa33a1"
      },
      "source": [
        "sns.distplot(df['SBP'])"
      ],
      "execution_count": 183,
      "outputs": [
        {
          "output_type": "stream",
          "text": [
            "/usr/local/lib/python3.7/dist-packages/seaborn/distributions.py:2557: FutureWarning: `distplot` is a deprecated function and will be removed in a future version. Please adapt your code to use either `displot` (a figure-level function with similar flexibility) or `histplot` (an axes-level function for histograms).\n",
            "  warnings.warn(msg, FutureWarning)\n"
          ],
          "name": "stderr"
        },
        {
          "output_type": "execute_result",
          "data": {
            "text/plain": [
              "<matplotlib.axes._subplots.AxesSubplot at 0x7fd1db2afe90>"
            ]
          },
          "metadata": {
            "tags": []
          },
          "execution_count": 183
        },
        {
          "output_type": "display_data",
          "data": {
            "image/png": "[encoded data removed]",
            "text/plain": [
              "<Figure size 432x288 with 1 Axes>"
            ]
          },
          "metadata": {
            "tags": [],
            "needs_background": "light"
          }
        }
      ]
    },
    {
      "cell_type": "code",
      "metadata": {
        "colab": {
          "base_uri": "https://localhost:8080/",
          "height": 270
        },
        "id": "ncA1oq8IBoFF",
        "outputId": "4c26c6b8-a45c-4929-b246-01e1e52ad2cf"
      },
      "source": [
        "logit = sm.Logit(df['DIS'],df['SBP']).fit()\n",
        "logit.summary()"
      ],
      "execution_count": 184,
      "outputs": [
        {
          "output_type": "stream",
          "text": [
            "Optimization terminated successfully.\n",
            "         Current function value: 0.657429\n",
            "         Iterations 4\n"
          ],
          "name": "stdout"
        },
        {
          "output_type": "execute_result",
          "data": {
            "text/html": [
              "<table class=\"simpletable\">\n",
              "<caption>Logit Regression Results</caption>\n",
              "<tr>\n",
              "  <th>Dep. Variable:</th>          <td>DIS</td>       <th>  No. Observations:  </th>   <td>259338</td>   \n",
              "</tr>\n",
              "<tr>\n",
              "  <th>Model:</th>                 <td>Logit</td>      <th>  Df Residuals:      </th>   <td>259337</td>   \n",
              "</tr>\n",
              "<tr>\n",
              "  <th>Method:</th>                 <td>MLE</td>       <th>  Df Model:          </th>   <td>     0</td>   \n",
              "</tr>\n",
              "<tr>\n",
              "  <th>Date:</th>            <td>Fri, 23 Apr 2021</td> <th>  Pseudo R-squ.:     </th>  <td>0.004029</td>  \n",
              "</tr>\n",
              "<tr>\n",
              "  <th>Time:</th>                <td>08:42:57</td>     <th>  Log-Likelihood:    </th> <td>-1.7050e+05</td>\n",
              "</tr>\n",
              "<tr>\n",
              "  <th>converged:</th>             <td>True</td>       <th>  LL-Null:           </th> <td>-1.7119e+05</td>\n",
              "</tr>\n",
              "<tr>\n",
              "  <th>Covariance Type:</th>     <td>nonrobust</td>    <th>  LLR p-value:       </th>   <td>   nan</td>   \n",
              "</tr>\n",
              "</table>\n",
              "<table class=\"simpletable\">\n",
              "<tr>\n",
              "   <td></td>      <th>coef</th>     <th>std err</th>      <th>z</th>      <th>P>|z|</th>  <th>[0.025</th>    <th>0.975]</th>  \n",
              "</tr>\n",
              "<tr>\n",
              "  <th>SBP</th> <td>   -0.0042</td> <td> 3.13e-05</td> <td> -133.509</td> <td> 0.000</td> <td>   -0.004</td> <td>   -0.004</td>\n",
              "</tr>\n",
              "</table>"
            ],
            "text/plain": [
              "<class 'statsmodels.iolib.summary.Summary'>\n",
              "\"\"\"\n",
              "                           Logit Regression Results                           \n",
              "==============================================================================\n",
              "Dep. Variable:                    DIS   No. Observations:               259338\n",
              "Model:                          Logit   Df Residuals:                   259337\n",
              "Method:                           MLE   Df Model:                            0\n",
              "Date:                Fri, 23 Apr 2021   Pseudo R-squ.:                0.004029\n",
              "Time:                        08:42:57   Log-Likelihood:            -1.7050e+05\n",
              "converged:                       True   LL-Null:                   -1.7119e+05\n",
              "Covariance Type:            nonrobust   LLR p-value:                       nan\n",
              "==============================================================================\n",
              "                 coef    std err          z      P>|z|      [0.025      0.975]\n",
              "------------------------------------------------------------------------------\n",
              "SBP           -0.0042   3.13e-05   -133.509      0.000      -0.004      -0.004\n",
              "==============================================================================\n",
              "\"\"\""
            ]
          },
          "metadata": {
            "tags": []
          },
          "execution_count": 184
        }
      ]
    },
    {
      "cell_type": "code",
      "metadata": {
        "colab": {
          "base_uri": "https://localhost:8080/",
          "height": 352
        },
        "id": "Q9dOZ45YSutt",
        "outputId": "29fd1530-fb0b-4ada-b1ca-c8cd9926682f"
      },
      "source": [
        "sns.distplot(df['FBS'])"
      ],
      "execution_count": 185,
      "outputs": [
        {
          "output_type": "stream",
          "text": [
            "/usr/local/lib/python3.7/dist-packages/seaborn/distributions.py:2557: FutureWarning: `distplot` is a deprecated function and will be removed in a future version. Please adapt your code to use either `displot` (a figure-level function with similar flexibility) or `histplot` (an axes-level function for histograms).\n",
            "  warnings.warn(msg, FutureWarning)\n"
          ],
          "name": "stderr"
        },
        {
          "output_type": "execute_result",
          "data": {
            "text/plain": [
              "<matplotlib.axes._subplots.AxesSubplot at 0x7fd1daed2c90>"
            ]
          },
          "metadata": {
            "tags": []
          },
          "execution_count": 185
        },
        {
          "output_type": "display_data",
          "data": {
            "image/png": "[encoded data removed]",
            "text/plain": [
              "<Figure size 432x288 with 1 Axes>"
            ]
          },
          "metadata": {
            "tags": [],
            "needs_background": "light"
          }
        }
      ]
    },
    {
      "cell_type": "code",
      "metadata": {
        "colab": {
          "base_uri": "https://localhost:8080/",
          "height": 270
        },
        "id": "o79fnIkbDsi3",
        "outputId": "d7500107-7b93-4756-e89f-8a30be6657e7"
      },
      "source": [
        "logit = sm.Logit(df['DIS'],df['FBS']).fit()\n",
        "logit.summary()"
      ],
      "execution_count": 186,
      "outputs": [
        {
          "output_type": "stream",
          "text": [
            "Optimization terminated successfully.\n",
            "         Current function value: 0.686618\n",
            "         Iterations 3\n"
          ],
          "name": "stdout"
        },
        {
          "output_type": "execute_result",
          "data": {
            "text/html": [
              "<table class=\"simpletable\">\n",
              "<caption>Logit Regression Results</caption>\n",
              "<tr>\n",
              "  <th>Dep. Variable:</th>          <td>DIS</td>       <th>  No. Observations:  </th>   <td>259338</td>   \n",
              "</tr>\n",
              "<tr>\n",
              "  <th>Model:</th>                 <td>Logit</td>      <th>  Df Residuals:      </th>   <td>259337</td>   \n",
              "</tr>\n",
              "<tr>\n",
              "  <th>Method:</th>                 <td>MLE</td>       <th>  Df Model:          </th>   <td>     0</td>   \n",
              "</tr>\n",
              "<tr>\n",
              "  <th>Date:</th>            <td>Fri, 23 Apr 2021</td> <th>  Pseudo R-squ.:     </th>  <td>-0.04019</td>  \n",
              "</tr>\n",
              "<tr>\n",
              "  <th>Time:</th>                <td>08:43:01</td>     <th>  Log-Likelihood:    </th> <td>-1.7807e+05</td>\n",
              "</tr>\n",
              "<tr>\n",
              "  <th>converged:</th>             <td>True</td>       <th>  LL-Null:           </th> <td>-1.7119e+05</td>\n",
              "</tr>\n",
              "<tr>\n",
              "  <th>Covariance Type:</th>     <td>nonrobust</td>    <th>  LLR p-value:       </th>   <td>   nan</td>   \n",
              "</tr>\n",
              "</table>\n",
              "<table class=\"simpletable\">\n",
              "<tr>\n",
              "   <td></td>      <th>coef</th>     <th>std err</th>      <th>z</th>      <th>P>|z|</th>  <th>[0.025</th>    <th>0.975]</th>  \n",
              "</tr>\n",
              "<tr>\n",
              "  <th>FBS</th> <td>   -0.0020</td> <td>  3.4e-05</td> <td>  -57.891</td> <td> 0.000</td> <td>   -0.002</td> <td>   -0.002</td>\n",
              "</tr>\n",
              "</table>"
            ],
            "text/plain": [
              "<class 'statsmodels.iolib.summary.Summary'>\n",
              "\"\"\"\n",
              "                           Logit Regression Results                           \n",
              "==============================================================================\n",
              "Dep. Variable:                    DIS   No. Observations:               259338\n",
              "Model:                          Logit   Df Residuals:                   259337\n",
              "Method:                           MLE   Df Model:                            0\n",
              "Date:                Fri, 23 Apr 2021   Pseudo R-squ.:                -0.04019\n",
              "Time:                        08:43:01   Log-Likelihood:            -1.7807e+05\n",
              "converged:                       True   LL-Null:                   -1.7119e+05\n",
              "Covariance Type:            nonrobust   LLR p-value:                       nan\n",
              "==============================================================================\n",
              "                 coef    std err          z      P>|z|      [0.025      0.975]\n",
              "------------------------------------------------------------------------------\n",
              "FBS           -0.0020    3.4e-05    -57.891      0.000      -0.002      -0.002\n",
              "==============================================================================\n",
              "\"\"\""
            ]
          },
          "metadata": {
            "tags": []
          },
          "execution_count": 186
        }
      ]
    },
    {
      "cell_type": "code",
      "metadata": {
        "id": "vmLaCZz3SwSe",
        "colab": {
          "base_uri": "https://localhost:8080/",
          "height": 352
        },
        "outputId": "e832ae7c-92c7-49ad-c730-9950791899a0"
      },
      "source": [
        "sns.distplot(df['BMI'])"
      ],
      "execution_count": 187,
      "outputs": [
        {
          "output_type": "stream",
          "text": [
            "/usr/local/lib/python3.7/dist-packages/seaborn/distributions.py:2557: FutureWarning: `distplot` is a deprecated function and will be removed in a future version. Please adapt your code to use either `displot` (a figure-level function with similar flexibility) or `histplot` (an axes-level function for histograms).\n",
            "  warnings.warn(msg, FutureWarning)\n"
          ],
          "name": "stderr"
        },
        {
          "output_type": "execute_result",
          "data": {
            "text/plain": [
              "<matplotlib.axes._subplots.AxesSubplot at 0x7fd1dad2e5d0>"
            ]
          },
          "metadata": {
            "tags": []
          },
          "execution_count": 187
        },
        {
          "output_type": "display_data",
          "data": {
            "image/png": "[encoded data removed]",
            "text/plain": [
              "<Figure size 432x288 with 1 Axes>"
            ]
          },
          "metadata": {
            "tags": [],
            "needs_background": "light"
          }
        }
      ]
    },
    {
      "cell_type": "code",
      "metadata": {
        "colab": {
          "base_uri": "https://localhost:8080/",
          "height": 270
        },
        "id": "jQ4ZViXDSI0S",
        "outputId": "dda30719-35f3-4574-ed66-d00c658ac870"
      },
      "source": [
        "logit = sm.Logit(df['DIS'],df['BMI']).fit()\n",
        "logit.summary()"
      ],
      "execution_count": 188,
      "outputs": [
        {
          "output_type": "stream",
          "text": [
            "Optimization terminated successfully.\n",
            "         Current function value: 0.660292\n",
            "         Iterations 4\n"
          ],
          "name": "stdout"
        },
        {
          "output_type": "execute_result",
          "data": {
            "text/html": [
              "<table class=\"simpletable\">\n",
              "<caption>Logit Regression Results</caption>\n",
              "<tr>\n",
              "  <th>Dep. Variable:</th>          <td>DIS</td>       <th>  No. Observations:  </th>   <td>259338</td>   \n",
              "</tr>\n",
              "<tr>\n",
              "  <th>Model:</th>                 <td>Logit</td>      <th>  Df Residuals:      </th>   <td>259337</td>   \n",
              "</tr>\n",
              "<tr>\n",
              "  <th>Method:</th>                 <td>MLE</td>       <th>  Df Model:          </th>   <td>     0</td>   \n",
              "</tr>\n",
              "<tr>\n",
              "  <th>Date:</th>            <td>Fri, 23 Apr 2021</td> <th>  Pseudo R-squ.:     </th> <td>-0.0003073</td> \n",
              "</tr>\n",
              "<tr>\n",
              "  <th>Time:</th>                <td>08:43:05</td>     <th>  Log-Likelihood:    </th> <td>-1.7124e+05</td>\n",
              "</tr>\n",
              "<tr>\n",
              "  <th>converged:</th>             <td>True</td>       <th>  LL-Null:           </th> <td>-1.7119e+05</td>\n",
              "</tr>\n",
              "<tr>\n",
              "  <th>Covariance Type:</th>     <td>nonrobust</td>    <th>  LLR p-value:       </th>   <td>   nan</td>   \n",
              "</tr>\n",
              "</table>\n",
              "<table class=\"simpletable\">\n",
              "<tr>\n",
              "   <td></td>      <th>coef</th>     <th>std err</th>      <th>z</th>      <th>P>|z|</th>  <th>[0.025</th>    <th>0.975]</th>  \n",
              "</tr>\n",
              "<tr>\n",
              "  <th>BMI</th> <td>   -0.0208</td> <td>    0.000</td> <td> -128.218</td> <td> 0.000</td> <td>   -0.021</td> <td>   -0.020</td>\n",
              "</tr>\n",
              "</table>"
            ],
            "text/plain": [
              "<class 'statsmodels.iolib.summary.Summary'>\n",
              "\"\"\"\n",
              "                           Logit Regression Results                           \n",
              "==============================================================================\n",
              "Dep. Variable:                    DIS   No. Observations:               259338\n",
              "Model:                          Logit   Df Residuals:                   259337\n",
              "Method:                           MLE   Df Model:                            0\n",
              "Date:                Fri, 23 Apr 2021   Pseudo R-squ.:              -0.0003073\n",
              "Time:                        08:43:05   Log-Likelihood:            -1.7124e+05\n",
              "converged:                       True   LL-Null:                   -1.7119e+05\n",
              "Covariance Type:            nonrobust   LLR p-value:                       nan\n",
              "==============================================================================\n",
              "                 coef    std err          z      P>|z|      [0.025      0.975]\n",
              "------------------------------------------------------------------------------\n",
              "BMI           -0.0208      0.000   -128.218      0.000      -0.021      -0.020\n",
              "==============================================================================\n",
              "\"\"\""
            ]
          },
          "metadata": {
            "tags": []
          },
          "execution_count": 188
        }
      ]
    },
    {
      "cell_type": "code",
      "metadata": {
        "id": "GeoU9iAmSNHt",
        "colab": {
          "base_uri": "https://localhost:8080/",
          "height": 402
        },
        "outputId": "da7dc287-e187-49fa-b07e-d0e6400e8433"
      },
      "source": [
        "scaler=StandardScaler()\n",
        "scale=scaler.fit_transform(df[['SBP','DBP','FBS','BMI']])\n",
        "scale=pd.DataFrame(scale)\n",
        "scale.columns=['SBP','DBP','FBS','BMI']\n",
        "scale"
      ],
      "execution_count": 189,
      "outputs": [
        {
          "output_type": "execute_result",
          "data": {
            "text/html": [
              "<div>\n",
              "<style scoped>\n",
              "    .dataframe tbody tr th:only-of-type {\n",
              "        vertical-align: middle;\n",
              "    }\n",
              "\n",
              "    .dataframe tbody tr th {\n",
              "        vertical-align: top;\n",
              "    }\n",
              "\n",
              "    .dataframe thead th {\n",
              "        text-align: right;\n",
              "    }\n",
              "</style>\n",
              "<table border=\"1\" class=\"dataframe\">\n",
              "  <thead>\n",
              "    <tr style=\"text-align: right;\">\n",
              "      <th></th>\n",
              "      <th>SBP</th>\n",
              "      <th>DBP</th>\n",
              "      <th>FBS</th>\n",
              "      <th>BMI</th>\n",
              "    </tr>\n",
              "  </thead>\n",
              "  <tbody>\n",
              "    <tr>\n",
              "      <th>0</th>\n",
              "      <td>-2.636517</td>\n",
              "      <td>-2.897507</td>\n",
              "      <td>-0.772884</td>\n",
              "      <td>-1.477255</td>\n",
              "    </tr>\n",
              "    <tr>\n",
              "      <th>1</th>\n",
              "      <td>-0.626573</td>\n",
              "      <td>0.102945</td>\n",
              "      <td>-0.653249</td>\n",
              "      <td>0.650729</td>\n",
              "    </tr>\n",
              "    <tr>\n",
              "      <th>2</th>\n",
              "      <td>-1.966535</td>\n",
              "      <td>-1.897356</td>\n",
              "      <td>0.004748</td>\n",
              "      <td>2.131066</td>\n",
              "    </tr>\n",
              "    <tr>\n",
              "      <th>3</th>\n",
              "      <td>2.723334</td>\n",
              "      <td>4.103548</td>\n",
              "      <td>-0.772884</td>\n",
              "      <td>-0.490364</td>\n",
              "    </tr>\n",
              "    <tr>\n",
              "      <th>4</th>\n",
              "      <td>0.378400</td>\n",
              "      <td>0.102945</td>\n",
              "      <td>-0.234524</td>\n",
              "      <td>3.117958</td>\n",
              "    </tr>\n",
              "    <tr>\n",
              "      <th>...</th>\n",
              "      <td>...</td>\n",
              "      <td>...</td>\n",
              "      <td>...</td>\n",
              "      <td>...</td>\n",
              "    </tr>\n",
              "    <tr>\n",
              "      <th>259333</th>\n",
              "      <td>-0.224584</td>\n",
              "      <td>-0.897205</td>\n",
              "      <td>0.333746</td>\n",
              "      <td>0.095603</td>\n",
              "    </tr>\n",
              "    <tr>\n",
              "      <th>259334</th>\n",
              "      <td>-0.626573</td>\n",
              "      <td>-0.897205</td>\n",
              "      <td>-0.922429</td>\n",
              "      <td>-0.552044</td>\n",
              "    </tr>\n",
              "    <tr>\n",
              "      <th>259335</th>\n",
              "      <td>-1.296554</td>\n",
              "      <td>-0.897205</td>\n",
              "      <td>-0.234524</td>\n",
              "      <td>0.712410</td>\n",
              "    </tr>\n",
              "    <tr>\n",
              "      <th>259336</th>\n",
              "      <td>-0.961563</td>\n",
              "      <td>-2.597461</td>\n",
              "      <td>-0.055070</td>\n",
              "      <td>0.095603</td>\n",
              "    </tr>\n",
              "    <tr>\n",
              "      <th>259337</th>\n",
              "      <td>-0.626573</td>\n",
              "      <td>-0.897205</td>\n",
              "      <td>-0.653249</td>\n",
              "      <td>-1.600616</td>\n",
              "    </tr>\n",
              "  </tbody>\n",
              "</table>\n",
              "<p>259338 rows × 4 columns</p>\n",
              "</div>"
            ],
            "text/plain": [
              "             SBP       DBP       FBS       BMI\n",
              "0      -2.636517 -2.897507 -0.772884 -1.477255\n",
              "1      -0.626573  0.102945 -0.653249  0.650729\n",
              "2      -1.966535 -1.897356  0.004748  2.131066\n",
              "3       2.723334  4.103548 -0.772884 -0.490364\n",
              "4       0.378400  0.102945 -0.234524  3.117958\n",
              "...          ...       ...       ...       ...\n",
              "259333 -0.224584 -0.897205  0.333746  0.095603\n",
              "259334 -0.626573 -0.897205 -0.922429 -0.552044\n",
              "259335 -1.296554 -0.897205 -0.234524  0.712410\n",
              "259336 -0.961563 -2.597461 -0.055070  0.095603\n",
              "259337 -0.626573 -0.897205 -0.653249 -1.600616\n",
              "\n",
              "[259338 rows x 4 columns]"
            ]
          },
          "metadata": {
            "tags": []
          },
          "execution_count": 189
        }
      ]
    },
    {
      "cell_type": "code",
      "metadata": {
        "colab": {
          "base_uri": "https://localhost:8080/",
          "height": 402
        },
        "id": "C-CkGsvoxi51",
        "outputId": "9c97d78d-0a2d-4ea7-d187-e6d2bcfa4de3"
      },
      "source": [
        "df['SBP']=scale['SBP']\n",
        "df['DBP']=scale['DBP']\n",
        "df['FBS']=scale['FBS']\n",
        "df['BMI']=scale['BMI']\n",
        "df"
      ],
      "execution_count": 190,
      "outputs": [
        {
          "output_type": "execute_result",
          "data": {
            "text/html": [
              "<div>\n",
              "<style scoped>\n",
              "    .dataframe tbody tr th:only-of-type {\n",
              "        vertical-align: middle;\n",
              "    }\n",
              "\n",
              "    .dataframe tbody tr th {\n",
              "        vertical-align: top;\n",
              "    }\n",
              "\n",
              "    .dataframe thead th {\n",
              "        text-align: right;\n",
              "    }\n",
              "</style>\n",
              "<table border=\"1\" class=\"dataframe\">\n",
              "  <thead>\n",
              "    <tr style=\"text-align: right;\">\n",
              "      <th></th>\n",
              "      <th>SEX</th>\n",
              "      <th>BTH_G</th>\n",
              "      <th>SBP</th>\n",
              "      <th>DBP</th>\n",
              "      <th>FBS</th>\n",
              "      <th>DIS</th>\n",
              "      <th>BMI</th>\n",
              "    </tr>\n",
              "  </thead>\n",
              "  <tbody>\n",
              "    <tr>\n",
              "      <th>0</th>\n",
              "      <td>1</td>\n",
              "      <td>2</td>\n",
              "      <td>-2.636517</td>\n",
              "      <td>-2.897507</td>\n",
              "      <td>-0.772884</td>\n",
              "      <td>0</td>\n",
              "      <td>-1.477255</td>\n",
              "    </tr>\n",
              "    <tr>\n",
              "      <th>1</th>\n",
              "      <td>1</td>\n",
              "      <td>2</td>\n",
              "      <td>-0.626573</td>\n",
              "      <td>0.102945</td>\n",
              "      <td>-0.653249</td>\n",
              "      <td>1</td>\n",
              "      <td>0.650729</td>\n",
              "    </tr>\n",
              "    <tr>\n",
              "      <th>2</th>\n",
              "      <td>1</td>\n",
              "      <td>2</td>\n",
              "      <td>-1.966535</td>\n",
              "      <td>-1.897356</td>\n",
              "      <td>0.004748</td>\n",
              "      <td>0</td>\n",
              "      <td>2.131066</td>\n",
              "    </tr>\n",
              "    <tr>\n",
              "      <th>3</th>\n",
              "      <td>1</td>\n",
              "      <td>2</td>\n",
              "      <td>2.723334</td>\n",
              "      <td>4.103548</td>\n",
              "      <td>-0.772884</td>\n",
              "      <td>0</td>\n",
              "      <td>-0.490364</td>\n",
              "    </tr>\n",
              "    <tr>\n",
              "      <th>4</th>\n",
              "      <td>1</td>\n",
              "      <td>2</td>\n",
              "      <td>0.378400</td>\n",
              "      <td>0.102945</td>\n",
              "      <td>-0.234524</td>\n",
              "      <td>0</td>\n",
              "      <td>3.117958</td>\n",
              "    </tr>\n",
              "    <tr>\n",
              "      <th>...</th>\n",
              "      <td>...</td>\n",
              "      <td>...</td>\n",
              "      <td>...</td>\n",
              "      <td>...</td>\n",
              "      <td>...</td>\n",
              "      <td>...</td>\n",
              "      <td>...</td>\n",
              "    </tr>\n",
              "    <tr>\n",
              "      <th>259333</th>\n",
              "      <td>2</td>\n",
              "      <td>7</td>\n",
              "      <td>-0.224584</td>\n",
              "      <td>-0.897205</td>\n",
              "      <td>0.333746</td>\n",
              "      <td>1</td>\n",
              "      <td>0.095603</td>\n",
              "    </tr>\n",
              "    <tr>\n",
              "      <th>259334</th>\n",
              "      <td>2</td>\n",
              "      <td>7</td>\n",
              "      <td>-0.626573</td>\n",
              "      <td>-0.897205</td>\n",
              "      <td>-0.922429</td>\n",
              "      <td>0</td>\n",
              "      <td>-0.552044</td>\n",
              "    </tr>\n",
              "    <tr>\n",
              "      <th>259335</th>\n",
              "      <td>2</td>\n",
              "      <td>7</td>\n",
              "      <td>-1.296554</td>\n",
              "      <td>-0.897205</td>\n",
              "      <td>-0.234524</td>\n",
              "      <td>0</td>\n",
              "      <td>0.712410</td>\n",
              "    </tr>\n",
              "    <tr>\n",
              "      <th>259336</th>\n",
              "      <td>2</td>\n",
              "      <td>7</td>\n",
              "      <td>-0.961563</td>\n",
              "      <td>-2.597461</td>\n",
              "      <td>-0.055070</td>\n",
              "      <td>1</td>\n",
              "      <td>0.095603</td>\n",
              "    </tr>\n",
              "    <tr>\n",
              "      <th>259337</th>\n",
              "      <td>2</td>\n",
              "      <td>7</td>\n",
              "      <td>-0.626573</td>\n",
              "      <td>-0.897205</td>\n",
              "      <td>-0.653249</td>\n",
              "      <td>0</td>\n",
              "      <td>-1.600616</td>\n",
              "    </tr>\n",
              "  </tbody>\n",
              "</table>\n",
              "<p>259338 rows × 7 columns</p>\n",
              "</div>"
            ],
            "text/plain": [
              "        SEX  BTH_G       SBP       DBP       FBS  DIS       BMI\n",
              "0         1      2 -2.636517 -2.897507 -0.772884    0 -1.477255\n",
              "1         1      2 -0.626573  0.102945 -0.653249    1  0.650729\n",
              "2         1      2 -1.966535 -1.897356  0.004748    0  2.131066\n",
              "3         1      2  2.723334  4.103548 -0.772884    0 -0.490364\n",
              "4         1      2  0.378400  0.102945 -0.234524    0  3.117958\n",
              "...     ...    ...       ...       ...       ...  ...       ...\n",
              "259333    2      7 -0.224584 -0.897205  0.333746    1  0.095603\n",
              "259334    2      7 -0.626573 -0.897205 -0.922429    0 -0.552044\n",
              "259335    2      7 -1.296554 -0.897205 -0.234524    0  0.712410\n",
              "259336    2      7 -0.961563 -2.597461 -0.055070    1  0.095603\n",
              "259337    2      7 -0.626573 -0.897205 -0.653249    0 -1.600616\n",
              "\n",
              "[259338 rows x 7 columns]"
            ]
          },
          "metadata": {
            "tags": []
          },
          "execution_count": 190
        }
      ]
    },
    {
      "cell_type": "code",
      "metadata": {
        "colab": {
          "base_uri": "https://localhost:8080/",
          "height": 402
        },
        "id": "EWldHwEt7JI8",
        "outputId": "a91bda41-e421-408c-c46a-47e740d65538"
      },
      "source": [
        "df['SEX']=df['SEX'].replace(1,0)\n",
        "df['SEX']=df['SEX'].replace(2,1)\n",
        "df"
      ],
      "execution_count": 206,
      "outputs": [
        {
          "output_type": "execute_result",
          "data": {
            "text/html": [
              "<div>\n",
              "<style scoped>\n",
              "    .dataframe tbody tr th:only-of-type {\n",
              "        vertical-align: middle;\n",
              "    }\n",
              "\n",
              "    .dataframe tbody tr th {\n",
              "        vertical-align: top;\n",
              "    }\n",
              "\n",
              "    .dataframe thead th {\n",
              "        text-align: right;\n",
              "    }\n",
              "</style>\n",
              "<table border=\"1\" class=\"dataframe\">\n",
              "  <thead>\n",
              "    <tr style=\"text-align: right;\">\n",
              "      <th></th>\n",
              "      <th>SEX</th>\n",
              "      <th>BTH_G</th>\n",
              "      <th>SBP</th>\n",
              "      <th>DBP</th>\n",
              "      <th>FBS</th>\n",
              "      <th>DIS</th>\n",
              "      <th>BMI</th>\n",
              "    </tr>\n",
              "  </thead>\n",
              "  <tbody>\n",
              "    <tr>\n",
              "      <th>0</th>\n",
              "      <td>0</td>\n",
              "      <td>2</td>\n",
              "      <td>-2.636517</td>\n",
              "      <td>-2.897507</td>\n",
              "      <td>-0.772884</td>\n",
              "      <td>0</td>\n",
              "      <td>-1.477255</td>\n",
              "    </tr>\n",
              "    <tr>\n",
              "      <th>1</th>\n",
              "      <td>0</td>\n",
              "      <td>2</td>\n",
              "      <td>-0.626573</td>\n",
              "      <td>0.102945</td>\n",
              "      <td>-0.653249</td>\n",
              "      <td>1</td>\n",
              "      <td>0.650729</td>\n",
              "    </tr>\n",
              "    <tr>\n",
              "      <th>2</th>\n",
              "      <td>0</td>\n",
              "      <td>2</td>\n",
              "      <td>-1.966535</td>\n",
              "      <td>-1.897356</td>\n",
              "      <td>0.004748</td>\n",
              "      <td>0</td>\n",
              "      <td>2.131066</td>\n",
              "    </tr>\n",
              "    <tr>\n",
              "      <th>3</th>\n",
              "      <td>0</td>\n",
              "      <td>2</td>\n",
              "      <td>2.723334</td>\n",
              "      <td>4.103548</td>\n",
              "      <td>-0.772884</td>\n",
              "      <td>0</td>\n",
              "      <td>-0.490364</td>\n",
              "    </tr>\n",
              "    <tr>\n",
              "      <th>4</th>\n",
              "      <td>0</td>\n",
              "      <td>2</td>\n",
              "      <td>0.378400</td>\n",
              "      <td>0.102945</td>\n",
              "      <td>-0.234524</td>\n",
              "      <td>0</td>\n",
              "      <td>3.117958</td>\n",
              "    </tr>\n",
              "    <tr>\n",
              "      <th>...</th>\n",
              "      <td>...</td>\n",
              "      <td>...</td>\n",
              "      <td>...</td>\n",
              "      <td>...</td>\n",
              "      <td>...</td>\n",
              "      <td>...</td>\n",
              "      <td>...</td>\n",
              "    </tr>\n",
              "    <tr>\n",
              "      <th>259333</th>\n",
              "      <td>1</td>\n",
              "      <td>7</td>\n",
              "      <td>-0.224584</td>\n",
              "      <td>-0.897205</td>\n",
              "      <td>0.333746</td>\n",
              "      <td>1</td>\n",
              "      <td>0.095603</td>\n",
              "    </tr>\n",
              "    <tr>\n",
              "      <th>259334</th>\n",
              "      <td>1</td>\n",
              "      <td>7</td>\n",
              "      <td>-0.626573</td>\n",
              "      <td>-0.897205</td>\n",
              "      <td>-0.922429</td>\n",
              "      <td>0</td>\n",
              "      <td>-0.552044</td>\n",
              "    </tr>\n",
              "    <tr>\n",
              "      <th>259335</th>\n",
              "      <td>1</td>\n",
              "      <td>7</td>\n",
              "      <td>-1.296554</td>\n",
              "      <td>-0.897205</td>\n",
              "      <td>-0.234524</td>\n",
              "      <td>0</td>\n",
              "      <td>0.712410</td>\n",
              "    </tr>\n",
              "    <tr>\n",
              "      <th>259336</th>\n",
              "      <td>1</td>\n",
              "      <td>7</td>\n",
              "      <td>-0.961563</td>\n",
              "      <td>-2.597461</td>\n",
              "      <td>-0.055070</td>\n",
              "      <td>1</td>\n",
              "      <td>0.095603</td>\n",
              "    </tr>\n",
              "    <tr>\n",
              "      <th>259337</th>\n",
              "      <td>1</td>\n",
              "      <td>7</td>\n",
              "      <td>-0.626573</td>\n",
              "      <td>-0.897205</td>\n",
              "      <td>-0.653249</td>\n",
              "      <td>0</td>\n",
              "      <td>-1.600616</td>\n",
              "    </tr>\n",
              "  </tbody>\n",
              "</table>\n",
              "<p>259338 rows × 7 columns</p>\n",
              "</div>"
            ],
            "text/plain": [
              "        SEX  BTH_G       SBP       DBP       FBS  DIS       BMI\n",
              "0         0      2 -2.636517 -2.897507 -0.772884    0 -1.477255\n",
              "1         0      2 -0.626573  0.102945 -0.653249    1  0.650729\n",
              "2         0      2 -1.966535 -1.897356  0.004748    0  2.131066\n",
              "3         0      2  2.723334  4.103548 -0.772884    0 -0.490364\n",
              "4         0      2  0.378400  0.102945 -0.234524    0  3.117958\n",
              "...     ...    ...       ...       ...       ...  ...       ...\n",
              "259333    1      7 -0.224584 -0.897205  0.333746    1  0.095603\n",
              "259334    1      7 -0.626573 -0.897205 -0.922429    0 -0.552044\n",
              "259335    1      7 -1.296554 -0.897205 -0.234524    0  0.712410\n",
              "259336    1      7 -0.961563 -2.597461 -0.055070    1  0.095603\n",
              "259337    1      7 -0.626573 -0.897205 -0.653249    0 -1.600616\n",
              "\n",
              "[259338 rows x 7 columns]"
            ]
          },
          "metadata": {
            "tags": []
          },
          "execution_count": 206
        }
      ]
    },
    {
      "cell_type": "code",
      "metadata": {
        "colab": {
          "base_uri": "https://localhost:8080/",
          "height": 284
        },
        "id": "5F7ieBJByUOL",
        "outputId": "f6a77de0-c590-455b-cf77-41b47b8940dd"
      },
      "source": [
        "df[['SBP','DBP','FBS','BMI']].describe()"
      ],
      "execution_count": 191,
      "outputs": [
        {
          "output_type": "execute_result",
          "data": {
            "text/html": [
              "<div>\n",
              "<style scoped>\n",
              "    .dataframe tbody tr th:only-of-type {\n",
              "        vertical-align: middle;\n",
              "    }\n",
              "\n",
              "    .dataframe tbody tr th {\n",
              "        vertical-align: top;\n",
              "    }\n",
              "\n",
              "    .dataframe thead th {\n",
              "        text-align: right;\n",
              "    }\n",
              "</style>\n",
              "<table border=\"1\" class=\"dataframe\">\n",
              "  <thead>\n",
              "    <tr style=\"text-align: right;\">\n",
              "      <th></th>\n",
              "      <th>SBP</th>\n",
              "      <th>DBP</th>\n",
              "      <th>FBS</th>\n",
              "      <th>BMI</th>\n",
              "    </tr>\n",
              "  </thead>\n",
              "  <tbody>\n",
              "    <tr>\n",
              "      <th>count</th>\n",
              "      <td>2.593380e+05</td>\n",
              "      <td>2.593380e+05</td>\n",
              "      <td>2.593380e+05</td>\n",
              "      <td>2.593380e+05</td>\n",
              "    </tr>\n",
              "    <tr>\n",
              "      <th>mean</th>\n",
              "      <td>-1.443456e-14</td>\n",
              "      <td>-8.489468e-14</td>\n",
              "      <td>5.866488e-15</td>\n",
              "      <td>-5.570640e-15</td>\n",
              "    </tr>\n",
              "    <tr>\n",
              "      <th>std</th>\n",
              "      <td>1.000002e+00</td>\n",
              "      <td>1.000002e+00</td>\n",
              "      <td>1.000002e+00</td>\n",
              "      <td>1.000002e+00</td>\n",
              "    </tr>\n",
              "    <tr>\n",
              "      <th>min</th>\n",
              "      <td>-3.172502e+00</td>\n",
              "      <td>-2.897507e+00</td>\n",
              "      <td>-1.550517e+00</td>\n",
              "      <td>-3.111794e+00</td>\n",
              "    </tr>\n",
              "    <tr>\n",
              "      <th>25%</th>\n",
              "      <td>-6.265725e-01</td>\n",
              "      <td>-8.972054e-01</td>\n",
              "      <td>-5.934308e-01</td>\n",
              "      <td>-6.754057e-01</td>\n",
              "    </tr>\n",
              "    <tr>\n",
              "      <th>50%</th>\n",
              "      <td>4.340884e-02</td>\n",
              "      <td>1.029453e-01</td>\n",
              "      <td>-2.943414e-01</td>\n",
              "      <td>-5.859867e-02</td>\n",
              "    </tr>\n",
              "    <tr>\n",
              "      <th>75%</th>\n",
              "      <td>6.463921e-01</td>\n",
              "      <td>6.030206e-01</td>\n",
              "      <td>2.440194e-01</td>\n",
              "      <td>5.890488e-01</td>\n",
              "    </tr>\n",
              "    <tr>\n",
              "      <th>max</th>\n",
              "      <td>4.063297e+00</td>\n",
              "      <td>4.103548e+00</td>\n",
              "      <td>7.362347e+00</td>\n",
              "      <td>4.752496e+00</td>\n",
              "    </tr>\n",
              "  </tbody>\n",
              "</table>\n",
              "</div>"
            ],
            "text/plain": [
              "                SBP           DBP           FBS           BMI\n",
              "count  2.593380e+05  2.593380e+05  2.593380e+05  2.593380e+05\n",
              "mean  -1.443456e-14 -8.489468e-14  5.866488e-15 -5.570640e-15\n",
              "std    1.000002e+00  1.000002e+00  1.000002e+00  1.000002e+00\n",
              "min   -3.172502e+00 -2.897507e+00 -1.550517e+00 -3.111794e+00\n",
              "25%   -6.265725e-01 -8.972054e-01 -5.934308e-01 -6.754057e-01\n",
              "50%    4.340884e-02  1.029453e-01 -2.943414e-01 -5.859867e-02\n",
              "75%    6.463921e-01  6.030206e-01  2.440194e-01  5.890488e-01\n",
              "max    4.063297e+00  4.103548e+00  7.362347e+00  4.752496e+00"
            ]
          },
          "metadata": {
            "tags": []
          },
          "execution_count": 191
        }
      ]
    },
    {
      "cell_type": "code",
      "metadata": {
        "colab": {
          "base_uri": "https://localhost:8080/",
          "height": 402
        },
        "id": "S0u6ALMOyZ1H",
        "outputId": "27c9e719-6368-4e26-ae05-3c0ccb0bfff4"
      },
      "source": [
        "df_array=np.array(df)\n",
        "ct=ColumnTransformer(\n",
        "    [('encoder',OneHotEncoder(), [1])], remainder='passthrough')\n",
        "df_array=np.array(ct.fit_transform(df_array))\n",
        "df_one=pd.DataFrame(df_array)\n",
        "df_one"
      ],
      "execution_count": 207,
      "outputs": [
        {
          "output_type": "execute_result",
          "data": {
            "text/html": [
              "<div>\n",
              "<style scoped>\n",
              "    .dataframe tbody tr th:only-of-type {\n",
              "        vertical-align: middle;\n",
              "    }\n",
              "\n",
              "    .dataframe tbody tr th {\n",
              "        vertical-align: top;\n",
              "    }\n",
              "\n",
              "    .dataframe thead th {\n",
              "        text-align: right;\n",
              "    }\n",
              "</style>\n",
              "<table border=\"1\" class=\"dataframe\">\n",
              "  <thead>\n",
              "    <tr style=\"text-align: right;\">\n",
              "      <th></th>\n",
              "      <th>0</th>\n",
              "      <th>1</th>\n",
              "      <th>2</th>\n",
              "      <th>3</th>\n",
              "      <th>4</th>\n",
              "      <th>5</th>\n",
              "      <th>6</th>\n",
              "      <th>7</th>\n",
              "      <th>8</th>\n",
              "      <th>9</th>\n",
              "      <th>10</th>\n",
              "      <th>11</th>\n",
              "    </tr>\n",
              "  </thead>\n",
              "  <tbody>\n",
              "    <tr>\n",
              "      <th>0</th>\n",
              "      <td>1.0</td>\n",
              "      <td>0.0</td>\n",
              "      <td>0.0</td>\n",
              "      <td>0.0</td>\n",
              "      <td>0.0</td>\n",
              "      <td>0.0</td>\n",
              "      <td>0.0</td>\n",
              "      <td>-2.636517</td>\n",
              "      <td>-2.897507</td>\n",
              "      <td>-0.772884</td>\n",
              "      <td>0.0</td>\n",
              "      <td>-1.477255</td>\n",
              "    </tr>\n",
              "    <tr>\n",
              "      <th>1</th>\n",
              "      <td>1.0</td>\n",
              "      <td>0.0</td>\n",
              "      <td>0.0</td>\n",
              "      <td>0.0</td>\n",
              "      <td>0.0</td>\n",
              "      <td>0.0</td>\n",
              "      <td>0.0</td>\n",
              "      <td>-0.626573</td>\n",
              "      <td>0.102945</td>\n",
              "      <td>-0.653249</td>\n",
              "      <td>1.0</td>\n",
              "      <td>0.650729</td>\n",
              "    </tr>\n",
              "    <tr>\n",
              "      <th>2</th>\n",
              "      <td>1.0</td>\n",
              "      <td>0.0</td>\n",
              "      <td>0.0</td>\n",
              "      <td>0.0</td>\n",
              "      <td>0.0</td>\n",
              "      <td>0.0</td>\n",
              "      <td>0.0</td>\n",
              "      <td>-1.966535</td>\n",
              "      <td>-1.897356</td>\n",
              "      <td>0.004748</td>\n",
              "      <td>0.0</td>\n",
              "      <td>2.131066</td>\n",
              "    </tr>\n",
              "    <tr>\n",
              "      <th>3</th>\n",
              "      <td>1.0</td>\n",
              "      <td>0.0</td>\n",
              "      <td>0.0</td>\n",
              "      <td>0.0</td>\n",
              "      <td>0.0</td>\n",
              "      <td>0.0</td>\n",
              "      <td>0.0</td>\n",
              "      <td>2.723334</td>\n",
              "      <td>4.103548</td>\n",
              "      <td>-0.772884</td>\n",
              "      <td>0.0</td>\n",
              "      <td>-0.490364</td>\n",
              "    </tr>\n",
              "    <tr>\n",
              "      <th>4</th>\n",
              "      <td>1.0</td>\n",
              "      <td>0.0</td>\n",
              "      <td>0.0</td>\n",
              "      <td>0.0</td>\n",
              "      <td>0.0</td>\n",
              "      <td>0.0</td>\n",
              "      <td>0.0</td>\n",
              "      <td>0.378400</td>\n",
              "      <td>0.102945</td>\n",
              "      <td>-0.234524</td>\n",
              "      <td>0.0</td>\n",
              "      <td>3.117958</td>\n",
              "    </tr>\n",
              "    <tr>\n",
              "      <th>...</th>\n",
              "      <td>...</td>\n",
              "      <td>...</td>\n",
              "      <td>...</td>\n",
              "      <td>...</td>\n",
              "      <td>...</td>\n",
              "      <td>...</td>\n",
              "      <td>...</td>\n",
              "      <td>...</td>\n",
              "      <td>...</td>\n",
              "      <td>...</td>\n",
              "      <td>...</td>\n",
              "      <td>...</td>\n",
              "    </tr>\n",
              "    <tr>\n",
              "      <th>259333</th>\n",
              "      <td>0.0</td>\n",
              "      <td>0.0</td>\n",
              "      <td>0.0</td>\n",
              "      <td>0.0</td>\n",
              "      <td>0.0</td>\n",
              "      <td>1.0</td>\n",
              "      <td>1.0</td>\n",
              "      <td>-0.224584</td>\n",
              "      <td>-0.897205</td>\n",
              "      <td>0.333746</td>\n",
              "      <td>1.0</td>\n",
              "      <td>0.095603</td>\n",
              "    </tr>\n",
              "    <tr>\n",
              "      <th>259334</th>\n",
              "      <td>0.0</td>\n",
              "      <td>0.0</td>\n",
              "      <td>0.0</td>\n",
              "      <td>0.0</td>\n",
              "      <td>0.0</td>\n",
              "      <td>1.0</td>\n",
              "      <td>1.0</td>\n",
              "      <td>-0.626573</td>\n",
              "      <td>-0.897205</td>\n",
              "      <td>-0.922429</td>\n",
              "      <td>0.0</td>\n",
              "      <td>-0.552044</td>\n",
              "    </tr>\n",
              "    <tr>\n",
              "      <th>259335</th>\n",
              "      <td>0.0</td>\n",
              "      <td>0.0</td>\n",
              "      <td>0.0</td>\n",
              "      <td>0.0</td>\n",
              "      <td>0.0</td>\n",
              "      <td>1.0</td>\n",
              "      <td>1.0</td>\n",
              "      <td>-1.296554</td>\n",
              "      <td>-0.897205</td>\n",
              "      <td>-0.234524</td>\n",
              "      <td>0.0</td>\n",
              "      <td>0.712410</td>\n",
              "    </tr>\n",
              "    <tr>\n",
              "      <th>259336</th>\n",
              "      <td>0.0</td>\n",
              "      <td>0.0</td>\n",
              "      <td>0.0</td>\n",
              "      <td>0.0</td>\n",
              "      <td>0.0</td>\n",
              "      <td>1.0</td>\n",
              "      <td>1.0</td>\n",
              "      <td>-0.961563</td>\n",
              "      <td>-2.597461</td>\n",
              "      <td>-0.055070</td>\n",
              "      <td>1.0</td>\n",
              "      <td>0.095603</td>\n",
              "    </tr>\n",
              "    <tr>\n",
              "      <th>259337</th>\n",
              "      <td>0.0</td>\n",
              "      <td>0.0</td>\n",
              "      <td>0.0</td>\n",
              "      <td>0.0</td>\n",
              "      <td>0.0</td>\n",
              "      <td>1.0</td>\n",
              "      <td>1.0</td>\n",
              "      <td>-0.626573</td>\n",
              "      <td>-0.897205</td>\n",
              "      <td>-0.653249</td>\n",
              "      <td>0.0</td>\n",
              "      <td>-1.600616</td>\n",
              "    </tr>\n",
              "  </tbody>\n",
              "</table>\n",
              "<p>259338 rows × 12 columns</p>\n",
              "</div>"
            ],
            "text/plain": [
              "         0    1    2    3    4   ...        7         8         9    10        11\n",
              "0       1.0  0.0  0.0  0.0  0.0  ... -2.636517 -2.897507 -0.772884  0.0 -1.477255\n",
              "1       1.0  0.0  0.0  0.0  0.0  ... -0.626573  0.102945 -0.653249  1.0  0.650729\n",
              "2       1.0  0.0  0.0  0.0  0.0  ... -1.966535 -1.897356  0.004748  0.0  2.131066\n",
              "3       1.0  0.0  0.0  0.0  0.0  ...  2.723334  4.103548 -0.772884  0.0 -0.490364\n",
              "4       1.0  0.0  0.0  0.0  0.0  ...  0.378400  0.102945 -0.234524  0.0  3.117958\n",
              "...     ...  ...  ...  ...  ...  ...       ...       ...       ...  ...       ...\n",
              "259333  0.0  0.0  0.0  0.0  0.0  ... -0.224584 -0.897205  0.333746  1.0  0.095603\n",
              "259334  0.0  0.0  0.0  0.0  0.0  ... -0.626573 -0.897205 -0.922429  0.0 -0.552044\n",
              "259335  0.0  0.0  0.0  0.0  0.0  ... -1.296554 -0.897205 -0.234524  0.0  0.712410\n",
              "259336  0.0  0.0  0.0  0.0  0.0  ... -0.961563 -2.597461 -0.055070  1.0  0.095603\n",
              "259337  0.0  0.0  0.0  0.0  0.0  ... -0.626573 -0.897205 -0.653249  0.0 -1.600616\n",
              "\n",
              "[259338 rows x 12 columns]"
            ]
          },
          "metadata": {
            "tags": []
          },
          "execution_count": 207
        }
      ]
    },
    {
      "cell_type": "code",
      "metadata": {
        "colab": {
          "base_uri": "https://localhost:8080/",
          "height": 402
        },
        "id": "nYJmduhXzymt",
        "outputId": "48fa0910-c9bd-477a-b4d9-a9826a13555a"
      },
      "source": [
        "df_one.columns=['age2','age3','age4','age5','age6','age7','SEX','SBP','DBP','FBS','DIS','BMI']\n",
        "df_one"
      ],
      "execution_count": 208,
      "outputs": [
        {
          "output_type": "execute_result",
          "data": {
            "text/html": [
              "<div>\n",
              "<style scoped>\n",
              "    .dataframe tbody tr th:only-of-type {\n",
              "        vertical-align: middle;\n",
              "    }\n",
              "\n",
              "    .dataframe tbody tr th {\n",
              "        vertical-align: top;\n",
              "    }\n",
              "\n",
              "    .dataframe thead th {\n",
              "        text-align: right;\n",
              "    }\n",
              "</style>\n",
              "<table border=\"1\" class=\"dataframe\">\n",
              "  <thead>\n",
              "    <tr style=\"text-align: right;\">\n",
              "      <th></th>\n",
              "      <th>age2</th>\n",
              "      <th>age3</th>\n",
              "      <th>age4</th>\n",
              "      <th>age5</th>\n",
              "      <th>age6</th>\n",
              "      <th>age7</th>\n",
              "      <th>SEX</th>\n",
              "      <th>SBP</th>\n",
              "      <th>DBP</th>\n",
              "      <th>FBS</th>\n",
              "      <th>DIS</th>\n",
              "      <th>BMI</th>\n",
              "    </tr>\n",
              "  </thead>\n",
              "  <tbody>\n",
              "    <tr>\n",
              "      <th>0</th>\n",
              "      <td>1.0</td>\n",
              "      <td>0.0</td>\n",
              "      <td>0.0</td>\n",
              "      <td>0.0</td>\n",
              "      <td>0.0</td>\n",
              "      <td>0.0</td>\n",
              "      <td>0.0</td>\n",
              "      <td>-2.636517</td>\n",
              "      <td>-2.897507</td>\n",
              "      <td>-0.772884</td>\n",
              "      <td>0.0</td>\n",
              "      <td>-1.477255</td>\n",
              "    </tr>\n",
              "    <tr>\n",
              "      <th>1</th>\n",
              "      <td>1.0</td>\n",
              "      <td>0.0</td>\n",
              "      <td>0.0</td>\n",
              "      <td>0.0</td>\n",
              "      <td>0.0</td>\n",
              "      <td>0.0</td>\n",
              "      <td>0.0</td>\n",
              "      <td>-0.626573</td>\n",
              "      <td>0.102945</td>\n",
              "      <td>-0.653249</td>\n",
              "      <td>1.0</td>\n",
              "      <td>0.650729</td>\n",
              "    </tr>\n",
              "    <tr>\n",
              "      <th>2</th>\n",
              "      <td>1.0</td>\n",
              "      <td>0.0</td>\n",
              "      <td>0.0</td>\n",
              "      <td>0.0</td>\n",
              "      <td>0.0</td>\n",
              "      <td>0.0</td>\n",
              "      <td>0.0</td>\n",
              "      <td>-1.966535</td>\n",
              "      <td>-1.897356</td>\n",
              "      <td>0.004748</td>\n",
              "      <td>0.0</td>\n",
              "      <td>2.131066</td>\n",
              "    </tr>\n",
              "    <tr>\n",
              "      <th>3</th>\n",
              "      <td>1.0</td>\n",
              "      <td>0.0</td>\n",
              "      <td>0.0</td>\n",
              "      <td>0.0</td>\n",
              "      <td>0.0</td>\n",
              "      <td>0.0</td>\n",
              "      <td>0.0</td>\n",
              "      <td>2.723334</td>\n",
              "      <td>4.103548</td>\n",
              "      <td>-0.772884</td>\n",
              "      <td>0.0</td>\n",
              "      <td>-0.490364</td>\n",
              "    </tr>\n",
              "    <tr>\n",
              "      <th>4</th>\n",
              "      <td>1.0</td>\n",
              "      <td>0.0</td>\n",
              "      <td>0.0</td>\n",
              "      <td>0.0</td>\n",
              "      <td>0.0</td>\n",
              "      <td>0.0</td>\n",
              "      <td>0.0</td>\n",
              "      <td>0.378400</td>\n",
              "      <td>0.102945</td>\n",
              "      <td>-0.234524</td>\n",
              "      <td>0.0</td>\n",
              "      <td>3.117958</td>\n",
              "    </tr>\n",
              "    <tr>\n",
              "      <th>...</th>\n",
              "      <td>...</td>\n",
              "      <td>...</td>\n",
              "      <td>...</td>\n",
              "      <td>...</td>\n",
              "      <td>...</td>\n",
              "      <td>...</td>\n",
              "      <td>...</td>\n",
              "      <td>...</td>\n",
              "      <td>...</td>\n",
              "      <td>...</td>\n",
              "      <td>...</td>\n",
              "      <td>...</td>\n",
              "    </tr>\n",
              "    <tr>\n",
              "      <th>259333</th>\n",
              "      <td>0.0</td>\n",
              "      <td>0.0</td>\n",
              "      <td>0.0</td>\n",
              "      <td>0.0</td>\n",
              "      <td>0.0</td>\n",
              "      <td>1.0</td>\n",
              "      <td>1.0</td>\n",
              "      <td>-0.224584</td>\n",
              "      <td>-0.897205</td>\n",
              "      <td>0.333746</td>\n",
              "      <td>1.0</td>\n",
              "      <td>0.095603</td>\n",
              "    </tr>\n",
              "    <tr>\n",
              "      <th>259334</th>\n",
              "      <td>0.0</td>\n",
              "      <td>0.0</td>\n",
              "      <td>0.0</td>\n",
              "      <td>0.0</td>\n",
              "      <td>0.0</td>\n",
              "      <td>1.0</td>\n",
              "      <td>1.0</td>\n",
              "      <td>-0.626573</td>\n",
              "      <td>-0.897205</td>\n",
              "      <td>-0.922429</td>\n",
              "      <td>0.0</td>\n",
              "      <td>-0.552044</td>\n",
              "    </tr>\n",
              "    <tr>\n",
              "      <th>259335</th>\n",
              "      <td>0.0</td>\n",
              "      <td>0.0</td>\n",
              "      <td>0.0</td>\n",
              "      <td>0.0</td>\n",
              "      <td>0.0</td>\n",
              "      <td>1.0</td>\n",
              "      <td>1.0</td>\n",
              "      <td>-1.296554</td>\n",
              "      <td>-0.897205</td>\n",
              "      <td>-0.234524</td>\n",
              "      <td>0.0</td>\n",
              "      <td>0.712410</td>\n",
              "    </tr>\n",
              "    <tr>\n",
              "      <th>259336</th>\n",
              "      <td>0.0</td>\n",
              "      <td>0.0</td>\n",
              "      <td>0.0</td>\n",
              "      <td>0.0</td>\n",
              "      <td>0.0</td>\n",
              "      <td>1.0</td>\n",
              "      <td>1.0</td>\n",
              "      <td>-0.961563</td>\n",
              "      <td>-2.597461</td>\n",
              "      <td>-0.055070</td>\n",
              "      <td>1.0</td>\n",
              "      <td>0.095603</td>\n",
              "    </tr>\n",
              "    <tr>\n",
              "      <th>259337</th>\n",
              "      <td>0.0</td>\n",
              "      <td>0.0</td>\n",
              "      <td>0.0</td>\n",
              "      <td>0.0</td>\n",
              "      <td>0.0</td>\n",
              "      <td>1.0</td>\n",
              "      <td>1.0</td>\n",
              "      <td>-0.626573</td>\n",
              "      <td>-0.897205</td>\n",
              "      <td>-0.653249</td>\n",
              "      <td>0.0</td>\n",
              "      <td>-1.600616</td>\n",
              "    </tr>\n",
              "  </tbody>\n",
              "</table>\n",
              "<p>259338 rows × 12 columns</p>\n",
              "</div>"
            ],
            "text/plain": [
              "        age2  age3  age4  age5  ...       DBP       FBS  DIS       BMI\n",
              "0        1.0   0.0   0.0   0.0  ... -2.897507 -0.772884  0.0 -1.477255\n",
              "1        1.0   0.0   0.0   0.0  ...  0.102945 -0.653249  1.0  0.650729\n",
              "2        1.0   0.0   0.0   0.0  ... -1.897356  0.004748  0.0  2.131066\n",
              "3        1.0   0.0   0.0   0.0  ...  4.103548 -0.772884  0.0 -0.490364\n",
              "4        1.0   0.0   0.0   0.0  ...  0.102945 -0.234524  0.0  3.117958\n",
              "...      ...   ...   ...   ...  ...       ...       ...  ...       ...\n",
              "259333   0.0   0.0   0.0   0.0  ... -0.897205  0.333746  1.0  0.095603\n",
              "259334   0.0   0.0   0.0   0.0  ... -0.897205 -0.922429  0.0 -0.552044\n",
              "259335   0.0   0.0   0.0   0.0  ... -0.897205 -0.234524  0.0  0.712410\n",
              "259336   0.0   0.0   0.0   0.0  ... -2.597461 -0.055070  1.0  0.095603\n",
              "259337   0.0   0.0   0.0   0.0  ... -0.897205 -0.653249  0.0 -1.600616\n",
              "\n",
              "[259338 rows x 12 columns]"
            ]
          },
          "metadata": {
            "tags": []
          },
          "execution_count": 208
        }
      ]
    },
    {
      "cell_type": "code",
      "metadata": {
        "colab": {
          "base_uri": "https://localhost:8080/",
          "height": 402
        },
        "id": "Xx5Jy5XR0Skh",
        "outputId": "a19fe00e-c962-4bf9-c552-d967f42dd88f"
      },
      "source": [
        "df_one=df_one.drop(['age7'],axis=1)\n",
        "df_one"
      ],
      "execution_count": 209,
      "outputs": [
        {
          "output_type": "execute_result",
          "data": {
            "text/html": [
              "<div>\n",
              "<style scoped>\n",
              "    .dataframe tbody tr th:only-of-type {\n",
              "        vertical-align: middle;\n",
              "    }\n",
              "\n",
              "    .dataframe tbody tr th {\n",
              "        vertical-align: top;\n",
              "    }\n",
              "\n",
              "    .dataframe thead th {\n",
              "        text-align: right;\n",
              "    }\n",
              "</style>\n",
              "<table border=\"1\" class=\"dataframe\">\n",
              "  <thead>\n",
              "    <tr style=\"text-align: right;\">\n",
              "      <th></th>\n",
              "      <th>age2</th>\n",
              "      <th>age3</th>\n",
              "      <th>age4</th>\n",
              "      <th>age5</th>\n",
              "      <th>age6</th>\n",
              "      <th>SEX</th>\n",
              "      <th>SBP</th>\n",
              "      <th>DBP</th>\n",
              "      <th>FBS</th>\n",
              "      <th>DIS</th>\n",
              "      <th>BMI</th>\n",
              "    </tr>\n",
              "  </thead>\n",
              "  <tbody>\n",
              "    <tr>\n",
              "      <th>0</th>\n",
              "      <td>1.0</td>\n",
              "      <td>0.0</td>\n",
              "      <td>0.0</td>\n",
              "      <td>0.0</td>\n",
              "      <td>0.0</td>\n",
              "      <td>0.0</td>\n",
              "      <td>-2.636517</td>\n",
              "      <td>-2.897507</td>\n",
              "      <td>-0.772884</td>\n",
              "      <td>0.0</td>\n",
              "      <td>-1.477255</td>\n",
              "    </tr>\n",
              "    <tr>\n",
              "      <th>1</th>\n",
              "      <td>1.0</td>\n",
              "      <td>0.0</td>\n",
              "      <td>0.0</td>\n",
              "      <td>0.0</td>\n",
              "      <td>0.0</td>\n",
              "      <td>0.0</td>\n",
              "      <td>-0.626573</td>\n",
              "      <td>0.102945</td>\n",
              "      <td>-0.653249</td>\n",
              "      <td>1.0</td>\n",
              "      <td>0.650729</td>\n",
              "    </tr>\n",
              "    <tr>\n",
              "      <th>2</th>\n",
              "      <td>1.0</td>\n",
              "      <td>0.0</td>\n",
              "      <td>0.0</td>\n",
              "      <td>0.0</td>\n",
              "      <td>0.0</td>\n",
              "      <td>0.0</td>\n",
              "      <td>-1.966535</td>\n",
              "      <td>-1.897356</td>\n",
              "      <td>0.004748</td>\n",
              "      <td>0.0</td>\n",
              "      <td>2.131066</td>\n",
              "    </tr>\n",
              "    <tr>\n",
              "      <th>3</th>\n",
              "      <td>1.0</td>\n",
              "      <td>0.0</td>\n",
              "      <td>0.0</td>\n",
              "      <td>0.0</td>\n",
              "      <td>0.0</td>\n",
              "      <td>0.0</td>\n",
              "      <td>2.723334</td>\n",
              "      <td>4.103548</td>\n",
              "      <td>-0.772884</td>\n",
              "      <td>0.0</td>\n",
              "      <td>-0.490364</td>\n",
              "    </tr>\n",
              "    <tr>\n",
              "      <th>4</th>\n",
              "      <td>1.0</td>\n",
              "      <td>0.0</td>\n",
              "      <td>0.0</td>\n",
              "      <td>0.0</td>\n",
              "      <td>0.0</td>\n",
              "      <td>0.0</td>\n",
              "      <td>0.378400</td>\n",
              "      <td>0.102945</td>\n",
              "      <td>-0.234524</td>\n",
              "      <td>0.0</td>\n",
              "      <td>3.117958</td>\n",
              "    </tr>\n",
              "    <tr>\n",
              "      <th>...</th>\n",
              "      <td>...</td>\n",
              "      <td>...</td>\n",
              "      <td>...</td>\n",
              "      <td>...</td>\n",
              "      <td>...</td>\n",
              "      <td>...</td>\n",
              "      <td>...</td>\n",
              "      <td>...</td>\n",
              "      <td>...</td>\n",
              "      <td>...</td>\n",
              "      <td>...</td>\n",
              "    </tr>\n",
              "    <tr>\n",
              "      <th>259333</th>\n",
              "      <td>0.0</td>\n",
              "      <td>0.0</td>\n",
              "      <td>0.0</td>\n",
              "      <td>0.0</td>\n",
              "      <td>0.0</td>\n",
              "      <td>1.0</td>\n",
              "      <td>-0.224584</td>\n",
              "      <td>-0.897205</td>\n",
              "      <td>0.333746</td>\n",
              "      <td>1.0</td>\n",
              "      <td>0.095603</td>\n",
              "    </tr>\n",
              "    <tr>\n",
              "      <th>259334</th>\n",
              "      <td>0.0</td>\n",
              "      <td>0.0</td>\n",
              "      <td>0.0</td>\n",
              "      <td>0.0</td>\n",
              "      <td>0.0</td>\n",
              "      <td>1.0</td>\n",
              "      <td>-0.626573</td>\n",
              "      <td>-0.897205</td>\n",
              "      <td>-0.922429</td>\n",
              "      <td>0.0</td>\n",
              "      <td>-0.552044</td>\n",
              "    </tr>\n",
              "    <tr>\n",
              "      <th>259335</th>\n",
              "      <td>0.0</td>\n",
              "      <td>0.0</td>\n",
              "      <td>0.0</td>\n",
              "      <td>0.0</td>\n",
              "      <td>0.0</td>\n",
              "      <td>1.0</td>\n",
              "      <td>-1.296554</td>\n",
              "      <td>-0.897205</td>\n",
              "      <td>-0.234524</td>\n",
              "      <td>0.0</td>\n",
              "      <td>0.712410</td>\n",
              "    </tr>\n",
              "    <tr>\n",
              "      <th>259336</th>\n",
              "      <td>0.0</td>\n",
              "      <td>0.0</td>\n",
              "      <td>0.0</td>\n",
              "      <td>0.0</td>\n",
              "      <td>0.0</td>\n",
              "      <td>1.0</td>\n",
              "      <td>-0.961563</td>\n",
              "      <td>-2.597461</td>\n",
              "      <td>-0.055070</td>\n",
              "      <td>1.0</td>\n",
              "      <td>0.095603</td>\n",
              "    </tr>\n",
              "    <tr>\n",
              "      <th>259337</th>\n",
              "      <td>0.0</td>\n",
              "      <td>0.0</td>\n",
              "      <td>0.0</td>\n",
              "      <td>0.0</td>\n",
              "      <td>0.0</td>\n",
              "      <td>1.0</td>\n",
              "      <td>-0.626573</td>\n",
              "      <td>-0.897205</td>\n",
              "      <td>-0.653249</td>\n",
              "      <td>0.0</td>\n",
              "      <td>-1.600616</td>\n",
              "    </tr>\n",
              "  </tbody>\n",
              "</table>\n",
              "<p>259338 rows × 11 columns</p>\n",
              "</div>"
            ],
            "text/plain": [
              "        age2  age3  age4  age5  ...       DBP       FBS  DIS       BMI\n",
              "0        1.0   0.0   0.0   0.0  ... -2.897507 -0.772884  0.0 -1.477255\n",
              "1        1.0   0.0   0.0   0.0  ...  0.102945 -0.653249  1.0  0.650729\n",
              "2        1.0   0.0   0.0   0.0  ... -1.897356  0.004748  0.0  2.131066\n",
              "3        1.0   0.0   0.0   0.0  ...  4.103548 -0.772884  0.0 -0.490364\n",
              "4        1.0   0.0   0.0   0.0  ...  0.102945 -0.234524  0.0  3.117958\n",
              "...      ...   ...   ...   ...  ...       ...       ...  ...       ...\n",
              "259333   0.0   0.0   0.0   0.0  ... -0.897205  0.333746  1.0  0.095603\n",
              "259334   0.0   0.0   0.0   0.0  ... -0.897205 -0.922429  0.0 -0.552044\n",
              "259335   0.0   0.0   0.0   0.0  ... -0.897205 -0.234524  0.0  0.712410\n",
              "259336   0.0   0.0   0.0   0.0  ... -2.597461 -0.055070  1.0  0.095603\n",
              "259337   0.0   0.0   0.0   0.0  ... -0.897205 -0.653249  0.0 -1.600616\n",
              "\n",
              "[259338 rows x 11 columns]"
            ]
          },
          "metadata": {
            "tags": []
          },
          "execution_count": 209
        }
      ]
    },
    {
      "cell_type": "code",
      "metadata": {
        "colab": {
          "base_uri": "https://localhost:8080/",
          "height": 402
        },
        "id": "jfGNJRl70Xm9",
        "outputId": "1d168c00-a551-41cb-f82d-012f0591f8d7"
      },
      "source": [
        "df_x=df_one.drop(['DIS'],axis=1)\n",
        "df_x['intercept']=1\n",
        "df_x"
      ],
      "execution_count": 210,
      "outputs": [
        {
          "output_type": "execute_result",
          "data": {
            "text/html": [
              "<div>\n",
              "<style scoped>\n",
              "    .dataframe tbody tr th:only-of-type {\n",
              "        vertical-align: middle;\n",
              "    }\n",
              "\n",
              "    .dataframe tbody tr th {\n",
              "        vertical-align: top;\n",
              "    }\n",
              "\n",
              "    .dataframe thead th {\n",
              "        text-align: right;\n",
              "    }\n",
              "</style>\n",
              "<table border=\"1\" class=\"dataframe\">\n",
              "  <thead>\n",
              "    <tr style=\"text-align: right;\">\n",
              "      <th></th>\n",
              "      <th>age2</th>\n",
              "      <th>age3</th>\n",
              "      <th>age4</th>\n",
              "      <th>age5</th>\n",
              "      <th>age6</th>\n",
              "      <th>SEX</th>\n",
              "      <th>SBP</th>\n",
              "      <th>DBP</th>\n",
              "      <th>FBS</th>\n",
              "      <th>BMI</th>\n",
              "      <th>intercept</th>\n",
              "    </tr>\n",
              "  </thead>\n",
              "  <tbody>\n",
              "    <tr>\n",
              "      <th>0</th>\n",
              "      <td>1.0</td>\n",
              "      <td>0.0</td>\n",
              "      <td>0.0</td>\n",
              "      <td>0.0</td>\n",
              "      <td>0.0</td>\n",
              "      <td>0.0</td>\n",
              "      <td>-2.636517</td>\n",
              "      <td>-2.897507</td>\n",
              "      <td>-0.772884</td>\n",
              "      <td>-1.477255</td>\n",
              "      <td>1</td>\n",
              "    </tr>\n",
              "    <tr>\n",
              "      <th>1</th>\n",
              "      <td>1.0</td>\n",
              "      <td>0.0</td>\n",
              "      <td>0.0</td>\n",
              "      <td>0.0</td>\n",
              "      <td>0.0</td>\n",
              "      <td>0.0</td>\n",
              "      <td>-0.626573</td>\n",
              "      <td>0.102945</td>\n",
              "      <td>-0.653249</td>\n",
              "      <td>0.650729</td>\n",
              "      <td>1</td>\n",
              "    </tr>\n",
              "    <tr>\n",
              "      <th>2</th>\n",
              "      <td>1.0</td>\n",
              "      <td>0.0</td>\n",
              "      <td>0.0</td>\n",
              "      <td>0.0</td>\n",
              "      <td>0.0</td>\n",
              "      <td>0.0</td>\n",
              "      <td>-1.966535</td>\n",
              "      <td>-1.897356</td>\n",
              "      <td>0.004748</td>\n",
              "      <td>2.131066</td>\n",
              "      <td>1</td>\n",
              "    </tr>\n",
              "    <tr>\n",
              "      <th>3</th>\n",
              "      <td>1.0</td>\n",
              "      <td>0.0</td>\n",
              "      <td>0.0</td>\n",
              "      <td>0.0</td>\n",
              "      <td>0.0</td>\n",
              "      <td>0.0</td>\n",
              "      <td>2.723334</td>\n",
              "      <td>4.103548</td>\n",
              "      <td>-0.772884</td>\n",
              "      <td>-0.490364</td>\n",
              "      <td>1</td>\n",
              "    </tr>\n",
              "    <tr>\n",
              "      <th>4</th>\n",
              "      <td>1.0</td>\n",
              "      <td>0.0</td>\n",
              "      <td>0.0</td>\n",
              "      <td>0.0</td>\n",
              "      <td>0.0</td>\n",
              "      <td>0.0</td>\n",
              "      <td>0.378400</td>\n",
              "      <td>0.102945</td>\n",
              "      <td>-0.234524</td>\n",
              "      <td>3.117958</td>\n",
              "      <td>1</td>\n",
              "    </tr>\n",
              "    <tr>\n",
              "      <th>...</th>\n",
              "      <td>...</td>\n",
              "      <td>...</td>\n",
              "      <td>...</td>\n",
              "      <td>...</td>\n",
              "      <td>...</td>\n",
              "      <td>...</td>\n",
              "      <td>...</td>\n",
              "      <td>...</td>\n",
              "      <td>...</td>\n",
              "      <td>...</td>\n",
              "      <td>...</td>\n",
              "    </tr>\n",
              "    <tr>\n",
              "      <th>259333</th>\n",
              "      <td>0.0</td>\n",
              "      <td>0.0</td>\n",
              "      <td>0.0</td>\n",
              "      <td>0.0</td>\n",
              "      <td>0.0</td>\n",
              "      <td>1.0</td>\n",
              "      <td>-0.224584</td>\n",
              "      <td>-0.897205</td>\n",
              "      <td>0.333746</td>\n",
              "      <td>0.095603</td>\n",
              "      <td>1</td>\n",
              "    </tr>\n",
              "    <tr>\n",
              "      <th>259334</th>\n",
              "      <td>0.0</td>\n",
              "      <td>0.0</td>\n",
              "      <td>0.0</td>\n",
              "      <td>0.0</td>\n",
              "      <td>0.0</td>\n",
              "      <td>1.0</td>\n",
              "      <td>-0.626573</td>\n",
              "      <td>-0.897205</td>\n",
              "      <td>-0.922429</td>\n",
              "      <td>-0.552044</td>\n",
              "      <td>1</td>\n",
              "    </tr>\n",
              "    <tr>\n",
              "      <th>259335</th>\n",
              "      <td>0.0</td>\n",
              "      <td>0.0</td>\n",
              "      <td>0.0</td>\n",
              "      <td>0.0</td>\n",
              "      <td>0.0</td>\n",
              "      <td>1.0</td>\n",
              "      <td>-1.296554</td>\n",
              "      <td>-0.897205</td>\n",
              "      <td>-0.234524</td>\n",
              "      <td>0.712410</td>\n",
              "      <td>1</td>\n",
              "    </tr>\n",
              "    <tr>\n",
              "      <th>259336</th>\n",
              "      <td>0.0</td>\n",
              "      <td>0.0</td>\n",
              "      <td>0.0</td>\n",
              "      <td>0.0</td>\n",
              "      <td>0.0</td>\n",
              "      <td>1.0</td>\n",
              "      <td>-0.961563</td>\n",
              "      <td>-2.597461</td>\n",
              "      <td>-0.055070</td>\n",
              "      <td>0.095603</td>\n",
              "      <td>1</td>\n",
              "    </tr>\n",
              "    <tr>\n",
              "      <th>259337</th>\n",
              "      <td>0.0</td>\n",
              "      <td>0.0</td>\n",
              "      <td>0.0</td>\n",
              "      <td>0.0</td>\n",
              "      <td>0.0</td>\n",
              "      <td>1.0</td>\n",
              "      <td>-0.626573</td>\n",
              "      <td>-0.897205</td>\n",
              "      <td>-0.653249</td>\n",
              "      <td>-1.600616</td>\n",
              "      <td>1</td>\n",
              "    </tr>\n",
              "  </tbody>\n",
              "</table>\n",
              "<p>259338 rows × 11 columns</p>\n",
              "</div>"
            ],
            "text/plain": [
              "        age2  age3  age4  age5  ...       DBP       FBS       BMI  intercept\n",
              "0        1.0   0.0   0.0   0.0  ... -2.897507 -0.772884 -1.477255          1\n",
              "1        1.0   0.0   0.0   0.0  ...  0.102945 -0.653249  0.650729          1\n",
              "2        1.0   0.0   0.0   0.0  ... -1.897356  0.004748  2.131066          1\n",
              "3        1.0   0.0   0.0   0.0  ...  4.103548 -0.772884 -0.490364          1\n",
              "4        1.0   0.0   0.0   0.0  ...  0.102945 -0.234524  3.117958          1\n",
              "...      ...   ...   ...   ...  ...       ...       ...       ...        ...\n",
              "259333   0.0   0.0   0.0   0.0  ... -0.897205  0.333746  0.095603          1\n",
              "259334   0.0   0.0   0.0   0.0  ... -0.897205 -0.922429 -0.552044          1\n",
              "259335   0.0   0.0   0.0   0.0  ... -0.897205 -0.234524  0.712410          1\n",
              "259336   0.0   0.0   0.0   0.0  ... -2.597461 -0.055070  0.095603          1\n",
              "259337   0.0   0.0   0.0   0.0  ... -0.897205 -0.653249 -1.600616          1\n",
              "\n",
              "[259338 rows x 11 columns]"
            ]
          },
          "metadata": {
            "tags": []
          },
          "execution_count": 210
        }
      ]
    },
    {
      "cell_type": "code",
      "metadata": {
        "colab": {
          "base_uri": "https://localhost:8080/"
        },
        "id": "6twuPqj308XN",
        "outputId": "917b1291-7fdf-4517-9bf8-9eb6f3b4960b"
      },
      "source": [
        "df_y=df_one['DIS']\n",
        "df_y"
      ],
      "execution_count": 211,
      "outputs": [
        {
          "output_type": "execute_result",
          "data": {
            "text/plain": [
              "0         0.0\n",
              "1         1.0\n",
              "2         0.0\n",
              "3         0.0\n",
              "4         0.0\n",
              "         ... \n",
              "259333    1.0\n",
              "259334    0.0\n",
              "259335    0.0\n",
              "259336    1.0\n",
              "259337    0.0\n",
              "Name: DIS, Length: 259338, dtype: float64"
            ]
          },
          "metadata": {
            "tags": []
          },
          "execution_count": 211
        }
      ]
    },
    {
      "cell_type": "code",
      "metadata": {
        "colab": {
          "base_uri": "https://localhost:8080/"
        },
        "id": "DKumamwH1GzE",
        "outputId": "ae22f700-42b8-47fa-e2e7-fb50994d70a5"
      },
      "source": [
        "x_shu=sklearn.utils.shuffle(df_x, random_state=2016251029)\n",
        "y_shu=sklearn.utils.shuffle(df_y, random_state=2016251029)\n",
        "\n",
        "data_x,data_y=RandomUnderSampler(random_state=2016251029).fit_resample(x_shu,y_shu)"
      ],
      "execution_count": 212,
      "outputs": [
        {
          "output_type": "stream",
          "text": [
            "/usr/local/lib/python3.7/dist-packages/sklearn/utils/deprecation.py:87: FutureWarning: Function safe_indexing is deprecated; safe_indexing is deprecated in version 0.22 and will be removed in version 0.24.\n",
            "  warnings.warn(msg, category=FutureWarning)\n"
          ],
          "name": "stderr"
        }
      ]
    },
    {
      "cell_type": "code",
      "metadata": {
        "colab": {
          "base_uri": "https://localhost:8080/",
          "height": 402
        },
        "id": "WxrpKtRQ2KBr",
        "outputId": "74404319-e87f-424c-c08c-3501d3201890"
      },
      "source": [
        "data_x=pd.DataFrame(data_x)\n",
        "data_x.columns=df_x.columns\n",
        "data_x"
      ],
      "execution_count": 213,
      "outputs": [
        {
          "output_type": "execute_result",
          "data": {
            "text/html": [
              "<div>\n",
              "<style scoped>\n",
              "    .dataframe tbody tr th:only-of-type {\n",
              "        vertical-align: middle;\n",
              "    }\n",
              "\n",
              "    .dataframe tbody tr th {\n",
              "        vertical-align: top;\n",
              "    }\n",
              "\n",
              "    .dataframe thead th {\n",
              "        text-align: right;\n",
              "    }\n",
              "</style>\n",
              "<table border=\"1\" class=\"dataframe\">\n",
              "  <thead>\n",
              "    <tr style=\"text-align: right;\">\n",
              "      <th></th>\n",
              "      <th>age2</th>\n",
              "      <th>age3</th>\n",
              "      <th>age4</th>\n",
              "      <th>age5</th>\n",
              "      <th>age6</th>\n",
              "      <th>SEX</th>\n",
              "      <th>SBP</th>\n",
              "      <th>DBP</th>\n",
              "      <th>FBS</th>\n",
              "      <th>BMI</th>\n",
              "      <th>intercept</th>\n",
              "    </tr>\n",
              "  </thead>\n",
              "  <tbody>\n",
              "    <tr>\n",
              "      <th>0</th>\n",
              "      <td>0.0</td>\n",
              "      <td>0.0</td>\n",
              "      <td>0.0</td>\n",
              "      <td>0.0</td>\n",
              "      <td>0.0</td>\n",
              "      <td>1.0</td>\n",
              "      <td>-0.291582</td>\n",
              "      <td>-1.297266</td>\n",
              "      <td>-0.204615</td>\n",
              "      <td>-0.120279</td>\n",
              "      <td>1.0</td>\n",
              "    </tr>\n",
              "    <tr>\n",
              "      <th>1</th>\n",
              "      <td>0.0</td>\n",
              "      <td>0.0</td>\n",
              "      <td>0.0</td>\n",
              "      <td>1.0</td>\n",
              "      <td>0.0</td>\n",
              "      <td>1.0</td>\n",
              "      <td>-0.693571</td>\n",
              "      <td>-0.197100</td>\n",
              "      <td>-0.174706</td>\n",
              "      <td>-1.230532</td>\n",
              "      <td>1.0</td>\n",
              "    </tr>\n",
              "    <tr>\n",
              "      <th>2</th>\n",
              "      <td>0.0</td>\n",
              "      <td>0.0</td>\n",
              "      <td>1.0</td>\n",
              "      <td>0.0</td>\n",
              "      <td>0.0</td>\n",
              "      <td>0.0</td>\n",
              "      <td>-1.296554</td>\n",
              "      <td>0.102945</td>\n",
              "      <td>-0.294341</td>\n",
              "      <td>1.144175</td>\n",
              "      <td>1.0</td>\n",
              "    </tr>\n",
              "    <tr>\n",
              "      <th>3</th>\n",
              "      <td>0.0</td>\n",
              "      <td>0.0</td>\n",
              "      <td>0.0</td>\n",
              "      <td>0.0</td>\n",
              "      <td>0.0</td>\n",
              "      <td>0.0</td>\n",
              "      <td>1.718362</td>\n",
              "      <td>1.103096</td>\n",
              "      <td>-0.264432</td>\n",
              "      <td>-0.212800</td>\n",
              "      <td>1.0</td>\n",
              "    </tr>\n",
              "    <tr>\n",
              "      <th>4</th>\n",
              "      <td>0.0</td>\n",
              "      <td>0.0</td>\n",
              "      <td>0.0</td>\n",
              "      <td>0.0</td>\n",
              "      <td>1.0</td>\n",
              "      <td>1.0</td>\n",
              "      <td>-0.626573</td>\n",
              "      <td>-0.897205</td>\n",
              "      <td>-0.324250</td>\n",
              "      <td>0.126443</td>\n",
              "      <td>1.0</td>\n",
              "    </tr>\n",
              "    <tr>\n",
              "      <th>...</th>\n",
              "      <td>...</td>\n",
              "      <td>...</td>\n",
              "      <td>...</td>\n",
              "      <td>...</td>\n",
              "      <td>...</td>\n",
              "      <td>...</td>\n",
              "      <td>...</td>\n",
              "      <td>...</td>\n",
              "      <td>...</td>\n",
              "      <td>...</td>\n",
              "      <td>...</td>\n",
              "    </tr>\n",
              "    <tr>\n",
              "      <th>193019</th>\n",
              "      <td>0.0</td>\n",
              "      <td>0.0</td>\n",
              "      <td>0.0</td>\n",
              "      <td>0.0</td>\n",
              "      <td>1.0</td>\n",
              "      <td>0.0</td>\n",
              "      <td>0.043409</td>\n",
              "      <td>0.102945</td>\n",
              "      <td>-0.653249</td>\n",
              "      <td>0.681570</td>\n",
              "      <td>1.0</td>\n",
              "    </tr>\n",
              "    <tr>\n",
              "      <th>193020</th>\n",
              "      <td>0.0</td>\n",
              "      <td>0.0</td>\n",
              "      <td>1.0</td>\n",
              "      <td>0.0</td>\n",
              "      <td>0.0</td>\n",
              "      <td>1.0</td>\n",
              "      <td>-0.224584</td>\n",
              "      <td>0.302975</td>\n",
              "      <td>0.333746</td>\n",
              "      <td>-0.274481</td>\n",
              "      <td>1.0</td>\n",
              "    </tr>\n",
              "    <tr>\n",
              "      <th>193021</th>\n",
              "      <td>0.0</td>\n",
              "      <td>0.0</td>\n",
              "      <td>0.0</td>\n",
              "      <td>0.0</td>\n",
              "      <td>1.0</td>\n",
              "      <td>0.0</td>\n",
              "      <td>0.110407</td>\n",
              "      <td>-0.497145</td>\n",
              "      <td>-0.922429</td>\n",
              "      <td>0.496528</td>\n",
              "      <td>1.0</td>\n",
              "    </tr>\n",
              "    <tr>\n",
              "      <th>193022</th>\n",
              "      <td>0.0</td>\n",
              "      <td>0.0</td>\n",
              "      <td>0.0</td>\n",
              "      <td>0.0</td>\n",
              "      <td>1.0</td>\n",
              "      <td>0.0</td>\n",
              "      <td>2.053353</td>\n",
              "      <td>3.103397</td>\n",
              "      <td>1.231014</td>\n",
              "      <td>1.390898</td>\n",
              "      <td>1.0</td>\n",
              "    </tr>\n",
              "    <tr>\n",
              "      <th>193023</th>\n",
              "      <td>0.0</td>\n",
              "      <td>0.0</td>\n",
              "      <td>0.0</td>\n",
              "      <td>1.0</td>\n",
              "      <td>0.0</td>\n",
              "      <td>0.0</td>\n",
              "      <td>0.512396</td>\n",
              "      <td>0.002930</td>\n",
              "      <td>0.632836</td>\n",
              "      <td>0.959133</td>\n",
              "      <td>1.0</td>\n",
              "    </tr>\n",
              "  </tbody>\n",
              "</table>\n",
              "<p>193024 rows × 11 columns</p>\n",
              "</div>"
            ],
            "text/plain": [
              "        age2  age3  age4  age5  ...       DBP       FBS       BMI  intercept\n",
              "0        0.0   0.0   0.0   0.0  ... -1.297266 -0.204615 -0.120279        1.0\n",
              "1        0.0   0.0   0.0   1.0  ... -0.197100 -0.174706 -1.230532        1.0\n",
              "2        0.0   0.0   1.0   0.0  ...  0.102945 -0.294341  1.144175        1.0\n",
              "3        0.0   0.0   0.0   0.0  ...  1.103096 -0.264432 -0.212800        1.0\n",
              "4        0.0   0.0   0.0   0.0  ... -0.897205 -0.324250  0.126443        1.0\n",
              "...      ...   ...   ...   ...  ...       ...       ...       ...        ...\n",
              "193019   0.0   0.0   0.0   0.0  ...  0.102945 -0.653249  0.681570        1.0\n",
              "193020   0.0   0.0   1.0   0.0  ...  0.302975  0.333746 -0.274481        1.0\n",
              "193021   0.0   0.0   0.0   0.0  ... -0.497145 -0.922429  0.496528        1.0\n",
              "193022   0.0   0.0   0.0   0.0  ...  3.103397  1.231014  1.390898        1.0\n",
              "193023   0.0   0.0   0.0   1.0  ...  0.002930  0.632836  0.959133        1.0\n",
              "\n",
              "[193024 rows x 11 columns]"
            ]
          },
          "metadata": {
            "tags": []
          },
          "execution_count": 213
        }
      ]
    },
    {
      "cell_type": "code",
      "metadata": {
        "colab": {
          "base_uri": "https://localhost:8080/",
          "height": 402
        },
        "id": "3JWkbPXX2Kwt",
        "outputId": "3916d119-045c-4b7e-ee8e-96f7080bb95c"
      },
      "source": [
        "data_y=pd.DataFrame(data_y)\n",
        "data_y.columns=['DIS']\n",
        "data_y"
      ],
      "execution_count": 214,
      "outputs": [
        {
          "output_type": "execute_result",
          "data": {
            "text/html": [
              "<div>\n",
              "<style scoped>\n",
              "    .dataframe tbody tr th:only-of-type {\n",
              "        vertical-align: middle;\n",
              "    }\n",
              "\n",
              "    .dataframe tbody tr th {\n",
              "        vertical-align: top;\n",
              "    }\n",
              "\n",
              "    .dataframe thead th {\n",
              "        text-align: right;\n",
              "    }\n",
              "</style>\n",
              "<table border=\"1\" class=\"dataframe\">\n",
              "  <thead>\n",
              "    <tr style=\"text-align: right;\">\n",
              "      <th></th>\n",
              "      <th>DIS</th>\n",
              "    </tr>\n",
              "  </thead>\n",
              "  <tbody>\n",
              "    <tr>\n",
              "      <th>0</th>\n",
              "      <td>0.0</td>\n",
              "    </tr>\n",
              "    <tr>\n",
              "      <th>1</th>\n",
              "      <td>0.0</td>\n",
              "    </tr>\n",
              "    <tr>\n",
              "      <th>2</th>\n",
              "      <td>0.0</td>\n",
              "    </tr>\n",
              "    <tr>\n",
              "      <th>3</th>\n",
              "      <td>0.0</td>\n",
              "    </tr>\n",
              "    <tr>\n",
              "      <th>4</th>\n",
              "      <td>0.0</td>\n",
              "    </tr>\n",
              "    <tr>\n",
              "      <th>...</th>\n",
              "      <td>...</td>\n",
              "    </tr>\n",
              "    <tr>\n",
              "      <th>193019</th>\n",
              "      <td>1.0</td>\n",
              "    </tr>\n",
              "    <tr>\n",
              "      <th>193020</th>\n",
              "      <td>1.0</td>\n",
              "    </tr>\n",
              "    <tr>\n",
              "      <th>193021</th>\n",
              "      <td>1.0</td>\n",
              "    </tr>\n",
              "    <tr>\n",
              "      <th>193022</th>\n",
              "      <td>1.0</td>\n",
              "    </tr>\n",
              "    <tr>\n",
              "      <th>193023</th>\n",
              "      <td>1.0</td>\n",
              "    </tr>\n",
              "  </tbody>\n",
              "</table>\n",
              "<p>193024 rows × 1 columns</p>\n",
              "</div>"
            ],
            "text/plain": [
              "        DIS\n",
              "0       0.0\n",
              "1       0.0\n",
              "2       0.0\n",
              "3       0.0\n",
              "4       0.0\n",
              "...     ...\n",
              "193019  1.0\n",
              "193020  1.0\n",
              "193021  1.0\n",
              "193022  1.0\n",
              "193023  1.0\n",
              "\n",
              "[193024 rows x 1 columns]"
            ]
          },
          "metadata": {
            "tags": []
          },
          "execution_count": 214
        }
      ]
    },
    {
      "cell_type": "code",
      "metadata": {
        "colab": {
          "base_uri": "https://localhost:8080/"
        },
        "id": "E2VTPFxO2LQf",
        "outputId": "550f6784-3d97-42f0-d78f-3cf24d259f51"
      },
      "source": [
        "data_y.value_counts()"
      ],
      "execution_count": 215,
      "outputs": [
        {
          "output_type": "execute_result",
          "data": {
            "text/plain": [
              "DIS\n",
              "1.0    96512\n",
              "0.0    96512\n",
              "dtype: int64"
            ]
          },
          "metadata": {
            "tags": []
          },
          "execution_count": 215
        }
      ]
    },
    {
      "cell_type": "code",
      "metadata": {
        "id": "iNOS-Wmq2PoE"
      },
      "source": [
        "train_x, test_x, train_y, test_y = train_test_split(data_x,data_y, test_size=0.3,random_state=2016251029)"
      ],
      "execution_count": 216,
      "outputs": []
    },
    {
      "cell_type": "code",
      "metadata": {
        "colab": {
          "base_uri": "https://localhost:8080/"
        },
        "id": "KdaE40KL3w75",
        "outputId": "23250dbb-5bcb-4ed3-a173-b5651184f71e"
      },
      "source": [
        "print(len(train_x))\n",
        "print(len(train_y))\n",
        "print(len(test_x))\n",
        "print(len(test_y))"
      ],
      "execution_count": 217,
      "outputs": [
        {
          "output_type": "stream",
          "text": [
            "135116\n",
            "135116\n",
            "57908\n",
            "57908\n"
          ],
          "name": "stdout"
        }
      ]
    },
    {
      "cell_type": "markdown",
      "metadata": {
        "id": "fro9TYmNWwjy"
      },
      "source": [
        "# Help\n",
        "채점기준에 최대우도추정량에 대한 의미를 서술했는지? 가 있었습니다.(Maximum likelihood) 그래서 이것에 대한 설명이나 의미를 간략하게 정리해서 여기에 적어주시면 감사하겠습니다.\n"
      ]
    },
    {
      "cell_type": "code",
      "metadata": {
        "colab": {
          "base_uri": "https://localhost:8080/",
          "height": 470
        },
        "id": "GJ-9GDN132vm",
        "outputId": "6227d7fe-bcea-47d5-e896-69cd66d981d8"
      },
      "source": [
        "logit=sm.Logit(train_y,train_x).fit()\n",
        "logit.summary()"
      ],
      "execution_count": 218,
      "outputs": [
        {
          "output_type": "stream",
          "text": [
            "Optimization terminated successfully.\n",
            "         Current function value: 0.531789\n",
            "         Iterations 7\n"
          ],
          "name": "stdout"
        },
        {
          "output_type": "execute_result",
          "data": {
            "text/html": [
              "<table class=\"simpletable\">\n",
              "<caption>Logit Regression Results</caption>\n",
              "<tr>\n",
              "  <th>Dep. Variable:</th>          <td>DIS</td>       <th>  No. Observations:  </th>  <td>135116</td> \n",
              "</tr>\n",
              "<tr>\n",
              "  <th>Model:</th>                 <td>Logit</td>      <th>  Df Residuals:      </th>  <td>135105</td> \n",
              "</tr>\n",
              "<tr>\n",
              "  <th>Method:</th>                 <td>MLE</td>       <th>  Df Model:          </th>  <td>    10</td> \n",
              "</tr>\n",
              "<tr>\n",
              "  <th>Date:</th>            <td>Fri, 23 Apr 2021</td> <th>  Pseudo R-squ.:     </th>  <td>0.2328</td> \n",
              "</tr>\n",
              "<tr>\n",
              "  <th>Time:</th>                <td>08:52:00</td>     <th>  Log-Likelihood:    </th> <td> -71853.</td>\n",
              "</tr>\n",
              "<tr>\n",
              "  <th>converged:</th>             <td>True</td>       <th>  LL-Null:           </th> <td> -93655.</td>\n",
              "</tr>\n",
              "<tr>\n",
              "  <th>Covariance Type:</th>     <td>nonrobust</td>    <th>  LLR p-value:       </th>  <td> 0.000</td> \n",
              "</tr>\n",
              "</table>\n",
              "<table class=\"simpletable\">\n",
              "<tr>\n",
              "      <td></td>         <th>coef</th>     <th>std err</th>      <th>z</th>      <th>P>|z|</th>  <th>[0.025</th>    <th>0.975]</th>  \n",
              "</tr>\n",
              "<tr>\n",
              "  <th>age2</th>      <td>    0.7196</td> <td>    0.103</td> <td>    6.983</td> <td> 0.000</td> <td>    0.518</td> <td>    0.922</td>\n",
              "</tr>\n",
              "<tr>\n",
              "  <th>age3</th>      <td>   -0.0954</td> <td>    0.041</td> <td>   -2.312</td> <td> 0.021</td> <td>   -0.176</td> <td>   -0.015</td>\n",
              "</tr>\n",
              "<tr>\n",
              "  <th>age4</th>      <td>   -0.2831</td> <td>    0.023</td> <td>  -12.134</td> <td> 0.000</td> <td>   -0.329</td> <td>   -0.237</td>\n",
              "</tr>\n",
              "<tr>\n",
              "  <th>age5</th>      <td>   -0.2089</td> <td>    0.018</td> <td>  -11.478</td> <td> 0.000</td> <td>   -0.245</td> <td>   -0.173</td>\n",
              "</tr>\n",
              "<tr>\n",
              "  <th>age6</th>      <td>    0.0034</td> <td>    0.018</td> <td>    0.197</td> <td> 0.844</td> <td>   -0.031</td> <td>    0.038</td>\n",
              "</tr>\n",
              "<tr>\n",
              "  <th>SEX</th>       <td>   -0.0324</td> <td>    0.013</td> <td>   -2.479</td> <td> 0.013</td> <td>   -0.058</td> <td>   -0.007</td>\n",
              "</tr>\n",
              "<tr>\n",
              "  <th>SBP</th>       <td>   -0.1176</td> <td>    0.009</td> <td>  -13.091</td> <td> 0.000</td> <td>   -0.135</td> <td>   -0.100</td>\n",
              "</tr>\n",
              "<tr>\n",
              "  <th>DBP</th>       <td>   -0.2732</td> <td>    0.009</td> <td>  -30.023</td> <td> 0.000</td> <td>   -0.291</td> <td>   -0.255</td>\n",
              "</tr>\n",
              "<tr>\n",
              "  <th>FBS</th>       <td>    1.7638</td> <td>    0.012</td> <td>  146.667</td> <td> 0.000</td> <td>    1.740</td> <td>    1.787</td>\n",
              "</tr>\n",
              "<tr>\n",
              "  <th>BMI</th>       <td>   -0.0750</td> <td>    0.007</td> <td>  -11.303</td> <td> 0.000</td> <td>   -0.088</td> <td>   -0.062</td>\n",
              "</tr>\n",
              "<tr>\n",
              "  <th>intercept</th> <td>    0.1625</td> <td>    0.015</td> <td>   10.535</td> <td> 0.000</td> <td>    0.132</td> <td>    0.193</td>\n",
              "</tr>\n",
              "</table>"
            ],
            "text/plain": [
              "<class 'statsmodels.iolib.summary.Summary'>\n",
              "\"\"\"\n",
              "                           Logit Regression Results                           \n",
              "==============================================================================\n",
              "Dep. Variable:                    DIS   No. Observations:               135116\n",
              "Model:                          Logit   Df Residuals:                   135105\n",
              "Method:                           MLE   Df Model:                           10\n",
              "Date:                Fri, 23 Apr 2021   Pseudo R-squ.:                  0.2328\n",
              "Time:                        08:52:00   Log-Likelihood:                -71853.\n",
              "converged:                       True   LL-Null:                       -93655.\n",
              "Covariance Type:            nonrobust   LLR p-value:                     0.000\n",
              "==============================================================================\n",
              "                 coef    std err          z      P>|z|      [0.025      0.975]\n",
              "------------------------------------------------------------------------------\n",
              "age2           0.7196      0.103      6.983      0.000       0.518       0.922\n",
              "age3          -0.0954      0.041     -2.312      0.021      -0.176      -0.015\n",
              "age4          -0.2831      0.023    -12.134      0.000      -0.329      -0.237\n",
              "age5          -0.2089      0.018    -11.478      0.000      -0.245      -0.173\n",
              "age6           0.0034      0.018      0.197      0.844      -0.031       0.038\n",
              "SEX           -0.0324      0.013     -2.479      0.013      -0.058      -0.007\n",
              "SBP           -0.1176      0.009    -13.091      0.000      -0.135      -0.100\n",
              "DBP           -0.2732      0.009    -30.023      0.000      -0.291      -0.255\n",
              "FBS            1.7638      0.012    146.667      0.000       1.740       1.787\n",
              "BMI           -0.0750      0.007    -11.303      0.000      -0.088      -0.062\n",
              "intercept      0.1625      0.015     10.535      0.000       0.132       0.193\n",
              "==============================================================================\n",
              "\"\"\""
            ]
          },
          "metadata": {
            "tags": []
          },
          "execution_count": 218
        }
      ]
    },
    {
      "cell_type": "markdown",
      "metadata": {
        "id": "9ES6BxoNXUBT"
      },
      "source": [
        "# Help 오즈비에 대한 해석\n",
        "\n",
        "이 오즈비는 위의 교차오즈비랑은 살짝 다른 것인데(방법이) 밑에 보이시는 reference를 기준으로 구한 것입니다. 이것도 해석을 적어주시면 감사하겠습니다.(위의 교차오즈비랑 결론이 같을 것입니다.)\n",
        "\n",
        "예시) age2를 보면 2.053511이 나왔는데 이는 곧, reference인 age7(70대)보다 당뇨에 더 취약한 것을 알 수 있다.(2니까 2배 혹은 100%로 해석하시면 됩니다.)\n",
        "\n",
        "위의 교차오즈비와 값이 다른 이유는 모델링 할때 원래 데이터셋에서 7:3으로 분할 했기 때문에 당연히 값이 다를 수 밖에 없습니다. \n",
        "\n",
        "그리고 오즈비가 1이 나온다는건 또이또이 하다는 의미입니다.\n",
        "\n",
        "**주의!!)** 저는 오즈비를 **범주형자료**끼리만 하는것으로 알고 있습니다. 그래서 해석도 age, sex에 대해서만 적어주시면 된다고 생각하는데, 조교님이 설명하실때 그냥 이 오즈비에 대한 해석을 intercept를 제외하고 다 해달라고 하셨더라구요. 제가 잘못 알고 왔던건지, 조교님이 부가설명을 안하신건지는 모르겠습니다. 이것에 대해 들으신 바가 있으신분은 의견주시고, 만약 모르겠다 싶으시면 그냥 범주형자료(AGE, SEX)에 대해서만 해석을 진행해주세요!"
      ]
    },
    {
      "cell_type": "code",
      "metadata": {
        "colab": {
          "base_uri": "https://localhost:8080/"
        },
        "id": "OLljbK8c5fHP",
        "outputId": "0ecc0f71-bfaa-4aa5-ed4b-9247ea1f79e4"
      },
      "source": [
        "# reference age7, male, 당뇨\n",
        "np.exp(logit.params)"
      ],
      "execution_count": 221,
      "outputs": [
        {
          "output_type": "execute_result",
          "data": {
            "text/plain": [
              "age2         2.053511\n",
              "age3         0.909031\n",
              "age4         0.753424\n",
              "age5         0.811483\n",
              "age6         1.003454\n",
              "SEX          0.968127\n",
              "SBP          0.889048\n",
              "DBP          0.760963\n",
              "FBS          5.834294\n",
              "BMI          0.927702\n",
              "intercept    1.176448\n",
              "dtype: float64"
            ]
          },
          "metadata": {
            "tags": []
          },
          "execution_count": 221
        }
      ]
    },
    {
      "cell_type": "code",
      "metadata": {
        "id": "awlfJ9Gh6gF6"
      },
      "source": [
        "train_p=logit.predict(train_x)\n",
        "test_p=logit.predict(test_x)"
      ],
      "execution_count": 224,
      "outputs": []
    },
    {
      "cell_type": "markdown",
      "metadata": {
        "id": "pxwIJD8tcNHP"
      },
      "source": [
        "# Help\n",
        "\n",
        "채점기준에 class에 대한 확률을 명시하라고 되어있습니다.\n",
        "\n",
        "고혈압은 0\n",
        "\n",
        "당뇨는 1이므로,\n",
        "\n",
        "바로 밑에를 예시로 들어서 설명드리자면\n",
        "\n",
        "이 모델이 판단해봤을때 32344번째 환자는 1일 확률이(당뇨일 확률이) 0.856278(약 85.6%)라는 것을 알 수 있습니다.\n",
        "\n",
        "이렇듯 몇몇개 제시하면서 얘네는 이러한 값이니까 당뇨일 확률이 몇이라고 이 모델은 판단했다. 라고 적어주시면 감사하겠습니다.\n"
      ]
    },
    {
      "cell_type": "code",
      "metadata": {
        "colab": {
          "base_uri": "https://localhost:8080/"
        },
        "id": "qh_oT1P89urp",
        "outputId": "32630a72-1673-439b-c584-f36b13fc8bf7"
      },
      "source": [
        "train_p"
      ],
      "execution_count": 225,
      "outputs": [
        {
          "output_type": "execute_result",
          "data": {
            "text/plain": [
              "32344     0.856278\n",
              "27857     0.329190\n",
              "189706    0.295329\n",
              "99554     0.354151\n",
              "123521    0.189077\n",
              "            ...   \n",
              "103853    0.684315\n",
              "62693     0.395431\n",
              "20943     0.587145\n",
              "96429     0.388853\n",
              "51155     0.125655\n",
              "Length: 135116, dtype: float64"
            ]
          },
          "metadata": {
            "tags": []
          },
          "execution_count": 225
        }
      ]
    },
    {
      "cell_type": "code",
      "metadata": {
        "colab": {
          "base_uri": "https://localhost:8080/"
        },
        "id": "v8-A1E249wCi",
        "outputId": "139e33c4-1ef5-4cfc-825f-621a1de508ab"
      },
      "source": [
        "test_p"
      ],
      "execution_count": 226,
      "outputs": [
        {
          "output_type": "execute_result",
          "data": {
            "text/plain": [
              "76905     0.235800\n",
              "5456      0.332821\n",
              "164122    0.845788\n",
              "167387    0.580269\n",
              "99080     0.706746\n",
              "            ...   \n",
              "86538     0.293713\n",
              "192842    0.184935\n",
              "82016     0.356097\n",
              "164242    0.415142\n",
              "83271     0.373887\n",
              "Length: 57908, dtype: float64"
            ]
          },
          "metadata": {
            "tags": []
          },
          "execution_count": 226
        }
      ]
    },
    {
      "cell_type": "code",
      "metadata": {
        "id": "bOCLyPQyBVP6"
      },
      "source": [
        "def assessment(thresholds):\n",
        "  test_p=pd.DataFrame(logit.predict(test_x))\n",
        "  for val,ind in zip(test_p[0],test_p.index):\n",
        "    if val < thresholds:\n",
        "      test_p[0].loc[ind]=0\n",
        "    else:\n",
        "      test_p[0].loc[ind]=1\n",
        "  recall=recall_score(test_y,test_p)\n",
        "  precision=precision_score(test_y,test_p)\n",
        "  accuracy=accuracy_score(test_y,test_p)\n",
        "  f1=f1_score(test_y,test_p)\n",
        "  roc_auc=roc_auc_score(test_y,test_p)\n",
        "  mat=confusion_matrix(test_y, test_p)\n",
        "  return print('재현율 :',recall), print('정밀도 :',precision), print('정확도 :',accuracy), print('f1스코어 :',f1), print('roc_auc 스코어 :',roc_auc)"
      ],
      "execution_count": 256,
      "outputs": []
    },
    {
      "cell_type": "code",
      "metadata": {
        "id": "ZzZ3KrnLI7ns"
      },
      "source": [
        "def mat(thresholds):\n",
        "  test_p=pd.DataFrame(logit.predict(test_x))\n",
        "  for val,ind in zip(test_p[0],test_p.index):\n",
        "    if val < thresholds:\n",
        "      test_p[0].loc[ind]=0\n",
        "    else:\n",
        "      test_p[0].loc[ind]=1\n",
        "  confusion=confusion_matrix(test_y, test_p)\n",
        "  return confusion"
      ],
      "execution_count": 257,
      "outputs": []
    },
    {
      "cell_type": "code",
      "metadata": {
        "colab": {
          "base_uri": "https://localhost:8080/"
        },
        "id": "V9gj0tCSJF1l",
        "outputId": "4ebfadab-cde7-4641-a5d5-951cf46b9444"
      },
      "source": [
        "for i in np.arange(0.1,1,0.1):\n",
        "  print(i,'일때 confusion_matrix')\n",
        "  print(mat(i))\n",
        "  print()"
      ],
      "execution_count": 259,
      "outputs": [
        {
          "output_type": "stream",
          "text": [
            "0.1 일때 confusion_matrix\n",
            "[[  587 28377]\n",
            " [  156 28788]]\n",
            "\n",
            "0.2 일때 confusion_matrix\n",
            "[[ 5060 23904]\n",
            " [ 1365 27579]]\n",
            "\n",
            "0.30000000000000004 일때 confusion_matrix\n",
            "[[12637 16327]\n",
            " [ 3585 25359]]\n",
            "\n",
            "0.4 일때 confusion_matrix\n",
            "[[19235  9729]\n",
            " [ 6441 22503]]\n",
            "\n",
            "0.5 일때 confusion_matrix\n",
            "[[23600  5364]\n",
            " [ 9271 19673]]\n",
            "\n",
            "0.6 일때 confusion_matrix\n",
            "[[26151  2813]\n",
            " [12351 16593]]\n",
            "\n",
            "0.7000000000000001 일때 confusion_matrix\n",
            "[[27524  1440]\n",
            " [15481 13463]]\n",
            "\n",
            "0.8 일때 confusion_matrix\n",
            "[[28236   728]\n",
            " [18827 10117]]\n",
            "\n",
            "0.9 일때 confusion_matrix\n",
            "[[28606   358]\n",
            " [22325  6619]]\n",
            "\n"
          ],
          "name": "stdout"
        }
      ]
    },
    {
      "cell_type": "markdown",
      "metadata": {
        "id": "GknATI7uZ95s"
      },
      "source": [
        "# Help\n",
        "임계값 별로 재현율, 정밀도, 정확도, f1스코어, roc_auc 스코어를 계산한 것입니다.\n",
        "보시면 아시겠지만 0.5일때 재현율은 조금 떨어지지만, 나머지 정밀도, 정확도 등의 스코어는 준수한것을 알 수 있습니다. roc_auc스코어도 제일 높고... 그리고 원래 정밀도랑 재현율은 trade-off관계에 있어서 둘중 하나를 선택해야되는데 이번 경우에는 정밀도를 선택하기로 합니다. 그 이유로는 정밀도가 예를들어 0.7이라는 것은 이 모델이 당뇨환자랑 고혈압환자를 대상으로 분석을 했을때 당뇨라고 판단한 환자중 진짜 당뇨 환자일 확률이 0.7이라는 뜻입니다. 그러니까 정밀도에 초점을 맞춘다는 것은 더 정확한 진단을 가능케 한다는 뜻이라고 볼 수 있습니다.\n",
        "\n",
        "재현율을 기준으로 하지 않는 다른 이유로는 임계값이 0.1일때 재현율이 0.99로 거의 완벽에 가까운 예측력을 보이고 있습니다.\n",
        "\n",
        "근데 이건 다시 말하면 1일 확률이(당뇨일 확률) 10%만 넘어도 죄다 당뇨로 분류해버리겠다는 것인데, 그렇게 되면 진짜 당뇨환자중에서 이 모델이 맞춘 당뇨환자는 다 정답일 수 밖에 없다는 것 입니다. \n",
        "\n",
        "결론적으로는 정밀도에 초점을 맞출거고 임계값이 0.5일때 각 성능의 값들이 이랬고, 이 값들은 무엇을 뜻하는 거니까 우리는 0.5를 선택하는게 가장 옳다고 생각했다. 라고 적어주시면 됩니다.\n",
        "\n"
      ]
    },
    {
      "cell_type": "code",
      "metadata": {
        "colab": {
          "base_uri": "https://localhost:8080/"
        },
        "id": "es3tBZ6PGh1y",
        "outputId": "c1b4549f-dc97-4730-f895-0ef41d84fc0f"
      },
      "source": [
        "for i in np.arange(0.1,1,0.1):\n",
        "  print(i,'일때 assessment')\n",
        "  assessment(i)\n",
        "  print()"
      ],
      "execution_count": 255,
      "outputs": [
        {
          "output_type": "stream",
          "text": [
            "0.1 일때 assessment\n",
            "재현율 : 0.9946102819237148\n",
            "정밀도 : 0.5035948569929153\n",
            "정확도 : 0.507270152655937\n",
            "f1스코어 : 0.6686409086158241\n",
            "roc_auc 스코어 : 0.5074384098473704\n",
            "\n",
            "0.2 일때 assessment\n",
            "재현율 : 0.9528399668325042\n",
            "정밀도 : 0.5356913932754501\n",
            "정확도 : 0.5636354217033915\n",
            "f1스코어 : 0.6858144652915067\n",
            "roc_auc 스코어 : 0.5637697969779148\n",
            "\n",
            "0.30000000000000004 일때 assessment\n",
            "재현율 : 0.8761401326699834\n",
            "정밀도 : 0.6083337331478195\n",
            "정확도 : 0.6561442287766802\n",
            "f1스코어 : 0.718080135919581\n",
            "roc_auc 스코어 : 0.6562201837220929\n",
            "\n",
            "0.4 일때 assessment\n",
            "재현율 : 0.7774668325041459\n",
            "정밀도 : 0.698157110945644\n",
            "정확도 : 0.7207639704358638\n",
            "f1스코어 : 0.7356806590819929\n",
            "roc_auc 스코어 : 0.7207835474494214\n",
            "\n",
            "0.5 일때 assessment\n",
            "재현율 : 0.679691818684356\n",
            "정밀도 : 0.785757079522307\n",
            "정확도 : 0.7472715341576294\n",
            "f1스코어 : 0.7288860895500269\n",
            "roc_auc 스코어 : 0.7472482018432137\n",
            "\n",
            "0.6 일때 assessment\n",
            "재현율 : 0.5732794361525705\n",
            "정밀도 : 0.8550448314954138\n",
            "정확도 : 0.7381363542170339\n",
            "f1스코어 : 0.6863702171664944\n",
            "roc_auc 스코어 : 0.7380794363472423\n",
            "\n",
            "0.7000000000000001 일때 assessment\n",
            "재현율 : 0.46513957987838583\n",
            "정밀도 : 0.9033751593638865\n",
            "정확도 : 0.707795123299026\n",
            "f1스코어 : 0.6140899035281775\n",
            "roc_auc 스코어 : 0.707711344973028\n",
            "\n",
            "0.8 일때 assessment\n",
            "재현율 : 0.34953703703703703\n",
            "정밀도 : 0.9328722913785155\n",
            "정확도 : 0.6623091800787456\n",
            "f1스코어 : 0.5085325089848953\n",
            "roc_auc 스코어 : 0.6622011935634018\n",
            "\n",
            "0.9 일때 assessment\n",
            "재현율 : 0.22868297401879492\n",
            "정밀도 : 0.9486885480865701\n",
            "정확도 : 0.6082924639082683\n",
            "f1스코어 : 0.3685309429024804\n",
            "roc_auc 스코어 : 0.6081614013858648\n",
            "\n"
          ],
          "name": "stdout"
        }
      ]
    },
    {
      "cell_type": "markdown",
      "metadata": {
        "id": "nbTl3NbPZG1J"
      },
      "source": [
        "# Help\n",
        "\n",
        "이건 각 임계값에 대한 정밀도, 재현율 그래프인데 해석을 써주실 때 그냥 대충 임계값이 0.43일때 둘이 만나는 것을 알 수 있다. \n",
        "\n",
        "그래서 위에서 선택한 최적의 값인 0.5랑 0.43의 roc_auc그래프를 비교해보기로한다. 정도로 써주시면 됩니다."
      ]
    },
    {
      "cell_type": "code",
      "metadata": {
        "colab": {
          "base_uri": "https://localhost:8080/",
          "height": 279
        },
        "id": "4mePmV_FJ1G2",
        "outputId": "c2a7c1e2-7401-44e8-bb2a-c6821e19a322"
      },
      "source": [
        "test_p=pd.DataFrame(logit.predict(test_x))\n",
        "precisions, recalls, thresholds = precision_recall_curve(test_y, test_p)\n",
        "plt.plot(thresholds, precisions[:-1], \"b--\", label='precision')\n",
        "plt.plot(thresholds, recalls[:-1], \"g--\", label='recalls')\n",
        "plt.grid()\n",
        "plt.legend()\n",
        "plt.xlabel('thresholds')\n",
        "plt.show()"
      ],
      "execution_count": 267,
      "outputs": [
        {
          "output_type": "display_data",
          "data": {
            "image/png": "[encoded data removed]",
            "text/plain": [
              "<Figure size 432x288 with 1 Axes>"
            ]
          },
          "metadata": {
            "tags": [],
            "needs_background": "light"
          }
        }
      ]
    },
    {
      "cell_type": "markdown",
      "metadata": {
        "id": "oHYLhaZYba9M"
      },
      "source": [
        "# Help\n",
        "\n",
        "정밀도가 0.7 ~ 0.8사이일때 재현율 또한 0.7~0.8사이의 값을 가짐으로 이 정도 구간을 선택하는것이 적절한 trade-off라고 볼 수 있다. 라는 식으로 적어주시면 됩니다."
      ]
    },
    {
      "cell_type": "code",
      "metadata": {
        "colab": {
          "base_uri": "https://localhost:8080/",
          "height": 297
        },
        "id": "Ih5eGgwFKyb8",
        "outputId": "27ca38ea-b1b2-4d91-8cf1-c1d83954cf83"
      },
      "source": [
        "plt.plot(recalls,precisions,'b')\n",
        "plt.xlabel('recalls')\n",
        "plt.ylabel('precision')\n",
        "plt.grid()\n",
        "plt.legend()\n",
        "plt.show()"
      ],
      "execution_count": 268,
      "outputs": [
        {
          "output_type": "stream",
          "text": [
            "No handles with labels found to put in legend.\n"
          ],
          "name": "stderr"
        },
        {
          "output_type": "display_data",
          "data": {
            "image/png": "[encoded data removed]",
            "text/plain": [
              "<Figure size 432x288 with 1 Axes>"
            ]
          },
          "metadata": {
            "tags": [],
            "needs_background": "light"
          }
        }
      ]
    },
    {
      "cell_type": "code",
      "metadata": {
        "colab": {
          "base_uri": "https://localhost:8080/",
          "height": 282
        },
        "id": "OVLDzcYnK9NK",
        "outputId": "663e14dd-709c-4828-ba62-9360722d9a06"
      },
      "source": [
        "test_p=pd.DataFrame(logit.predict(test_x))\n",
        "for val,ind in zip(test_p[0],test_p.index):\n",
        "  if val < 0.5:\n",
        "    test_p[0].loc[ind]=0\n",
        "  else:\n",
        "    test_p[0].loc[ind]=1\n",
        "FPR, TPR, thresholds = roc_curve(test_y,test_p)\n",
        "plt.plot(FPR, TPR,linewidth=2)\n",
        "plt.plot([0,1],[0,1],'k--')\n",
        "plt.grid()\n",
        "plt.show()\n",
        "print('그래프의 면적 :',roc_auc_score(test_y,test_p))"
      ],
      "execution_count": 276,
      "outputs": [
        {
          "output_type": "display_data",
          "data": {
            "image/png": "[encoded data removed]",
            "text/plain": [
              "<Figure size 432x288 with 1 Axes>"
            ]
          },
          "metadata": {
            "tags": [],
            "needs_background": "light"
          }
        },
        {
          "output_type": "stream",
          "text": [
            "그래프의 면적 : 0.7472482018432137\n"
          ],
          "name": "stdout"
        }
      ]
    },
    {
      "cell_type": "code",
      "metadata": {
        "colab": {
          "base_uri": "https://localhost:8080/",
          "height": 282
        },
        "id": "4xHbXWhVKoqf",
        "outputId": "01cbfbb8-b473-47f6-a372-b5212a0ad489"
      },
      "source": [
        "test_p=pd.DataFrame(logit.predict(test_x))\n",
        "for val,ind in zip(test_p[0],test_p.index):\n",
        "  if val < 0.43:\n",
        "    test_p[0].loc[ind]=0\n",
        "  else:\n",
        "    test_p[0].loc[ind]=1\n",
        "FPR, TPR, thresholds = roc_curve(test_y,test_p)\n",
        "plt.plot(FPR, TPR,linewidth=2)\n",
        "plt.plot([0,1],[0,1],'k--')\n",
        "plt.grid()\n",
        "plt.show()\n",
        "print('그래프의 면적 :',roc_auc_score(test_y,test_p))"
      ],
      "execution_count": 282,
      "outputs": [
        {
          "output_type": "display_data",
          "data": {
            "image/png": "[encoded data removed]",
            "text/plain": [
              "<Figure size 432x288 with 1 Axes>"
            ]
          },
          "metadata": {
            "tags": [],
            "needs_background": "light"
          }
        },
        {
          "output_type": "stream",
          "text": [
            "그래프의 면적 : 0.7325987425995129\n"
          ],
          "name": "stdout"
        }
      ]
    },
    {
      "cell_type": "markdown",
      "metadata": {
        "id": "ivOSVIgubtgD"
      },
      "source": [
        "# 결과정리(Help)"
      ]
    },
    {
      "cell_type": "markdown",
      "metadata": {
        "id": "aS2traXCbxpR"
      },
      "source": [
        "# Team Review(Help)"
      ]
    },
    {
      "cell_type": "markdown",
      "metadata": {
        "id": "rbG7AV1Vb1w8"
      },
      "source": [
        "# References"
      ]
    },
    {
      "cell_type": "markdown",
      "metadata": {
        "id": "28sbUWRCNF1M"
      },
      "source": [
        "# Appendix\n",
        "\n",
        "로짓모형에서 age6이 통계적으로 유의하지 않게 나와서 age6을 빼고 age7을 넣어봄\n",
        "= age6이 reference가 된다.\n",
        "\n",
        "결과는 똑같았다. 그래서 그냥 age7을 기준으로 진행하였다."
      ]
    },
    {
      "cell_type": "code",
      "metadata": {
        "colab": {
          "base_uri": "https://localhost:8080/",
          "height": 525
        },
        "id": "pKM8dX584D1s",
        "outputId": "e756ccb3-5b97-4fa3-860c-9f03f4f17993"
      },
      "source": [
        "df_array=np.array(df)\n",
        "ct=ColumnTransformer(\n",
        "    [('encoder',OneHotEncoder(), [1])], remainder='passthrough')\n",
        "df_array=np.array(ct.fit_transform(df_array))\n",
        "df_one=pd.DataFrame(df_array)\n",
        "df_one.columns=['age2','age3','age4','age5','age6','age7','SEX','SBP','DBP','FBS','DIS','BMI']\n",
        "df_one=df_one.drop(['age6'],axis=1)\n",
        "df_x=df_one.drop(['DIS'],axis=1)\n",
        "df_x['intercept']=1\n",
        "df_y=df_one['DIS']\n",
        "x_shu=sklearn.utils.shuffle(df_x, random_state=2016251029)\n",
        "y_shu=sklearn.utils.shuffle(df_y, random_state=2016251029)\n",
        "\n",
        "data_x,data_y=RandomUnderSampler(random_state=2016251029).fit_resample(x_shu,y_shu)\n",
        "data_x=pd.DataFrame(data_x)\n",
        "data_x.columns=df_x.columns\n",
        "data_y=pd.DataFrame(data_y)\n",
        "data_y.columns=['DIS']\n",
        "train_x, test_x, train_y, test_y = train_test_split(data_x,data_y, test_size=0.3,random_state=2016251029)\n",
        "\n",
        "logit=sm.Logit(train_y,train_x).fit()\n",
        "logit.summary()"
      ],
      "execution_count": 278,
      "outputs": [
        {
          "output_type": "stream",
          "text": [
            "/usr/local/lib/python3.7/dist-packages/sklearn/utils/deprecation.py:87: FutureWarning: Function safe_indexing is deprecated; safe_indexing is deprecated in version 0.22 and will be removed in version 0.24.\n",
            "  warnings.warn(msg, category=FutureWarning)\n"
          ],
          "name": "stderr"
        },
        {
          "output_type": "stream",
          "text": [
            "Optimization terminated successfully.\n",
            "         Current function value: 0.531789\n",
            "         Iterations 7\n"
          ],
          "name": "stdout"
        },
        {
          "output_type": "execute_result",
          "data": {
            "text/html": [
              "<table class=\"simpletable\">\n",
              "<caption>Logit Regression Results</caption>\n",
              "<tr>\n",
              "  <th>Dep. Variable:</th>          <td>DIS</td>       <th>  No. Observations:  </th>  <td>135116</td> \n",
              "</tr>\n",
              "<tr>\n",
              "  <th>Model:</th>                 <td>Logit</td>      <th>  Df Residuals:      </th>  <td>135105</td> \n",
              "</tr>\n",
              "<tr>\n",
              "  <th>Method:</th>                 <td>MLE</td>       <th>  Df Model:          </th>  <td>    10</td> \n",
              "</tr>\n",
              "<tr>\n",
              "  <th>Date:</th>            <td>Fri, 23 Apr 2021</td> <th>  Pseudo R-squ.:     </th>  <td>0.2328</td> \n",
              "</tr>\n",
              "<tr>\n",
              "  <th>Time:</th>                <td>10:10:07</td>     <th>  Log-Likelihood:    </th> <td> -71853.</td>\n",
              "</tr>\n",
              "<tr>\n",
              "  <th>converged:</th>             <td>True</td>       <th>  LL-Null:           </th> <td> -93655.</td>\n",
              "</tr>\n",
              "<tr>\n",
              "  <th>Covariance Type:</th>     <td>nonrobust</td>    <th>  LLR p-value:       </th>  <td> 0.000</td> \n",
              "</tr>\n",
              "</table>\n",
              "<table class=\"simpletable\">\n",
              "<tr>\n",
              "      <td></td>         <th>coef</th>     <th>std err</th>      <th>z</th>      <th>P>|z|</th>  <th>[0.025</th>    <th>0.975]</th>  \n",
              "</tr>\n",
              "<tr>\n",
              "  <th>age2</th>      <td>    0.7161</td> <td>    0.103</td> <td>    6.967</td> <td> 0.000</td> <td>    0.515</td> <td>    0.918</td>\n",
              "</tr>\n",
              "<tr>\n",
              "  <th>age3</th>      <td>   -0.0988</td> <td>    0.040</td> <td>   -2.444</td> <td> 0.015</td> <td>   -0.178</td> <td>   -0.020</td>\n",
              "</tr>\n",
              "<tr>\n",
              "  <th>age4</th>      <td>   -0.2866</td> <td>    0.022</td> <td>  -13.032</td> <td> 0.000</td> <td>   -0.330</td> <td>   -0.243</td>\n",
              "</tr>\n",
              "<tr>\n",
              "  <th>age5</th>      <td>   -0.2123</td> <td>    0.017</td> <td>  -12.708</td> <td> 0.000</td> <td>   -0.245</td> <td>   -0.180</td>\n",
              "</tr>\n",
              "<tr>\n",
              "  <th>age7</th>      <td>   -0.0034</td> <td>    0.018</td> <td>   -0.197</td> <td> 0.844</td> <td>   -0.038</td> <td>    0.031</td>\n",
              "</tr>\n",
              "<tr>\n",
              "  <th>SEX</th>       <td>   -0.0324</td> <td>    0.013</td> <td>   -2.479</td> <td> 0.013</td> <td>   -0.058</td> <td>   -0.007</td>\n",
              "</tr>\n",
              "<tr>\n",
              "  <th>SBP</th>       <td>   -0.1176</td> <td>    0.009</td> <td>  -13.091</td> <td> 0.000</td> <td>   -0.135</td> <td>   -0.100</td>\n",
              "</tr>\n",
              "<tr>\n",
              "  <th>DBP</th>       <td>   -0.2732</td> <td>    0.009</td> <td>  -30.023</td> <td> 0.000</td> <td>   -0.291</td> <td>   -0.255</td>\n",
              "</tr>\n",
              "<tr>\n",
              "  <th>FBS</th>       <td>    1.7638</td> <td>    0.012</td> <td>  146.667</td> <td> 0.000</td> <td>    1.740</td> <td>    1.787</td>\n",
              "</tr>\n",
              "<tr>\n",
              "  <th>BMI</th>       <td>   -0.0750</td> <td>    0.007</td> <td>  -11.303</td> <td> 0.000</td> <td>   -0.088</td> <td>   -0.062</td>\n",
              "</tr>\n",
              "<tr>\n",
              "  <th>intercept</th> <td>    0.1659</td> <td>    0.014</td> <td>   12.278</td> <td> 0.000</td> <td>    0.139</td> <td>    0.192</td>\n",
              "</tr>\n",
              "</table>"
            ],
            "text/plain": [
              "<class 'statsmodels.iolib.summary.Summary'>\n",
              "\"\"\"\n",
              "                           Logit Regression Results                           \n",
              "==============================================================================\n",
              "Dep. Variable:                    DIS   No. Observations:               135116\n",
              "Model:                          Logit   Df Residuals:                   135105\n",
              "Method:                           MLE   Df Model:                           10\n",
              "Date:                Fri, 23 Apr 2021   Pseudo R-squ.:                  0.2328\n",
              "Time:                        10:10:07   Log-Likelihood:                -71853.\n",
              "converged:                       True   LL-Null:                       -93655.\n",
              "Covariance Type:            nonrobust   LLR p-value:                     0.000\n",
              "==============================================================================\n",
              "                 coef    std err          z      P>|z|      [0.025      0.975]\n",
              "------------------------------------------------------------------------------\n",
              "age2           0.7161      0.103      6.967      0.000       0.515       0.918\n",
              "age3          -0.0988      0.040     -2.444      0.015      -0.178      -0.020\n",
              "age4          -0.2866      0.022    -13.032      0.000      -0.330      -0.243\n",
              "age5          -0.2123      0.017    -12.708      0.000      -0.245      -0.180\n",
              "age7          -0.0034      0.018     -0.197      0.844      -0.038       0.031\n",
              "SEX           -0.0324      0.013     -2.479      0.013      -0.058      -0.007\n",
              "SBP           -0.1176      0.009    -13.091      0.000      -0.135      -0.100\n",
              "DBP           -0.2732      0.009    -30.023      0.000      -0.291      -0.255\n",
              "FBS            1.7638      0.012    146.667      0.000       1.740       1.787\n",
              "BMI           -0.0750      0.007    -11.303      0.000      -0.088      -0.062\n",
              "intercept      0.1659      0.014     12.278      0.000       0.139       0.192\n",
              "==============================================================================\n",
              "\"\"\""
            ]
          },
          "metadata": {
            "tags": []
          },
          "execution_count": 278
        }
      ]
    }
  ]
}